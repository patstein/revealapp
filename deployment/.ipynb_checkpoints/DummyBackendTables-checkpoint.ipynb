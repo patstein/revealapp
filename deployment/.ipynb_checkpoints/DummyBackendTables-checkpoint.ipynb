{
 "cells": [
  {
   "cell_type": "code",
   "execution_count": 14,
   "metadata": {},
   "outputs": [],
   "source": [
    "import numpy as np\n",
    "import pandas as pd\n",
    "import json\n",
    "from flask import jsonify\n",
    "pd.set_option('display.max_colwidth', 200)\n"
   ]
  },
  {
   "cell_type": "code",
   "execution_count": 93,
   "metadata": {},
   "outputs": [],
   "source": [
    "from flask import jsonify"
   ]
  },
  {
   "cell_type": "code",
   "execution_count": 94,
   "metadata": {},
   "outputs": [
    {
     "name": "stdout",
     "output_type": "stream",
     "text": [
      "Documents\n"
     ]
    },
    {
     "data": {
      "text/html": [
       "<div>\n",
       "<style scoped>\n",
       "    .dataframe tbody tr th:only-of-type {\n",
       "        vertical-align: middle;\n",
       "    }\n",
       "\n",
       "    .dataframe tbody tr th {\n",
       "        vertical-align: top;\n",
       "    }\n",
       "\n",
       "    .dataframe thead th {\n",
       "        text-align: right;\n",
       "    }\n",
       "</style>\n",
       "<table border=\"1\" class=\"dataframe\">\n",
       "  <thead>\n",
       "    <tr style=\"text-align: right;\">\n",
       "      <th></th>\n",
       "      <th>ID</th>\n",
       "      <th>Full Text</th>\n",
       "    </tr>\n",
       "  </thead>\n",
       "  <tbody>\n",
       "    <tr>\n",
       "      <th>0</th>\n",
       "      <td>1</td>\n",
       "      <td>This is a random document with ID 1. In this document we are talking about cats. And there is also something about mice.</td>\n",
       "    </tr>\n",
       "    <tr>\n",
       "      <th>1</th>\n",
       "      <td>2</td>\n",
       "      <td>This is a random document with ID 2. In this document we are talking about dogs. And there is also something about mice.</td>\n",
       "    </tr>\n",
       "    <tr>\n",
       "      <th>2</th>\n",
       "      <td>3</td>\n",
       "      <td>This is a random document with ID 3. this doc is exclusivly about Elephants. So no mice, cats nor anything else.</td>\n",
       "    </tr>\n",
       "  </tbody>\n",
       "</table>\n",
       "</div>"
      ],
      "text/plain": [
       "   ID  \\\n",
       "0   1   \n",
       "1   2   \n",
       "2   3   \n",
       "\n",
       "                                                                                                                  Full Text  \n",
       "0  This is a random document with ID 1. In this document we are talking about cats. And there is also something about mice.  \n",
       "1  This is a random document with ID 2. In this document we are talking about dogs. And there is also something about mice.  \n",
       "2          This is a random document with ID 3. this doc is exclusivly about Elephants. So no mice, cats nor anything else.  "
      ]
     },
     "execution_count": 94,
     "metadata": {},
     "output_type": "execute_result"
    }
   ],
   "source": [
    "#defining Docs table\n",
    "docs = pd.DataFrame(data=[\n",
    "            [1,'This is a random document with ID 1. In this document we are talking about cats. And there is also something about mice.']\n",
    "           ,[2,'This is a random document with ID 2. In this document we are talking about dogs. And there is also something about mice.']\n",
    "           ,[3,'This is a random document with ID 3. this doc is exclusivly about Elephants. So no mice, cats nor anything else.']\n",
    "        ]\n",
    "        , columns=['ID', 'Full Text'])\n",
    "print('Documents')\n",
    "docs"
   ]
  },
  {
   "cell_type": "code",
   "execution_count": 95,
   "metadata": {},
   "outputs": [
    {
     "name": "stdout",
     "output_type": "stream",
     "text": [
      "Tags\n"
     ]
    },
    {
     "data": {
      "text/html": [
       "<div>\n",
       "<style scoped>\n",
       "    .dataframe tbody tr th:only-of-type {\n",
       "        vertical-align: middle;\n",
       "    }\n",
       "\n",
       "    .dataframe tbody tr th {\n",
       "        vertical-align: top;\n",
       "    }\n",
       "\n",
       "    .dataframe thead th {\n",
       "        text-align: right;\n",
       "    }\n",
       "</style>\n",
       "<table border=\"1\" class=\"dataframe\">\n",
       "  <thead>\n",
       "    <tr style=\"text-align: right;\">\n",
       "      <th></th>\n",
       "      <th>ID</th>\n",
       "      <th>DocID</th>\n",
       "      <th>startIdx</th>\n",
       "      <th>Length</th>\n",
       "    </tr>\n",
       "  </thead>\n",
       "  <tbody>\n",
       "    <tr>\n",
       "      <th>0</th>\n",
       "      <td>1</td>\n",
       "      <td>1</td>\n",
       "      <td>37</td>\n",
       "      <td>43</td>\n",
       "    </tr>\n",
       "    <tr>\n",
       "      <th>1</th>\n",
       "      <td>2</td>\n",
       "      <td>1</td>\n",
       "      <td>81</td>\n",
       "      <td>39</td>\n",
       "    </tr>\n",
       "  </tbody>\n",
       "</table>\n",
       "</div>"
      ],
      "text/plain": [
       "   ID  DocID  startIdx  Length\n",
       "0   1      1        37      43\n",
       "1   2      1        81      39"
      ]
     },
     "execution_count": 95,
     "metadata": {},
     "output_type": "execute_result"
    }
   ],
   "source": [
    "#defining Tags table\n",
    "tags = pd.DataFrame(data=[\n",
    "         [1,1,37,43]\n",
    "        ,[2,1,81,39]\n",
    "    ]\n",
    "    , columns=['ID', 'DocID', 'startIdx', 'Length'])\n",
    "print('Tags')\n",
    "tags"
   ]
  },
  {
   "cell_type": "code",
   "execution_count": 96,
   "metadata": {},
   "outputs": [
    {
     "name": "stdout",
     "output_type": "stream",
     "text": [
      "Suggested Tags\n"
     ]
    },
    {
     "data": {
      "text/html": [
       "<div>\n",
       "<style scoped>\n",
       "    .dataframe tbody tr th:only-of-type {\n",
       "        vertical-align: middle;\n",
       "    }\n",
       "\n",
       "    .dataframe tbody tr th {\n",
       "        vertical-align: top;\n",
       "    }\n",
       "\n",
       "    .dataframe thead th {\n",
       "        text-align: right;\n",
       "    }\n",
       "</style>\n",
       "<table border=\"1\" class=\"dataframe\">\n",
       "  <thead>\n",
       "    <tr style=\"text-align: right;\">\n",
       "      <th></th>\n",
       "      <th>ID</th>\n",
       "      <th>DocID</th>\n",
       "      <th>startIdx</th>\n",
       "      <th>Length</th>\n",
       "      <th>TagID</th>\n",
       "      <th>SimilarityScore</th>\n",
       "      <th>Accepted</th>\n",
       "    </tr>\n",
       "  </thead>\n",
       "  <tbody>\n",
       "    <tr>\n",
       "      <th>0</th>\n",
       "      <td>1</td>\n",
       "      <td>1</td>\n",
       "      <td>81</td>\n",
       "      <td>39</td>\n",
       "      <td>1</td>\n",
       "      <td>0.74</td>\n",
       "      <td>NaN</td>\n",
       "    </tr>\n",
       "    <tr>\n",
       "      <th>1</th>\n",
       "      <td>2</td>\n",
       "      <td>2</td>\n",
       "      <td>81</td>\n",
       "      <td>39</td>\n",
       "      <td>1</td>\n",
       "      <td>0.50</td>\n",
       "      <td>0.0</td>\n",
       "    </tr>\n",
       "    <tr>\n",
       "      <th>2</th>\n",
       "      <td>3</td>\n",
       "      <td>3</td>\n",
       "      <td>37</td>\n",
       "      <td>39</td>\n",
       "      <td>1</td>\n",
       "      <td>0.80</td>\n",
       "      <td>1.0</td>\n",
       "    </tr>\n",
       "    <tr>\n",
       "      <th>3</th>\n",
       "      <td>4</td>\n",
       "      <td>3</td>\n",
       "      <td>77</td>\n",
       "      <td>35</td>\n",
       "      <td>1</td>\n",
       "      <td>0.77</td>\n",
       "      <td>1.0</td>\n",
       "    </tr>\n",
       "  </tbody>\n",
       "</table>\n",
       "</div>"
      ],
      "text/plain": [
       "   ID  DocID  startIdx  Length  TagID  SimilarityScore  Accepted\n",
       "0   1      1        81      39      1             0.74       NaN\n",
       "1   2      2        81      39      1             0.50       0.0\n",
       "2   3      3        37      39      1             0.80       1.0\n",
       "3   4      3        77      35      1             0.77       1.0"
      ]
     },
     "execution_count": 96,
     "metadata": {},
     "output_type": "execute_result"
    }
   ],
   "source": [
    "#defining suggested Tags table\n",
    "suggested_tags = pd.DataFrame(data=[\n",
    "         [1,1,81,39, 1, 0.74, None]\n",
    "        ,[2,2,81,39, 1, 0.5, 0]\n",
    "        ,[3,3,37,39, 1, 0.8, 1]\n",
    "        ,[4,3,77,35, 1, 0.77, 1]\n",
    "    ]\n",
    "    , columns=['ID', 'DocID', 'startIdx', 'Length', 'TagID', 'SimilarityScore', 'Accepted'])\n",
    "print('Suggested Tags')\n",
    "suggested_tags"
   ]
  },
  {
   "cell_type": "code",
   "execution_count": 91,
   "metadata": {},
   "outputs": [],
   "source": [
    "#to json\n",
    "docs.to_json(r'/home/sevi/Desktop/Work/PropulsionDS/GroupChallenges/RelevApp/50_deployment/DummyDocs.json')\n",
    "tags.to_json(r'/home/sevi/Desktop/Work/PropulsionDS/GroupChallenges/RelevApp/50_deployment/DummyTags.json')\n",
    "suggested_tags.to_json(r'/home/sevi/Desktop/Work/PropulsionDS/GroupChallenges/RelevApp/50_deployment/DummySuggTags.json')\n"
   ]
  },
  {
   "cell_type": "code",
   "execution_count": 5,
   "metadata": {},
   "outputs": [],
   "source": [
    "\n",
    "json_data = {\"tags\": {\"ID\":{\"0\":1,\"1\":2},\"DocID\":{\"0\":1,\"1\":1},\"startIdx\":{\"0\":37,\"1\":81},\"Length\":{\"0\":43,\"1\":39}},\n",
    "             \"suggTags\": {\"ID\":{\"0\":1,\"1\":2},\"DocID\":{\"0\":1,\"1\":1},\"startIdx\":{\"0\":37,\"1\":81},\"Length\":{\"0\":43,\"1\":39}}\n",
    "            }"
   ]
  },
  {
   "cell_type": "code",
   "execution_count": 7,
   "metadata": {},
   "outputs": [
    {
     "data": {
      "text/plain": [
       "{'ID': {'0': 1, '1': 2},\n",
       " 'DocID': {'0': 1, '1': 1},\n",
       " 'startIdx': {'0': 37, '1': 81},\n",
       " 'Length': {'0': 43, '1': 39}}"
      ]
     },
     "execution_count": 7,
     "metadata": {},
     "output_type": "execute_result"
    }
   ],
   "source": [
    "json_data[\"tags\"]"
   ]
  },
  {
   "cell_type": "code",
   "execution_count": 9,
   "metadata": {},
   "outputs": [],
   "source": [
    "df = pd.DataFrame.from_dict( json_data[\"tags\"])"
   ]
  },
  {
   "cell_type": "code",
   "execution_count": 12,
   "metadata": {},
   "outputs": [
    {
     "data": {
      "text/plain": [
       "{'ID': {'0': 1, '1': 2},\n",
       " 'DocID': {'0': 1, '1': 1},\n",
       " 'startIdx': {'0': 37, '1': 81},\n",
       " 'Length': {'0': 43, '1': 39}}"
      ]
     },
     "execution_count": 12,
     "metadata": {},
     "output_type": "execute_result"
    }
   ],
   "source": [
    "df.to_dict()"
   ]
  },
  {
   "cell_type": "code",
   "execution_count": 17,
   "metadata": {},
   "outputs": [],
   "source": [
    "posted_tags = pd.DataFrame.from_dict({\"ID\":{\"0\":1,\"1\":2},\"DocID\":{\"0\":1,\"1\":1},\"startIdx\":{\"0\":37,\"1\":81},\"Length\":{\"0\":43,\"1\":39}})\n"
   ]
  },
  {
   "cell_type": "code",
   "execution_count": 18,
   "metadata": {},
   "outputs": [
    {
     "data": {
      "text/html": [
       "<div>\n",
       "<style scoped>\n",
       "    .dataframe tbody tr th:only-of-type {\n",
       "        vertical-align: middle;\n",
       "    }\n",
       "\n",
       "    .dataframe tbody tr th {\n",
       "        vertical-align: top;\n",
       "    }\n",
       "\n",
       "    .dataframe thead th {\n",
       "        text-align: right;\n",
       "    }\n",
       "</style>\n",
       "<table border=\"1\" class=\"dataframe\">\n",
       "  <thead>\n",
       "    <tr style=\"text-align: right;\">\n",
       "      <th></th>\n",
       "      <th>ID</th>\n",
       "      <th>DocID</th>\n",
       "      <th>startIdx</th>\n",
       "      <th>Length</th>\n",
       "    </tr>\n",
       "  </thead>\n",
       "  <tbody>\n",
       "    <tr>\n",
       "      <th>0</th>\n",
       "      <td>1</td>\n",
       "      <td>1</td>\n",
       "      <td>37</td>\n",
       "      <td>43</td>\n",
       "    </tr>\n",
       "    <tr>\n",
       "      <th>1</th>\n",
       "      <td>2</td>\n",
       "      <td>1</td>\n",
       "      <td>81</td>\n",
       "      <td>39</td>\n",
       "    </tr>\n",
       "  </tbody>\n",
       "</table>\n",
       "</div>"
      ],
      "text/plain": [
       "   ID  DocID  startIdx  Length\n",
       "0   1      1        37      43\n",
       "1   2      1        81      39"
      ]
     },
     "execution_count": 18,
     "metadata": {},
     "output_type": "execute_result"
    }
   ],
   "source": [
    "posted_tags"
   ]
  },
  {
   "cell_type": "code",
   "execution_count": 21,
   "metadata": {},
   "outputs": [],
   "source": [
    "posted_suggTags = pd.DataFrame.from_dict({\"ID\":{\"0\":1,\"1\":2,\"2\":3,\"3\":4},\"DocID\":{\"0\":1,\"1\":2,\"2\":3,\"3\":3},\"startIdx\":{\"0\":81,\"1\":81,\"2\":37,\"3\":77},\"Length\":{\"0\":39,\"1\":39,\"2\":39,\"3\":34},\"TagID\":{\"0\":1,\"1\":1,\"2\":1,\"3\":1},\"SimilarityScore\":{\"0\":0.74,\"1\":0.5,\"2\":0.8,\"3\":0.77},\"Accepted\":{\"0\":None,\"1\":0.0,\"2\":1.0,\"3\":1.0}})\n",
    "\n",
    "#posted_suggTags = pd.DataFrame.from_dict()"
   ]
  },
  {
   "cell_type": "code",
   "execution_count": 22,
   "metadata": {},
   "outputs": [
    {
     "data": {
      "text/html": [
       "<div>\n",
       "<style scoped>\n",
       "    .dataframe tbody tr th:only-of-type {\n",
       "        vertical-align: middle;\n",
       "    }\n",
       "\n",
       "    .dataframe tbody tr th {\n",
       "        vertical-align: top;\n",
       "    }\n",
       "\n",
       "    .dataframe thead th {\n",
       "        text-align: right;\n",
       "    }\n",
       "</style>\n",
       "<table border=\"1\" class=\"dataframe\">\n",
       "  <thead>\n",
       "    <tr style=\"text-align: right;\">\n",
       "      <th></th>\n",
       "      <th>ID</th>\n",
       "      <th>DocID</th>\n",
       "      <th>startIdx</th>\n",
       "      <th>Length</th>\n",
       "      <th>TagID</th>\n",
       "      <th>SimilarityScore</th>\n",
       "      <th>Accepted</th>\n",
       "    </tr>\n",
       "  </thead>\n",
       "  <tbody>\n",
       "    <tr>\n",
       "      <th>0</th>\n",
       "      <td>1</td>\n",
       "      <td>1</td>\n",
       "      <td>81</td>\n",
       "      <td>39</td>\n",
       "      <td>1</td>\n",
       "      <td>0.74</td>\n",
       "      <td>NaN</td>\n",
       "    </tr>\n",
       "    <tr>\n",
       "      <th>1</th>\n",
       "      <td>2</td>\n",
       "      <td>2</td>\n",
       "      <td>81</td>\n",
       "      <td>39</td>\n",
       "      <td>1</td>\n",
       "      <td>0.50</td>\n",
       "      <td>0.0</td>\n",
       "    </tr>\n",
       "    <tr>\n",
       "      <th>2</th>\n",
       "      <td>3</td>\n",
       "      <td>3</td>\n",
       "      <td>37</td>\n",
       "      <td>39</td>\n",
       "      <td>1</td>\n",
       "      <td>0.80</td>\n",
       "      <td>1.0</td>\n",
       "    </tr>\n",
       "    <tr>\n",
       "      <th>3</th>\n",
       "      <td>4</td>\n",
       "      <td>3</td>\n",
       "      <td>77</td>\n",
       "      <td>34</td>\n",
       "      <td>1</td>\n",
       "      <td>0.77</td>\n",
       "      <td>1.0</td>\n",
       "    </tr>\n",
       "  </tbody>\n",
       "</table>\n",
       "</div>"
      ],
      "text/plain": [
       "   ID  DocID  startIdx  Length  TagID  SimilarityScore  Accepted\n",
       "0   1      1        81      39      1             0.74       NaN\n",
       "1   2      2        81      39      1             0.50       0.0\n",
       "2   3      3        37      39      1             0.80       1.0\n",
       "3   4      3        77      34      1             0.77       1.0"
      ]
     },
     "execution_count": 22,
     "metadata": {},
     "output_type": "execute_result"
    }
   ],
   "source": [
    "posted_suggTags"
   ]
  },
  {
   "cell_type": "code",
   "execution_count": 23,
   "metadata": {},
   "outputs": [],
   "source": [
    "suggestedTags_df = posted_tags"
   ]
  },
  {
   "cell_type": "code",
   "execution_count": null,
   "metadata": {},
   "outputs": [],
   "source": []
  },
  {
   "cell_type": "code",
   "execution_count": 24,
   "metadata": {},
   "outputs": [
    {
     "data": {
      "text/html": [
       "<div>\n",
       "<style scoped>\n",
       "    .dataframe tbody tr th:only-of-type {\n",
       "        vertical-align: middle;\n",
       "    }\n",
       "\n",
       "    .dataframe tbody tr th {\n",
       "        vertical-align: top;\n",
       "    }\n",
       "\n",
       "    .dataframe thead th {\n",
       "        text-align: right;\n",
       "    }\n",
       "</style>\n",
       "<table border=\"1\" class=\"dataframe\">\n",
       "  <thead>\n",
       "    <tr style=\"text-align: right;\">\n",
       "      <th></th>\n",
       "      <th>ID</th>\n",
       "      <th>DocID</th>\n",
       "      <th>startIdx</th>\n",
       "      <th>Length</th>\n",
       "    </tr>\n",
       "  </thead>\n",
       "  <tbody>\n",
       "    <tr>\n",
       "      <th>0</th>\n",
       "      <td>1</td>\n",
       "      <td>1</td>\n",
       "      <td>37</td>\n",
       "      <td>43</td>\n",
       "    </tr>\n",
       "    <tr>\n",
       "      <th>1</th>\n",
       "      <td>2</td>\n",
       "      <td>1</td>\n",
       "      <td>81</td>\n",
       "      <td>39</td>\n",
       "    </tr>\n",
       "  </tbody>\n",
       "</table>\n",
       "</div>"
      ],
      "text/plain": [
       "   ID  DocID  startIdx  Length\n",
       "0   1      1        37      43\n",
       "1   2      1        81      39"
      ]
     },
     "execution_count": 24,
     "metadata": {},
     "output_type": "execute_result"
    }
   ],
   "source": [
    "suggestedTags_df"
   ]
  },
  {
   "cell_type": "code",
   "execution_count": 27,
   "metadata": {},
   "outputs": [
    {
     "data": {
      "text/plain": [
       "array([1, 2])"
      ]
     },
     "execution_count": 27,
     "metadata": {},
     "output_type": "execute_result"
    }
   ],
   "source": [
    "for ID in posted_tags['ID'].values:"
   ]
  },
  {
   "cell_type": "code",
   "execution_count": 51,
   "metadata": {},
   "outputs": [
    {
     "name": "stdout",
     "output_type": "stream",
     "text": [
      "1\n",
      "2\n"
     ]
    }
   ],
   "source": [
    "suggestedTags_df = posted_tags.copy()\n",
    "suggestedTags_df['TagID'] = posted_tags['ID'][0]\n",
    "suggestedTags_df['SimilarityScore'] = 0.5\n",
    "suggestedTags_df['Accepted'] = None\n",
    "\n",
    "for index in posted_tags.index[1:]:\n",
    "    suggestedTags_next = posted_tags\n",
    "    print(index)\n",
    "    print(posted_tags['ID'].loc[index])\n",
    "    suggestedTags_next['TagID'] = posted_tags['ID'][index]\n",
    "    suggestedTags_next['SimilarityScore'] = 0.5\n",
    "    suggestedTags_next['Accepted'] = None\n",
    "    suggestedTags_df = suggestedTags_df.append(suggestedTags_next)\n",
    "\n",
    "suggestedTags_df.reset_index(inplace = True, drop = True)\n",
    "suggestedTags_df['ID'] = suggestedTags_df.index"
   ]
  },
  {
   "cell_type": "code",
   "execution_count": 50,
   "metadata": {},
   "outputs": [
    {
     "data": {
      "text/plain": [
       "1"
      ]
     },
     "execution_count": 50,
     "metadata": {},
     "output_type": "execute_result"
    }
   ],
   "source": [
    "posted_tags['ID'][0]"
   ]
  },
  {
   "cell_type": "code",
   "execution_count": 33,
   "metadata": {},
   "outputs": [],
   "source": [
    "suggestedTags_df = posted_tags\n",
    "suggestedTags_df['TagID'] = posted_tags['ID'][0]\n",
    "suggestedTags_df['SimilarityScore'] = 0.5\n",
    "suggestedTags_df['Accepted'] = None"
   ]
  },
  {
   "cell_type": "code",
   "execution_count": 52,
   "metadata": {},
   "outputs": [
    {
     "data": {
      "text/html": [
       "<div>\n",
       "<style scoped>\n",
       "    .dataframe tbody tr th:only-of-type {\n",
       "        vertical-align: middle;\n",
       "    }\n",
       "\n",
       "    .dataframe tbody tr th {\n",
       "        vertical-align: top;\n",
       "    }\n",
       "\n",
       "    .dataframe thead th {\n",
       "        text-align: right;\n",
       "    }\n",
       "</style>\n",
       "<table border=\"1\" class=\"dataframe\">\n",
       "  <thead>\n",
       "    <tr style=\"text-align: right;\">\n",
       "      <th></th>\n",
       "      <th>ID</th>\n",
       "      <th>DocID</th>\n",
       "      <th>startIdx</th>\n",
       "      <th>Length</th>\n",
       "      <th>TagID</th>\n",
       "      <th>SimilarityScore</th>\n",
       "      <th>Accepted</th>\n",
       "    </tr>\n",
       "  </thead>\n",
       "  <tbody>\n",
       "    <tr>\n",
       "      <th>0</th>\n",
       "      <td>0</td>\n",
       "      <td>1</td>\n",
       "      <td>37</td>\n",
       "      <td>43</td>\n",
       "      <td>1</td>\n",
       "      <td>0.5</td>\n",
       "      <td>None</td>\n",
       "    </tr>\n",
       "    <tr>\n",
       "      <th>1</th>\n",
       "      <td>1</td>\n",
       "      <td>1</td>\n",
       "      <td>81</td>\n",
       "      <td>39</td>\n",
       "      <td>1</td>\n",
       "      <td>0.5</td>\n",
       "      <td>None</td>\n",
       "    </tr>\n",
       "    <tr>\n",
       "      <th>2</th>\n",
       "      <td>2</td>\n",
       "      <td>1</td>\n",
       "      <td>37</td>\n",
       "      <td>43</td>\n",
       "      <td>2</td>\n",
       "      <td>0.5</td>\n",
       "      <td>None</td>\n",
       "    </tr>\n",
       "    <tr>\n",
       "      <th>3</th>\n",
       "      <td>3</td>\n",
       "      <td>1</td>\n",
       "      <td>81</td>\n",
       "      <td>39</td>\n",
       "      <td>2</td>\n",
       "      <td>0.5</td>\n",
       "      <td>None</td>\n",
       "    </tr>\n",
       "  </tbody>\n",
       "</table>\n",
       "</div>"
      ],
      "text/plain": [
       "   ID  DocID  startIdx  Length  TagID  SimilarityScore Accepted\n",
       "0   0      1        37      43      1              0.5     None\n",
       "1   1      1        81      39      1              0.5     None\n",
       "2   2      1        37      43      2              0.5     None\n",
       "3   3      1        81      39      2              0.5     None"
      ]
     },
     "execution_count": 52,
     "metadata": {},
     "output_type": "execute_result"
    }
   ],
   "source": [
    "suggestedTags_df"
   ]
  },
  {
   "cell_type": "code",
   "execution_count": 35,
   "metadata": {},
   "outputs": [],
   "source": [
    "suggestedTags_df['SimilarityScore'] = 0.5"
   ]
  },
  {
   "cell_type": "code",
   "execution_count": 37,
   "metadata": {},
   "outputs": [],
   "source": [
    "suggestedTags_next = posted_tags\n",
    "suggestedTags_next['TagID'] = posted_tags['ID'][index]\n",
    "suggestedTags_next['SimilarityScore'] = 0.5\n",
    "suggestedTags_next['Accepted'] = None"
   ]
  },
  {
   "cell_type": "code",
   "execution_count": 40,
   "metadata": {},
   "outputs": [
    {
     "data": {
      "text/html": [
       "<div>\n",
       "<style scoped>\n",
       "    .dataframe tbody tr th:only-of-type {\n",
       "        vertical-align: middle;\n",
       "    }\n",
       "\n",
       "    .dataframe tbody tr th {\n",
       "        vertical-align: top;\n",
       "    }\n",
       "\n",
       "    .dataframe thead th {\n",
       "        text-align: right;\n",
       "    }\n",
       "</style>\n",
       "<table border=\"1\" class=\"dataframe\">\n",
       "  <thead>\n",
       "    <tr style=\"text-align: right;\">\n",
       "      <th></th>\n",
       "      <th>ID</th>\n",
       "      <th>DocID</th>\n",
       "      <th>startIdx</th>\n",
       "      <th>Length</th>\n",
       "      <th>TagID</th>\n",
       "      <th>SimilarityScore</th>\n",
       "      <th>Accepted</th>\n",
       "    </tr>\n",
       "  </thead>\n",
       "  <tbody>\n",
       "    <tr>\n",
       "      <th>0</th>\n",
       "      <td>1</td>\n",
       "      <td>1</td>\n",
       "      <td>37</td>\n",
       "      <td>43</td>\n",
       "      <td>2</td>\n",
       "      <td>0.5</td>\n",
       "      <td>None</td>\n",
       "    </tr>\n",
       "    <tr>\n",
       "      <th>1</th>\n",
       "      <td>2</td>\n",
       "      <td>1</td>\n",
       "      <td>81</td>\n",
       "      <td>39</td>\n",
       "      <td>2</td>\n",
       "      <td>0.5</td>\n",
       "      <td>None</td>\n",
       "    </tr>\n",
       "  </tbody>\n",
       "</table>\n",
       "</div>"
      ],
      "text/plain": [
       "   ID  DocID  startIdx  Length  TagID  SimilarityScore Accepted\n",
       "0   1      1        37      43      2              0.5     None\n",
       "1   2      1        81      39      2              0.5     None"
      ]
     },
     "execution_count": 40,
     "metadata": {},
     "output_type": "execute_result"
    }
   ],
   "source": [
    "suggestedTags_next"
   ]
  },
  {
   "cell_type": "code",
   "execution_count": 39,
   "metadata": {},
   "outputs": [
    {
     "data": {
      "text/html": [
       "<div>\n",
       "<style scoped>\n",
       "    .dataframe tbody tr th:only-of-type {\n",
       "        vertical-align: middle;\n",
       "    }\n",
       "\n",
       "    .dataframe tbody tr th {\n",
       "        vertical-align: top;\n",
       "    }\n",
       "\n",
       "    .dataframe thead th {\n",
       "        text-align: right;\n",
       "    }\n",
       "</style>\n",
       "<table border=\"1\" class=\"dataframe\">\n",
       "  <thead>\n",
       "    <tr style=\"text-align: right;\">\n",
       "      <th></th>\n",
       "      <th>ID</th>\n",
       "      <th>DocID</th>\n",
       "      <th>startIdx</th>\n",
       "      <th>Length</th>\n",
       "      <th>TagID</th>\n",
       "      <th>SimilarityScore</th>\n",
       "      <th>Accepted</th>\n",
       "    </tr>\n",
       "  </thead>\n",
       "  <tbody>\n",
       "    <tr>\n",
       "      <th>0</th>\n",
       "      <td>1</td>\n",
       "      <td>1</td>\n",
       "      <td>37</td>\n",
       "      <td>43</td>\n",
       "      <td>2</td>\n",
       "      <td>0.5</td>\n",
       "      <td>None</td>\n",
       "    </tr>\n",
       "    <tr>\n",
       "      <th>1</th>\n",
       "      <td>2</td>\n",
       "      <td>1</td>\n",
       "      <td>81</td>\n",
       "      <td>39</td>\n",
       "      <td>2</td>\n",
       "      <td>0.5</td>\n",
       "      <td>None</td>\n",
       "    </tr>\n",
       "    <tr>\n",
       "      <th>0</th>\n",
       "      <td>1</td>\n",
       "      <td>1</td>\n",
       "      <td>37</td>\n",
       "      <td>43</td>\n",
       "      <td>2</td>\n",
       "      <td>0.5</td>\n",
       "      <td>None</td>\n",
       "    </tr>\n",
       "    <tr>\n",
       "      <th>1</th>\n",
       "      <td>2</td>\n",
       "      <td>1</td>\n",
       "      <td>81</td>\n",
       "      <td>39</td>\n",
       "      <td>2</td>\n",
       "      <td>0.5</td>\n",
       "      <td>None</td>\n",
       "    </tr>\n",
       "  </tbody>\n",
       "</table>\n",
       "</div>"
      ],
      "text/plain": [
       "   ID  DocID  startIdx  Length  TagID  SimilarityScore Accepted\n",
       "0   1      1        37      43      2              0.5     None\n",
       "1   2      1        81      39      2              0.5     None\n",
       "0   1      1        37      43      2              0.5     None\n",
       "1   2      1        81      39      2              0.5     None"
      ]
     },
     "execution_count": 39,
     "metadata": {},
     "output_type": "execute_result"
    }
   ],
   "source": [
    "suggestedTags_df.append(suggestedTags_next)"
   ]
  },
  {
   "cell_type": "code",
   "execution_count": 4,
   "metadata": {},
   "outputs": [],
   "source": [
    "from nltk import sent_tokenize\n",
    "\n",
    "document = 'Hello World.  this is a ,..., realdy ..   crazy .  . sentence  . /a/sdf.as/df. a.sdf.asd.f/asd.f.asdf.as.df.asdg.ab.dflvjgalsd.b.b ....     '\n"
   ]
  },
  {
   "cell_type": "code",
   "execution_count": 24,
   "metadata": {},
   "outputs": [
    {
     "data": {
      "text/plain": [
       "'Hello World.  this is a ,..., realdy ..   crazy .  . sentence  . /a/sdf.as/df. a.sdf.asd.f/asd.f.asdf.as.df.asdg.ab.dflvjgalsd.b.b ....     '"
      ]
     },
     "execution_count": 24,
     "metadata": {},
     "output_type": "execute_result"
    }
   ],
   "source": [
    "document"
   ]
  },
  {
   "cell_type": "code",
   "execution_count": 92,
   "metadata": {},
   "outputs": [
    {
     "data": {
      "text/plain": [
       "128"
      ]
     },
     "execution_count": 92,
     "metadata": {},
     "output_type": "execute_result"
    }
   ],
   "source": [
    "#print(len(sent_tokenize(document)))\n",
    "len(sent_tokenize(document)[0]) + len(sent_tokenize(document)[1])+ len(sent_tokenize(document)[2])+ len(sent_tokenize(document)[3])+ len(sent_tokenize(document)[4])+ len(sent_tokenize(document)[5])\n"
   ]
  },
  {
   "cell_type": "code",
   "execution_count": 91,
   "metadata": {},
   "outputs": [
    {
     "data": {
      "text/plain": [
       "['Hello World.',\n",
       " 'this is a ,..., realdy ..   crazy .',\n",
       " '.',\n",
       " 'sentence  .',\n",
       " '/a/sdf.as/df.',\n",
       " 'a.sdf.asd.f/asd.f.asdf.as.df.asdg.ab.dflvjgalsd.b.b ....']"
      ]
     },
     "execution_count": 91,
     "metadata": {},
     "output_type": "execute_result"
    }
   ],
   "source": [
    "sent_tokenize(document)"
   ]
  },
  {
   "cell_type": "code",
   "execution_count": 25,
   "metadata": {},
   "outputs": [],
   "source": [
    "indexes = [0]\n",
    "lengths = []\n",
    "for idx, sent in enumerate(sent_tokenize(document)):\n",
    "    sent_len = len(sent)\n",
    "    lengths.append(sent_len)\n",
    "    next_index = indexes[idx] + sent_len\n",
    "    \n",
    "    #count how many speces follow\n",
    "    while(document[next_index:next_index+1] == ' '):\n",
    "        next_index += 1\n",
    "    \n",
    "    indexes.append(next_index)"
   ]
  },
  {
   "cell_type": "code",
   "execution_count": 102,
   "metadata": {},
   "outputs": [],
   "source": [
    "import nltk\n",
    "# converts a raw df row w. id into a sentence dataframe that is compatible w. tags table\n",
    "def split_in_sentences(DocRow):\n",
    "    \n",
    "    text_splitted = nltk.sent_tokenize(DocRow['FullText'])\n",
    "    \n",
    "    #lengths = [len(i) for i in text_splitted]\n",
    "    \n",
    "    #calculate index of sentence token in original text:\n",
    "    starts = [0]    \n",
    "    untokenized_length_to_end = []\n",
    "    for idx, sent_token in enumerate(text_splitted):\n",
    "        sent_len = len(sent_token)\n",
    "        #untokenized_length_to_end.append()\n",
    "        #sent_len = lengths[idx]\n",
    "        next_start = starts[idx] + sent_len\n",
    "        \n",
    "        #count how many spaces after:\n",
    "        while(DocRow['FullText'][next_start:next_start+1] == ' '):\n",
    "            next_start += 1\n",
    "        \n",
    "        starts.append(next_start)\n",
    "        untokenized_length_to_end.append(next_start - starts[idx])\n",
    "        \n",
    "    df_Sentences = pd.DataFrame({\n",
    "                             'DocID': DocRow['DocID'],\n",
    "                             'SentID': range(len(text_splitted)),\n",
    "                             'SentText': text_splitted,\n",
    "                             'SentStartIdx': starts[:-1],\n",
    "                             'SentLength': untokenized_length_to_end                             \n",
    "                            })    \n",
    "    \n",
    "    return df_Sentences"
   ]
  },
  {
   "cell_type": "code",
   "execution_count": 94,
   "metadata": {},
   "outputs": [],
   "source": [
    "import pandas as pd\n",
    "DummyTextBlock = {\n",
    "    \"DocID\":{\"0\":1,\"1\":2,\"2\":3},\n",
    "    \"FullText\":{\n",
    "        \"0\":\"This is a random document with ID 1.   In this document we are talking about cats. And there is also something about mice.\",\n",
    "        \"1\":\"This is a random document with ID 2. In this document we are talking about dogs. And there is also something about mice.\",\n",
    "        \"2\":\"This is a random document with ID 3. this doc is exclusivly about Elephants. So no mice, cats nor anything else.\"\n",
    "    }\n",
    "}\n",
    "df_TEXT = pd.DataFrame(DummyTextBlock)\n",
    "\n",
    "DummyUserTags = {\n",
    "    \"ID\":{\"0\":1,\"1\":2},\n",
    "    \"DocID\":{\"0\":1,\"1\":1},\n",
    "    \"startIdx\":{\"0\":37,\"1\":81},\n",
    "    \"Length\":{\"0\":43,\"1\":39}\n",
    "}\n",
    "df_TAGS = pd.DataFrame(DummyUserTags)\n",
    "df_TAGS.columns = 'TagID', 'DocID', 'TagStartIdx', 'TagLength' "
   ]
  },
  {
   "cell_type": "code",
   "execution_count": 103,
   "metadata": {},
   "outputs": [
    {
     "data": {
      "text/html": [
       "<div>\n",
       "<style scoped>\n",
       "    .dataframe tbody tr th:only-of-type {\n",
       "        vertical-align: middle;\n",
       "    }\n",
       "\n",
       "    .dataframe tbody tr th {\n",
       "        vertical-align: top;\n",
       "    }\n",
       "\n",
       "    .dataframe thead th {\n",
       "        text-align: right;\n",
       "    }\n",
       "</style>\n",
       "<table border=\"1\" class=\"dataframe\">\n",
       "  <thead>\n",
       "    <tr style=\"text-align: right;\">\n",
       "      <th></th>\n",
       "      <th>DocID</th>\n",
       "      <th>SentID</th>\n",
       "      <th>SentText</th>\n",
       "      <th>SentStartIdx</th>\n",
       "      <th>SentLength</th>\n",
       "    </tr>\n",
       "  </thead>\n",
       "  <tbody>\n",
       "    <tr>\n",
       "      <th>0</th>\n",
       "      <td>1</td>\n",
       "      <td>0</td>\n",
       "      <td>This is a random document with ID 1.</td>\n",
       "      <td>0</td>\n",
       "      <td>39</td>\n",
       "    </tr>\n",
       "    <tr>\n",
       "      <th>1</th>\n",
       "      <td>1</td>\n",
       "      <td>1</td>\n",
       "      <td>In this document we are talking about cats.</td>\n",
       "      <td>39</td>\n",
       "      <td>44</td>\n",
       "    </tr>\n",
       "    <tr>\n",
       "      <th>2</th>\n",
       "      <td>1</td>\n",
       "      <td>2</td>\n",
       "      <td>And there is also something about mice.</td>\n",
       "      <td>83</td>\n",
       "      <td>39</td>\n",
       "    </tr>\n",
       "    <tr>\n",
       "      <th>0</th>\n",
       "      <td>2</td>\n",
       "      <td>0</td>\n",
       "      <td>This is a random document with ID 2.</td>\n",
       "      <td>0</td>\n",
       "      <td>37</td>\n",
       "    </tr>\n",
       "    <tr>\n",
       "      <th>1</th>\n",
       "      <td>2</td>\n",
       "      <td>1</td>\n",
       "      <td>In this document we are talking about dogs.</td>\n",
       "      <td>37</td>\n",
       "      <td>44</td>\n",
       "    </tr>\n",
       "    <tr>\n",
       "      <th>2</th>\n",
       "      <td>2</td>\n",
       "      <td>2</td>\n",
       "      <td>And there is also something about mice.</td>\n",
       "      <td>81</td>\n",
       "      <td>39</td>\n",
       "    </tr>\n",
       "    <tr>\n",
       "      <th>0</th>\n",
       "      <td>3</td>\n",
       "      <td>0</td>\n",
       "      <td>This is a random document with ID 3. this doc ...</td>\n",
       "      <td>0</td>\n",
       "      <td>77</td>\n",
       "    </tr>\n",
       "    <tr>\n",
       "      <th>1</th>\n",
       "      <td>3</td>\n",
       "      <td>1</td>\n",
       "      <td>So no mice, cats nor anything else.</td>\n",
       "      <td>77</td>\n",
       "      <td>35</td>\n",
       "    </tr>\n",
       "  </tbody>\n",
       "</table>\n",
       "</div>"
      ],
      "text/plain": [
       "   DocID  SentID                                           SentText  \\\n",
       "0      1       0               This is a random document with ID 1.   \n",
       "1      1       1        In this document we are talking about cats.   \n",
       "2      1       2            And there is also something about mice.   \n",
       "0      2       0               This is a random document with ID 2.   \n",
       "1      2       1        In this document we are talking about dogs.   \n",
       "2      2       2            And there is also something about mice.   \n",
       "0      3       0  This is a random document with ID 3. this doc ...   \n",
       "1      3       1                So no mice, cats nor anything else.   \n",
       "\n",
       "   SentStartIdx  SentLength  \n",
       "0             0          39  \n",
       "1            39          44  \n",
       "2            83          39  \n",
       "0             0          37  \n",
       "1            37          44  \n",
       "2            81          39  \n",
       "0             0          77  \n",
       "1            77          35  "
      ]
     },
     "execution_count": 103,
     "metadata": {},
     "output_type": "execute_result"
    }
   ],
   "source": [
    "df_Sentences = pd.concat(list(\n",
    "        df_TEXT.apply(split_in_sentences, axis = 1)))\n",
    "df_Sentences"
   ]
  },
  {
   "cell_type": "code",
   "execution_count": 68,
   "metadata": {},
   "outputs": [],
   "source": [
    "# get the corresponding text to a tag row in the UserTags / SugestedTags data (coming from FS backend)\n",
    "def get_tag_sentence (TagRow, Sentences):\n",
    "    SentenceRow = Sentences[\n",
    "        (Sentences['DocID'] == TagRow['DocID']) & \n",
    "        (Sentences['SentStartIdx'] <= TagRow['TagStartIdx'])\n",
    "    ]\n",
    "\n",
    "    return SentenceRow['SentText'].values[0]    "
   ]
  },
  {
   "cell_type": "code",
   "execution_count": 95,
   "metadata": {},
   "outputs": [
    {
     "ename": "IndexError",
     "evalue": "index 0 is out of bounds for axis 0 with size 0",
     "output_type": "error",
     "traceback": [
      "\u001b[0;31m---------------------------------------------------------------------------\u001b[0m",
      "\u001b[0;31mIndexError\u001b[0m                                Traceback (most recent call last)",
      "\u001b[0;32m<ipython-input-95-6c340b82ae52>\u001b[0m in \u001b[0;36m<module>\u001b[0;34m\u001b[0m\n\u001b[0;32m----> 1\u001b[0;31m \u001b[0mget_tag_sentence\u001b[0m\u001b[0;34m(\u001b[0m\u001b[0mdf_TAGS\u001b[0m\u001b[0;34m.\u001b[0m\u001b[0miloc\u001b[0m\u001b[0;34m[\u001b[0m\u001b[0;36m1\u001b[0m\u001b[0;34m]\u001b[0m\u001b[0;34m,\u001b[0m \u001b[0mdf_Sentences\u001b[0m\u001b[0;34m)\u001b[0m\u001b[0;34m\u001b[0m\u001b[0;34m\u001b[0m\u001b[0m\n\u001b[0m",
      "\u001b[0;32m<ipython-input-68-bdb336d0f5d5>\u001b[0m in \u001b[0;36mget_tag_sentence\u001b[0;34m(TagRow, Sentences)\u001b[0m\n\u001b[1;32m      6\u001b[0m     ]\n\u001b[1;32m      7\u001b[0m \u001b[0;34m\u001b[0m\u001b[0m\n\u001b[0;32m----> 8\u001b[0;31m     \u001b[0;32mreturn\u001b[0m \u001b[0mSentenceRow\u001b[0m\u001b[0;34m[\u001b[0m\u001b[0;34m'SentText'\u001b[0m\u001b[0;34m]\u001b[0m\u001b[0;34m.\u001b[0m\u001b[0mvalues\u001b[0m\u001b[0;34m[\u001b[0m\u001b[0;36m0\u001b[0m\u001b[0;34m]\u001b[0m\u001b[0;34m\u001b[0m\u001b[0;34m\u001b[0m\u001b[0m\n\u001b[0m",
      "\u001b[0;31mIndexError\u001b[0m: index 0 is out of bounds for axis 0 with size 0"
     ]
    }
   ],
   "source": [
    "get_tag_sentence(df_TAGS.iloc[1], df_Sentences)"
   ]
  },
  {
   "cell_type": "code",
   "execution_count": 96,
   "metadata": {},
   "outputs": [
    {
     "data": {
      "text/plain": [
       "TagID           2\n",
       "DocID           1\n",
       "TagStartIdx    81\n",
       "TagLength      39\n",
       "Name: 1, dtype: int64"
      ]
     },
     "execution_count": 96,
     "metadata": {},
     "output_type": "execute_result"
    }
   ],
   "source": [
    "df_TAGS.iloc[1]"
   ]
  },
  {
   "cell_type": "code",
   "execution_count": 97,
   "metadata": {},
   "outputs": [
    {
     "data": {
      "text/html": [
       "<div>\n",
       "<style scoped>\n",
       "    .dataframe tbody tr th:only-of-type {\n",
       "        vertical-align: middle;\n",
       "    }\n",
       "\n",
       "    .dataframe tbody tr th {\n",
       "        vertical-align: top;\n",
       "    }\n",
       "\n",
       "    .dataframe thead th {\n",
       "        text-align: right;\n",
       "    }\n",
       "</style>\n",
       "<table border=\"1\" class=\"dataframe\">\n",
       "  <thead>\n",
       "    <tr style=\"text-align: right;\">\n",
       "      <th></th>\n",
       "      <th>DocID</th>\n",
       "      <th>SentID</th>\n",
       "      <th>SentText</th>\n",
       "      <th>SentStartIdx</th>\n",
       "      <th>SentLength</th>\n",
       "    </tr>\n",
       "  </thead>\n",
       "  <tbody>\n",
       "    <tr>\n",
       "      <th>0</th>\n",
       "      <td>1</td>\n",
       "      <td>0</td>\n",
       "      <td>This is a random document with ID 1.</td>\n",
       "      <td>0</td>\n",
       "      <td>36</td>\n",
       "    </tr>\n",
       "    <tr>\n",
       "      <th>1</th>\n",
       "      <td>1</td>\n",
       "      <td>1</td>\n",
       "      <td>In this document we are talking about cats.</td>\n",
       "      <td>39</td>\n",
       "      <td>43</td>\n",
       "    </tr>\n",
       "    <tr>\n",
       "      <th>2</th>\n",
       "      <td>1</td>\n",
       "      <td>2</td>\n",
       "      <td>And there is also something about mice.</td>\n",
       "      <td>83</td>\n",
       "      <td>39</td>\n",
       "    </tr>\n",
       "    <tr>\n",
       "      <th>0</th>\n",
       "      <td>2</td>\n",
       "      <td>0</td>\n",
       "      <td>This is a random document with ID 2.</td>\n",
       "      <td>0</td>\n",
       "      <td>36</td>\n",
       "    </tr>\n",
       "    <tr>\n",
       "      <th>1</th>\n",
       "      <td>2</td>\n",
       "      <td>1</td>\n",
       "      <td>In this document we are talking about dogs.</td>\n",
       "      <td>37</td>\n",
       "      <td>43</td>\n",
       "    </tr>\n",
       "    <tr>\n",
       "      <th>2</th>\n",
       "      <td>2</td>\n",
       "      <td>2</td>\n",
       "      <td>And there is also something about mice.</td>\n",
       "      <td>81</td>\n",
       "      <td>39</td>\n",
       "    </tr>\n",
       "    <tr>\n",
       "      <th>0</th>\n",
       "      <td>3</td>\n",
       "      <td>0</td>\n",
       "      <td>This is a random document with ID 3. this doc ...</td>\n",
       "      <td>0</td>\n",
       "      <td>76</td>\n",
       "    </tr>\n",
       "    <tr>\n",
       "      <th>1</th>\n",
       "      <td>3</td>\n",
       "      <td>1</td>\n",
       "      <td>So no mice, cats nor anything else.</td>\n",
       "      <td>77</td>\n",
       "      <td>35</td>\n",
       "    </tr>\n",
       "  </tbody>\n",
       "</table>\n",
       "</div>"
      ],
      "text/plain": [
       "   DocID  SentID                                           SentText  \\\n",
       "0      1       0               This is a random document with ID 1.   \n",
       "1      1       1        In this document we are talking about cats.   \n",
       "2      1       2            And there is also something about mice.   \n",
       "0      2       0               This is a random document with ID 2.   \n",
       "1      2       1        In this document we are talking about dogs.   \n",
       "2      2       2            And there is also something about mice.   \n",
       "0      3       0  This is a random document with ID 3. this doc ...   \n",
       "1      3       1                So no mice, cats nor anything else.   \n",
       "\n",
       "   SentStartIdx  SentLength  \n",
       "0             0          36  \n",
       "1            39          43  \n",
       "2            83          39  \n",
       "0             0          36  \n",
       "1            37          43  \n",
       "2            81          39  \n",
       "0             0          76  \n",
       "1            77          35  "
      ]
     },
     "execution_count": 97,
     "metadata": {},
     "output_type": "execute_result"
    }
   ],
   "source": [
    "df_Sentences"
   ]
  },
  {
   "cell_type": "code",
   "execution_count": 29,
   "metadata": {},
   "outputs": [
    {
     "data": {
      "text/plain": [
       "[12, 35, 1, 11, 13, 56]"
      ]
     },
     "execution_count": 29,
     "metadata": {},
     "output_type": "execute_result"
    }
   ],
   "source": [
    "lengths"
   ]
  },
  {
   "cell_type": "code",
   "execution_count": 69,
   "metadata": {},
   "outputs": [
    {
     "data": {
      "text/plain": [
       "array([12, 35,  1, 11, 13, 56])"
      ]
     },
     "execution_count": 69,
     "metadata": {},
     "output_type": "execute_result"
    }
   ],
   "source": [
    "np.array([len(sentence) for sentence in sent_tokenize(sent)])"
   ]
  },
  {
   "cell_type": "code",
   "execution_count": 81,
   "metadata": {},
   "outputs": [
    {
     "data": {
      "text/plain": [
       "['Hello World.',\n",
       " 'this is a ,..., realdy ..   crazy .',\n",
       " '.',\n",
       " 'sentence  .',\n",
       " '/a/sdf.as/df.',\n",
       " 'a.sdf.asd.f/asd.f.asdf.as.df.asdg.ab.dflvjgalsd.b.b ....']"
      ]
     },
     "execution_count": 81,
     "metadata": {},
     "output_type": "execute_result"
    }
   ],
   "source": [
    "[sentence for sentence in sent_tokenize(sent)]"
   ]
  },
  {
   "cell_type": "code",
   "execution_count": 78,
   "metadata": {},
   "outputs": [
    {
     "ename": "AttributeError",
     "evalue": "'function' object has no attribute 'span_tokenize'",
     "output_type": "error",
     "traceback": [
      "\u001b[0;31m---------------------------------------------------------------------------\u001b[0m",
      "\u001b[0;31mAttributeError\u001b[0m                            Traceback (most recent call last)",
      "\u001b[0;32m<ipython-input-78-e3c2e8952948>\u001b[0m in \u001b[0;36m<module>\u001b[0;34m\u001b[0m\n\u001b[0;32m----> 1\u001b[0;31m \u001b[0msent_tokenize\u001b[0m\u001b[0;34m.\u001b[0m\u001b[0mspan_tokenize\u001b[0m\u001b[0;34m(\u001b[0m\u001b[0msent\u001b[0m\u001b[0;34m)\u001b[0m\u001b[0;34m\u001b[0m\u001b[0;34m\u001b[0m\u001b[0m\n\u001b[0m",
      "\u001b[0;31mAttributeError\u001b[0m: 'function' object has no attribute 'span_tokenize'"
     ]
    }
   ],
   "source": [
    "sent_tokenize.span_tokenize(sent)"
   ]
  },
  {
   "cell_type": "code",
   "execution_count": 74,
   "metadata": {},
   "outputs": [],
   "source": [
    "import nltk"
   ]
  },
  {
   "cell_type": "code",
   "execution_count": 80,
   "metadata": {},
   "outputs": [
    {
     "ename": "ModuleNotFoundError",
     "evalue": "No module named 'nltk.sent_tokenize'",
     "output_type": "error",
     "traceback": [
      "\u001b[0;31m---------------------------------------------------------------------------\u001b[0m",
      "\u001b[0;31mModuleNotFoundError\u001b[0m                       Traceback (most recent call last)",
      "\u001b[0;32m<ipython-input-80-097b241f248b>\u001b[0m in \u001b[0;36m<module>\u001b[0;34m\u001b[0m\n\u001b[0;32m----> 1\u001b[0;31m \u001b[0;32mfrom\u001b[0m \u001b[0mnltk\u001b[0m\u001b[0;34m.\u001b[0m\u001b[0msent_tokenize\u001b[0m \u001b[0;32mimport\u001b[0m \u001b[0mTreebankWordTokenizer\u001b[0m\u001b[0;34m\u001b[0m\u001b[0;34m\u001b[0m\u001b[0m\n\u001b[0m",
      "\u001b[0;31mModuleNotFoundError\u001b[0m: No module named 'nltk.sent_tokenize'"
     ]
    }
   ],
   "source": [
    "from nltk.sent_tokenize import TreebankWordTokenizer"
   ]
  },
  {
   "cell_type": "code",
   "execution_count": null,
   "metadata": {},
   "outputs": [],
   "source": [
    "TreebankWordTokenizer().span_tokenize()"
   ]
  }
 ],
 "metadata": {
  "kernelspec": {
   "display_name": "propulsion2020",
   "language": "python",
   "name": "propulsion2020"
  },
  "language_info": {
   "codemirror_mode": {
    "name": "ipython",
    "version": 3
   },
   "file_extension": ".py",
   "mimetype": "text/x-python",
   "name": "python",
   "nbconvert_exporter": "python",
   "pygments_lexer": "ipython3",
   "version": "3.7.7"
  }
 },
 "nbformat": 4,
 "nbformat_minor": 4
}

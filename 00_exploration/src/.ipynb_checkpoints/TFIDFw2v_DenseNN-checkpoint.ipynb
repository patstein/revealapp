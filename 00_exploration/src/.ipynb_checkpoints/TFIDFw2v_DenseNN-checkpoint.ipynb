{
 "cells": [
  {
   "cell_type": "markdown",
   "metadata": {},
   "source": [
    "# TFIDF Word2Vec + Dense NN"
   ]
  },
  {
   "cell_type": "markdown",
   "metadata": {},
   "source": [
    "__Author__: Severin Kappeler\n",
    "\n",
    "__Created__: 07.04.2020\n",
    "\n",
    "__Version__: 1\n",
    "\n",
    "__Description__: Creates sentence embedding based on tf-idf and word-embedding and feeds this in a NN\n",
    "\n",
    "\n",
    "\n",
    "\n",
    "|Change ID | Date       |  Author             |Change Description                   |\n",
    "|----------|------------|---------------------|--------------------------------------|\n"
   ]
  },
  {
   "cell_type": "code",
   "execution_count": 228,
   "metadata": {},
   "outputs": [],
   "source": [
    "# see also 06-Natural-Language_processing notebooks. This one focuses only on doc2vec.\n",
    "import pandas as pd\n",
    "pd.options.mode.chained_assignment = None \n",
    "import numpy as np\n",
    "import re\n",
    "import nltk\n",
    "import os\n",
    "import smart_open\n",
    "import collections\n",
    "import scipy.stats as stats\n",
    "import tensorflow as tf\n",
    "import gensim\n",
    "import tqdm\n",
    "import warnings\n",
    "import sys\n",
    "import os\n",
    "\n",
    "from gensim.models.word2vec import Word2Vec\n",
    "from gensim.models.doc2vec import Doc2Vec, TaggedDocument\n",
    "from gensim.test.utils import common_texts\n",
    "from gensim.test.utils import get_tmpfile\n",
    "\n",
    "from tensorflow import keras\n",
    "from tensorflow.keras import Sequential\n",
    "from tensorflow.keras.layers import Embedding, Dense, Flatten, LSTM\n",
    "from tensorflow.keras.preprocessing.text import Tokenizer\n",
    "from tensorflow.keras.preprocessing.sequence import pad_sequences\n",
    "\n",
    "from sklearn.manifold import TSNE\n",
    "import matplotlib.pyplot as plt\n",
    "from matplotlib.image import NonUniformImage\n",
    "from matplotlib import cm\n",
    "import matplotlib.colors as mcolors\n",
    "from numpy.random import multivariate_normal\n",
    "\n",
    "%matplotlib inline\n",
    "\n",
    "from nltk import word_tokenize\n",
    "from nltk.stem import PorterStemmer\n",
    "\n",
    "from sklearn.model_selection import train_test_split\n",
    "from sklearn.pipeline import Pipeline\n",
    "from sklearn.metrics import classification_report, accuracy_score, confusion_matrix\n",
    "from sklearn.feature_extraction.text import TfidfVectorizer\n",
    "from sklearn.feature_extraction.text import CountVectorizer\n",
    "from sklearn.feature_extraction.text import TfidfTransformer\n",
    "from sklearn.linear_model import SGDClassifier\n",
    "from sklearn.naive_bayes import MultinomialNB\n",
    "#from sklearn.model_selection import GridSearchCV, RandomSearch\n",
    "from sklearn.ensemble import RandomForestClassifier\n",
    "from sklearn.metrics.pairwise import cosine_similarity\n",
    "from sklearn import svm, tree\n",
    "import xgboost"
   ]
  },
  {
   "cell_type": "markdown",
   "metadata": {},
   "source": [
    "# Preprocessing"
   ]
  },
  {
   "cell_type": "markdown",
   "metadata": {},
   "source": [
    "## Import & Cleaning"
   ]
  },
  {
   "cell_type": "code",
   "execution_count": 2,
   "metadata": {},
   "outputs": [
    {
     "name": "stderr",
     "output_type": "stream",
     "text": [
      "[nltk_data] Downloading package stopwords to /home/sevi/nltk_data...\n",
      "[nltk_data]   Package stopwords is already up-to-date!\n"
     ]
    }
   ],
   "source": [
    "path = '/home/sevi/Desktop/Work/PropulsionDS/GroupChallenges/RelevApp/10_cleaning/src'\n",
    "\n",
    "current_path = os.getcwd()\n",
    "os.chdir(path)\n",
    "%run ./Load+Clean_News.ipynb\n",
    "os.chdir(current_path)"
   ]
  },
  {
   "cell_type": "code",
   "execution_count": 3,
   "metadata": {},
   "outputs": [
    {
     "data": {
      "text/html": [
       "<div>\n",
       "<style scoped>\n",
       "    .dataframe tbody tr th:only-of-type {\n",
       "        vertical-align: middle;\n",
       "    }\n",
       "\n",
       "    .dataframe tbody tr th {\n",
       "        vertical-align: top;\n",
       "    }\n",
       "\n",
       "    .dataframe thead th {\n",
       "        text-align: right;\n",
       "    }\n",
       "</style>\n",
       "<table border=\"1\" class=\"dataframe\">\n",
       "  <thead>\n",
       "    <tr style=\"text-align: right;\">\n",
       "      <th></th>\n",
       "      <th>SimilarityScore</th>\n",
       "      <th>sentence1</th>\n",
       "      <th>sentence2</th>\n",
       "    </tr>\n",
       "  </thead>\n",
       "  <tbody>\n",
       "    <tr>\n",
       "      <th>0</th>\n",
       "      <td>4.000</td>\n",
       "      <td>last year wa want murder</td>\n",
       "      <td>last year wa sought murder</td>\n",
       "    </tr>\n",
       "    <tr>\n",
       "      <th>1</th>\n",
       "      <td>5.000</td>\n",
       "      <td>promarket economist dont object corpor blatant...</td>\n",
       "      <td>economist compani openli use attract luxuri pr...</td>\n",
       "    </tr>\n",
       "    <tr>\n",
       "      <th>2</th>\n",
       "      <td>5.000</td>\n",
       "      <td>perhap importantli ahmadinejad destabil influe...</td>\n",
       "      <td>perhap import ahmadinejad destabilis influenc ...</td>\n",
       "    </tr>\n",
       "    <tr>\n",
       "      <th>3</th>\n",
       "      <td>4.667</td>\n",
       "      <td>europ</td>\n",
       "      <td>europ</td>\n",
       "    </tr>\n",
       "    <tr>\n",
       "      <th>4</th>\n",
       "      <td>4.500</td>\n",
       "      <td>gay modern practic reject selfindulg</td>\n",
       "      <td>gay practic modern reject law</td>\n",
       "    </tr>\n",
       "    <tr>\n",
       "      <th>...</th>\n",
       "      <td>...</td>\n",
       "      <td>...</td>\n",
       "      <td>...</td>\n",
       "    </tr>\n",
       "    <tr>\n",
       "      <th>649</th>\n",
       "      <td>1.800</td>\n",
       "      <td>indian pakistani govern nearli engag fourth co...</td>\n",
       "      <td>indian pakistani govern conduct nuclear test m...</td>\n",
       "    </tr>\n",
       "    <tr>\n",
       "      <th>650</th>\n",
       "      <td>3.800</td>\n",
       "      <td>iguaran state detaine accus homicid crimin col...</td>\n",
       "      <td>iguaran state detaine also involv murder polic...</td>\n",
       "    </tr>\n",
       "    <tr>\n",
       "      <th>651</th>\n",
       "      <td>2.400</td>\n",
       "      <td>3 suspect extremist releas bail</td>\n",
       "      <td>1 suspect extremist wa provision releas withou...</td>\n",
       "    </tr>\n",
       "    <tr>\n",
       "      <th>652</th>\n",
       "      <td>0.800</td>\n",
       "      <td>6 czech hospit employe charg human organ traffick</td>\n",
       "      <td>accus charg intern drug traffick</td>\n",
       "    </tr>\n",
       "    <tr>\n",
       "      <th>653</th>\n",
       "      <td>2.000</td>\n",
       "      <td>thi aggrav situat</td>\n",
       "      <td>north korea act aggrav situat</td>\n",
       "    </tr>\n",
       "  </tbody>\n",
       "</table>\n",
       "<p>654 rows × 3 columns</p>\n",
       "</div>"
      ],
      "text/plain": [
       "     SimilarityScore                                          sentence1  \\\n",
       "0              4.000                           last year wa want murder   \n",
       "1              5.000  promarket economist dont object corpor blatant...   \n",
       "2              5.000  perhap importantli ahmadinejad destabil influe...   \n",
       "3              4.667                                              europ   \n",
       "4              4.500               gay modern practic reject selfindulg   \n",
       "..               ...                                                ...   \n",
       "649            1.800  indian pakistani govern nearli engag fourth co...   \n",
       "650            3.800  iguaran state detaine accus homicid crimin col...   \n",
       "651            2.400                    3 suspect extremist releas bail   \n",
       "652            0.800  6 czech hospit employe charg human organ traffick   \n",
       "653            2.000                                  thi aggrav situat   \n",
       "\n",
       "                                             sentence2  \n",
       "0                           last year wa sought murder  \n",
       "1    economist compani openli use attract luxuri pr...  \n",
       "2    perhap import ahmadinejad destabilis influenc ...  \n",
       "3                                                europ  \n",
       "4                        gay practic modern reject law  \n",
       "..                                                 ...  \n",
       "649  indian pakistani govern conduct nuclear test m...  \n",
       "650  iguaran state detaine also involv murder polic...  \n",
       "651  1 suspect extremist wa provision releas withou...  \n",
       "652                   accus charg intern drug traffick  \n",
       "653                      north korea act aggrav situat  \n",
       "\n",
       "[654 rows x 3 columns]"
      ]
     },
     "execution_count": 3,
     "metadata": {},
     "output_type": "execute_result"
    }
   ],
   "source": [
    "news"
   ]
  },
  {
   "cell_type": "code",
   "execution_count": 4,
   "metadata": {},
   "outputs": [],
   "source": [
    "#create list of all document strings\n",
    "documents = news['sentence1']\n",
    "documents = documents.append(news['sentence2'])\n",
    "#documents.drop_duplicates(inplace = True)\n",
    "documents = documents.reset_index(drop = True)\n",
    "\n",
    "#\n",
    "#create list of document strings split by sentence (a list for each document where each document is represented by a list of sentences (strings))\n",
    "doc_sent = tokenize_to_sentences(documents)\n",
    "#create list of document strings split by cleaned sentences\n",
    "doc_sent_clean = [[clean_sentence(sentence) for sentence in document] for document in doc_sent]"
   ]
  },
  {
   "cell_type": "code",
   "execution_count": 5,
   "metadata": {},
   "outputs": [
    {
     "data": {
      "text/plain": [
       "0                             last year wa want murder\n",
       "1    promarket economist dont object corpor blatant...\n",
       "dtype: object"
      ]
     },
     "execution_count": 5,
     "metadata": {},
     "output_type": "execute_result"
    }
   ],
   "source": [
    "documents[0:2]"
   ]
  },
  {
   "cell_type": "code",
   "execution_count": 6,
   "metadata": {},
   "outputs": [
    {
     "data": {
      "text/plain": [
       "0                           [last year wa want murder]\n",
       "1    [promarket economist dont object corpor blatan...\n",
       "dtype: object"
      ]
     },
     "execution_count": 6,
     "metadata": {},
     "output_type": "execute_result"
    }
   ],
   "source": [
    "doc_sent[0:2]"
   ]
  },
  {
   "cell_type": "code",
   "execution_count": 7,
   "metadata": {},
   "outputs": [
    {
     "data": {
      "text/plain": [
       "[['last year wa want murder'],\n",
       " ['promarket economist dont object corpor blatantli use snob appeal promot product']]"
      ]
     },
     "execution_count": 7,
     "metadata": {},
     "output_type": "execute_result"
    }
   ],
   "source": [
    "doc_sent_clean[0:2]"
   ]
  },
  {
   "cell_type": "code",
   "execution_count": 8,
   "metadata": {},
   "outputs": [],
   "source": [
    "#Build Corpus: #SK01\n",
    "#runtime: 15''\n",
    "def build_corpus(data):\n",
    "    return [nltk.word_tokenize(sentence) for doc in data for sentence in doc]\n",
    "\n",
    "corpus = build_corpus(doc_sent_clean)"
   ]
  },
  {
   "cell_type": "code",
   "execution_count": 9,
   "metadata": {},
   "outputs": [
    {
     "data": {
      "text/plain": [
       "1308"
      ]
     },
     "execution_count": 9,
     "metadata": {},
     "output_type": "execute_result"
    }
   ],
   "source": [
    "#Number of sentences overall (can contain duplicates!):\n",
    "len(corpus)"
   ]
  },
  {
   "cell_type": "markdown",
   "metadata": {},
   "source": [
    "# Embedding"
   ]
  },
  {
   "cell_type": "markdown",
   "metadata": {},
   "source": [
    "## Word2Vec (Pretrained Google News)"
   ]
  },
  {
   "cell_type": "code",
   "execution_count": 10,
   "metadata": {},
   "outputs": [
    {
     "name": "stderr",
     "output_type": "stream",
     "text": [
      "/home/sevi/anaconda3/envs/propulsion2020/lib/python3.7/site-packages/ipykernel_launcher.py:15: DeprecationWarning: Call to deprecated `iter` (Attribute will be removed in 4.0.0, use self.epochs instead).\n",
      "  from ipykernel import kernelapp as app\n"
     ]
    },
    {
     "data": {
      "text/plain": [
       "(52756, 56900)"
      ]
     },
     "execution_count": 10,
     "metadata": {},
     "output_type": "execute_result"
    }
   ],
   "source": [
    "# Importing pre-trained model, updating vocab \n",
    "# and training the model (takes long to run)\n",
    "#runtime without google: 18''\n",
    "model_2 = Word2Vec(size=300, min_count=1, window = 5)\n",
    "model_2.build_vocab(corpus)\n",
    "total_examples = model_2.corpus_count\n",
    "\n",
    "# #for testing commented out:\n",
    "# model_pt = gensim.models.KeyedVectors.load_word2vec_format('/home/sevi/Desktop/Work/PropulsionDS/Pretrained/GoogleNews-vectors-negative300.bin', binary=True)\n",
    "# model_2.build_vocab([list(model_pt.vocab.keys())], update=True)\n",
    "# model_2.intersect_word2vec_format('/home/sevi/Desktop/Work/PropulsionDS/Pretrained/GoogleNews-vectors-negative300.bin', binary=True, lockf=1.0)\n",
    "\n",
    "# intersect_word2vec_format() will let you bring vectors from an external file into a model that's already had its own vocabulary initialized\n",
    "# see https://tedboy.github.io/nlps/generated/generated/gensim.models.Word2Vec.intersect_word2vec_format.html\n",
    "model_2.train(corpus, total_examples=total_examples, epochs=model_2.iter)"
   ]
  },
  {
   "cell_type": "code",
   "execution_count": 11,
   "metadata": {},
   "outputs": [
    {
     "name": "stdout",
     "output_type": "stream",
     "text": [
      "1888\n",
      "300\n",
      "1888\n"
     ]
    }
   ],
   "source": [
    "#model_2.wv.vectors contains 26'668 vectors of length 300\n",
    "print(len(model_2.wv.vectors))\n",
    "print(len(model_2.wv.vectors[0]))\n",
    "print(len(model_2.wv.vocab))\n"
   ]
  },
  {
   "cell_type": "markdown",
   "metadata": {},
   "source": [
    "## TF-IDF"
   ]
  },
  {
   "cell_type": "code",
   "execution_count": 12,
   "metadata": {},
   "outputs": [],
   "source": [
    "doc_clean = [' '.join(document) for document in doc_sent_clean]"
   ]
  },
  {
   "cell_type": "code",
   "execution_count": 13,
   "metadata": {},
   "outputs": [],
   "source": [
    "#SK02\n",
    "#this function creates the (for now only global) TF-IDF weights for each word.\n",
    "def calc_tf_idf(cleaned_doc_str = None):\n",
    "    '''\n",
    "    This function expects as an input for each document the already cleaned string wrapped in a list. \n",
    "    Then it returns all the TF-IDF scores for each word and document in the matrix tfid_matrix.\n",
    "    \n",
    "    Attributes:\n",
    "    - cleaned_doc_str: List of strings\n",
    "            Default = None\n",
    "            This list contains for each document the string of its content. The string is expected to already be cleaned and stopwords removed.\n",
    "    '''\n",
    "     \n",
    "    #Calculate TF-IDF score for all words in the corpus\n",
    "    tfidf = TfidfVectorizer(\n",
    "          sublinear_tf=True\n",
    "        , min_df=1\n",
    "        , norm='l2'\n",
    "        , encoding='latin-1'\n",
    "        , ngram_range=(1,1)  #considering only 1-grams for now\n",
    "        , token_pattern= '(?u)\\\\b\\\\w+\\\\b' #changed from default in order to also include single letters in case they appear in the corpus.\n",
    "        , tokenizer=nltk.word_tokenize #we pass the corpus as words already.\n",
    "        , stop_words=None #we already removed stopwords\n",
    "    ) \n",
    "    tfidf_matrix = tfidf.fit_transform(cleaned_doc_str)#.toarray()\n",
    "    \n",
    "        \n",
    "    if(not(len(tfidf.get_feature_names()) == len(model_2.wv.vocab.keys()))):\n",
    "        warnings.warn('The count of vocabulary from the word embedding does not coincide with the TF-IDF Vectorizer features.')\n",
    "    \n",
    "    return tfidf\n",
    "    #None\n",
    "    #tfidf_matrix contains TF-IDF scores for each document (in the rows) and word (in the columns)\n",
    "    #tfidf.get_feature_names() gives you the words in the order "
   ]
  },
  {
   "cell_type": "raw",
   "metadata": {},
   "source": [
    "#not in use for now\n",
    "def calc_embedding(doc_sent_clean = None, sentEmbedding = True):\n",
    "    '''\n",
    "    This function calculates the embedding matrix for the sentence embedding or word embedding with or without TF-IDF weights.\n",
    "    \n",
    "    Attibutes:\n",
    "    - doc_sent_clean: 2d-array\n",
    "            Default = None\n",
    "            list of lists where each word represents \n",
    "    - sentEmbedding: boolean\n",
    "            Default = True\n",
    "            if set to True the embedding is calculated on a sentence level. Otherwise on word-level\n",
    "    '''\n",
    "    \n",
    "    doc_clean = [' '.join(document) for document in doc_sent_clean]    \n",
    "    \n",
    "    doc_word_tfidf = calc_tf_idf(doc_clean)\n",
    "    nr_docs = doc_word_tfidf.shape[0]\n",
    "    #nr_words = len(doc_word_tfidf.index)\n",
    "    \n",
    "    embedding_matrix = np.zeros((nr_docs + 1, 300))\n",
    "\n",
    "    #calculate embedding for sentences:\n",
    "    if(sentEmbedding):\n",
    "        '''to be continued'''\n",
    "        \n",
    "    \n",
    "    #calculate embedding for words\n",
    "    else:\n",
    "        #average all TF-idfs for all documents:\n",
    "        tfidf_matrix = pd.DataFrame(data = tfidf_matrix.mean(axis = 0)[0]\n",
    "                                    , columns = tfidf.get_feature_names()\n",
    "                                    , index = ['TFIDF']\n",
    "                                    )\n",
    "        \n",
    "        for i, token in enumerate(global_word_tfidf.columns):\n",
    "              embedding_matrix[i] = model_2.wv.get_vector(token) * global_word_tfidf[token].values[0]\n",
    "        #embedding_matrix is 26'668 x 300 matrix \n",
    "\n",
    "         \n"
   ]
  },
  {
   "cell_type": "code",
   "execution_count": 14,
   "metadata": {},
   "outputs": [],
   "source": [
    "def get_sentence_vector(sent_clean_token=None, model=None, fitted_tfidf=None):\n",
    "    '''\n",
    "    This function is to average all words vectors in a given sentence.\n",
    "\n",
    "    Parameters\n",
    "    ----------\n",
    "    sent_clean_token : string\n",
    "            a string representing a sentence\n",
    "    model : model\n",
    "            a word embedding model (f.e. Word2Vec) featuring model['example_word']\n",
    "    fitted_tfidf : fitted TfidfVectorizer\n",
    "            pass the TF-IDF Vectorizer fitted to the dictionary\n",
    "    '''\n",
    "    #words = word_tokenize(clean_sentence(sentence))\n",
    "\n",
    "    sent_len = len(sent_clean_token)\n",
    "    total_weight = fitted_tfidf.vocabulary_[sent_clean_token[0]]\n",
    "    sentenceVec = model.wv[sent_clean_token[0]] * fitted_tfidf.vocabulary_[sent_clean_token[0]]\n",
    "    for i in range(1, sent_len):\n",
    "        sentenceVec = sentenceVec + model.wv[sent_clean_token[i]] * fitted_tfidf.vocabulary_[sent_clean_token[i]]\n",
    "        total_weight += fitted_tfidf.vocabulary_[sent_clean_token[i]]\n",
    "                            \n",
    "    return sentenceVec/total_weight"
   ]
  },
  {
   "cell_type": "code",
   "execution_count": 15,
   "metadata": {},
   "outputs": [],
   "source": [
    "doc_clean = [' '.join(document) for document in doc_sent_clean]    \n",
    "doc_word_tfidf = calc_tf_idf(doc_clean)\n",
    "sent_clean = [sentence for document in doc_sent_clean for sentence in document]"
   ]
  },
  {
   "cell_type": "code",
   "execution_count": 16,
   "metadata": {},
   "outputs": [],
   "source": [
    "#nr_docs = doc_word_tfidf.shape[0]    \n",
    "sent_embedding_matrix = np.zeros((len(corpus), 300))\n",
    "\n",
    "#embedding_matrix is 26'668 x 300 matrix \n",
    "for idx, sent in enumerate(corpus):\n",
    "    sent_embedding_matrix[idx] = get_sentence_vector(corpus[idx],model_2,doc_word_tfidf)"
   ]
  },
  {
   "cell_type": "code",
   "execution_count": 17,
   "metadata": {},
   "outputs": [
    {
     "name": "stdout",
     "output_type": "stream",
     "text": [
      "300\n",
      "1308\n"
     ]
    }
   ],
   "source": [
    "print(len(sent_embedding_matrix[0]))\n",
    "print(len(sent_embedding_matrix))"
   ]
  },
  {
   "cell_type": "markdown",
   "metadata": {},
   "source": [
    "# Sense Check"
   ]
  },
  {
   "cell_type": "markdown",
   "metadata": {},
   "source": [
    "## Most Similar"
   ]
  },
  {
   "cell_type": "code",
   "execution_count": 18,
   "metadata": {},
   "outputs": [
    {
     "data": {
      "text/plain": [
       "array([[-1.68426428e-03,  4.00478821e-05, -1.11731689e-03, ...,\n",
       "        -2.40570586e-03,  1.84488250e-03, -2.61395983e-03],\n",
       "       [-1.25328253e-03, -3.65528977e-04, -3.86646047e-04, ...,\n",
       "        -6.06527552e-04, -3.10770542e-06, -1.41617283e-03],\n",
       "       [-1.77529838e-03, -1.71254171e-04, -1.71097566e-03, ...,\n",
       "        -1.69968687e-03,  3.76088137e-04,  3.33672215e-04],\n",
       "       ...,\n",
       "       [-1.46727893e-03, -2.87963892e-04, -8.79837899e-04, ...,\n",
       "        -1.79895898e-03,  3.13506200e-04, -1.35268085e-03],\n",
       "       [-2.87395599e-03, -1.56679627e-04, -6.31575880e-04, ...,\n",
       "        -2.28319643e-03,  2.97980383e-04, -3.06460075e-03],\n",
       "       [-1.83973892e-03,  2.67577037e-04, -6.10128744e-04, ...,\n",
       "        -1.91922835e-03, -1.47547267e-04, -1.13301061e-03]])"
      ]
     },
     "execution_count": 18,
     "metadata": {},
     "output_type": "execute_result"
    }
   ],
   "source": [
    "sent_embedding_matrix"
   ]
  },
  {
   "cell_type": "code",
   "execution_count": 19,
   "metadata": {},
   "outputs": [],
   "source": [
    "sent_all = news_raw['sentence1']\n",
    "sent_all = sent_all.append(news_raw['sentence2'])\n",
    "#sent_all.drop_duplicates(inplace = True)\n",
    "sent_all = np.array(sent_all)"
   ]
  },
  {
   "cell_type": "code",
   "execution_count": 84,
   "metadata": {},
   "outputs": [],
   "source": [
    "def most_similar_sent(sent = '', n = 10, embedding_matrix = None, sent_all = None):\n",
    "    idxes = np.where(sent_all == sent)[0]\n",
    "    search_vector = embedding_matrix[idxes[0]]\n",
    "    \n",
    "    #calculate cosine similarity\n",
    "    cos_sim = cosine_similarity([search_vector], sent_embedding_matrix)\n",
    "\n",
    "    most_similar_idxes = cos_sim[0].argsort()[::-1]\n",
    "    #exclude the sentence index where the sentence is identical to the input\n",
    "    most_similar_idxes = most_similar_idxes[~(np.isin(most_similar_idxes, idxes))]\n",
    "    \n",
    "    return sent_all[most_similar_idxes[0:n]]   "
   ]
  },
  {
   "cell_type": "code",
   "execution_count": 86,
   "metadata": {},
   "outputs": [
    {
     "data": {
      "text/plain": [
       "array(['The answer lies in the support that the Indonesian democrats activists will generate domestically and internationally.',\n",
       "       'The answer lies in the support that the Indonesian democrats will generate activists domestically and internationally.',\n",
       "       'The answer lies in the support that the Indonesian democrats activists will generate national and internationally.',\n",
       "       'The answer lies in the support that democratic activists Indonesians may generate drive and internationally.',\n",
       "       'The answer lies in the support that all will be able to generate nationally and internationally.  ',\n",
       "       'The answer lies in the support that democratic activists Indonesia can generate nationalement and internationally.',\n",
       "       'The answer is in the support that the democratic activists indonésiens will be able to generate nationally and internationally.',\n",
       "       'the iranian government has dismissed the allegations in the intelligence presented to the international atomic energy agency board as baseless and the intelligence used to support the allegations as fake. ',\n",
       "       \"in september 2007 the united states signed an accord with jordan aimed at supporting the peaceful development of jodran's new nuclear program.\",\n",
       "       \"in september 2007 jordan signed an accord with the united states aimed at supporting the peaceful development of the jordan's nascent nuclear program. \"],\n",
       "      dtype=object)"
      ]
     },
     "execution_count": 86,
     "metadata": {},
     "output_type": "execute_result"
    }
   ],
   "source": [
    "most_similar_sent(\n",
    "        sent = 'The answer lies in the support that Indonesian pro-democracy activists can generate domestically and internationally.'\n",
    "        , n = 10\n",
    "        , embedding_matrix = sent_embedding_matrix\n",
    "        , sent_all = sent_all\n",
    "    )"
   ]
  },
  {
   "cell_type": "markdown",
   "metadata": {},
   "source": [
    "## Find closest index"
   ]
  },
  {
   "cell_type": "code",
   "execution_count": 89,
   "metadata": {},
   "outputs": [],
   "source": [
    "def get_similarity_index(sent1 = '', sent2 = '', embedding_matrix = None, sent_all = None):\n",
    "    '''\n",
    "    This function returns the index n such that the n-th closest sentence to sentence sent1 is sentence sent2.\n",
    "    '''\n",
    "    #sent1\n",
    "    idxes1 = np.where(sent_all == sent1)[0]\n",
    "    sent1_vector = embedding_matrix[idxes1[0]]\n",
    "\n",
    "    #sent2\n",
    "    idxes2 = np.where(sent_all == sent2)[0]\n",
    "    sent2_vector = embedding_matrix[idxes2[0]]\n",
    "    \n",
    "    #calculate cosine similarity\n",
    "    cos_sim = cosine_similarity([sent1_vector], sent_embedding_matrix)\n",
    "\n",
    "    most_similar_idxes = cos_sim[0].argsort()[::-1]\n",
    "    #exclude the sentence index where the sentence is identical to the input\n",
    "    most_similar_idxes = most_similar_idxes[~(np.isin(most_similar_idxes, idxes1))]\n",
    "    \n",
    "    for i in range(len(most_similar_idxes)):\n",
    "        i_th_sentence = sent_all[most_similar_idxes[i]]\n",
    "        if(i_th_sentence == sent2):\n",
    "            return i + 1\n",
    "\n",
    "    return np.inf\n"
   ]
  },
  {
   "cell_type": "code",
   "execution_count": 93,
   "metadata": {},
   "outputs": [
    {
     "data": {
      "text/plain": [
       "5"
      ]
     },
     "execution_count": 93,
     "metadata": {},
     "output_type": "execute_result"
    }
   ],
   "source": [
    "get_similarity_index(\n",
    "    sent1 = 'The answer lies in the support that Indonesian pro-democracy activists can generate domestically and internationally.'\n",
    "    , sent2 = 'The answer lies in the support that all will be able to generate nationally and internationally.  '\n",
    "    , embedding_matrix=sent_embedding_matrix\n",
    "    , sent_all = sent_all\n",
    ")\n",
    "#correct"
   ]
  },
  {
   "cell_type": "code",
   "execution_count": 272,
   "metadata": {},
   "outputs": [
    {
     "name": "stdout",
     "output_type": "stream",
     "text": [
      "6 czech hospital employees are charged with human organ trafficking. \n",
      "the accused will be charged with international drug trafficking.\n"
     ]
    },
    {
     "data": {
      "text/html": [
       "<div>\n",
       "<style scoped>\n",
       "    .dataframe tbody tr th:only-of-type {\n",
       "        vertical-align: middle;\n",
       "    }\n",
       "\n",
       "    .dataframe tbody tr th {\n",
       "        vertical-align: top;\n",
       "    }\n",
       "\n",
       "    .dataframe thead th {\n",
       "        text-align: right;\n",
       "    }\n",
       "</style>\n",
       "<table border=\"1\" class=\"dataframe\">\n",
       "  <thead>\n",
       "    <tr style=\"text-align: right;\">\n",
       "      <th></th>\n",
       "      <th>SimilarityScore</th>\n",
       "      <th>sentence1</th>\n",
       "      <th>sentence2</th>\n",
       "      <th>closest_percentile</th>\n",
       "    </tr>\n",
       "  </thead>\n",
       "  <tbody>\n",
       "    <tr>\n",
       "      <th>652</th>\n",
       "      <td>0.8</td>\n",
       "      <td>6 czech hospital employees are charged with hu...</td>\n",
       "      <td>the accused will be charged with international...</td>\n",
       "      <td>0.999235</td>\n",
       "    </tr>\n",
       "  </tbody>\n",
       "</table>\n",
       "</div>"
      ],
      "text/plain": [
       "     SimilarityScore                                          sentence1  \\\n",
       "652              0.8  6 czech hospital employees are charged with hu...   \n",
       "\n",
       "                                             sentence2  closest_percentile  \n",
       "652  the accused will be charged with international...            0.999235  "
      ]
     },
     "execution_count": 272,
     "metadata": {},
     "output_type": "execute_result"
    }
   ],
   "source": [
    "print(news_raw[652:653]['sentence1'].values[0])\n",
    "print(news_raw[652:653]['sentence2'].values[0])\n",
    "news_raw[652:653]"
   ]
  },
  {
   "cell_type": "code",
   "execution_count": 273,
   "metadata": {},
   "outputs": [
    {
     "data": {
      "text/plain": [
       "1"
      ]
     },
     "execution_count": 273,
     "metadata": {},
     "output_type": "execute_result"
    }
   ],
   "source": [
    "get_similarity_index(\n",
    "    sent1 = news_raw[652:653]['sentence1'].values[0]\n",
    "    , sent2 = news_raw[652:653]['sentence2'].values[0]\n",
    "    , embedding_matrix=sent_embedding_matrix\n",
    "    , sent_all = sent_all\n",
    ")"
   ]
  },
  {
   "cell_type": "code",
   "execution_count": 274,
   "metadata": {},
   "outputs": [
    {
     "data": {
      "text/plain": [
       "array(['the accused will be charged with international drug trafficking.',\n",
       "       'the accused will be charged with international drug trafficking. ',\n",
       "       'bulgarian police arrest head of drug trafficking group.',\n",
       "       'since 2006 mexico has adopted a series of measures against drug trafficking and organized crimes.',\n",
       "       'mexican president felipe calderon has sent 2800 special agents and soldiers to sinaloa due to the high degree of organized crime and drug trafficking. ',\n",
       "       'beijing police apprehended more than 20 people in suspicion of using and trafficking drugs in 2 downtown bars.',\n",
       "       'afghan drug trafficker was caught in tajikistan.',\n",
       "       'the vietnam news agency reported that the ministry of public security stated that police admitted that drug trafficking into vietnam is increasing but actions to prevent and stop the drug trafficking along the borders remained limited.',\n",
       "       'the rapist was identified as hossein safarlou and had also been convicted of drug trafficking.',\n",
       "       'police arrested 2 honduran drug trafficking suspects. '],\n",
       "      dtype=object)"
      ]
     },
     "execution_count": 274,
     "metadata": {},
     "output_type": "execute_result"
    }
   ],
   "source": [
    "most_similar_sent(\n",
    "        sent = '6 czech hospital employees are charged with human organ trafficking. '\n",
    "        , n = 10\n",
    "        , embedding_matrix = sent_embedding_matrix\n",
    "        , sent_all = sent_all\n",
    "    )"
   ]
  },
  {
   "cell_type": "markdown",
   "metadata": {},
   "source": [
    "## Visualization"
   ]
  },
  {
   "cell_type": "code",
   "execution_count": 88,
   "metadata": {},
   "outputs": [
    {
     "data": {
      "text/html": [
       "<div>\n",
       "<style scoped>\n",
       "    .dataframe tbody tr th:only-of-type {\n",
       "        vertical-align: middle;\n",
       "    }\n",
       "\n",
       "    .dataframe tbody tr th {\n",
       "        vertical-align: top;\n",
       "    }\n",
       "\n",
       "    .dataframe thead th {\n",
       "        text-align: right;\n",
       "    }\n",
       "</style>\n",
       "<table border=\"1\" class=\"dataframe\">\n",
       "  <thead>\n",
       "    <tr style=\"text-align: right;\">\n",
       "      <th></th>\n",
       "      <th>SimilarityScore</th>\n",
       "      <th>sentence1</th>\n",
       "      <th>sentence2</th>\n",
       "    </tr>\n",
       "  </thead>\n",
       "  <tbody>\n",
       "    <tr>\n",
       "      <th>0</th>\n",
       "      <td>4.000</td>\n",
       "      <td>Last year he was wanted for murder.</td>\n",
       "      <td>Last year it was sought to murder.</td>\n",
       "    </tr>\n",
       "    <tr>\n",
       "      <th>1</th>\n",
       "      <td>5.000</td>\n",
       "      <td>Pro-market economists don't object to corporat...</td>\n",
       "      <td>Economists' not against the companies openly u...</td>\n",
       "    </tr>\n",
       "    <tr>\n",
       "      <th>2</th>\n",
       "      <td>5.000</td>\n",
       "      <td>And, perhaps most importantly, Ahmadinejad is ...</td>\n",
       "      <td>And, perhaps the most important, Ahmadinejad d...</td>\n",
       "    </tr>\n",
       "    <tr>\n",
       "      <th>3</th>\n",
       "      <td>4.667</td>\n",
       "      <td>A Europe for All</td>\n",
       "      <td>All Europe</td>\n",
       "    </tr>\n",
       "    <tr>\n",
       "      <th>4</th>\n",
       "      <td>4.500</td>\n",
       "      <td>Gays and other \"modern\" practices are rejected...</td>\n",
       "      <td>The gay and other practical \"Modern\" are rejec...</td>\n",
       "    </tr>\n",
       "    <tr>\n",
       "      <th>...</th>\n",
       "      <td>...</td>\n",
       "      <td>...</td>\n",
       "      <td>...</td>\n",
       "    </tr>\n",
       "    <tr>\n",
       "      <th>649</th>\n",
       "      <td>1.800</td>\n",
       "      <td>indian and pakistani governments nearly engage...</td>\n",
       "      <td>indian and pakistani governments each conducte...</td>\n",
       "    </tr>\n",
       "    <tr>\n",
       "      <th>650</th>\n",
       "      <td>3.800</td>\n",
       "      <td>iguaran stated that the detainees will be accu...</td>\n",
       "      <td>iguaran stated that the detainees were also in...</td>\n",
       "    </tr>\n",
       "    <tr>\n",
       "      <th>651</th>\n",
       "      <td>2.400</td>\n",
       "      <td>3 suspected extremists were released on bail.</td>\n",
       "      <td>1 suspected extremist was provisionally releas...</td>\n",
       "    </tr>\n",
       "    <tr>\n",
       "      <th>652</th>\n",
       "      <td>0.800</td>\n",
       "      <td>6 czech hospital employees are charged with hu...</td>\n",
       "      <td>the accused will be charged with international...</td>\n",
       "    </tr>\n",
       "    <tr>\n",
       "      <th>653</th>\n",
       "      <td>2.000</td>\n",
       "      <td>this further aggravated the situation.</td>\n",
       "      <td>north korea should not act further to aggravat...</td>\n",
       "    </tr>\n",
       "  </tbody>\n",
       "</table>\n",
       "<p>654 rows × 3 columns</p>\n",
       "</div>"
      ],
      "text/plain": [
       "     SimilarityScore                                          sentence1  \\\n",
       "0              4.000                Last year he was wanted for murder.   \n",
       "1              5.000  Pro-market economists don't object to corporat...   \n",
       "2              5.000  And, perhaps most importantly, Ahmadinejad is ...   \n",
       "3              4.667                                   A Europe for All   \n",
       "4              4.500  Gays and other \"modern\" practices are rejected...   \n",
       "..               ...                                                ...   \n",
       "649            1.800  indian and pakistani governments nearly engage...   \n",
       "650            3.800  iguaran stated that the detainees will be accu...   \n",
       "651            2.400     3 suspected extremists were released on bail.    \n",
       "652            0.800  6 czech hospital employees are charged with hu...   \n",
       "653            2.000            this further aggravated the situation.    \n",
       "\n",
       "                                             sentence2  \n",
       "0                 Last year it was sought to murder.    \n",
       "1    Economists' not against the companies openly u...  \n",
       "2    And, perhaps the most important, Ahmadinejad d...  \n",
       "3                                           All Europe  \n",
       "4    The gay and other practical \"Modern\" are rejec...  \n",
       "..                                                 ...  \n",
       "649  indian and pakistani governments each conducte...  \n",
       "650  iguaran stated that the detainees were also in...  \n",
       "651  1 suspected extremist was provisionally releas...  \n",
       "652  the accused will be charged with international...  \n",
       "653  north korea should not act further to aggravat...  \n",
       "\n",
       "[654 rows x 3 columns]"
      ]
     },
     "execution_count": 88,
     "metadata": {},
     "output_type": "execute_result"
    }
   ],
   "source": [
    "news_raw"
   ]
  },
  {
   "cell_type": "code",
   "execution_count": 127,
   "metadata": {},
   "outputs": [],
   "source": [
    "#calculate for each sentence pair:\n",
    "news_raw['closest_percentile'] = news_raw.apply(lambda row: get_similarity_index(row['sentence1'], row['sentence2'], embedding_matrix=sent_embedding_matrix, sent_all = sent_all), axis = 1)"
   ]
  },
  {
   "cell_type": "code",
   "execution_count": 129,
   "metadata": {},
   "outputs": [],
   "source": [
    "news_raw['closest_percentile'] = 1 - news_raw['closest_percentile']/news_raw[news_raw['closest_percentile'] != np.inf]['closest_percentile'].max()"
   ]
  },
  {
   "cell_type": "code",
   "execution_count": 152,
   "metadata": {},
   "outputs": [
    {
     "data": {
      "text/plain": [
       "<matplotlib.collections.PathCollection at 0x7fec4aaf0250>"
      ]
     },
     "execution_count": 152,
     "metadata": {},
     "output_type": "execute_result"
    },
    {
     "data": {
      "image/png": "[encoded data removed]",
      "text/plain": [
       "<Figure size 1080x720 with 1 Axes>"
      ]
     },
     "metadata": {
      "needs_background": "light"
     },
     "output_type": "display_data"
    }
   ],
   "source": [
    "fig = plt.figure(figsize=(15,10))\n",
    "plt.xlim(0.99,1)\n",
    "plt.scatter(news_raw['closest_percentile'] ,news_raw['SimilarityScore'], alpha = 0.4, s = 500)\n"
   ]
  },
  {
   "cell_type": "code",
   "execution_count": 158,
   "metadata": {},
   "outputs": [],
   "source": [
    "raw_sorted = news_raw.sort_values(by = 'closest_percentile', ascending=False)"
   ]
  },
  {
   "cell_type": "code",
   "execution_count": 237,
   "metadata": {},
   "outputs": [
    {
     "data": {
      "image/png": "[encoded data removed]",
      "text/plain": [
       "<Figure size 720x504 with 1 Axes>"
      ]
     },
     "metadata": {
      "needs_background": "light"
     },
     "output_type": "display_data"
    }
   ],
   "source": [
    "histo_data = news_raw[news_raw['closest_percentile'] >= 0.995]\n",
    "\n",
    "fig, ax = plt.subplots(nrows=1, ncols=1, figsize = (10,7))\n",
    "ax.set_title('Linear normalization')\n",
    "ax.hist2d(histo_data['closest_percentile'], histo_data['SimilarityScore'], bins=20)\n",
    "fig.tight_layout()\n",
    "plt.show()"
   ]
  },
  {
   "cell_type": "code",
   "execution_count": 244,
   "metadata": {},
   "outputs": [],
   "source": [
    "simscore, bins = np.histogram(news_raw['SimilarityScore'], bins = 5)"
   ]
  },
  {
   "cell_type": "code",
   "execution_count": 257,
   "metadata": {},
   "outputs": [],
   "source": [
    "plot_df = pd.DataFrame(news_raw[(news_raw['SimilarityScore'] >= bins[0]) & (news_raw['SimilarityScore'] < bins[1])]['closest_percentile'], columns = ['<1'])\n",
    "i = 1\n",
    "plot_df['<2'] = news_raw[(news_raw['SimilarityScore'] >= bins[i]) & (news_raw['SimilarityScore'] < bins[i+1])]['closest_percentile']\n",
    "i = 2\n",
    "plot_df['<3'] = news_raw[(news_raw['SimilarityScore'] >= bins[i]) & (news_raw['SimilarityScore'] < bins[i+1])]['closest_percentile']\n",
    "i = 3\n",
    "plot_df['<4'] = news_raw[(news_raw['SimilarityScore'] >= bins[i]) & (news_raw['SimilarityScore'] < bins[i+1])]['closest_percentile']\n",
    "i = 4\n",
    "plot_df['<5'] = news_raw[(news_raw['SimilarityScore'] >= bins[i]) & (news_raw['SimilarityScore'] < bins[i+1])]['closest_percentile']\n"
   ]
  },
  {
   "cell_type": "markdown",
   "metadata": {},
   "source": [
    "# Dense NN"
   ]
  },
  {
   "cell_type": "markdown",
   "metadata": {},
   "source": [
    "## Input Preparation"
   ]
  },
  {
   "cell_type": "code",
   "execution_count": 25,
   "metadata": {},
   "outputs": [],
   "source": [
    "#the features are directly the sentence embeddings\n",
    "X = sent_embedding_matrix"
   ]
  },
  {
   "cell_type": "code",
   "execution_count": 26,
   "metadata": {},
   "outputs": [],
   "source": [
    "#SK04\n",
    "def calc_target_per_sent(sentence_per_doc = None, target_original = None):\n",
    "    \n",
    "    current_target_idx = 0\n",
    "    new_target = pd.DataFrame()\n",
    "    for doc in sentence_per_doc:\n",
    "        for sentence in doc:\n",
    "            new_target = new_target.append(target.iloc[current_target_idx:current_target_idx+1])\n",
    "            \n",
    "        current_target_idx += 1\n",
    "\n",
    "        \n",
    "    return new_target.reset_index(drop = True)"
   ]
  },
  {
   "cell_type": "code",
   "execution_count": 27,
   "metadata": {},
   "outputs": [
    {
     "ename": "NameError",
     "evalue": "name 'target' is not defined",
     "output_type": "error",
     "traceback": [
      "\u001b[0;31m---------------------------------------------------------------------------\u001b[0m",
      "\u001b[0;31mNameError\u001b[0m                                 Traceback (most recent call last)",
      "\u001b[0;32m<ipython-input-27-ea61e2ee49af>\u001b[0m in \u001b[0;36m<module>\u001b[0;34m\u001b[0m\n\u001b[0;32m----> 1\u001b[0;31m \u001b[0mtarget\u001b[0m \u001b[0;34m=\u001b[0m \u001b[0mcalc_target_per_sent\u001b[0m\u001b[0;34m(\u001b[0m\u001b[0mdoc_sent_clean\u001b[0m\u001b[0;34m,\u001b[0m \u001b[0mtarget\u001b[0m\u001b[0;34m)\u001b[0m\u001b[0;34m\u001b[0m\u001b[0;34m\u001b[0m\u001b[0m\n\u001b[0m",
      "\u001b[0;31mNameError\u001b[0m: name 'target' is not defined"
     ]
    }
   ],
   "source": [
    "target = calc_target_per_sent(doc_sent_clean, target)"
   ]
  },
  {
   "cell_type": "code",
   "execution_count": 80,
   "metadata": {},
   "outputs": [],
   "source": [
    "# prepare the labels\n",
    "y = pd.get_dummies(target)"
   ]
  },
  {
   "cell_type": "code",
   "execution_count": 81,
   "metadata": {},
   "outputs": [
    {
     "name": "stdout",
     "output_type": "stream",
     "text": [
      "10960\n",
      "10960\n"
     ]
    }
   ],
   "source": [
    "print(len(X))\n",
    "print(len(y))"
   ]
  },
  {
   "cell_type": "code",
   "execution_count": 82,
   "metadata": {},
   "outputs": [
    {
     "data": {
      "text/plain": [
       "array([[ 0.01354711, -0.0289998 , -0.04048988, ..., -0.06766372,\n",
       "         0.25469464,  0.14217183],\n",
       "       [ 0.01354711, -0.0289998 , -0.04048988, ..., -0.06766372,\n",
       "         0.25469464,  0.14217183],\n",
       "       [ 0.01354711, -0.0289998 , -0.04048988, ..., -0.06766372,\n",
       "         0.25469464,  0.14217183],\n",
       "       ...,\n",
       "       [ 0.01354711, -0.0289998 , -0.04048988, ..., -0.06766372,\n",
       "         0.25469464,  0.14217183],\n",
       "       [ 0.01354711, -0.0289998 , -0.04048988, ..., -0.06766372,\n",
       "         0.25469464,  0.14217183],\n",
       "       [ 0.01354711, -0.0289998 , -0.04048988, ..., -0.06766372,\n",
       "         0.25469464,  0.14217183]])"
      ]
     },
     "execution_count": 82,
     "metadata": {},
     "output_type": "execute_result"
    }
   ],
   "source": [
    "X"
   ]
  },
  {
   "cell_type": "code",
   "execution_count": 83,
   "metadata": {},
   "outputs": [],
   "source": [
    "# split in train and test\n",
    "X_train, X_test, y_train, y_test = train_test_split(X, y, test_size=0.1, shuffle=False)"
   ]
  },
  {
   "cell_type": "markdown",
   "metadata": {},
   "source": [
    "## Define and Run Model"
   ]
  },
  {
   "cell_type": "code",
   "execution_count": 91,
   "metadata": {},
   "outputs": [
    {
     "name": "stdout",
     "output_type": "stream",
     "text": [
      "_________________________________________________________________\n",
      "Layer (type)                 Output Shape              Param #   \n",
      "=================================================================\n",
      "dense_4 (Dense)              (None, 100)               30100     \n",
      "_________________________________________________________________\n",
      "dense_5 (Dense)              (None, 12)                1212      \n",
      "=================================================================\n",
      "Total params: 31,312\n",
      "Trainable params: 31,312\n",
      "Non-trainable params: 0\n",
      "_________________________________________________________________\n"
     ]
    }
   ],
   "source": [
    "# init model\n",
    "model = Sequential()\n",
    "# emmbed word vectors\n",
    "# model.add(Embedding(len(model_2.wv.vocab) + 1 ,\n",
    "#                     300,\n",
    "#                     input_length  = X.shape[1],\n",
    "#                     #weights = [embedding_matrix],\n",
    "#                     trainable=False))\n",
    "# learn the correlations\n",
    "#model.add(LSTM(300,return_sequences=False))\n",
    "model.add(Dense(100, input_dim = len(X[0]))) \n",
    "model.add(Dense(12,activation=\"softmax\")) \n",
    "# output model skeleton\n",
    "model.summary()\n",
    "model.compile(optimizer=\"nadam\",loss=\"categorical_crossentropy\",metrics=['acc'])"
   ]
  },
  {
   "cell_type": "code",
   "execution_count": 92,
   "metadata": {},
   "outputs": [
    {
     "name": "stdout",
     "output_type": "stream",
     "text": [
      "WARNING:tensorflow:From /home/sevi/anaconda3/envs/propulsion2020/lib/python3.7/site-packages/tensorflow/python/ops/math_ops.py:3066: to_int32 (from tensorflow.python.ops.math_ops) is deprecated and will be removed in a future version.\n",
      "Instructions for updating:\n",
      "Use tf.cast instead.\n",
      "Epoch 1/50\n",
      "9864/9864 [==============================] - 1s 63us/sample - loss: 2.3804 - acc: 0.1470\n",
      "Epoch 2/50\n",
      "9864/9864 [==============================] - 0s 41us/sample - loss: 2.3753 - acc: 0.1495\n",
      "Epoch 3/50\n",
      "9864/9864 [==============================] - 0s 43us/sample - loss: 2.3711 - acc: 0.1546\n",
      "Epoch 4/50\n",
      "9864/9864 [==============================] - 0s 41us/sample - loss: 2.3693 - acc: 0.1551\n",
      "Epoch 5/50\n",
      "9864/9864 [==============================] - 0s 38us/sample - loss: 2.3682 - acc: 0.1567\n",
      "Epoch 6/50\n",
      "9864/9864 [==============================] - 0s 41us/sample - loss: 2.3675 - acc: 0.1566\n",
      "Epoch 7/50\n",
      "9864/9864 [==============================] - 0s 40us/sample - loss: 2.3662 - acc: 0.1571\n",
      "Epoch 8/50\n",
      "9864/9864 [==============================] - 0s 40us/sample - loss: 2.3643 - acc: 0.1608\n",
      "Epoch 9/50\n",
      "9864/9864 [==============================] - 0s 39us/sample - loss: 2.3649 - acc: 0.1567\n",
      "Epoch 10/50\n",
      "9864/9864 [==============================] - 1s 62us/sample - loss: 2.3644 - acc: 0.1608\n",
      "Epoch 11/50\n",
      "9864/9864 [==============================] - 0s 44us/sample - loss: 2.3634 - acc: 0.1608\n",
      "Epoch 12/50\n",
      "9864/9864 [==============================] - 0s 46us/sample - loss: 2.3642 - acc: 0.1608\n",
      "Epoch 13/50\n",
      "9864/9864 [==============================] - 1s 52us/sample - loss: 2.3634 - acc: 0.1608\n",
      "Epoch 14/50\n",
      "9864/9864 [==============================] - 0s 41us/sample - loss: 2.3641 - acc: 0.1611\n",
      "Epoch 15/50\n",
      "9864/9864 [==============================] - 0s 43us/sample - loss: 2.3632 - acc: 0.1599\n",
      "Epoch 16/50\n",
      "9864/9864 [==============================] - 0s 42us/sample - loss: 2.3634 - acc: 0.1607\n",
      "Epoch 17/50\n",
      "9864/9864 [==============================] - 1s 52us/sample - loss: 2.3637 - acc: 0.1592\n",
      "Epoch 18/50\n",
      "9864/9864 [==============================] - 0s 41us/sample - loss: 2.3629 - acc: 0.1608\n",
      "Epoch 19/50\n",
      "9864/9864 [==============================] - 1s 52us/sample - loss: 2.3622 - acc: 0.1608\n",
      "Epoch 20/50\n",
      "9864/9864 [==============================] - 0s 50us/sample - loss: 2.3631 - acc: 0.1608\n",
      "Epoch 21/50\n",
      "9864/9864 [==============================] - 1s 71us/sample - loss: 2.3630 - acc: 0.1606\n",
      "Epoch 22/50\n",
      "9864/9864 [==============================] - 1s 54us/sample - loss: 2.3628 - acc: 0.1608\n",
      "Epoch 23/50\n",
      "9864/9864 [==============================] - 0s 44us/sample - loss: 2.3627 - acc: 0.1608\n",
      "Epoch 24/50\n",
      "9864/9864 [==============================] - 1s 51us/sample - loss: 2.3631 - acc: 0.1608\n",
      "Epoch 25/50\n",
      "9864/9864 [==============================] - 0s 49us/sample - loss: 2.3620 - acc: 0.1608\n",
      "Epoch 26/50\n",
      "9864/9864 [==============================] - 0s 43us/sample - loss: 2.3630 - acc: 0.1608\n",
      "Epoch 27/50\n",
      "9864/9864 [==============================] - 0s 41us/sample - loss: 2.3626 - acc: 0.1598\n",
      "Epoch 28/50\n",
      "9864/9864 [==============================] - 0s 43us/sample - loss: 2.3635 - acc: 0.1608\n",
      "Epoch 29/50\n",
      "9864/9864 [==============================] - 0s 44us/sample - loss: 2.3631 - acc: 0.1599\n",
      "Epoch 30/50\n",
      "9864/9864 [==============================] - 0s 44us/sample - loss: 2.3627 - acc: 0.1608\n",
      "Epoch 31/50\n",
      "9864/9864 [==============================] - 0s 45us/sample - loss: 2.3623 - acc: 0.1608\n",
      "Epoch 32/50\n",
      "9864/9864 [==============================] - 0s 42us/sample - loss: 2.3623 - acc: 0.1608\n",
      "Epoch 33/50\n",
      "9864/9864 [==============================] - 0s 46us/sample - loss: 2.3625 - acc: 0.1592\n",
      "Epoch 34/50\n",
      "9864/9864 [==============================] - 0s 44us/sample - loss: 2.3628 - acc: 0.1608\n",
      "Epoch 35/50\n",
      "9864/9864 [==============================] - 1s 65us/sample - loss: 2.3622 - acc: 0.1608\n",
      "Epoch 36/50\n",
      "9864/9864 [==============================] - 1s 53us/sample - loss: 2.3632 - acc: 0.1608\n",
      "Epoch 37/50\n",
      "9864/9864 [==============================] - 1s 60us/sample - loss: 2.3630 - acc: 0.1590\n",
      "Epoch 38/50\n",
      "9864/9864 [==============================] - 1s 55us/sample - loss: 2.3627 - acc: 0.1608\n",
      "Epoch 39/50\n",
      "9864/9864 [==============================] - 1s 56us/sample - loss: 2.3626 - acc: 0.1604\n",
      "Epoch 40/50\n",
      "9864/9864 [==============================] - 0s 44us/sample - loss: 2.3627 - acc: 0.1599\n",
      "Epoch 41/50\n",
      "9864/9864 [==============================] - 0s 44us/sample - loss: 2.3630 - acc: 0.1578\n",
      "Epoch 42/50\n",
      "9864/9864 [==============================] - 0s 41us/sample - loss: 2.3626 - acc: 0.1597\n",
      "Epoch 43/50\n",
      "9864/9864 [==============================] - 0s 43us/sample - loss: 2.3621 - acc: 0.1598\n",
      "Epoch 44/50\n",
      "9864/9864 [==============================] - 0s 43us/sample - loss: 2.3621 - acc: 0.1613\n",
      "Epoch 45/50\n",
      "9864/9864 [==============================] - 0s 43us/sample - loss: 2.3620 - acc: 0.1608\n",
      "Epoch 46/50\n",
      "9864/9864 [==============================] - 0s 43us/sample - loss: 2.3634 - acc: 0.1598\n",
      "Epoch 47/50\n",
      "9864/9864 [==============================] - 0s 42us/sample - loss: 2.3626 - acc: 0.1605\n",
      "Epoch 48/50\n",
      "9864/9864 [==============================] - 0s 42us/sample - loss: 2.3629 - acc: 0.1608\n",
      "Epoch 49/50\n",
      "9864/9864 [==============================] - 0s 42us/sample - loss: 2.3626 - acc: 0.1608\n",
      "Epoch 50/50\n",
      "9864/9864 [==============================] - 0s 46us/sample - loss: 2.3625 - acc: 0.1608\n"
     ]
    },
    {
     "data": {
      "text/plain": [
       "<tensorflow.python.keras.callbacks.History at 0x7fee580af2d0>"
      ]
     },
     "execution_count": 92,
     "metadata": {},
     "output_type": "execute_result"
    }
   ],
   "source": [
    "batch = 64\n",
    "epochs = 50\n",
    "model.fit(X_train,y_train,batch,epochs)"
   ]
  },
  {
   "cell_type": "code",
   "execution_count": 93,
   "metadata": {},
   "outputs": [
    {
     "name": "stdout",
     "output_type": "stream",
     "text": [
      "1096/1096 [==============================] - 0s 59us/sample - loss: 2.7316 - acc: 0.0438\n"
     ]
    },
    {
     "data": {
      "text/plain": [
       "[2.7316243892168477, 0.04379562]"
      ]
     },
     "execution_count": 93,
     "metadata": {},
     "output_type": "execute_result"
    }
   ],
   "source": [
    "model.evaluate(X_test,y_test)"
   ]
  },
  {
   "cell_type": "code",
   "execution_count": null,
   "metadata": {},
   "outputs": [],
   "source": []
  }
 ],
 "metadata": {
  "kernelspec": {
   "display_name": "propulsion2020",
   "language": "python",
   "name": "propulsion2020"
  },
  "language_info": {
   "codemirror_mode": {
    "name": "ipython",
    "version": 3
   },
   "file_extension": ".py",
   "mimetype": "text/x-python",
   "name": "python",
   "nbconvert_exporter": "python",
   "pygments_lexer": "ipython3",
   "version": "3.7.7"
  }
 },
 "nbformat": 4,
 "nbformat_minor": 4
}

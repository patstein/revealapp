{
 "cells": [
  {
   "cell_type": "code",
   "execution_count": 2,
   "metadata": {},
   "outputs": [],
   "source": [
    "import PyPDF2\n",
    "import textract\n",
    "import os\n",
    "\n",
    "import numpy as np\n",
    "import pandas as pd\n",
    "\n",
    "import nltk"
   ]
  },
  {
   "cell_type": "code",
   "execution_count": 3,
   "metadata": {},
   "outputs": [],
   "source": [
    "STOP_WORDS = nltk.corpus.stopwords.words('english')"
   ]
  },
  {
   "cell_type": "code",
   "execution_count": 4,
   "metadata": {},
   "outputs": [],
   "source": [
    "# tokenizer function same as in preprocess notebook\n",
    "def tokenize_text(text):\n",
    "    \n",
    "    text_tokenized = nltk.word_tokenize(text)\n",
    "    text_tokenized = [x.lower() for x in text_tokenized]\n",
    "    wordlist = []\n",
    "    for word in text_tokenized: \n",
    "        \n",
    "        if ((word not in STOP_WORDS) and (len(word)>2)):            \n",
    "            wordlist.append(word)\n",
    "        # if not (word.isalnum()):            \n",
    "        # text_tokenized.remove(word)\n",
    "            \n",
    "    return(wordlist)"
   ]
  },
  {
   "cell_type": "code",
   "execution_count": 5,
   "metadata": {},
   "outputs": [],
   "source": [
    "df = pd.read_csv('supreme_court_opinions_2013.csv').drop('Unnamed: 0', axis=1)"
   ]
  },
  {
   "cell_type": "code",
   "execution_count": null,
   "metadata": {},
   "outputs": [],
   "source": [
    "#df['raw text'] = df['raw text'].apply(lambda x: x.replace('\\n-',''))\n",
    "#df['raw text'] = df['raw text'].apply(lambda x: x.replace('\\n',''))"
   ]
  },
  {
   "cell_type": "code",
   "execution_count": 6,
   "metadata": {
    "scrolled": true
   },
   "outputs": [],
   "source": [
    "df['nltk_sentences'] = df['raw text'].apply(lambda x: nltk.sent_tokenize(x))\n",
    "df['nltk_tokenized'] = df['raw text'].apply(lambda x: tokenize_text(x))\n",
    "df['nltk_sentences_tok'] = df['nltk_sentences'].apply(lambda x: [tokenize_text(i) for i in x])"
   ]
  },
  {
   "cell_type": "code",
   "execution_count": 8,
   "metadata": {},
   "outputs": [],
   "source": [
    "save = df.to_csv('..data/preprocessed/supreme_court_opinions_2013_tokenized.csv')"
   ]
  },
  {
   "cell_type": "code",
   "execution_count": 9,
   "metadata": {},
   "outputs": [],
   "source": [
    "df = pd.read_csv('..data/preprocessed/supreme_court_opinions_2013_tokenized.csv', converters={\n",
    "    'nltk_tokenized': eval, \n",
    "    \"nltk_sentences\": eval,\n",
    "    'nltk_sentences_tok': eval\n",
    "    }).drop('Unnamed: 0', axis = 1)"
   ]
  },
  {
   "cell_type": "code",
   "execution_count": 10,
   "metadata": {},
   "outputs": [
    {
     "data": {
      "text/html": [
       "<div>\n",
       "<style scoped>\n",
       "    .dataframe tbody tr th:only-of-type {\n",
       "        vertical-align: middle;\n",
       "    }\n",
       "\n",
       "    .dataframe tbody tr th {\n",
       "        vertical-align: top;\n",
       "    }\n",
       "\n",
       "    .dataframe thead th {\n",
       "        text-align: right;\n",
       "    }\n",
       "</style>\n",
       "<table border=\"1\" class=\"dataframe\">\n",
       "  <thead>\n",
       "    <tr style=\"text-align: right;\">\n",
       "      <th></th>\n",
       "      <th>raw text</th>\n",
       "      <th>nltk_sentences</th>\n",
       "      <th>nltk_tokenized</th>\n",
       "      <th>nltk_sentences_tok</th>\n",
       "    </tr>\n",
       "  </thead>\n",
       "  <tbody>\n",
       "    <tr>\n",
       "      <th>0</th>\n",
       "      <td>\\n           \\n      \\n   \\n     \\n ...</td>\n",
       "      <td>[          \\n           \\n      \\n   \\n     \\n...</td>\n",
       "      <td>[slip, opinion, october, term, 2013, syllabus,...</td>\n",
       "      <td>[[slip, opinion, october, term, 2013, syllabus...</td>\n",
       "    </tr>\n",
       "    <tr>\n",
       "      <th>1</th>\n",
       "      <td>\\n            \\n          1 (Slip Op...</td>\n",
       "      <td>[          \\n            \\n          1 (Slip O...</td>\n",
       "      <td>[slip, opinion, october, term, 2013, syllabus,...</td>\n",
       "      <td>[[slip, opinion, october, term, 2013, syllabus...</td>\n",
       "    </tr>\n",
       "    <tr>\n",
       "      <th>2</th>\n",
       "      <td>\\n         \\n                       ...</td>\n",
       "      <td>[          \\n         \\n                      ...</td>\n",
       "      <td>[slip, opinion, october, term, 2013, syllabus,...</td>\n",
       "      <td>[[slip, opinion, october, term, 2013, syllabus...</td>\n",
       "    </tr>\n",
       "    <tr>\n",
       "      <th>3</th>\n",
       "      <td>\\n              \\n      \\n     1 (Sl...</td>\n",
       "      <td>[          \\n              \\n      \\n     1 (S...</td>\n",
       "      <td>[slip, opinion, october, term, 2013, syllabus,...</td>\n",
       "      <td>[[slip, opinion, october, term, 2013, syllabus...</td>\n",
       "    </tr>\n",
       "    <tr>\n",
       "      <th>4</th>\n",
       "      <td>\\n                             \\n  \\...</td>\n",
       "      <td>[          \\n                             \\n  ...</td>\n",
       "      <td>[slip, opinion, october, term, 2013, syllabus,...</td>\n",
       "      <td>[[slip, opinion, october, term, 2013, syllabus...</td>\n",
       "    </tr>\n",
       "    <tr>\n",
       "      <th>...</th>\n",
       "      <td>...</td>\n",
       "      <td>...</td>\n",
       "      <td>...</td>\n",
       "      <td>...</td>\n",
       "    </tr>\n",
       "    <tr>\n",
       "      <th>67</th>\n",
       "      <td>\\n              \\n  \\n         \\n  1...</td>\n",
       "      <td>[          \\n              \\n  \\n         \\n  ...</td>\n",
       "      <td>[slip, opinion, october, term, 2013, syllabus,...</td>\n",
       "      <td>[[slip, opinion, october, term, 2013, syllabus...</td>\n",
       "    </tr>\n",
       "    <tr>\n",
       "      <th>68</th>\n",
       "      <td>\\n        \\n           1 Cite as: 572 ...</td>\n",
       "      <td>[        \\n        \\n           1 Cite as: 572...</td>\n",
       "      <td>[cite, 572, ____, 2014, per, curiam, supreme, ...</td>\n",
       "      <td>[[cite, 572, ____, 2014, per, curiam, supreme,...</td>\n",
       "    </tr>\n",
       "    <tr>\n",
       "      <th>69</th>\n",
       "      <td>1 Cite as: 572 U. S. ____ (20...</td>\n",
       "      <td>[                 1 Cite as: 572 U. S. ____ (2...</td>\n",
       "      <td>[cite, 572, ____, 2014, per, curiam, supreme, ...</td>\n",
       "      <td>[[cite, 572, ____, 2014, per, curiam, supreme,...</td>\n",
       "    </tr>\n",
       "    <tr>\n",
       "      <th>70</th>\n",
       "      <td>\\n  1 Cite as: 571 U. S. ____ ...</td>\n",
       "      <td>[                \\n  1 Cite as: 571 U. S. ____...</td>\n",
       "      <td>[cite, 571, ____, 2014, per, curiam, supreme, ...</td>\n",
       "      <td>[[cite, 571, ____, 2014, per, curiam, supreme,...</td>\n",
       "    </tr>\n",
       "    <tr>\n",
       "      <th>71</th>\n",
       "      <td>1 Cite as: 573 U. S. ____ (2014) \\nP...</td>\n",
       "      <td>[          1 Cite as: 573 U. S. ____ (2014) \\n...</td>\n",
       "      <td>[cite, 573, ____, 2014, per, curiam, supreme, ...</td>\n",
       "      <td>[[cite, 573, ____, 2014, per, curiam, supreme,...</td>\n",
       "    </tr>\n",
       "  </tbody>\n",
       "</table>\n",
       "<p>72 rows × 4 columns</p>\n",
       "</div>"
      ],
      "text/plain": [
       "                                             raw text  \\\n",
       "0             \\n           \\n      \\n   \\n     \\n ...   \n",
       "1             \\n            \\n          1 (Slip Op...   \n",
       "2             \\n         \\n                       ...   \n",
       "3             \\n              \\n      \\n     1 (Sl...   \n",
       "4             \\n                             \\n  \\...   \n",
       "..                                                ...   \n",
       "67            \\n              \\n  \\n         \\n  1...   \n",
       "68          \\n        \\n           1 Cite as: 572 ...   \n",
       "69                   1 Cite as: 572 U. S. ____ (20...   \n",
       "70                  \\n  1 Cite as: 571 U. S. ____ ...   \n",
       "71            1 Cite as: 573 U. S. ____ (2014) \\nP...   \n",
       "\n",
       "                                       nltk_sentences  \\\n",
       "0   [          \\n           \\n      \\n   \\n     \\n...   \n",
       "1   [          \\n            \\n          1 (Slip O...   \n",
       "2   [          \\n         \\n                      ...   \n",
       "3   [          \\n              \\n      \\n     1 (S...   \n",
       "4   [          \\n                             \\n  ...   \n",
       "..                                                ...   \n",
       "67  [          \\n              \\n  \\n         \\n  ...   \n",
       "68  [        \\n        \\n           1 Cite as: 572...   \n",
       "69  [                 1 Cite as: 572 U. S. ____ (2...   \n",
       "70  [                \\n  1 Cite as: 571 U. S. ____...   \n",
       "71  [          1 Cite as: 573 U. S. ____ (2014) \\n...   \n",
       "\n",
       "                                       nltk_tokenized  \\\n",
       "0   [slip, opinion, october, term, 2013, syllabus,...   \n",
       "1   [slip, opinion, october, term, 2013, syllabus,...   \n",
       "2   [slip, opinion, october, term, 2013, syllabus,...   \n",
       "3   [slip, opinion, october, term, 2013, syllabus,...   \n",
       "4   [slip, opinion, october, term, 2013, syllabus,...   \n",
       "..                                                ...   \n",
       "67  [slip, opinion, october, term, 2013, syllabus,...   \n",
       "68  [cite, 572, ____, 2014, per, curiam, supreme, ...   \n",
       "69  [cite, 572, ____, 2014, per, curiam, supreme, ...   \n",
       "70  [cite, 571, ____, 2014, per, curiam, supreme, ...   \n",
       "71  [cite, 573, ____, 2014, per, curiam, supreme, ...   \n",
       "\n",
       "                                   nltk_sentences_tok  \n",
       "0   [[slip, opinion, october, term, 2013, syllabus...  \n",
       "1   [[slip, opinion, october, term, 2013, syllabus...  \n",
       "2   [[slip, opinion, october, term, 2013, syllabus...  \n",
       "3   [[slip, opinion, october, term, 2013, syllabus...  \n",
       "4   [[slip, opinion, october, term, 2013, syllabus...  \n",
       "..                                                ...  \n",
       "67  [[slip, opinion, october, term, 2013, syllabus...  \n",
       "68  [[cite, 572, ____, 2014, per, curiam, supreme,...  \n",
       "69  [[cite, 572, ____, 2014, per, curiam, supreme,...  \n",
       "70  [[cite, 571, ____, 2014, per, curiam, supreme,...  \n",
       "71  [[cite, 573, ____, 2014, per, curiam, supreme,...  \n",
       "\n",
       "[72 rows x 4 columns]"
      ]
     },
     "execution_count": 10,
     "metadata": {},
     "output_type": "execute_result"
    }
   ],
   "source": [
    "df"
   ]
  }
 ],
 "metadata": {
  "kernelspec": {
   "display_name": "Python Propulsion",
   "language": "python",
   "name": "propulsion"
  },
  "language_info": {
   "codemirror_mode": {
    "name": "ipython",
    "version": 3
   },
   "file_extension": ".py",
   "mimetype": "text/x-python",
   "name": "python",
   "nbconvert_exporter": "python",
   "pygments_lexer": "ipython3",
   "version": "3.7.1"
  }
 },
 "nbformat": 4,
 "nbformat_minor": 2
}

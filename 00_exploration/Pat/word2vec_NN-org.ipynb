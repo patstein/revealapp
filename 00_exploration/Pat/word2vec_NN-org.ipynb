{
 "cells": [
  {
   "cell_type": "code",
   "execution_count": 141,
   "metadata": {},
   "outputs": [],
   "source": [
    "\n",
    "import pandas as pd\n",
    "pd.options.mode.chained_assignment = None \n",
    "import numpy as np\n",
    "import re\n",
    "import nltk\n",
    "import os\n",
    "import smart_open\n",
    "import collections\n",
    "import scipy.stats as stats\n",
    "import tensorflow as tf\n",
    "import gensim\n",
    "\n",
    "from gensim.models.word2vec import Word2Vec\n",
    "from gensim.models.doc2vec import Doc2Vec, TaggedDocument\n",
    "from gensim.test.utils import common_texts\n",
    "from gensim.test.utils import get_tmpfile\n",
    "\n",
    "from tensorflow import keras\n",
    "from tensorflow.keras import Sequential\n",
    "from tensorflow.keras.layers import Embedding, Dense, Flatten, LSTM, Conv1D, Conv2D, GlobalAveragePooling1D,LayerNormalization \n",
    "from tensorflow.keras.layers import Bidirectional, GlobalAveragePooling2D, GlobalAveragePooling3D, BatchNormalization, Dropout\n",
    "from tensorflow.keras.preprocessing.text import Tokenizer\n",
    "from tensorflow.keras.preprocessing.sequence import pad_sequences\n",
    "\n",
    "from sklearn.manifold import TSNE\n",
    "import matplotlib.pyplot as plt\n",
    "%matplotlib inline\n",
    "\n",
    "from nltk import word_tokenize\n",
    "from nltk.stem import PorterStemmer\n",
    "from nltk.stem.snowball import SnowballStemmer\n",
    "\n",
    "from sklearn.model_selection import train_test_split\n",
    "from sklearn.pipeline import Pipeline\n",
    "from sklearn.metrics import classification_report, accuracy_score, confusion_matrix\n",
    "from sklearn.feature_extraction.text import TfidfVectorizer\n",
    "from sklearn.feature_extraction.text import CountVectorizer\n",
    "from sklearn.feature_extraction.text import TfidfTransformer\n",
    "from sklearn.linear_model import SGDClassifier\n",
    "from sklearn.naive_bayes import MultinomialNB\n",
    "#from sklearn.model_selection import GridSearchCV, RandomSearch\n",
    "from sklearn.ensemble import RandomForestClassifier\n",
    "from sklearn import svm, tree\n",
    "import xgboost"
   ]
  },
  {
   "cell_type": "code",
   "execution_count": 9,
   "metadata": {},
   "outputs": [
    {
     "ename": "FileNotFoundError",
     "evalue": "[Errno 2] No such file or directory: '/Users/patrickrs/Documents/GitLab/patrick-steiner/Exercises'",
     "output_type": "error",
     "traceback": [
      "\u001b[0;31m---------------------------------------------------------------------------\u001b[0m",
      "\u001b[0;31mFileNotFoundError\u001b[0m                         Traceback (most recent call last)",
      "\u001b[0;32m<ipython-input-2-a6e6223bc938>\u001b[0m in \u001b[0;36m<module>\u001b[0;34m\u001b[0m\n\u001b[0;32m----> 1\u001b[0;31m \u001b[0mos\u001b[0m\u001b[0;34m.\u001b[0m\u001b[0mchdir\u001b[0m\u001b[0;34m(\u001b[0m\u001b[0;34m'/Users/patrickrs/Documents/GitLab/patrick-steiner/Exercises'\u001b[0m\u001b[0;34m)\u001b[0m\u001b[0;34m\u001b[0m\u001b[0;34m\u001b[0m\u001b[0m\n\u001b[0m\u001b[1;32m      2\u001b[0m \u001b[0mtarget\u001b[0m \u001b[0;34m=\u001b[0m \u001b[0mpd\u001b[0m\u001b[0;34m.\u001b[0m\u001b[0mread_csv\u001b[0m\u001b[0;34m(\u001b[0m\u001b[0;34m'data/train_target.csv'\u001b[0m\u001b[0;34m,\u001b[0m \u001b[0mindex_col\u001b[0m \u001b[0;34m=\u001b[0m \u001b[0;36m0\u001b[0m\u001b[0;34m)\u001b[0m\u001b[0;34m\u001b[0m\u001b[0;34m\u001b[0m\u001b[0m\n\u001b[1;32m      3\u001b[0m \u001b[0mfeatures\u001b[0m \u001b[0;34m=\u001b[0m \u001b[0mpd\u001b[0m\u001b[0;34m.\u001b[0m\u001b[0mread_csv\u001b[0m\u001b[0;34m(\u001b[0m\u001b[0;34m'data/train_features.csv'\u001b[0m\u001b[0;34m,\u001b[0m \u001b[0mindex_col\u001b[0m \u001b[0;34m=\u001b[0m \u001b[0;36m0\u001b[0m\u001b[0;34m)\u001b[0m\u001b[0;34m\u001b[0m\u001b[0;34m\u001b[0m\u001b[0m\n",
      "\u001b[0;31mFileNotFoundError\u001b[0m: [Errno 2] No such file or directory: '/Users/patrickrs/Documents/GitLab/patrick-steiner/Exercises'"
     ]
    }
   ],
   "source": [
    "os.chdir('/Users/patrickrs/Documents/GitLab/patrick-steiner/Exercises')\n",
    "target = pd.read_csv('../data/data/train_target.csv', index_col = 0)\n",
    "features = pd.read_csv('data/train_features.csv', index_col = 0)"
   ]
  },
  {
   "cell_type": "code",
   "execution_count": 10,
   "metadata": {},
   "outputs": [
    {
     "name": "stderr",
     "output_type": "stream",
     "text": [
      "[nltk_data] Downloading package stopwords to\n",
      "[nltk_data]     /Users/patrickrs/nltk_data...\n",
      "[nltk_data]   Package stopwords is already up-to-date!\n"
     ]
    }
   ],
   "source": [
    "#TO DO: Clean the columns (removing missing values)\n",
    "nltk.download('stopwords')\n",
    "STOP_WORDS = nltk.corpus.stopwords.words('english')\n",
    "\n",
    "def clean_sentence(val):\n",
    "    \"remove chars that are not letters or numbers, downcase, then remove stop words\"\n",
    "    regex = re.compile('([^\\s\\w]|_)+')\n",
    "    sentence = regex.sub('', val).lower()\n",
    "    sentence = re.sub(\"xxxx\", \"\", sentence)\n",
    "    sentence = re.sub(\"xxx\", \"\", sentence)\n",
    "    sentence = re.sub(\"xx\", \"\", sentence)\n",
    "    sentence = re.sub(\"\\s\\s+\", \" \", sentence)\n",
    "       \n",
    "    # stemming of words (seems not to affect accuracy, but should make things faster\n",
    "    porter = PorterStemmer()\n",
    "    words = word_tokenize(sentence)\n",
    "    sentence = \" \".join([porter.stem(word) for word in words])\n",
    "      \n",
    "    sentence = sentence.split(\" \")\n",
    "    for word in list(sentence):\n",
    "        if word in STOP_WORDS:\n",
    "            sentence.remove(word)  \n",
    "    sentence = \" \".join(sentence)\n",
    "    \n",
    "    return sentence"
   ]
  },
  {
   "cell_type": "code",
   "execution_count": 11,
   "metadata": {},
   "outputs": [],
   "source": [
    "features['Consumer complaint narrative'] = [clean_sentence(narrative) for narrative in features['Consumer complaint narrative']]"
   ]
  },
  {
   "cell_type": "code",
   "execution_count": 12,
   "metadata": {},
   "outputs": [],
   "source": [
    "features = features['Consumer complaint narrative']"
   ]
  },
  {
   "cell_type": "code",
   "execution_count": 13,
   "metadata": {},
   "outputs": [],
   "source": [
    "#Build Corpus:\n",
    "def build_corpus(data):\n",
    "    \"Creates a list of lists containing words from each sentence\"\n",
    "    corpus = []\n",
    "    for content in data:\n",
    "        corpus_temp = nltk.word_tokenize(content)\n",
    "        corpus.append(corpus_temp)\n",
    "    return corpus\n",
    "\n",
    "corpus = build_corpus(features)"
   ]
  },
  {
   "cell_type": "code",
   "execution_count": 14,
   "metadata": {},
   "outputs": [
    {
     "name": "stderr",
     "output_type": "stream",
     "text": [
      "/Users/patrickrs/.conda/envs/pre-work/lib/python3.7/site-packages/ipykernel_launcher.py:11: DeprecationWarning: Call to deprecated `iter` (Attribute will be removed in 4.0.0, use self.epochs instead).\n",
      "  # This is added back by InteractiveShellApp.init_path()\n"
     ]
    },
    {
     "data": {
      "text/plain": [
       "(12849371, 12874500)"
      ]
     },
     "execution_count": 14,
     "metadata": {},
     "output_type": "execute_result"
    }
   ],
   "source": [
    "# Importing pre-trained model, updating vocab \n",
    "# and training the model (takes long to run)\n",
    "model_2 = Word2Vec(size=300, min_count=1)\n",
    "model_2.build_vocab(corpus)\n",
    "total_examples = model_2.corpus_count\n",
    "model_pt = gensim.models.KeyedVectors.load_word2vec_format('/Users/patrickrs/Documents/Gitlab/patrick-steiner/revealapp/00_exploration/Pat/GoogleNews-vectors-negative300.bin', binary=True)\n",
    "model_2.build_vocab([list(model_pt.vocab.keys())], update=True)\n",
    "model_2.intersect_word2vec_format('/Users/patrickrs/Documents/Gitlab/patrick-steiner/revealapp/00_exploration/Pat/GoogleNews-vectors-negative300.bin', binary=True, lockf=1.0)\n",
    "# intersect_word2vec_format() will let you bring vectors from an external file into a model that's already had its own vocabulary initialized\n",
    "# see https://tedboy.github.io/nlps/generated/generated/gensim.models.Word2Vec.intersect_word2vec_format.html\n",
    "model_2.train(corpus, total_examples=total_examples, epochs=model_2.iter)"
   ]
  },
  {
   "cell_type": "code",
   "execution_count": 15,
   "metadata": {},
   "outputs": [],
   "source": [
    "embedding_matrix = np.zeros((len(model_2.wv.vocab) + 1, 300))\n",
    "for i, vec in enumerate(model_2.wv.vectors):\n",
    "  embedding_matrix[i] = vec"
   ]
  },
  {
   "cell_type": "code",
   "execution_count": 16,
   "metadata": {},
   "outputs": [],
   "source": [
    "feature_size = 500\n",
    "tokenizer = Tokenizer(num_words = feature_size)\n",
    "# fit the tokenizer on our text\n",
    "tokenizer.fit_on_texts(features)"
   ]
  },
  {
   "cell_type": "code",
   "execution_count": 17,
   "metadata": {},
   "outputs": [],
   "source": [
    "# get all words that the tokenizer knows\n",
    "word_index = tokenizer.word_index"
   ]
  },
  {
   "cell_type": "code",
   "execution_count": 18,
   "metadata": {},
   "outputs": [],
   "source": [
    "# put the tokens in a matrix\n",
    "X = tokenizer.texts_to_sequences(features)\n",
    "X = pad_sequences(X)"
   ]
  },
  {
   "cell_type": "code",
   "execution_count": 19,
   "metadata": {},
   "outputs": [],
   "source": [
    "# prepare the labels\n",
    "y = pd.get_dummies(target)"
   ]
  },
  {
   "cell_type": "code",
   "execution_count": 20,
   "metadata": {},
   "outputs": [],
   "source": [
    "# split in train and test\n",
    "X_train, X_test, y_train, y_test = train_test_split(X, y, test_size=0.1, shuffle=False)"
   ]
  },
  {
   "cell_type": "markdown",
   "metadata": {},
   "source": [
    "# 1st Model: Google W2V, LSTM-300 + Dense-12"
   ]
  },
  {
   "cell_type": "code",
   "execution_count": 21,
   "metadata": {},
   "outputs": [
    {
     "name": "stdout",
     "output_type": "stream",
     "text": [
      "WARNING:tensorflow:From /Users/patrickrs/.conda/envs/pre-work/lib/python3.7/site-packages/tensorflow/python/ops/resource_variable_ops.py:435: colocate_with (from tensorflow.python.framework.ops) is deprecated and will be removed in a future version.\n",
      "Instructions for updating:\n",
      "Colocations handled automatically by placer.\n",
      "_________________________________________________________________\n",
      "Layer (type)                 Output Shape              Param #   \n",
      "=================================================================\n",
      "embedding (Embedding)        (None, 1892, 300)         905363400 \n",
      "_________________________________________________________________\n",
      "lstm (LSTM)                  (None, 300)               721200    \n",
      "_________________________________________________________________\n",
      "dense (Dense)                (None, 12)                3612      \n",
      "=================================================================\n",
      "Total params: 906,088,212\n",
      "Trainable params: 724,812\n",
      "Non-trainable params: 905,363,400\n",
      "_________________________________________________________________\n"
     ]
    }
   ],
   "source": [
    "# init model\n",
    "model = Sequential()\n",
    "# emmbed word vectors\n",
    "model.add(Embedding(len(model_2.wv.vocab) + 1 ,\n",
    "                    300,\n",
    "                    input_length  = X.shape[1],\n",
    "                    weights = [embedding_matrix],\n",
    "                    trainable=False))\n",
    "# learn the correlations\n",
    "model.add(LSTM(300,return_sequences=False))\n",
    "model.add(Dense(12,activation=\"softmax\")) \n",
    "# output model skeleton\n",
    "model.summary()\n",
    "model.compile(optimizer=\"nadam\",loss=\"categorical_crossentropy\",metrics=['acc'])"
   ]
  },
  {
   "cell_type": "code",
   "execution_count": 22,
   "metadata": {},
   "outputs": [
    {
     "name": "stdout",
     "output_type": "stream",
     "text": [
      "WARNING:tensorflow:From /Users/patrickrs/.conda/envs/pre-work/lib/python3.7/site-packages/tensorflow/python/ops/math_ops.py:3066: to_int32 (from tensorflow.python.ops.math_ops) is deprecated and will be removed in a future version.\n",
      "Instructions for updating:\n",
      "Use tf.cast instead.\n",
      "Epoch 1/12\n",
      "21600/21600 [==============================] - 7163s 332ms/sample - loss: 2.3766 - acc: 0.1551\n",
      "Epoch 2/12\n",
      "21600/21600 [==============================] - 6870s 318ms/sample - loss: 1.9686 - acc: 0.2972\n",
      "Epoch 3/12\n",
      "21600/21600 [==============================] - 6740s 312ms/sample - loss: 1.7790 - acc: 0.3624\n",
      "Epoch 4/12\n",
      "21600/21600 [==============================] - 7460s 345ms/sample - loss: 1.6955 - acc: 0.3931\n",
      "Epoch 5/12\n",
      "21600/21600 [==============================] - 6896s 319ms/sample - loss: 1.6937 - acc: 0.3914\n",
      "Epoch 6/12\n",
      "21600/21600 [==============================] - 6610s 306ms/sample - loss: 1.6336 - acc: 0.4055\n",
      "Epoch 7/12\n",
      "21600/21600 [==============================] - 6627s 307ms/sample - loss: 1.5396 - acc: 0.4344\n",
      "Epoch 8/12\n",
      "21600/21600 [==============================] - 6619s 306ms/sample - loss: 1.4767 - acc: 0.4607\n",
      "Epoch 9/12\n",
      "21600/21600 [==============================] - 6612s 306ms/sample - loss: 1.4291 - acc: 0.4750\n",
      "Epoch 10/12\n",
      "21600/21600 [==============================] - 6506s 301ms/sample - loss: 1.4035 - acc: 0.4859\n",
      "Epoch 11/12\n",
      "21600/21600 [==============================] - 6516s 302ms/sample - loss: 1.3742 - acc: 0.4967\n",
      "Epoch 12/12\n",
      "21600/21600 [==============================] - 6933s 321ms/sample - loss: 1.3488 - acc: 0.5072\n"
     ]
    },
    {
     "data": {
      "text/plain": [
       "<tensorflow.python.keras.callbacks.History at 0x1b7a07c9d0>"
      ]
     },
     "execution_count": 22,
     "metadata": {},
     "output_type": "execute_result"
    }
   ],
   "source": [
    "batch = 64\n",
    "epochs = 12\n",
    "model.fit(X_train,y_train,batch,epochs)"
   ]
  },
  {
   "cell_type": "code",
   "execution_count": 23,
   "metadata": {},
   "outputs": [
    {
     "name": "stdout",
     "output_type": "stream",
     "text": [
      "2400/2400 [==============================] - 156s 65ms/sample - loss: 1.4867 - acc: 0.4533\n"
     ]
    },
    {
     "data": {
      "text/plain": [
       "[1.4866717847188313, 0.45333335]"
      ]
     },
     "execution_count": 23,
     "metadata": {},
     "output_type": "execute_result"
    }
   ],
   "source": [
    "model.evaluate(X_test,y_test)"
   ]
  },
  {
   "cell_type": "code",
   "execution_count": 25,
   "metadata": {},
   "outputs": [
    {
     "name": "stdout",
     "output_type": "stream",
     "text": [
      "Epoch 1/12\n",
      "21600/21600 [==============================] - 6924s 321ms/sample - loss: 1.3272 - acc: 0.5113\n",
      "Epoch 2/12\n",
      "21600/21600 [==============================] - 6593s 305ms/sample - loss: 1.3199 - acc: 0.5189\n",
      "Epoch 3/12\n",
      "21600/21600 [==============================] - 6574s 304ms/sample - loss: 1.2796 - acc: 0.5251\n",
      "Epoch 4/12\n",
      "21600/21600 [==============================] - 6680s 309ms/sample - loss: 1.2594 - acc: 0.5329\n",
      "Epoch 5/12\n",
      "21600/21600 [==============================] - 6706s 310ms/sample - loss: 1.2470 - acc: 0.5393\n",
      "Epoch 6/12\n",
      "21600/21600 [==============================] - 6654s 308ms/sample - loss: 1.2331 - acc: 0.5409\n",
      "Epoch 7/12\n",
      "21600/21600 [==============================] - 6668s 309ms/sample - loss: 1.2212 - acc: 0.5476\n",
      "Epoch 8/12\n",
      "21600/21600 [==============================] - 6677s 309ms/sample - loss: 1.1907 - acc: 0.5590\n",
      "Epoch 9/12\n",
      "21600/21600 [==============================] - 6693s 310ms/sample - loss: 1.1746 - acc: 0.5633\n",
      "Epoch 10/12\n",
      "21600/21600 [==============================] - 6665s 309ms/sample - loss: 1.1694 - acc: 0.5692\n",
      "Epoch 11/12\n",
      "21600/21600 [==============================] - 6663s 308ms/sample - loss: 1.1433 - acc: 0.5756\n",
      "Epoch 12/12\n",
      "21600/21600 [==============================] - 6658s 308ms/sample - loss: 1.1430 - acc: 0.5774\n"
     ]
    },
    {
     "data": {
      "text/plain": [
       "<tensorflow.python.keras.callbacks.History at 0x1a4a471ed0>"
      ]
     },
     "execution_count": 25,
     "metadata": {},
     "output_type": "execute_result"
    }
   ],
   "source": [
    "model.fit(X_train,y_train,batch,epochs)"
   ]
  },
  {
   "cell_type": "code",
   "execution_count": 26,
   "metadata": {},
   "outputs": [
    {
     "name": "stdout",
     "output_type": "stream",
     "text": [
      "2400/2400 [==============================] - 155s 65ms/sample - loss: 1.3544 - acc: 0.5038\n"
     ]
    },
    {
     "data": {
      "text/plain": [
       "[1.3544303011894225, 0.50375]"
      ]
     },
     "execution_count": 26,
     "metadata": {},
     "output_type": "execute_result"
    }
   ],
   "source": [
    "model.evaluate(X_test,y_test)"
   ]
  },
  {
   "cell_type": "code",
   "execution_count": 27,
   "metadata": {},
   "outputs": [
    {
     "name": "stdout",
     "output_type": "stream",
     "text": [
      "Epoch 1/6\n",
      "21600/21600 [==============================] - 6815s 315ms/sample - loss: 1.1255 - acc: 0.5824\n",
      "Epoch 2/6\n",
      "21600/21600 [==============================] - 6596s 305ms/sample - loss: 1.1135 - acc: 0.5884\n",
      "Epoch 3/6\n",
      "21600/21600 [==============================] - 6570s 304ms/sample - loss: 1.1213 - acc: 0.5843\n",
      "Epoch 4/6\n",
      "21600/21600 [==============================] - 6565s 304ms/sample - loss: 1.0982 - acc: 0.5920\n",
      "Epoch 5/6\n",
      "21600/21600 [==============================] - 6556s 304ms/sample - loss: 1.0928 - acc: 0.5933\n",
      "Epoch 6/6\n",
      "21600/21600 [==============================] - 6555s 303ms/sample - loss: 1.1873 - acc: 0.5651\n"
     ]
    },
    {
     "data": {
      "text/plain": [
       "<tensorflow.python.keras.callbacks.History at 0x1a4a486f50>"
      ]
     },
     "execution_count": 27,
     "metadata": {},
     "output_type": "execute_result"
    }
   ],
   "source": [
    "model.fit(X_train,y_train,batch,6)"
   ]
  },
  {
   "cell_type": "code",
   "execution_count": 30,
   "metadata": {},
   "outputs": [
    {
     "name": "stdout",
     "output_type": "stream",
     "text": [
      "2400/2400 [==============================] - 165s 69ms/sample - loss: 1.3413 - acc: 0.5167\n"
     ]
    },
    {
     "data": {
      "text/plain": [
       "[1.341325387954712, 0.51666665]"
      ]
     },
     "execution_count": 30,
     "metadata": {},
     "output_type": "execute_result"
    }
   ],
   "source": [
    "model.evaluate(X_test,y_test)"
   ]
  },
  {
   "cell_type": "markdown",
   "metadata": {},
   "source": [
    "# 2nd Model: Google W2V, 3x Dense 500"
   ]
  },
  {
   "cell_type": "code",
   "execution_count": 142,
   "metadata": {},
   "outputs": [
    {
     "name": "stdout",
     "output_type": "stream",
     "text": [
      "_________________________________________________________________\n",
      "Layer (type)                 Output Shape              Param #   \n",
      "=================================================================\n",
      "embedding_11 (Embedding)     (None, 1892, 300)         905363400 \n",
      "_________________________________________________________________\n",
      "flatten (Flatten)            (None, 567600)            0         \n",
      "_________________________________________________________________\n",
      "dense_16 (Dense)             (None, 500)               283800500 \n",
      "_________________________________________________________________\n",
      "dropout_4 (Dropout)          (None, 500)               0         \n",
      "_________________________________________________________________\n",
      "batch_normalization_v1_4 (Ba (None, 500)               2000      \n",
      "_________________________________________________________________\n",
      "dense_17 (Dense)             (None, 500)               250500    \n",
      "_________________________________________________________________\n",
      "dropout_5 (Dropout)          (None, 500)               0         \n",
      "_________________________________________________________________\n",
      "batch_normalization_v1_5 (Ba (None, 500)               2000      \n",
      "_________________________________________________________________\n",
      "dense_18 (Dense)             (None, 500)               250500    \n",
      "_________________________________________________________________\n",
      "dense_19 (Dense)             (None, 12)                6012      \n",
      "=================================================================\n",
      "Total params: 1,189,674,912\n",
      "Trainable params: 284,309,512\n",
      "Non-trainable params: 905,365,400\n",
      "_________________________________________________________________\n"
     ]
    }
   ],
   "source": [
    "# init model\n",
    "model2 = Sequential()\n",
    "# emmbed word vectors\n",
    "model2.add(Embedding(len(model_2.wv.vocab) + 1 ,\n",
    "                    300,\n",
    "                    input_length  = X.shape[1],\n",
    "                    weights = [embedding_matrix],\n",
    "                    trainable=False))\n",
    "# learn the correlations\n",
    "model2.add(Flatten())\n",
    "model2.add(Dense(500, activation='relu')) # relu was not so great\n",
    "model2.add(Dropout(0.5))\n",
    "model2.add(BatchNormalization())\n",
    "model2.add(Dense(500, activation='relu'))\n",
    "model2.add(Dropout(0.5))\n",
    "model2.add(BatchNormalization()) \n",
    "model2.add(Dense(500, activation='relu'))\n",
    "model2.add(Dense(12,activation=\"softmax\")) \n",
    "# output model skeleton\n",
    "model2.summary()"
   ]
  },
  {
   "cell_type": "code",
   "execution_count": 68,
   "metadata": {
    "jupyter": {
     "source_hidden": true
    }
   },
   "outputs": [],
   "source": [
    "def change_to_right(wrong_labels):\n",
    "    right_labels=[]\n",
    "    for x in wrong_labels:\n",
    "        for i in range(0,len(wrong_labels[0])):\n",
    "            if x[i]==1:\n",
    "                right_labels.append(i+1)\n",
    "    return right_labels"
   ]
  },
  {
   "cell_type": "code",
   "execution_count": 51,
   "metadata": {
    "collapsed": true,
    "jupyter": {
     "outputs_hidden": true
    }
   },
   "outputs": [
    {
     "ename": "AttributeError",
     "evalue": "module 'tensorflow._api.v1.keras.optimizers' has no attribute 'schedules'",
     "output_type": "error",
     "traceback": [
      "\u001b[0;31m---------------------------------------------------------------------------\u001b[0m",
      "\u001b[0;31mAttributeError\u001b[0m                            Traceback (most recent call last)",
      "\u001b[0;32m<ipython-input-51-96301e2bfac9>\u001b[0m in \u001b[0;36m<module>\u001b[0;34m\u001b[0m\n\u001b[1;32m      1\u001b[0m \u001b[0;31m# Learning rate schedule\u001b[0m\u001b[0;34m\u001b[0m\u001b[0;34m\u001b[0m\u001b[0;34m\u001b[0m\u001b[0m\n\u001b[1;32m      2\u001b[0m \u001b[0minitial_learning_rate\u001b[0m \u001b[0;34m=\u001b[0m \u001b[0;36m0.1\u001b[0m\u001b[0;34m\u001b[0m\u001b[0;34m\u001b[0m\u001b[0m\n\u001b[0;32m----> 3\u001b[0;31m lr_schedule = keras.optimizers.schedules.ExponentialDecay(\n\u001b[0m\u001b[1;32m      4\u001b[0m     \u001b[0minitial_learning_rate\u001b[0m\u001b[0;34m,\u001b[0m\u001b[0;34m\u001b[0m\u001b[0;34m\u001b[0m\u001b[0m\n\u001b[1;32m      5\u001b[0m     \u001b[0mdecay_steps\u001b[0m\u001b[0;34m=\u001b[0m\u001b[0;36m100000\u001b[0m\u001b[0;34m,\u001b[0m\u001b[0;34m\u001b[0m\u001b[0;34m\u001b[0m\u001b[0m\n",
      "\u001b[0;31mAttributeError\u001b[0m: module 'tensorflow._api.v1.keras.optimizers' has no attribute 'schedules'"
     ]
    }
   ],
   "source": [
    "# Learning rate schedule\n",
    "initial_learning_rate = 0.1\n",
    "lr_schedule = keras.optimizers.schedules.ExponentialDecay(\n",
    "    initial_learning_rate,\n",
    "    decay_steps=100000,\n",
    "    decay_rate=0.96,\n",
    "    staircase=True)"
   ]
  },
  {
   "cell_type": "code",
   "execution_count": 143,
   "metadata": {},
   "outputs": [],
   "source": [
    "model2.compile(optimizer=keras.optimizers.Nadam(lr=0.01),\n",
    "               loss=\"mse\", # Use sparse categorical crossentropy when your classes are mutually exclusive (e.g. when each sample belongs exactly to one class) and categorical crossentropy when one sample can have multiple classes or labels are soft probabilities (like [0.5, 0.3, 0.2]).\n",
    "               metrics=['acc']\n",
    "              )"
   ]
  },
  {
   "cell_type": "code",
   "execution_count": 144,
   "metadata": {},
   "outputs": [],
   "source": [
    "callbacks = [\n",
    "    keras.callbacks.EarlyStopping(\n",
    "        restore_best_weights=True,\n",
    "        # Stop training when `val_loss` is no longer improving\n",
    "        monitor='val_loss',\n",
    "        # \"no longer improving\" being defined as \"no better than 1e-2 less\"\n",
    "        min_delta=1e-2,\n",
    "        # \"no longer improving\" being further defined as \"for at least 10 epochs\"\n",
    "        patience=10,\n",
    "        verbose=1)\n",
    "            ]"
   ]
  },
  {
   "cell_type": "code",
   "execution_count": 137,
   "metadata": {},
   "outputs": [],
   "source": [
    "keras.utils.plot_model(model, show_shapes=True)"
   ]
  },
  {
   "cell_type": "code",
   "execution_count": 145,
   "metadata": {},
   "outputs": [
    {
     "name": "stdout",
     "output_type": "stream",
     "text": [
      "Train on 21600 samples, validate on 2400 samples\n",
      "Epoch 1/100\n",
      "21600/21600 [==============================] - 200s 9ms/sample - loss: 0.0975 - acc: 0.0841 - val_loss: 0.0946 - val_acc: 0.0821\n",
      "Epoch 2/100\n",
      "21600/21600 [==============================] - 193s 9ms/sample - loss: 0.0775 - acc: 0.0864 - val_loss: 0.0788 - val_acc: 0.0908\n",
      "Epoch 3/100\n",
      "21600/21600 [==============================] - 199s 9ms/sample - loss: 0.0765 - acc: 0.0836 - val_loss: 0.0764 - val_acc: 0.0775\n",
      "Epoch 4/100\n",
      "21600/21600 [==============================] - 180s 8ms/sample - loss: 0.0764 - acc: 0.0825 - val_loss: 0.0764 - val_acc: 0.0796\n",
      "Epoch 5/100\n",
      "21600/21600 [==============================] - 181s 8ms/sample - loss: 0.0764 - acc: 0.0816 - val_loss: 0.0764 - val_acc: 0.0779\n",
      "Epoch 6/100\n",
      " 5080/21600 [======>.......................] - ETA: 2:13 - loss: 0.0764 - acc: 0.0856"
     ]
    },
    {
     "ename": "KeyboardInterrupt",
     "evalue": "",
     "output_type": "error",
     "traceback": [
      "\u001b[0;31m---------------------------------------------------------------------------\u001b[0m",
      "\u001b[0;31mKeyboardInterrupt\u001b[0m                         Traceback (most recent call last)",
      "\u001b[0;32m<ipython-input-145-d3957aa6e32f>\u001b[0m in \u001b[0;36m<module>\u001b[0;34m\u001b[0m\n\u001b[1;32m      5\u001b[0m                      \u001b[0mepochs\u001b[0m \u001b[0;34m=\u001b[0m \u001b[0mepochs\u001b[0m\u001b[0;34m,\u001b[0m\u001b[0;34m\u001b[0m\u001b[0;34m\u001b[0m\u001b[0m\n\u001b[1;32m      6\u001b[0m                      \u001b[0mcallbacks\u001b[0m\u001b[0;34m=\u001b[0m\u001b[0mcallbacks\u001b[0m\u001b[0;34m,\u001b[0m\u001b[0;34m\u001b[0m\u001b[0;34m\u001b[0m\u001b[0m\n\u001b[0;32m----> 7\u001b[0;31m                      \u001b[0mvalidation_data\u001b[0m \u001b[0;34m=\u001b[0m \u001b[0;34m(\u001b[0m\u001b[0mX_test\u001b[0m\u001b[0;34m,\u001b[0m \u001b[0my_test\u001b[0m\u001b[0;34m)\u001b[0m\u001b[0;34m\u001b[0m\u001b[0;34m\u001b[0m\u001b[0m\n\u001b[0m\u001b[1;32m      8\u001b[0m                     )\n",
      "\u001b[0;32m~/.conda/envs/pre-work/lib/python3.7/site-packages/tensorflow/python/keras/engine/training.py\u001b[0m in \u001b[0;36mfit\u001b[0;34m(self, x, y, batch_size, epochs, verbose, callbacks, validation_split, validation_data, shuffle, class_weight, sample_weight, initial_epoch, steps_per_epoch, validation_steps, max_queue_size, workers, use_multiprocessing, **kwargs)\u001b[0m\n\u001b[1;32m    878\u001b[0m           \u001b[0minitial_epoch\u001b[0m\u001b[0;34m=\u001b[0m\u001b[0minitial_epoch\u001b[0m\u001b[0;34m,\u001b[0m\u001b[0;34m\u001b[0m\u001b[0;34m\u001b[0m\u001b[0m\n\u001b[1;32m    879\u001b[0m           \u001b[0msteps_per_epoch\u001b[0m\u001b[0;34m=\u001b[0m\u001b[0msteps_per_epoch\u001b[0m\u001b[0;34m,\u001b[0m\u001b[0;34m\u001b[0m\u001b[0;34m\u001b[0m\u001b[0m\n\u001b[0;32m--> 880\u001b[0;31m           validation_steps=validation_steps)\n\u001b[0m\u001b[1;32m    881\u001b[0m \u001b[0;34m\u001b[0m\u001b[0m\n\u001b[1;32m    882\u001b[0m   def evaluate(self,\n",
      "\u001b[0;32m~/.conda/envs/pre-work/lib/python3.7/site-packages/tensorflow/python/keras/engine/training_arrays.py\u001b[0m in \u001b[0;36mmodel_iteration\u001b[0;34m(model, inputs, targets, sample_weights, batch_size, epochs, verbose, callbacks, val_inputs, val_targets, val_sample_weights, shuffle, initial_epoch, steps_per_epoch, validation_steps, mode, validation_in_fit, **kwargs)\u001b[0m\n\u001b[1;32m    327\u001b[0m \u001b[0;34m\u001b[0m\u001b[0m\n\u001b[1;32m    328\u001b[0m         \u001b[0;31m# Get outputs.\u001b[0m\u001b[0;34m\u001b[0m\u001b[0;34m\u001b[0m\u001b[0;34m\u001b[0m\u001b[0m\n\u001b[0;32m--> 329\u001b[0;31m         \u001b[0mbatch_outs\u001b[0m \u001b[0;34m=\u001b[0m \u001b[0mf\u001b[0m\u001b[0;34m(\u001b[0m\u001b[0mins_batch\u001b[0m\u001b[0;34m)\u001b[0m\u001b[0;34m\u001b[0m\u001b[0;34m\u001b[0m\u001b[0m\n\u001b[0m\u001b[1;32m    330\u001b[0m         \u001b[0;32mif\u001b[0m \u001b[0;32mnot\u001b[0m \u001b[0misinstance\u001b[0m\u001b[0;34m(\u001b[0m\u001b[0mbatch_outs\u001b[0m\u001b[0;34m,\u001b[0m \u001b[0mlist\u001b[0m\u001b[0;34m)\u001b[0m\u001b[0;34m:\u001b[0m\u001b[0;34m\u001b[0m\u001b[0;34m\u001b[0m\u001b[0m\n\u001b[1;32m    331\u001b[0m           \u001b[0mbatch_outs\u001b[0m \u001b[0;34m=\u001b[0m \u001b[0;34m[\u001b[0m\u001b[0mbatch_outs\u001b[0m\u001b[0;34m]\u001b[0m\u001b[0;34m\u001b[0m\u001b[0;34m\u001b[0m\u001b[0m\n",
      "\u001b[0;32m~/.conda/envs/pre-work/lib/python3.7/site-packages/tensorflow/python/keras/backend.py\u001b[0m in \u001b[0;36m__call__\u001b[0;34m(self, inputs)\u001b[0m\n\u001b[1;32m   3074\u001b[0m \u001b[0;34m\u001b[0m\u001b[0m\n\u001b[1;32m   3075\u001b[0m     fetched = self._callable_fn(*array_vals,\n\u001b[0;32m-> 3076\u001b[0;31m                                 run_metadata=self.run_metadata)\n\u001b[0m\u001b[1;32m   3077\u001b[0m     \u001b[0mself\u001b[0m\u001b[0;34m.\u001b[0m\u001b[0m_call_fetch_callbacks\u001b[0m\u001b[0;34m(\u001b[0m\u001b[0mfetched\u001b[0m\u001b[0;34m[\u001b[0m\u001b[0;34m-\u001b[0m\u001b[0mlen\u001b[0m\u001b[0;34m(\u001b[0m\u001b[0mself\u001b[0m\u001b[0;34m.\u001b[0m\u001b[0m_fetches\u001b[0m\u001b[0;34m)\u001b[0m\u001b[0;34m:\u001b[0m\u001b[0;34m]\u001b[0m\u001b[0;34m)\u001b[0m\u001b[0;34m\u001b[0m\u001b[0;34m\u001b[0m\u001b[0m\n\u001b[1;32m   3078\u001b[0m     return nest.pack_sequence_as(self._outputs_structure,\n",
      "\u001b[0;32m~/.conda/envs/pre-work/lib/python3.7/site-packages/tensorflow/python/client/session.py\u001b[0m in \u001b[0;36m__call__\u001b[0;34m(self, *args, **kwargs)\u001b[0m\n\u001b[1;32m   1437\u001b[0m           ret = tf_session.TF_SessionRunCallable(\n\u001b[1;32m   1438\u001b[0m               \u001b[0mself\u001b[0m\u001b[0;34m.\u001b[0m\u001b[0m_session\u001b[0m\u001b[0;34m.\u001b[0m\u001b[0m_session\u001b[0m\u001b[0;34m,\u001b[0m \u001b[0mself\u001b[0m\u001b[0;34m.\u001b[0m\u001b[0m_handle\u001b[0m\u001b[0;34m,\u001b[0m \u001b[0margs\u001b[0m\u001b[0;34m,\u001b[0m \u001b[0mstatus\u001b[0m\u001b[0;34m,\u001b[0m\u001b[0;34m\u001b[0m\u001b[0;34m\u001b[0m\u001b[0m\n\u001b[0;32m-> 1439\u001b[0;31m               run_metadata_ptr)\n\u001b[0m\u001b[1;32m   1440\u001b[0m         \u001b[0;32mif\u001b[0m \u001b[0mrun_metadata\u001b[0m\u001b[0;34m:\u001b[0m\u001b[0;34m\u001b[0m\u001b[0;34m\u001b[0m\u001b[0m\n\u001b[1;32m   1441\u001b[0m           \u001b[0mproto_data\u001b[0m \u001b[0;34m=\u001b[0m \u001b[0mtf_session\u001b[0m\u001b[0;34m.\u001b[0m\u001b[0mTF_GetBuffer\u001b[0m\u001b[0;34m(\u001b[0m\u001b[0mrun_metadata_ptr\u001b[0m\u001b[0;34m)\u001b[0m\u001b[0;34m\u001b[0m\u001b[0;34m\u001b[0m\u001b[0m\n",
      "\u001b[0;31mKeyboardInterrupt\u001b[0m: "
     ]
    }
   ],
   "source": [
    "batch = 256\n",
    "epochs = 100\n",
    "history = model2.fit(X_train, y_train, \n",
    "                     batch, \n",
    "                     epochs = epochs, \n",
    "                     callbacks=callbacks,\n",
    "                     validation_data = (X_test, y_test)\n",
    "                    )"
   ]
  },
  {
   "cell_type": "markdown",
   "metadata": {},
   "source": [
    "# Model 3: Google W2V, LSTM 64, Dense 64"
   ]
  },
  {
   "cell_type": "code",
   "execution_count": 152,
   "metadata": {},
   "outputs": [
    {
     "name": "stdout",
     "output_type": "stream",
     "text": [
      "_________________________________________________________________\n",
      "Layer (type)                 Output Shape              Param #   \n",
      "=================================================================\n",
      "embedding_12 (Embedding)     (None, 1892, 300)         905363400 \n",
      "_________________________________________________________________\n",
      "lstm_1 (LSTM)                (None, 64)                93440     \n",
      "_________________________________________________________________\n",
      "dense_20 (Dense)             (None, 64)                4160      \n",
      "_________________________________________________________________\n",
      "dense_21 (Dense)             (None, 12)                780       \n",
      "=================================================================\n",
      "Total params: 905,461,780\n",
      "Trainable params: 98,380\n",
      "Non-trainable params: 905,363,400\n",
      "_________________________________________________________________\n"
     ]
    }
   ],
   "source": [
    "# that didn't work well. Let's try a small LSTM combined with a dense layer\n",
    "model3 = Sequential()\n",
    "# emmbed word vectors\n",
    "model3.add(Embedding(len(model_2.wv.vocab) + 1 ,\n",
    "                    300,\n",
    "                    input_length  = X.shape[1],\n",
    "                    weights = [embedding_matrix],\n",
    "                    trainable=False))\n",
    "# learn the correlations\n",
    "model3.add(LSTM(64))\n",
    "model3.add(Dense(64, activation='relu'))\n",
    "model3.add(Dense(12,activation=\"softmax\")) \n",
    "# output model skeleton\n",
    "model3.summary()\n",
    "           "
   ]
  },
  {
   "cell_type": "code",
   "execution_count": 153,
   "metadata": {},
   "outputs": [],
   "source": [
    "model3.compile(optimizer=keras.optimizers.Nadam(lr=0.01),\n",
    "               loss=\"mse\", # Use sparse categorical crossentropy when your classes are mutually exclusive (e.g. when each sample belongs exactly to one class) and categorical crossentropy when one sample can have multiple classes or labels are soft probabilities (like [0.5, 0.3, 0.2]).\n",
    "               metrics=['acc']\n",
    "              )"
   ]
  },
  {
   "cell_type": "code",
   "execution_count": 155,
   "metadata": {},
   "outputs": [
    {
     "name": "stdout",
     "output_type": "stream",
     "text": [
      "Train on 21600 samples, validate on 2400 samples\n",
      "Epoch 1/150\n",
      "21600/21600 [==============================] - 718s 33ms/sample - loss: 0.0763 - acc: 0.0994 - val_loss: 0.0762 - val_acc: 0.0871\n",
      "Epoch 2/150\n",
      "21600/21600 [==============================] - 714s 33ms/sample - loss: 0.0761 - acc: 0.1050 - val_loss: 0.0760 - val_acc: 0.1129\n",
      "Epoch 3/150\n",
      "21600/21600 [==============================] - 709s 33ms/sample - loss: 0.0760 - acc: 0.1095 - val_loss: 0.0762 - val_acc: 0.0883\n",
      "Epoch 4/150\n",
      "21600/21600 [==============================] - 708s 33ms/sample - loss: 0.0759 - acc: 0.1092 - val_loss: 0.0758 - val_acc: 0.1104\n",
      "Epoch 5/150\n",
      "21600/21600 [==============================] - 706s 33ms/sample - loss: 0.0758 - acc: 0.1122 - val_loss: 0.0757 - val_acc: 0.1175\n",
      "Epoch 6/150\n",
      "21600/21600 [==============================] - 707s 33ms/sample - loss: 0.0759 - acc: 0.1157 - val_loss: 0.0766 - val_acc: 0.0925\n",
      "Epoch 7/150\n",
      "21600/21600 [==============================] - 706s 33ms/sample - loss: 0.0759 - acc: 0.1148 - val_loss: 0.0759 - val_acc: 0.1117\n",
      "Epoch 8/150\n",
      "21600/21600 [==============================] - 707s 33ms/sample - loss: 0.0759 - acc: 0.1163 - val_loss: 0.0758 - val_acc: 0.1125\n",
      "Epoch 9/150\n",
      "21600/21600 [==============================] - 707s 33ms/sample - loss: 0.0758 - acc: 0.1170 - val_loss: 0.0759 - val_acc: 0.1133\n",
      "Epoch 10/150\n",
      "21600/21600 [==============================] - 707s 33ms/sample - loss: 0.0758 - acc: 0.1144 - val_loss: 0.0769 - val_acc: 0.0929\n",
      "Epoch 11/150\n",
      "21504/21600 [============================>.] - ETA: 3s - loss: 0.0757 - acc: 0.1217 Restoring model weights from the end of the best epoch.\n",
      "21600/21600 [==============================] - 710s 33ms/sample - loss: 0.0757 - acc: 0.1216 - val_loss: 0.0761 - val_acc: 0.1067\n",
      "Epoch 00011: early stopping\n"
     ]
    }
   ],
   "source": [
    "batch = 256\n",
    "epochs = 150\n",
    "history3 = model3.fit(X_train, y_train, \n",
    "                     batch, \n",
    "                     epochs = epochs, \n",
    "                     callbacks=callbacks,\n",
    "                     validation_data = (X_test, y_test)\n",
    "                    ) #plot_graphs(history3, 'accuracy')"
   ]
  },
  {
   "cell_type": "code",
   "execution_count": 158,
   "metadata": {},
   "outputs": [
    {
     "data": {
      "image/png": "[encoded data removed]",
      "text/plain": [
       "<Figure size 432x288 with 1 Axes>"
      ]
     },
     "metadata": {
      "needs_background": "light"
     },
     "output_type": "display_data"
    }
   ],
   "source": [
    "def plot_graphs(history, metric):\n",
    "  plt.plot(history.history[metric])\n",
    "  plt.plot(history.history['val_'+metric], '')\n",
    "  plt.xlabel(\"Epochs\")\n",
    "  plt.ylabel(metric)\n",
    "  plt.legend([metric, 'val_'+metric])\n",
    "  plt.show()\n",
    "plot_graphs(history3, 'acc')"
   ]
  },
  {
   "cell_type": "markdown",
   "metadata": {},
   "source": [
    "# Model 4: Google W2V, Bi LSTM 64, Bi LSTM 32"
   ]
  },
  {
   "cell_type": "code",
   "execution_count": null,
   "metadata": {},
   "outputs": [],
   "source": [
    "# Pre-trained word2vec + https://www.tensorflow.org/tutorials/text/text_classification_rnn\n",
    "# Still worse than the tf-idf baseline\n",
    "model4 = Sequential([\n",
    "    Embedding(len(model_2.wv.vocab) + 1 ,\n",
    "                    300,\n",
    "                    input_length  = X.shape[1],\n",
    "                    weights = [embedding_matrix],\n",
    "                    trainable=False),\n",
    "    Bidirectional(LSTM(64,  return_sequences=True)),\n",
    "    Bidirectional(LSTM(32)),\n",
    "    Dense(64, activation='relu'),\n",
    "    Dropout(0.5),\n",
    "    Dense(12)\n",
    "])"
   ]
  },
  {
   "cell_type": "code",
   "execution_count": null,
   "metadata": {},
   "outputs": [
    {
     "name": "stdout",
     "output_type": "stream",
     "text": [
      "Train on 21600 samples, validate on 2400 samples\n",
      "Epoch 1/100\n",
      "21600/21600 [==============================] - 2158s 100ms/sample - loss: 0.0807 - acc: 0.0817 - val_loss: 0.0764 - val_acc: 0.0992\n",
      "Epoch 2/100\n",
      "17920/21600 [=======================>......] - ETA: 5:39 - loss: 0.0764 - acc: 0.0831"
     ]
    }
   ],
   "source": [
    "model4.compile(optimizer=keras.optimizers.Nadam(lr=0.005),\n",
    "               loss=\"mse\", # Use sparse categorical crossentropy when your classes are mutually exclusive (e.g. when each sample belongs exactly to one class) and categorical crossentropy when one sample can have multiple classes or labels are soft probabilities (like [0.5, 0.3, 0.2]).\n",
    "               metrics=['acc']\n",
    "              )\n",
    "batch = 256\n",
    "epochs = 100\n",
    "history4 = model4.fit(X_train, y_train, \n",
    "                     batch, \n",
    "                     epochs = epochs, \n",
    "                     callbacks=callbacks,\n",
    "                     validation_data = (X_test, y_test)\n",
    "                    ) #plot_graphs(history3, 'accuracy')"
   ]
  },
  {
   "cell_type": "code",
   "execution_count": null,
   "metadata": {},
   "outputs": [],
   "source": []
  },
  {
   "cell_type": "markdown",
   "metadata": {},
   "source": [
    "### N-Shot Learning for Text Classification\n",
    "https://medium.com/@prabhnoor0212/siamese-network-keras-31a3a8f37d04\n",
    "(https://github.com/prabhnoor0212/Siamese-Network-Text-Similarity/blob/master/quora_siamese.ipynb )"
   ]
  },
  {
   "cell_type": "code",
   "execution_count": null,
   "metadata": {},
   "outputs": [],
   "source": []
  },
  {
   "cell_type": "code",
   "execution_count": null,
   "metadata": {},
   "outputs": [],
   "source": []
  },
  {
   "cell_type": "code",
   "execution_count": 1,
   "metadata": {},
   "outputs": [
    {
     "ename": "NameError",
     "evalue": "name 'features' is not defined",
     "output_type": "error",
     "traceback": [
      "\u001b[0;31m---------------------------------------------------------------------------\u001b[0m",
      "\u001b[0;31mNameError\u001b[0m                                 Traceback (most recent call last)",
      "\u001b[0;32m<ipython-input-1-224628ecf868>\u001b[0m in \u001b[0;36m<module>\u001b[0;34m\u001b[0m\n\u001b[0;32m----> 1\u001b[0;31m \u001b[0mfeatures\u001b[0m\u001b[0;34m\u001b[0m\u001b[0;34m\u001b[0m\u001b[0m\n\u001b[0m",
      "\u001b[0;31mNameError\u001b[0m: name 'features' is not defined"
     ]
    }
   ],
   "source": [
    "features"
   ]
  }
 ],
 "metadata": {
  "kernelspec": {
   "display_name": "Python 3",
   "language": "python",
   "name": "python3"
  },
  "language_info": {
   "codemirror_mode": {
    "name": "ipython",
    "version": 3
   },
   "file_extension": ".py",
   "mimetype": "text/x-python",
   "name": "python",
   "nbconvert_exporter": "python",
   "pygments_lexer": "ipython3",
   "version": "3.7.6"
  }
 },
 "nbformat": 4,
 "nbformat_minor": 4
}

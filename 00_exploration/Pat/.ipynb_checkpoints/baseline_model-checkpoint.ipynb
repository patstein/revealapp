{
 "cells": [
  {
   "cell_type": "code",
   "execution_count": 2,
   "metadata": {},
   "outputs": [
    {
     "name": "stderr",
     "output_type": "stream",
     "text": [
      "Using TensorFlow backend.\n"
     ]
    }
   ],
   "source": [
    "\n",
    "import pandas as pd\n",
    "pd.options.mode.chained_assignment = None \n",
    "import numpy as np\n",
    "import re\n",
    "import nltk\n",
    "import os\n",
    "import smart_open\n",
    "import collections\n",
    "import scipy.stats as stats\n",
    "import tensorflow as tf\n",
    "import gensim\n",
    "\n",
    "from gensim.models.word2vec import Word2Vec\n",
    "from gensim.models.doc2vec import Doc2Vec, TaggedDocument\n",
    "from gensim.test.utils import common_texts\n",
    "from gensim.test.utils import get_tmpfile\n",
    "\n",
    "from tensorflow import keras\n",
    "from tensorflow.keras import Sequential, Model\n",
    "from tensorflow.keras import backend as K\n",
    "from tensorflow.keras.metrics import RootMeanSquaredError\n",
    "from tensorflow.keras.utils import plot_model\n",
    "from tensorflow.keras.optimizers import Adam, Adadelta, Nadam #schedules\n",
    "from tensorflow.keras.regularizers import l2\n",
    "from tensorflow.keras.layers import Embedding, Dense, Flatten, LSTM, Conv1D, Conv2D, GlobalAveragePooling1D, Conv2D, ZeroPadding2D\n",
    "from tensorflow.keras.layers import Bidirectional, GlobalAveragePooling2D, GlobalAveragePooling3D, BatchNormalization, Dropout\n",
    "from tensorflow.keras.layers import Subtract, Add, Multiply, Activation, Input, Concatenate, Reshape \n",
    "from tensorflow.keras.preprocessing.text import Tokenizer\n",
    "from tensorflow.keras.preprocessing.sequence import pad_sequences\n",
    "\n",
    "from keras import optimizers\n",
    "\n",
    "from sklearn.manifold import TSNE\n",
    "import matplotlib.pyplot as plt\n",
    "%matplotlib inline\n",
    "\n",
    "from nltk import word_tokenize\n",
    "from nltk.stem import PorterStemmer\n",
    "from nltk.stem.snowball import SnowballStemmer\n",
    "\n",
    "from sklearn.model_selection import train_test_split\n",
    "from sklearn.pipeline import Pipeline\n",
    "from sklearn.metrics import classification_report, accuracy_score, confusion_matrix, roc_auc_score, roc_curve, mean_squared_error\n",
    "from sklearn.metrics.pairwise import cosine_similarity\n",
    "from sklearn.feature_extraction.text import TfidfVectorizer\n",
    "from sklearn.feature_extraction.text import CountVectorizer\n",
    "from sklearn.feature_extraction.text import TfidfTransformer\n",
    "from sklearn.linear_model import SGDClassifier, LinearRegression, LogisticRegression\n",
    "from sklearn.naive_bayes import MultinomialNB\n",
    "from sklearn.model_selection import GridSearchCV\n",
    "from sklearn.ensemble import RandomForestClassifier\n",
    "\n",
    "from sklearn import svm, tree\n",
    "import xgboost"
   ]
  },
  {
   "cell_type": "code",
   "execution_count": 3,
   "metadata": {},
   "outputs": [
    {
     "name": "stderr",
     "output_type": "stream",
     "text": [
      "[nltk_data] Downloading package stopwords to\n",
      "[nltk_data]     /Users/patrickrs/nltk_data...\n",
      "[nltk_data]   Package stopwords is already up-to-date!\n"
     ]
    }
   ],
   "source": [
    "path = '/Users/patrickrs/Documents/GitLab/revealapp/10_cleaning/src'\n",
    "\n",
    "current_path = os.getcwd()\n",
    "os.chdir(path)\n",
    "%run ./Load+Clean_News.ipynb\n",
    "os.chdir(current_path)"
   ]
  },
  {
   "cell_type": "code",
   "execution_count": 4,
   "metadata": {},
   "outputs": [
    {
     "data": {
      "text/html": [
       "<div>\n",
       "<style scoped>\n",
       "    .dataframe tbody tr th:only-of-type {\n",
       "        vertical-align: middle;\n",
       "    }\n",
       "\n",
       "    .dataframe tbody tr th {\n",
       "        vertical-align: top;\n",
       "    }\n",
       "\n",
       "    .dataframe thead th {\n",
       "        text-align: right;\n",
       "    }\n",
       "</style>\n",
       "<table border=\"1\" class=\"dataframe\">\n",
       "  <thead>\n",
       "    <tr style=\"text-align: right;\">\n",
       "      <th></th>\n",
       "      <th>SimilarityScore</th>\n",
       "      <th>sentence1</th>\n",
       "      <th>sentence2</th>\n",
       "    </tr>\n",
       "  </thead>\n",
       "  <tbody>\n",
       "    <tr>\n",
       "      <th>0</th>\n",
       "      <td>4.000</td>\n",
       "      <td>last year wanted murder</td>\n",
       "      <td>last year sought murder</td>\n",
       "    </tr>\n",
       "    <tr>\n",
       "      <th>1</th>\n",
       "      <td>5.000</td>\n",
       "      <td>promarket economists dont object corporations blatantly use snob appeal promote products</td>\n",
       "      <td>economists companies openly using attractiveness luxury promote products</td>\n",
       "    </tr>\n",
       "    <tr>\n",
       "      <th>2</th>\n",
       "      <td>5.000</td>\n",
       "      <td>perhaps importantly ahmadinejad destabilizing influence bernanke</td>\n",
       "      <td>perhaps important ahmadinejad destabilising influence bernanke</td>\n",
       "    </tr>\n",
       "    <tr>\n",
       "      <th>3</th>\n",
       "      <td>4.667</td>\n",
       "      <td>europe</td>\n",
       "      <td>europe</td>\n",
       "    </tr>\n",
       "    <tr>\n",
       "      <th>4</th>\n",
       "      <td>4.500</td>\n",
       "      <td>gays modern practices rejected selfindulgent</td>\n",
       "      <td>gay practical modern rejected laws</td>\n",
       "    </tr>\n",
       "    <tr>\n",
       "      <th>...</th>\n",
       "      <td>...</td>\n",
       "      <td>...</td>\n",
       "      <td>...</td>\n",
       "    </tr>\n",
       "    <tr>\n",
       "      <th>649</th>\n",
       "      <td>1.800</td>\n",
       "      <td>indian pakistani governments nearly engaged fourth conflict 1999</td>\n",
       "      <td>indian pakistani governments conducted nuclear tests may 1998</td>\n",
       "    </tr>\n",
       "    <tr>\n",
       "      <th>650</th>\n",
       "      <td>3.800</td>\n",
       "      <td>iguaran stated detainees accused homicide criminal collaboration kidnappings funding terrorism</td>\n",
       "      <td>iguaran stated detainees also involved murders police members antikidnapping group</td>\n",
       "    </tr>\n",
       "    <tr>\n",
       "      <th>651</th>\n",
       "      <td>2.400</td>\n",
       "      <td>3 suspected extremists released bail</td>\n",
       "      <td>1 suspected extremist provisionally released without bail</td>\n",
       "    </tr>\n",
       "    <tr>\n",
       "      <th>652</th>\n",
       "      <td>0.800</td>\n",
       "      <td>6 czech hospital employees charged human organ trafficking</td>\n",
       "      <td>accused charged international drug trafficking</td>\n",
       "    </tr>\n",
       "    <tr>\n",
       "      <th>653</th>\n",
       "      <td>2.000</td>\n",
       "      <td>aggravated situation</td>\n",
       "      <td>north korea act aggravate situation</td>\n",
       "    </tr>\n",
       "  </tbody>\n",
       "</table>\n",
       "<p>654 rows × 3 columns</p>\n",
       "</div>"
      ],
      "text/plain": [
       "     SimilarityScore  \\\n",
       "0              4.000   \n",
       "1              5.000   \n",
       "2              5.000   \n",
       "3              4.667   \n",
       "4              4.500   \n",
       "..               ...   \n",
       "649            1.800   \n",
       "650            3.800   \n",
       "651            2.400   \n",
       "652            0.800   \n",
       "653            2.000   \n",
       "\n",
       "                                                                                           sentence1  \\\n",
       "0                                                                            last year wanted murder   \n",
       "1           promarket economists dont object corporations blatantly use snob appeal promote products   \n",
       "2                                   perhaps importantly ahmadinejad destabilizing influence bernanke   \n",
       "3                                                                                             europe   \n",
       "4                                                       gays modern practices rejected selfindulgent   \n",
       "..                                                                                               ...   \n",
       "649                                indian pakistani governments nearly engaged fourth conflict 1999    \n",
       "650  iguaran stated detainees accused homicide criminal collaboration kidnappings funding terrorism    \n",
       "651                                                            3 suspected extremists released bail    \n",
       "652                                      6 czech hospital employees charged human organ trafficking    \n",
       "653                                                                            aggravated situation    \n",
       "\n",
       "                                                                              sentence2  \n",
       "0                                                              last year sought murder   \n",
       "1              economists companies openly using attractiveness luxury promote products  \n",
       "2                        perhaps important ahmadinejad destabilising influence bernanke  \n",
       "3                                                                                europe  \n",
       "4                                                    gay practical modern rejected laws  \n",
       "..                                                                                  ...  \n",
       "649                       indian pakistani governments conducted nuclear tests may 1998  \n",
       "650  iguaran stated detainees also involved murders police members antikidnapping group  \n",
       "651                           1 suspected extremist provisionally released without bail  \n",
       "652                                      accused charged international drug trafficking  \n",
       "653                                                 north korea act aggravate situation  \n",
       "\n",
       "[654 rows x 3 columns]"
      ]
     },
     "execution_count": 4,
     "metadata": {},
     "output_type": "execute_result"
    }
   ],
   "source": [
    "data = news\n",
    "data"
   ]
  },
  {
   "cell_type": "code",
   "execution_count": 5,
   "metadata": {},
   "outputs": [],
   "source": [
    "def build_corpus(data):\n",
    "    \"\"\"Creates a list of lists containing words from each sentence\n",
    "    \n",
    "    Args:\n",
    "        data: list or dataframe containing text in each cell.\n",
    "    Returns: \n",
    "        A list of lists where the sublists are sentences\n",
    "                and the sublist items are words.\"\"\"\n",
    "        \n",
    "    corpus = []\n",
    "    for content in data:\n",
    "        corpus_temp = nltk.word_tokenize(content)\n",
    "        corpus.append(corpus_temp)\n",
    "    return corpus\n",
    "\n",
    "corpus = build_corpus(pd.concat([data['sentence1'], data['sentence2']]))"
   ]
  },
  {
   "cell_type": "code",
   "execution_count": 6,
   "metadata": {},
   "outputs": [],
   "source": [
    "X1_train, X1_test, X2_train, X2_test, y_train, y_test = train_test_split(data['sentence1'], data['sentence2'], data['SimilarityScore'], test_size=0.2, random_state=42)"
   ]
  },
  {
   "cell_type": "code",
   "execution_count": 7,
   "metadata": {},
   "outputs": [],
   "source": [
    "tfidf = TfidfVectorizer(sublinear_tf=True, min_df=1, norm='l2', encoding='latin-1', ngram_range=(1,2), max_features = 465)\n",
    "feat1_train = tfidf.fit_transform(X1_train)\n",
    "feat2_train = tfidf.fit_transform(X2_train)\n",
    "feat1_test = tfidf.fit_transform(X1_test)\n",
    "feat2_test = tfidf.fit_transform(X2_test)"
   ]
  },
  {
   "cell_type": "markdown",
   "metadata": {},
   "source": [
    "# Linear Regression Model"
   ]
  },
  {
   "cell_type": "code",
   "execution_count": 8,
   "metadata": {},
   "outputs": [],
   "source": [
    "feat_train = np.concatenate([feat1_train.todense(), feat2_train.todense()], axis = 1)\n",
    "feat_test = np.concatenate([feat1_test.todense(), feat2_test.todense()], axis = 1)"
   ]
  },
  {
   "cell_type": "code",
   "execution_count": 9,
   "metadata": {},
   "outputs": [],
   "source": [
    "lr = LinearRegression()\n",
    "clf = lr.fit(X = feat_train, y = y_train)"
   ]
  },
  {
   "cell_type": "code",
   "execution_count": 10,
   "metadata": {},
   "outputs": [],
   "source": [
    "y_pred = clf.predict(feat_test)"
   ]
  },
  {
   "cell_type": "code",
   "execution_count": 24,
   "metadata": {},
   "outputs": [
    {
     "data": {
      "text/plain": [
       "0.19083969465648856"
      ]
     },
     "execution_count": 24,
     "metadata": {},
     "output_type": "execute_result"
    }
   ],
   "source": [
    "mse_baseline = mean_squared_error(y_true = y_test, y_pred = y_pred)\n",
    "mse_baseline"
   ]
  },
  {
   "cell_type": "code",
   "execution_count": 12,
   "metadata": {},
   "outputs": [
    {
     "data": {
      "text/plain": [
       "523"
      ]
     },
     "execution_count": 12,
     "metadata": {},
     "output_type": "execute_result"
    }
   ],
   "source": [
    "len(feat_train)"
   ]
  },
  {
   "cell_type": "markdown",
   "metadata": {},
   "source": [
    "# Classification based on cosine-similarity cutoff"
   ]
  },
  {
   "cell_type": "code",
   "execution_count": 13,
   "metadata": {},
   "outputs": [
    {
     "name": "stderr",
     "output_type": "stream",
     "text": [
      "[nltk_data] Downloading package stopwords to\n",
      "[nltk_data]     /Users/patrickrs/nltk_data...\n",
      "[nltk_data]   Package stopwords is already up-to-date!\n",
      "[nltk_data] Downloading package stopwords to\n",
      "[nltk_data]     /Users/patrickrs/nltk_data...\n",
      "[nltk_data]   Package stopwords is already up-to-date!\n"
     ]
    }
   ],
   "source": [
    "path = '/Users/patrickrs/Documents/GitLab/revealapp/10_cleaning/src'\n",
    "\n",
    "current_path = os.getcwd()\n",
    "os.chdir(path)\n",
    "%run ./Load+Clean_News.ipynb\n",
    "%run ./cont_to_cat_News.ipynb\n",
    "os.chdir(current_path)"
   ]
  },
  {
   "cell_type": "code",
   "execution_count": 14,
   "metadata": {},
   "outputs": [],
   "source": [
    "data = news"
   ]
  },
  {
   "cell_type": "code",
   "execution_count": 15,
   "metadata": {},
   "outputs": [],
   "source": [
    "X1_train, X1_test, X2_train, X2_test, y_train, y_test = \\\n",
    "train_test_split(data['sentence1'], data['sentence2'], data['sim'], \n",
    "                 test_size=0.2, random_state=42)"
   ]
  },
  {
   "cell_type": "code",
   "execution_count": 16,
   "metadata": {},
   "outputs": [],
   "source": [
    "tfidf = TfidfVectorizer(sublinear_tf=True, min_df=1, norm='l2', \n",
    "                        encoding='latin-1', ngram_range=(1,2), \n",
    "                        max_features = 465)\n",
    "\n",
    "feat1_train = tfidf.fit_transform(X1_train).todense()\n",
    "feat2_train = tfidf.fit_transform(X2_train).todense()\n",
    "feat1_test = tfidf.fit_transform(X1_test).todense()\n",
    "feat2_test = tfidf.fit_transform(X2_test).todense()"
   ]
  },
  {
   "cell_type": "code",
   "execution_count": 17,
   "metadata": {},
   "outputs": [],
   "source": [
    "cs_train = []\n",
    "for i in range(len(feat1_train)):\n",
    "    cs_temp = cosine_similarity(feat1_train[i], feat2_train[i])\n",
    "    cs_temp = cs_temp[0][0]\n",
    "    cs_train.append(cs_temp)\n",
    "cs_train = np.array(cs_train).reshape(-1, 1)   "
   ]
  },
  {
   "cell_type": "code",
   "execution_count": 18,
   "metadata": {},
   "outputs": [],
   "source": [
    "cs_test = []\n",
    "for i in range(len(feat1_test)):\n",
    "    cs_temp = cosine_similarity(feat1_test[i], feat2_test[i])\n",
    "    cs_temp = cs_temp[0][0]\n",
    "    cs_test.append(cs_temp)\n",
    "cs_test = np.array(cs_test).reshape(-1, 1)"
   ]
  },
  {
   "cell_type": "code",
   "execution_count": 25,
   "metadata": {},
   "outputs": [
    {
     "data": {
      "text/plain": [
       "0.19083969465648856"
      ]
     },
     "execution_count": 25,
     "metadata": {},
     "output_type": "execute_result"
    }
   ],
   "source": [
    "logit = LogisticRegression(class_weight = 'balanced')\n",
    "clf = logit.fit(X = cs_train, y = y_train)\n",
    "y_pred = clf.predict(cs_test)\n",
    "acc_baseline = accuracy_score(y_true = y_test, y_pred = y_pred)\n",
    "acc_baseline"
   ]
  },
  {
   "cell_type": "code",
   "execution_count": 20,
   "metadata": {},
   "outputs": [],
   "source": [
    "# generate a no skill prediction (majority class)\n",
    "ns_probs = [0 for _ in range(len(y_test))]"
   ]
  },
  {
   "cell_type": "code",
   "execution_count": 21,
   "metadata": {},
   "outputs": [],
   "source": [
    "# predict probabilities\n",
    "lr_probs = logit.predict_proba(cs_test)"
   ]
  },
  {
   "cell_type": "code",
   "execution_count": 22,
   "metadata": {},
   "outputs": [],
   "source": [
    "# keep probabilities for the positive outcome only\n",
    "lr_probs = lr_probs[:, 1]"
   ]
  },
  {
   "cell_type": "code",
   "execution_count": 23,
   "metadata": {},
   "outputs": [
    {
     "name": "stdout",
     "output_type": "stream",
     "text": [
      "No Skill: ROC AUC=0.500\n",
      "Logistic: ROC AUC=0.558\n"
     ]
    },
    {
     "data": {
      "image/png": "[encoded data removed]",
      "text/plain": [
       "<Figure size 432x288 with 1 Axes>"
      ]
     },
     "metadata": {
      "needs_background": "light"
     },
     "output_type": "display_data"
    }
   ],
   "source": [
    "# calculate scores\n",
    "ns_auc = roc_auc_score(y_test, ns_probs)\n",
    "lr_auc = roc_auc_score(y_test, lr_probs)\n",
    "# summarize scores\n",
    "print('No Skill: ROC AUC=%.3f' % (ns_auc))\n",
    "print('Logistic: ROC AUC=%.3f' % (lr_auc))\n",
    "# calculate roc curves\n",
    "ns_fpr, ns_tpr, _ = roc_curve(y_test, ns_probs)\n",
    "lr_fpr, lr_tpr, _ = roc_curve(y_test, lr_probs)\n",
    "\n",
    "# plot the roc curve for the model\n",
    "plt.plot(ns_fpr, ns_tpr, linestyle='--', label='No Skill')\n",
    "plt.plot(lr_fpr, lr_tpr, marker='.', label='Logistic')\n",
    "# axis labels\n",
    "plt.xlabel('False Positive Rate')\n",
    "plt.ylabel('True Positive Rate')\n",
    "# show the legend\n",
    "plt.legend()\n",
    "# show the plot\n",
    "plt.show()"
   ]
  },
  {
   "cell_type": "code",
   "execution_count": null,
   "metadata": {},
   "outputs": [],
   "source": []
  },
  {
   "cell_type": "code",
   "execution_count": null,
   "metadata": {},
   "outputs": [],
   "source": []
  },
  {
   "cell_type": "code",
   "execution_count": null,
   "metadata": {},
   "outputs": [],
   "source": []
  },
  {
   "cell_type": "code",
   "execution_count": null,
   "metadata": {},
   "outputs": [],
   "source": []
  },
  {
   "cell_type": "code",
   "execution_count": null,
   "metadata": {},
   "outputs": [],
   "source": []
  },
  {
   "cell_type": "code",
   "execution_count": null,
   "metadata": {},
   "outputs": [],
   "source": []
  },
  {
   "cell_type": "code",
   "execution_count": null,
   "metadata": {},
   "outputs": [],
   "source": []
  },
  {
   "cell_type": "code",
   "execution_count": null,
   "metadata": {},
   "outputs": [],
   "source": []
  },
  {
   "cell_type": "code",
   "execution_count": null,
   "metadata": {},
   "outputs": [],
   "source": []
  },
  {
   "cell_type": "code",
   "execution_count": null,
   "metadata": {},
   "outputs": [],
   "source": []
  },
  {
   "cell_type": "code",
   "execution_count": null,
   "metadata": {},
   "outputs": [],
   "source": []
  },
  {
   "cell_type": "code",
   "execution_count": null,
   "metadata": {},
   "outputs": [],
   "source": []
  },
  {
   "cell_type": "code",
   "execution_count": null,
   "metadata": {},
   "outputs": [],
   "source": []
  },
  {
   "cell_type": "code",
   "execution_count": null,
   "metadata": {},
   "outputs": [],
   "source": []
  },
  {
   "cell_type": "code",
   "execution_count": null,
   "metadata": {},
   "outputs": [],
   "source": []
  }
 ],
 "metadata": {
  "kernelspec": {
   "display_name": "Python 3",
   "language": "python",
   "name": "python3"
  },
  "language_info": {
   "codemirror_mode": {
    "name": "ipython",
    "version": 3
   },
   "file_extension": ".py",
   "mimetype": "text/x-python",
   "name": "python",
   "nbconvert_exporter": "python",
   "pygments_lexer": "ipython3",
   "version": "3.7.6"
  }
 },
 "nbformat": 4,
 "nbformat_minor": 4
}

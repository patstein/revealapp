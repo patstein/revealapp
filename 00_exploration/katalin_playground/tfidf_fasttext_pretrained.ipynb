{
 "cells": [
  {
   "cell_type": "markdown",
   "metadata": {},
   "source": [
    "# FastText + NN"
   ]
  },
  {
   "cell_type": "markdown",
   "metadata": {},
   "source": [
    "### __Author__: Patrick Steiner\n",
    "\n",
    "__Created__: 31.03.2020\n",
    "\n",
    "__Version__: 3\n",
    "\n",
    "__Description__: Creates sentence embedding based on tf-idf and word-embedding and feeds this in a NN\n",
    "\n",
    "\n",
    "\n",
    "\n",
    "|Change ID | Date       |  Author             |Change Description                   |\n",
    "|----------|------------|---------------------|--------------------------------------|\n",
    "|#SK01     | 03.04.2020 | Severin Kappeler    |Re-define corpus with split by sentence rather than by document | \n",
    "|#SK02     | 03.04.2020 | Severin Kappeler    |Embedding matrix weighted by TF-IDF score for each word-embedding vector. Using here the \"global\" TF-IDF. For a given word the \"global\" TF-IDF score is the average of all the TF-IDF scores for that word over all documents.  | \n",
    "|#SK03     | 03.04.2020 | Severin Kappeler    |Apply tokenize.texts_to_sequence to sentence list rather than document list| \n",
    "|#SK04     | 03.04.2020 | Severin Kappeler    |Converting label (target) to be on sentence level rather than document level.      | \n",
    "|#SK05     | 03.04.2020 | Severin Kappeler    |Adding split to sentence part for features |\n",
    "|#SK06     | 03.07.2020 | Katalin Horvath     |Replace Word2vec with FastText, adapt TF-IDF vocabulary to FastText|\n",
    "|#SK07     | 03.07.2020 | Katalin Horvath     |Replace training data with similarity scores data|"
   ]
  },
  {
   "cell_type": "code",
   "execution_count": 7,
   "metadata": {},
   "outputs": [],
   "source": [
    "# see also 06-Natural-Language_processing notebooks. This one focuses only on doc2vec.\n",
    "import pandas as pd\n",
    "pd.options.mode.chained_assignment = None \n",
    "import numpy as np\n",
    "import re\n",
    "import nltk\n",
    "import os\n",
    "import smart_open\n",
    "import collections\n",
    "import scipy.stats as stats\n",
    "import tensorflow as tf\n",
    "import gensim\n",
    "import tqdm\n",
    "import warnings\n",
    "import io\n",
    "from pprint import pprint as print\n",
    "import fasttext as FT\n",
    "\n",
    "\n",
    "from gensim.models.word2vec import Word2Vec\n",
    "from gensim.models.doc2vec import Doc2Vec, TaggedDocument\n",
    "from gensim.models.fasttext import FastText as FT_gensim\n",
    "#from gensim.models.wrappers import FastText\n",
    "from gensim.test.utils import datapath\n",
    "from gensim.test.utils import common_texts\n",
    "from gensim.test.utils import get_tmpfile\n",
    "\n",
    "from tensorflow import keras\n",
    "from tensorflow.keras import Sequential\n",
    "from tensorflow.keras.layers import Embedding, Dense, Flatten, LSTM\n",
    "from tensorflow.keras.preprocessing.text import Tokenizer\n",
    "from tensorflow.keras.preprocessing.sequence import pad_sequences\n",
    "\n",
    "from sklearn.manifold import TSNE\n",
    "import matplotlib.pyplot as plt\n",
    "%matplotlib inline\n",
    "\n",
    "from nltk import word_tokenize\n",
    "from nltk.stem import PorterStemmer\n",
    "\n",
    "from sklearn.model_selection import train_test_split\n",
    "from sklearn.pipeline import Pipeline\n",
    "from sklearn.metrics import classification_report, accuracy_score, confusion_matrix\n",
    "from sklearn.metrics.pairwise import cosine_similarity\n",
    "from sklearn.feature_extraction.text import TfidfVectorizer\n",
    "from sklearn.feature_extraction.text import CountVectorizer\n",
    "from sklearn.feature_extraction.text import TfidfTransformer\n",
    "from sklearn.linear_model import SGDClassifier\n",
    "from sklearn.naive_bayes import MultinomialNB\n",
    "#from sklearn.model_selection import GridSearchCV, RandomSearch\n",
    "from sklearn.ensemble import RandomForestClassifier\n",
    "from sklearn import svm, tree\n",
    "import xgboost"
   ]
  },
  {
   "cell_type": "code",
   "execution_count": 8,
   "metadata": {},
   "outputs": [],
   "source": [
    "# this just for now, because Windows. A helper with somme missing methods from fasttext. Needed for loadin the .bin pretrained model.\n",
    "# Othervise, just use fasstext.util (imported as FT.util) (also not the gensim one)\n",
    "import FT_util"
   ]
  },
  {
   "cell_type": "markdown",
   "metadata": {},
   "source": [
    "# Preprocessing"
   ]
  },
  {
   "cell_type": "markdown",
   "metadata": {},
   "source": [
    "## Import"
   ]
  },
  {
   "cell_type": "code",
   "execution_count": 9,
   "metadata": {},
   "outputs": [],
   "source": [
    "#os.chdir('/Users/patrickrs/Documents/GitLab/patrick-steiner/Exercises')\n",
    "news1_raw = pd.read_csv('../data/raw/2012.SMTnews.test.csv', sep='\\t', header=None, names=['SimilarityScore', 'sentence1', 'sentence2'])\n",
    "news2_raw = pd.read_csv('../data/raw/2014.deft-news.test.csv', sep='\\t', header=None, names=['SimilarityScore', 'sentence1', 'sentence2'])\n",
    "\n",
    "news_raw = news1_raw.copy()\n",
    "news_raw = news_raw.append(news2_raw)\n",
    "news_raw.drop_duplicates(inplace=True)\n",
    "news_raw.reset_index(inplace=True, drop = True)"
   ]
  },
  {
   "cell_type": "code",
   "execution_count": 10,
   "metadata": {},
   "outputs": [
    {
     "data": {
      "text/html": [
       "<div>\n",
       "<style scoped>\n",
       "    .dataframe tbody tr th:only-of-type {\n",
       "        vertical-align: middle;\n",
       "    }\n",
       "\n",
       "    .dataframe tbody tr th {\n",
       "        vertical-align: top;\n",
       "    }\n",
       "\n",
       "    .dataframe thead th {\n",
       "        text-align: right;\n",
       "    }\n",
       "</style>\n",
       "<table border=\"1\" class=\"dataframe\">\n",
       "  <thead>\n",
       "    <tr style=\"text-align: right;\">\n",
       "      <th></th>\n",
       "      <th>SimilarityScore</th>\n",
       "      <th>sentence1</th>\n",
       "      <th>sentence2</th>\n",
       "    </tr>\n",
       "  </thead>\n",
       "  <tbody>\n",
       "    <tr>\n",
       "      <th>0</th>\n",
       "      <td>4.000</td>\n",
       "      <td>Last year he was wanted for murder.</td>\n",
       "      <td>Last year it was sought to murder.</td>\n",
       "    </tr>\n",
       "    <tr>\n",
       "      <th>1</th>\n",
       "      <td>5.000</td>\n",
       "      <td>Pro-market economists don't object to corporat...</td>\n",
       "      <td>Economists' not against the companies openly u...</td>\n",
       "    </tr>\n",
       "    <tr>\n",
       "      <th>2</th>\n",
       "      <td>5.000</td>\n",
       "      <td>And, perhaps most importantly, Ahmadinejad is ...</td>\n",
       "      <td>And, perhaps the most important, Ahmadinejad d...</td>\n",
       "    </tr>\n",
       "    <tr>\n",
       "      <th>3</th>\n",
       "      <td>4.667</td>\n",
       "      <td>A Europe for All</td>\n",
       "      <td>All Europe</td>\n",
       "    </tr>\n",
       "    <tr>\n",
       "      <th>4</th>\n",
       "      <td>4.500</td>\n",
       "      <td>Gays and other \"modern\" practices are rejected...</td>\n",
       "      <td>The gay and other practical \"Modern\" are rejec...</td>\n",
       "    </tr>\n",
       "    <tr>\n",
       "      <th>...</th>\n",
       "      <td>...</td>\n",
       "      <td>...</td>\n",
       "      <td>...</td>\n",
       "    </tr>\n",
       "    <tr>\n",
       "      <th>649</th>\n",
       "      <td>1.800</td>\n",
       "      <td>indian and pakistani governments nearly engage...</td>\n",
       "      <td>indian and pakistani governments each conducte...</td>\n",
       "    </tr>\n",
       "    <tr>\n",
       "      <th>650</th>\n",
       "      <td>3.800</td>\n",
       "      <td>iguaran stated that the detainees will be accu...</td>\n",
       "      <td>iguaran stated that the detainees were also in...</td>\n",
       "    </tr>\n",
       "    <tr>\n",
       "      <th>651</th>\n",
       "      <td>2.400</td>\n",
       "      <td>3 suspected extremists were released on bail.</td>\n",
       "      <td>1 suspected extremist was provisionally releas...</td>\n",
       "    </tr>\n",
       "    <tr>\n",
       "      <th>652</th>\n",
       "      <td>0.800</td>\n",
       "      <td>6 czech hospital employees are charged with hu...</td>\n",
       "      <td>the accused will be charged with international...</td>\n",
       "    </tr>\n",
       "    <tr>\n",
       "      <th>653</th>\n",
       "      <td>2.000</td>\n",
       "      <td>this further aggravated the situation.</td>\n",
       "      <td>north korea should not act further to aggravat...</td>\n",
       "    </tr>\n",
       "  </tbody>\n",
       "</table>\n",
       "<p>654 rows × 3 columns</p>\n",
       "</div>"
      ],
      "text/plain": [
       "     SimilarityScore                                          sentence1  \\\n",
       "0              4.000                Last year he was wanted for murder.   \n",
       "1              5.000  Pro-market economists don't object to corporat...   \n",
       "2              5.000  And, perhaps most importantly, Ahmadinejad is ...   \n",
       "3              4.667                                   A Europe for All   \n",
       "4              4.500  Gays and other \"modern\" practices are rejected...   \n",
       "..               ...                                                ...   \n",
       "649            1.800  indian and pakistani governments nearly engage...   \n",
       "650            3.800  iguaran stated that the detainees will be accu...   \n",
       "651            2.400     3 suspected extremists were released on bail.    \n",
       "652            0.800  6 czech hospital employees are charged with hu...   \n",
       "653            2.000            this further aggravated the situation.    \n",
       "\n",
       "                                             sentence2  \n",
       "0                 Last year it was sought to murder.    \n",
       "1    Economists' not against the companies openly u...  \n",
       "2    And, perhaps the most important, Ahmadinejad d...  \n",
       "3                                           All Europe  \n",
       "4    The gay and other practical \"Modern\" are rejec...  \n",
       "..                                                 ...  \n",
       "649  indian and pakistani governments each conducte...  \n",
       "650  iguaran stated that the detainees were also in...  \n",
       "651  1 suspected extremist was provisionally releas...  \n",
       "652  the accused will be charged with international...  \n",
       "653  north korea should not act further to aggravat...  \n",
       "\n",
       "[654 rows x 3 columns]"
      ]
     },
     "execution_count": 10,
     "metadata": {},
     "output_type": "execute_result"
    }
   ],
   "source": [
    "news_raw"
   ]
  },
  {
   "cell_type": "code",
   "execution_count": 11,
   "metadata": {},
   "outputs": [],
   "source": [
    "features_1 = news_raw['sentence1']\n",
    "features_2 = news_raw['sentence2']\n",
    "\n",
    "target = news_raw['SimilarityScore']\n",
    "\n",
    "features_all = features_1.append(features_2)\n",
    "features_all.index = range(len(features_all))"
   ]
  },
  {
   "cell_type": "markdown",
   "metadata": {},
   "source": [
    "## Cleaning"
   ]
  },
  {
   "cell_type": "code",
   "execution_count": 12,
   "metadata": {},
   "outputs": [],
   "source": [
    "STOP_WORDS = nltk.corpus.stopwords.words('english')"
   ]
  },
  {
   "cell_type": "code",
   "execution_count": 13,
   "metadata": {},
   "outputs": [],
   "source": [
    "# tokenizer function same as in preprocess notebook\n",
    "def tokenize_text(text):\n",
    "    \n",
    "    text_tokenized = nltk.word_tokenize(text)\n",
    "    text_tokenized = [x.lower() for x in text_tokenized]\n",
    "    wordlist = []\n",
    "    for word in text_tokenized: \n",
    "        \n",
    "        if ((word not in STOP_WORDS) and (len(word)>2)):            \n",
    "            wordlist.append(word)\n",
    "        # if not (word.isalnum()):            \n",
    "        # text_tokenized.remove(word)\n",
    "            \n",
    "    return(wordlist)"
   ]
  },
  {
   "cell_type": "code",
   "execution_count": 24,
   "metadata": {},
   "outputs": [],
   "source": [
    "sent_clean_1 = [tokenize_text(sentence) for sentence in features_1]\n",
    "sent_clean_2 = [tokenize_text(sentence) for sentence in features_2]\n",
    "\n",
    "sent_clean_all = sent_clean_1 + sent_clean_2"
   ]
  },
  {
   "cell_type": "markdown",
   "metadata": {},
   "source": [
    "# Embedding"
   ]
  },
  {
   "cell_type": "markdown",
   "metadata": {},
   "source": [
    "## FastText (Pretrained on Wikipedia)"
   ]
  },
  {
   "cell_type": "markdown",
   "metadata": {},
   "source": [
    "https://radimrehurek.com/gensim/models/fasttext.html\n",
    "\n",
    "https://fasttext.cc/docs/en/crawl-vectors.html"
   ]
  },
  {
   "cell_type": "code",
   "execution_count": null,
   "metadata": {},
   "outputs": [],
   "source": [
    "# these are the pretrained fasttext word embeddings, but no model, not trainable, no word segment embeddings\n",
    "\n",
    "# model_pt = gensim.models.KeyedVectors.load_word2vec_format('../wiki-news-300d-1M.vec') "
   ]
  },
  {
   "cell_type": "code",
   "execution_count": 38,
   "metadata": {},
   "outputs": [
    {
     "name": "stdout",
     "output_type": "stream",
     "text": [
      "File exists. Use --overwrite to download anyway.\n"
     ]
    }
   ],
   "source": [
    "# only do this once, it is big\n",
    "FT_util.download_model('en', if_exists='ignore')"
   ]
  },
  {
   "cell_type": "code",
   "execution_count": 14,
   "metadata": {},
   "outputs": [
    {
     "name": "stderr",
     "output_type": "stream",
     "text": [
      "\n"
     ]
    }
   ],
   "source": [
    "ft = FT.load_model('cc.en.300.bin')\n",
    "#ft.save_model('cc.en.300.bin') # just in case"
   ]
  },
  {
   "cell_type": "code",
   "execution_count": 16,
   "metadata": {},
   "outputs": [
    {
     "name": "stdout",
     "output_type": "stream",
     "text": [
      "<class 'fasttext.FastText._FastText'>\n",
      "300\n",
      "(300,)\n"
     ]
    }
   ],
   "source": [
    "print(type(ft))\n",
    "print(ft.get_dimension())\n",
    "print(ft.get_word_vector('hello').shape)"
   ]
  },
  {
   "cell_type": "code",
   "execution_count": 17,
   "metadata": {},
   "outputs": [],
   "source": [
    "model_4 = ft"
   ]
  },
  {
   "cell_type": "markdown",
   "metadata": {},
   "source": [
    "## TF-IDF"
   ]
  },
  {
   "cell_type": "code",
   "execution_count": 25,
   "metadata": {},
   "outputs": [],
   "source": [
    "#SK02\n",
    "#this function creates the (for now only global) TF-IDF weights for each word.\n",
    "def calc_tf_idf(cleaned_doc_str = None, vocab = None):\n",
    "    #Calculate TF-IDF score for all words in the corpus\n",
    "    tfidf = TfidfVectorizer(\n",
    "          sublinear_tf=True\n",
    "        , min_df=1\n",
    "        , norm='l2'\n",
    "        , encoding='latin-1'\n",
    "        , ngram_range=(1,1)  #considering only 1-grams for now\n",
    "        , token_pattern= '(?u)\\\\b\\\\w+\\\\b' #changed from default in order to also include single letters in case they appear in the corpus.\n",
    "        , tokenizer=nltk.word_tokenize #we pass the corpus as words already.\n",
    "        , stop_words=None #we already removed stopwords\n",
    "        , vocabulary = vocab\n",
    "    ) \n",
    "    tfidf_matrix = tfidf.fit_transform(cleaned_doc_str).toarray()    \n",
    "    tfidf_matrix = pd.DataFrame(tfidf_matrix, columns = tfidf.get_feature_names())\n",
    "                                    \n",
    "    #if(not(len(tfidf.get_feature_names()) == len(model_3.wv.vocab.keys()))):\n",
    "    #   warnings.warn('The count of vocabulary from the word embedding does not coincide with the TF-IDF Vectorizer features.')\n",
    "    \n",
    "    return tfidf_matrix\n",
    "    #None\n",
    "    #tfidf_matrix contains TF-IDF scores for each document (in the rows) and word (in the columns)\n",
    "    #tfidf.get_feature_names() gives you the words in the order "
   ]
  },
  {
   "cell_type": "code",
   "execution_count": 26,
   "metadata": {},
   "outputs": [],
   "source": [
    "sentences_tfidf = calc_tf_idf(features_all)\n",
    "#global_word_tfidf"
   ]
  },
  {
   "cell_type": "code",
   "execution_count": 27,
   "metadata": {
    "scrolled": true
   },
   "outputs": [
    {
     "data": {
      "text/plain": [
       "2469"
      ]
     },
     "execution_count": 27,
     "metadata": {},
     "output_type": "execute_result"
    }
   ],
   "source": [
    "len(sentences_tfidf.keys())"
   ]
  },
  {
   "cell_type": "code",
   "execution_count": 28,
   "metadata": {},
   "outputs": [
    {
     "data": {
      "text/html": [
       "<div>\n",
       "<style scoped>\n",
       "    .dataframe tbody tr th:only-of-type {\n",
       "        vertical-align: middle;\n",
       "    }\n",
       "\n",
       "    .dataframe tbody tr th {\n",
       "        vertical-align: top;\n",
       "    }\n",
       "\n",
       "    .dataframe thead th {\n",
       "        text-align: right;\n",
       "    }\n",
       "</style>\n",
       "<table border=\"1\" class=\"dataframe\">\n",
       "  <thead>\n",
       "    <tr style=\"text-align: right;\">\n",
       "      <th></th>\n",
       "      <th>%</th>\n",
       "      <th>'</th>\n",
       "      <th>''</th>\n",
       "      <th>'are</th>\n",
       "      <th>'malaise</th>\n",
       "      <th>'only</th>\n",
       "      <th>'s</th>\n",
       "      <th>(</th>\n",
       "      <th>)</th>\n",
       "      <th>,</th>\n",
       "      <th>...</th>\n",
       "      <th>zahedan</th>\n",
       "      <th>zambians</th>\n",
       "      <th>zealand</th>\n",
       "      <th>zhang</th>\n",
       "      <th>zimbabwe</th>\n",
       "      <th>écartait</th>\n",
       "      <th>‘</th>\n",
       "      <th>’</th>\n",
       "      <th>“</th>\n",
       "      <th>”</th>\n",
       "    </tr>\n",
       "  </thead>\n",
       "  <tbody>\n",
       "    <tr>\n",
       "      <th>0</th>\n",
       "      <td>0.0</td>\n",
       "      <td>0.0</td>\n",
       "      <td>0.000000</td>\n",
       "      <td>0.0</td>\n",
       "      <td>0.0</td>\n",
       "      <td>0.0</td>\n",
       "      <td>0.0</td>\n",
       "      <td>0.0</td>\n",
       "      <td>0.0</td>\n",
       "      <td>0.000000</td>\n",
       "      <td>...</td>\n",
       "      <td>0.0</td>\n",
       "      <td>0.0</td>\n",
       "      <td>0.0</td>\n",
       "      <td>0.0</td>\n",
       "      <td>0.0</td>\n",
       "      <td>0.0</td>\n",
       "      <td>0.0</td>\n",
       "      <td>0.0</td>\n",
       "      <td>0.0</td>\n",
       "      <td>0.0</td>\n",
       "    </tr>\n",
       "    <tr>\n",
       "      <th>1</th>\n",
       "      <td>0.0</td>\n",
       "      <td>0.0</td>\n",
       "      <td>0.000000</td>\n",
       "      <td>0.0</td>\n",
       "      <td>0.0</td>\n",
       "      <td>0.0</td>\n",
       "      <td>0.0</td>\n",
       "      <td>0.0</td>\n",
       "      <td>0.0</td>\n",
       "      <td>0.000000</td>\n",
       "      <td>...</td>\n",
       "      <td>0.0</td>\n",
       "      <td>0.0</td>\n",
       "      <td>0.0</td>\n",
       "      <td>0.0</td>\n",
       "      <td>0.0</td>\n",
       "      <td>0.0</td>\n",
       "      <td>0.0</td>\n",
       "      <td>0.0</td>\n",
       "      <td>0.0</td>\n",
       "      <td>0.0</td>\n",
       "    </tr>\n",
       "    <tr>\n",
       "      <th>2</th>\n",
       "      <td>0.0</td>\n",
       "      <td>0.0</td>\n",
       "      <td>0.000000</td>\n",
       "      <td>0.0</td>\n",
       "      <td>0.0</td>\n",
       "      <td>0.0</td>\n",
       "      <td>0.0</td>\n",
       "      <td>0.0</td>\n",
       "      <td>0.0</td>\n",
       "      <td>0.232879</td>\n",
       "      <td>...</td>\n",
       "      <td>0.0</td>\n",
       "      <td>0.0</td>\n",
       "      <td>0.0</td>\n",
       "      <td>0.0</td>\n",
       "      <td>0.0</td>\n",
       "      <td>0.0</td>\n",
       "      <td>0.0</td>\n",
       "      <td>0.0</td>\n",
       "      <td>0.0</td>\n",
       "      <td>0.0</td>\n",
       "    </tr>\n",
       "    <tr>\n",
       "      <th>3</th>\n",
       "      <td>0.0</td>\n",
       "      <td>0.0</td>\n",
       "      <td>0.000000</td>\n",
       "      <td>0.0</td>\n",
       "      <td>0.0</td>\n",
       "      <td>0.0</td>\n",
       "      <td>0.0</td>\n",
       "      <td>0.0</td>\n",
       "      <td>0.0</td>\n",
       "      <td>0.000000</td>\n",
       "      <td>...</td>\n",
       "      <td>0.0</td>\n",
       "      <td>0.0</td>\n",
       "      <td>0.0</td>\n",
       "      <td>0.0</td>\n",
       "      <td>0.0</td>\n",
       "      <td>0.0</td>\n",
       "      <td>0.0</td>\n",
       "      <td>0.0</td>\n",
       "      <td>0.0</td>\n",
       "      <td>0.0</td>\n",
       "    </tr>\n",
       "    <tr>\n",
       "      <th>4</th>\n",
       "      <td>0.0</td>\n",
       "      <td>0.0</td>\n",
       "      <td>0.290893</td>\n",
       "      <td>0.0</td>\n",
       "      <td>0.0</td>\n",
       "      <td>0.0</td>\n",
       "      <td>0.0</td>\n",
       "      <td>0.0</td>\n",
       "      <td>0.0</td>\n",
       "      <td>0.000000</td>\n",
       "      <td>...</td>\n",
       "      <td>0.0</td>\n",
       "      <td>0.0</td>\n",
       "      <td>0.0</td>\n",
       "      <td>0.0</td>\n",
       "      <td>0.0</td>\n",
       "      <td>0.0</td>\n",
       "      <td>0.0</td>\n",
       "      <td>0.0</td>\n",
       "      <td>0.0</td>\n",
       "      <td>0.0</td>\n",
       "    </tr>\n",
       "    <tr>\n",
       "      <th>...</th>\n",
       "      <td>...</td>\n",
       "      <td>...</td>\n",
       "      <td>...</td>\n",
       "      <td>...</td>\n",
       "      <td>...</td>\n",
       "      <td>...</td>\n",
       "      <td>...</td>\n",
       "      <td>...</td>\n",
       "      <td>...</td>\n",
       "      <td>...</td>\n",
       "      <td>...</td>\n",
       "      <td>...</td>\n",
       "      <td>...</td>\n",
       "      <td>...</td>\n",
       "      <td>...</td>\n",
       "      <td>...</td>\n",
       "      <td>...</td>\n",
       "      <td>...</td>\n",
       "      <td>...</td>\n",
       "      <td>...</td>\n",
       "      <td>...</td>\n",
       "    </tr>\n",
       "    <tr>\n",
       "      <th>1303</th>\n",
       "      <td>0.0</td>\n",
       "      <td>0.0</td>\n",
       "      <td>0.000000</td>\n",
       "      <td>0.0</td>\n",
       "      <td>0.0</td>\n",
       "      <td>0.0</td>\n",
       "      <td>0.0</td>\n",
       "      <td>0.0</td>\n",
       "      <td>0.0</td>\n",
       "      <td>0.000000</td>\n",
       "      <td>...</td>\n",
       "      <td>0.0</td>\n",
       "      <td>0.0</td>\n",
       "      <td>0.0</td>\n",
       "      <td>0.0</td>\n",
       "      <td>0.0</td>\n",
       "      <td>0.0</td>\n",
       "      <td>0.0</td>\n",
       "      <td>0.0</td>\n",
       "      <td>0.0</td>\n",
       "      <td>0.0</td>\n",
       "    </tr>\n",
       "    <tr>\n",
       "      <th>1304</th>\n",
       "      <td>0.0</td>\n",
       "      <td>0.0</td>\n",
       "      <td>0.000000</td>\n",
       "      <td>0.0</td>\n",
       "      <td>0.0</td>\n",
       "      <td>0.0</td>\n",
       "      <td>0.0</td>\n",
       "      <td>0.0</td>\n",
       "      <td>0.0</td>\n",
       "      <td>0.000000</td>\n",
       "      <td>...</td>\n",
       "      <td>0.0</td>\n",
       "      <td>0.0</td>\n",
       "      <td>0.0</td>\n",
       "      <td>0.0</td>\n",
       "      <td>0.0</td>\n",
       "      <td>0.0</td>\n",
       "      <td>0.0</td>\n",
       "      <td>0.0</td>\n",
       "      <td>0.0</td>\n",
       "      <td>0.0</td>\n",
       "    </tr>\n",
       "    <tr>\n",
       "      <th>1305</th>\n",
       "      <td>0.0</td>\n",
       "      <td>0.0</td>\n",
       "      <td>0.000000</td>\n",
       "      <td>0.0</td>\n",
       "      <td>0.0</td>\n",
       "      <td>0.0</td>\n",
       "      <td>0.0</td>\n",
       "      <td>0.0</td>\n",
       "      <td>0.0</td>\n",
       "      <td>0.000000</td>\n",
       "      <td>...</td>\n",
       "      <td>0.0</td>\n",
       "      <td>0.0</td>\n",
       "      <td>0.0</td>\n",
       "      <td>0.0</td>\n",
       "      <td>0.0</td>\n",
       "      <td>0.0</td>\n",
       "      <td>0.0</td>\n",
       "      <td>0.0</td>\n",
       "      <td>0.0</td>\n",
       "      <td>0.0</td>\n",
       "    </tr>\n",
       "    <tr>\n",
       "      <th>1306</th>\n",
       "      <td>0.0</td>\n",
       "      <td>0.0</td>\n",
       "      <td>0.000000</td>\n",
       "      <td>0.0</td>\n",
       "      <td>0.0</td>\n",
       "      <td>0.0</td>\n",
       "      <td>0.0</td>\n",
       "      <td>0.0</td>\n",
       "      <td>0.0</td>\n",
       "      <td>0.000000</td>\n",
       "      <td>...</td>\n",
       "      <td>0.0</td>\n",
       "      <td>0.0</td>\n",
       "      <td>0.0</td>\n",
       "      <td>0.0</td>\n",
       "      <td>0.0</td>\n",
       "      <td>0.0</td>\n",
       "      <td>0.0</td>\n",
       "      <td>0.0</td>\n",
       "      <td>0.0</td>\n",
       "      <td>0.0</td>\n",
       "    </tr>\n",
       "    <tr>\n",
       "      <th>1307</th>\n",
       "      <td>0.0</td>\n",
       "      <td>0.0</td>\n",
       "      <td>0.000000</td>\n",
       "      <td>0.0</td>\n",
       "      <td>0.0</td>\n",
       "      <td>0.0</td>\n",
       "      <td>0.0</td>\n",
       "      <td>0.0</td>\n",
       "      <td>0.0</td>\n",
       "      <td>0.000000</td>\n",
       "      <td>...</td>\n",
       "      <td>0.0</td>\n",
       "      <td>0.0</td>\n",
       "      <td>0.0</td>\n",
       "      <td>0.0</td>\n",
       "      <td>0.0</td>\n",
       "      <td>0.0</td>\n",
       "      <td>0.0</td>\n",
       "      <td>0.0</td>\n",
       "      <td>0.0</td>\n",
       "      <td>0.0</td>\n",
       "    </tr>\n",
       "  </tbody>\n",
       "</table>\n",
       "<p>1308 rows × 2469 columns</p>\n",
       "</div>"
      ],
      "text/plain": [
       "        %    '        ''  'are  'malaise  'only   's    (    )         ,  ...  \\\n",
       "0     0.0  0.0  0.000000   0.0       0.0    0.0  0.0  0.0  0.0  0.000000  ...   \n",
       "1     0.0  0.0  0.000000   0.0       0.0    0.0  0.0  0.0  0.0  0.000000  ...   \n",
       "2     0.0  0.0  0.000000   0.0       0.0    0.0  0.0  0.0  0.0  0.232879  ...   \n",
       "3     0.0  0.0  0.000000   0.0       0.0    0.0  0.0  0.0  0.0  0.000000  ...   \n",
       "4     0.0  0.0  0.290893   0.0       0.0    0.0  0.0  0.0  0.0  0.000000  ...   \n",
       "...   ...  ...       ...   ...       ...    ...  ...  ...  ...       ...  ...   \n",
       "1303  0.0  0.0  0.000000   0.0       0.0    0.0  0.0  0.0  0.0  0.000000  ...   \n",
       "1304  0.0  0.0  0.000000   0.0       0.0    0.0  0.0  0.0  0.0  0.000000  ...   \n",
       "1305  0.0  0.0  0.000000   0.0       0.0    0.0  0.0  0.0  0.0  0.000000  ...   \n",
       "1306  0.0  0.0  0.000000   0.0       0.0    0.0  0.0  0.0  0.0  0.000000  ...   \n",
       "1307  0.0  0.0  0.000000   0.0       0.0    0.0  0.0  0.0  0.0  0.000000  ...   \n",
       "\n",
       "      zahedan  zambians  zealand  zhang  zimbabwe  écartait    ‘    ’    “  \\\n",
       "0         0.0       0.0      0.0    0.0       0.0       0.0  0.0  0.0  0.0   \n",
       "1         0.0       0.0      0.0    0.0       0.0       0.0  0.0  0.0  0.0   \n",
       "2         0.0       0.0      0.0    0.0       0.0       0.0  0.0  0.0  0.0   \n",
       "3         0.0       0.0      0.0    0.0       0.0       0.0  0.0  0.0  0.0   \n",
       "4         0.0       0.0      0.0    0.0       0.0       0.0  0.0  0.0  0.0   \n",
       "...       ...       ...      ...    ...       ...       ...  ...  ...  ...   \n",
       "1303      0.0       0.0      0.0    0.0       0.0       0.0  0.0  0.0  0.0   \n",
       "1304      0.0       0.0      0.0    0.0       0.0       0.0  0.0  0.0  0.0   \n",
       "1305      0.0       0.0      0.0    0.0       0.0       0.0  0.0  0.0  0.0   \n",
       "1306      0.0       0.0      0.0    0.0       0.0       0.0  0.0  0.0  0.0   \n",
       "1307      0.0       0.0      0.0    0.0       0.0       0.0  0.0  0.0  0.0   \n",
       "\n",
       "        ”  \n",
       "0     0.0  \n",
       "1     0.0  \n",
       "2     0.0  \n",
       "3     0.0  \n",
       "4     0.0  \n",
       "...   ...  \n",
       "1303  0.0  \n",
       "1304  0.0  \n",
       "1305  0.0  \n",
       "1306  0.0  \n",
       "1307  0.0  \n",
       "\n",
       "[1308 rows x 2469 columns]"
      ]
     },
     "execution_count": 28,
     "metadata": {},
     "output_type": "execute_result"
    }
   ],
   "source": [
    "sentences_tfidf"
   ]
  },
  {
   "cell_type": "markdown",
   "metadata": {},
   "source": [
    "# Similarity metrics"
   ]
  },
  {
   "cell_type": "markdown",
   "metadata": {},
   "source": [
    "## Combine FastText & TF-IDF"
   ]
  },
  {
   "cell_type": "markdown",
   "metadata": {},
   "source": [
    "Should there be a way to weight tfidf weights...?\n",
    "\n",
    "(means: possibility to play with how mucht influence it has on the resulting embeddings)"
   ]
  },
  {
   "cell_type": "code",
   "execution_count": 29,
   "metadata": {},
   "outputs": [],
   "source": [
    "#loop through tfidf feature_names (the model vocab can be much larger since pretrained. But we are only interested in our own words from the corpus.)\n",
    "def embedding_sentence(sentence, model, tfidf):\n",
    "    '''\n",
    "    This function is to average all words vectors in a given sentence, wegihting them by their tfidf-score.\n",
    "\n",
    "    Parameters\n",
    "    ----------\n",
    "    sentence : a list of token strings\n",
    "    \n",
    "    model : a word embedding model \n",
    "            which can give an embedding vector \n",
    "            for each token in sentence\n",
    "            \n",
    "    tfidf : the tfidf weights vector of sentence\n",
    "    '''\n",
    "    sentence_embedding = pd.DataFrame([model.get_word_vector(i)*tfidf[i] for i in sentence]).mean()\n",
    "    return(sentence_embedding)\n"
   ]
  },
  {
   "cell_type": "code",
   "execution_count": 31,
   "metadata": {},
   "outputs": [],
   "source": [
    "embeddings_all = pd.DataFrame([embedding_sentence(sent_clean_all[i],model_4,sentences_tfidf.iloc[i,:]) for i in range(len(sent_clean_all))])"
   ]
  },
  {
   "cell_type": "code",
   "execution_count": 32,
   "metadata": {
    "scrolled": true
   },
   "outputs": [
    {
     "name": "stdout",
     "output_type": "stream",
     "text": [
      "654\n",
      "654\n"
     ]
    }
   ],
   "source": [
    "embeddings_1 = embeddings_all[:len(features_1)]\n",
    "embeddings_2 = embeddings_all[len(features_1):]\n",
    "embeddings_2.index = embeddings_1.index\n",
    "print(len(embeddings_1))\n",
    "print(len(embeddings_2))"
   ]
  },
  {
   "cell_type": "markdown",
   "metadata": {},
   "source": [
    "## Cosine similarity"
   ]
  },
  {
   "cell_type": "code",
   "execution_count": 34,
   "metadata": {},
   "outputs": [],
   "source": [
    "news_raw['FT x TFIDF Cosine similarity'] = [(\n",
    "    cosine_similarity(\n",
    "        np.array(embeddings_1.iloc[i,:]).reshape(1,-1),\n",
    "        np.array(embeddings_2.iloc[i,:]).reshape(1,-1)\n",
    "    ))[0,0] for i in range(len(news_raw))]"
   ]
  },
  {
   "cell_type": "code",
   "execution_count": 35,
   "metadata": {},
   "outputs": [
    {
     "data": {
      "text/html": [
       "<div>\n",
       "<style scoped>\n",
       "    .dataframe tbody tr th:only-of-type {\n",
       "        vertical-align: middle;\n",
       "    }\n",
       "\n",
       "    .dataframe tbody tr th {\n",
       "        vertical-align: top;\n",
       "    }\n",
       "\n",
       "    .dataframe thead th {\n",
       "        text-align: right;\n",
       "    }\n",
       "</style>\n",
       "<table border=\"1\" class=\"dataframe\">\n",
       "  <thead>\n",
       "    <tr style=\"text-align: right;\">\n",
       "      <th></th>\n",
       "      <th>SimilarityScore</th>\n",
       "      <th>sentence1</th>\n",
       "      <th>sentence2</th>\n",
       "      <th>FT x TFIDF Cosine similarity</th>\n",
       "    </tr>\n",
       "  </thead>\n",
       "  <tbody>\n",
       "    <tr>\n",
       "      <th>0</th>\n",
       "      <td>4.000</td>\n",
       "      <td>Last year he was wanted for murder.</td>\n",
       "      <td>Last year it was sought to murder.</td>\n",
       "      <td>0.933498</td>\n",
       "    </tr>\n",
       "    <tr>\n",
       "      <th>1</th>\n",
       "      <td>5.000</td>\n",
       "      <td>Pro-market economists don't object to corporat...</td>\n",
       "      <td>Economists' not against the companies openly u...</td>\n",
       "      <td>0.637098</td>\n",
       "    </tr>\n",
       "    <tr>\n",
       "      <th>2</th>\n",
       "      <td>5.000</td>\n",
       "      <td>And, perhaps most importantly, Ahmadinejad is ...</td>\n",
       "      <td>And, perhaps the most important, Ahmadinejad d...</td>\n",
       "      <td>0.964719</td>\n",
       "    </tr>\n",
       "    <tr>\n",
       "      <th>3</th>\n",
       "      <td>4.667</td>\n",
       "      <td>A Europe for All</td>\n",
       "      <td>All Europe</td>\n",
       "      <td>1.000000</td>\n",
       "    </tr>\n",
       "    <tr>\n",
       "      <th>4</th>\n",
       "      <td>4.500</td>\n",
       "      <td>Gays and other \"modern\" practices are rejected...</td>\n",
       "      <td>The gay and other practical \"Modern\" are rejec...</td>\n",
       "      <td>0.828625</td>\n",
       "    </tr>\n",
       "    <tr>\n",
       "      <th>...</th>\n",
       "      <td>...</td>\n",
       "      <td>...</td>\n",
       "      <td>...</td>\n",
       "      <td>...</td>\n",
       "    </tr>\n",
       "    <tr>\n",
       "      <th>649</th>\n",
       "      <td>1.800</td>\n",
       "      <td>indian and pakistani governments nearly engage...</td>\n",
       "      <td>indian and pakistani governments each conducte...</td>\n",
       "      <td>0.705302</td>\n",
       "    </tr>\n",
       "    <tr>\n",
       "      <th>650</th>\n",
       "      <td>3.800</td>\n",
       "      <td>iguaran stated that the detainees will be accu...</td>\n",
       "      <td>iguaran stated that the detainees were also in...</td>\n",
       "      <td>0.797456</td>\n",
       "    </tr>\n",
       "    <tr>\n",
       "      <th>651</th>\n",
       "      <td>2.400</td>\n",
       "      <td>3 suspected extremists were released on bail.</td>\n",
       "      <td>1 suspected extremist was provisionally releas...</td>\n",
       "      <td>0.962937</td>\n",
       "    </tr>\n",
       "    <tr>\n",
       "      <th>652</th>\n",
       "      <td>0.800</td>\n",
       "      <td>6 czech hospital employees are charged with hu...</td>\n",
       "      <td>the accused will be charged with international...</td>\n",
       "      <td>0.541181</td>\n",
       "    </tr>\n",
       "    <tr>\n",
       "      <th>653</th>\n",
       "      <td>2.000</td>\n",
       "      <td>this further aggravated the situation.</td>\n",
       "      <td>north korea should not act further to aggravat...</td>\n",
       "      <td>0.463584</td>\n",
       "    </tr>\n",
       "  </tbody>\n",
       "</table>\n",
       "<p>654 rows × 4 columns</p>\n",
       "</div>"
      ],
      "text/plain": [
       "     SimilarityScore                                          sentence1  \\\n",
       "0              4.000                Last year he was wanted for murder.   \n",
       "1              5.000  Pro-market economists don't object to corporat...   \n",
       "2              5.000  And, perhaps most importantly, Ahmadinejad is ...   \n",
       "3              4.667                                   A Europe for All   \n",
       "4              4.500  Gays and other \"modern\" practices are rejected...   \n",
       "..               ...                                                ...   \n",
       "649            1.800  indian and pakistani governments nearly engage...   \n",
       "650            3.800  iguaran stated that the detainees will be accu...   \n",
       "651            2.400     3 suspected extremists were released on bail.    \n",
       "652            0.800  6 czech hospital employees are charged with hu...   \n",
       "653            2.000            this further aggravated the situation.    \n",
       "\n",
       "                                             sentence2  \\\n",
       "0                 Last year it was sought to murder.     \n",
       "1    Economists' not against the companies openly u...   \n",
       "2    And, perhaps the most important, Ahmadinejad d...   \n",
       "3                                           All Europe   \n",
       "4    The gay and other practical \"Modern\" are rejec...   \n",
       "..                                                 ...   \n",
       "649  indian and pakistani governments each conducte...   \n",
       "650  iguaran stated that the detainees were also in...   \n",
       "651  1 suspected extremist was provisionally releas...   \n",
       "652  the accused will be charged with international...   \n",
       "653  north korea should not act further to aggravat...   \n",
       "\n",
       "     FT x TFIDF Cosine similarity  \n",
       "0                        0.933498  \n",
       "1                        0.637098  \n",
       "2                        0.964719  \n",
       "3                        1.000000  \n",
       "4                        0.828625  \n",
       "..                            ...  \n",
       "649                      0.705302  \n",
       "650                      0.797456  \n",
       "651                      0.962937  \n",
       "652                      0.541181  \n",
       "653                      0.463584  \n",
       "\n",
       "[654 rows x 4 columns]"
      ]
     },
     "execution_count": 35,
     "metadata": {},
     "output_type": "execute_result"
    }
   ],
   "source": [
    "news_raw"
   ]
  },
  {
   "cell_type": "code",
   "execution_count": 46,
   "metadata": {
    "scrolled": true
   },
   "outputs": [
    {
     "data": {
      "text/plain": [
       "<matplotlib.collections.PathCollection at 0x1f1078ce7b8>"
      ]
     },
     "execution_count": 46,
     "metadata": {},
     "output_type": "execute_result"
    },
    {
     "data": {
      "image/png": "[encoded data removed]",
      "text/plain": [
       "<Figure size 1080x720 with 1 Axes>"
      ]
     },
     "metadata": {
      "needs_background": "light"
     },
     "output_type": "display_data"
    }
   ],
   "source": [
    "# this plot shows the raw cosine similarity scores of sentence pairs\n",
    "# according to the human similarity scores\n",
    "# ideally, this should be a positive correlation\n",
    "\n",
    "fig = plt.figure(figsize=(15,10))\n",
    "#plt.xlim(0.99,1) \n",
    "plt.scatter(news_raw['SimilarityScore'] ,news_raw['FT x TFIDF Cosine similarity'], alpha = 0.2, s = 200)"
   ]
  },
  {
   "cell_type": "markdown",
   "metadata": {},
   "source": [
    "## Similarity ranking distance"
   ]
  },
  {
   "cell_type": "code",
   "execution_count": 39,
   "metadata": {},
   "outputs": [],
   "source": [
    "def find_most_similar(sentences, embeddings, model, target):\n",
    "    '''\n",
    "    This function creates a dataframe that ranks the sentences dataframe \n",
    "    by their embedding's cosine similarity to that of target expression.\n",
    "\n",
    "    Parameters\n",
    "    ----------\n",
    "    sentences : a list of token strings\n",
    "    \n",
    "    embeddings : an embeddings dataframe with embeddings for sentences (ids must correspond)\n",
    "    \n",
    "    model: the model that generated the embeddings\n",
    "            \n",
    "    target : a string expression\n",
    "    '''\n",
    "    sentences = sentences\n",
    "    target = model.get_word_vector(target)\n",
    "    id = range(len(sentences))\n",
    "    similarities = (cosine_similarity(\n",
    "                    np.array(embeddings),\n",
    "                    np.array(target).reshape(1,-1)\n",
    "                  )).T[0]\n",
    "    df = pd.DataFrame({'id': id, 'sentences': sentences, 'similarities': similarities}).sort_values(by = 'similarities', ascending = False)\n",
    "    df.index = range(len(df))\n",
    "    return(df)"
   ]
  },
  {
   "cell_type": "code",
   "execution_count": 40,
   "metadata": {},
   "outputs": [],
   "source": [
    "ranks = []\n",
    "for i in range(len(news_raw)):\n",
    "  toplist = find_most_similar(features_2, embeddings_2, model_4, features_1[i])\n",
    "  rank = toplist[toplist['sentences']==features_2[i]].index.values.mean()\n",
    "  ranks.append(rank)"
   ]
  },
  {
   "cell_type": "code",
   "execution_count": 41,
   "metadata": {},
   "outputs": [],
   "source": [
    "news_raw['similarity rank'] = ranks"
   ]
  },
  {
   "cell_type": "code",
   "execution_count": 45,
   "metadata": {},
   "outputs": [
    {
     "data": {
      "text/plain": [
       "<matplotlib.collections.PathCollection at 0x1f107876240>"
      ]
     },
     "execution_count": 45,
     "metadata": {},
     "output_type": "execute_result"
    },
    {
     "data": {
      "image/png": "[encoded data removed]",
      "text/plain": [
       "<Figure size 1080x720 with 1 Axes>"
      ]
     },
     "metadata": {
      "needs_background": "light"
     },
     "output_type": "display_data"
    }
   ],
   "source": [
    "# this plot shows how the rank of the second sentence on the toplist of first sentence\n",
    "# according to the human similarity scores\n",
    "# ideally, it should be a negative correlation.\n",
    "\n",
    "fig = plt.figure(figsize=(15,10))\n",
    "plt.scatter(news_raw['SimilarityScore'] ,news_raw['similarity rank'], alpha = 0.2, s = 200)"
   ]
  },
  {
   "cell_type": "markdown",
   "metadata": {},
   "source": [
    "# Active Learning"
   ]
  },
  {
   "cell_type": "markdown",
   "metadata": {},
   "source": [
    "from here on, this notebook is not actualised"
   ]
  },
  {
   "cell_type": "markdown",
   "metadata": {},
   "source": [
    "## Input Preparation"
   ]
  },
  {
   "cell_type": "code",
   "execution_count": 26,
   "metadata": {},
   "outputs": [],
   "source": [
    "#SK03\n",
    "feature_size = 500\n",
    "tokenizer = Tokenizer(num_words = feature_size, split = ' ')\n",
    "# fit the tokenizer on our text\n",
    "tokenizer.fit_on_texts(list(features_all)) #SK03 changed to be applied son sent_clean instead of features (which is grouped by docs)"
   ]
  },
  {
   "cell_type": "code",
   "execution_count": 29,
   "metadata": {},
   "outputs": [],
   "source": [
    "# put the tokens in a matrix\n",
    "X_1 = tokenizer.texts_to_sequences(features_1)\n",
    "X_1 = pad_sequences(X_1)\n",
    "\n",
    "#len(X) = number of sentences in all docsX"
   ]
  },
  {
   "cell_type": "code",
   "execution_count": 34,
   "metadata": {},
   "outputs": [],
   "source": [
    "#SK04\n",
    "def calc_target_per_sent(sentence_per_doc = None, target_original = None):\n",
    "    \n",
    "    current_target_idx = 0\n",
    "    new_target = pd.DataFrame()\n",
    "    for doc in sentence_per_doc:\n",
    "        for sentence in doc:\n",
    "            new_target = new_target.append(target.iloc[current_target_idx:current_target_idx+1])\n",
    "            \n",
    "        current_target_idx += 1\n",
    "\n",
    "        \n",
    "    return new_target.reset_index(drop = True)"
   ]
  },
  {
   "cell_type": "code",
   "execution_count": null,
   "metadata": {},
   "outputs": [],
   "source": [
    "target = calc_target_per_sent(doc_sent_clean, target)"
   ]
  },
  {
   "cell_type": "code",
   "execution_count": null,
   "metadata": {},
   "outputs": [],
   "source": [
    "# prepare the labels\n",
    "y = pd.get_dummies(target).to_numpy()"
   ]
  },
  {
   "cell_type": "code",
   "execution_count": null,
   "metadata": {},
   "outputs": [],
   "source": [
    "print(len(X))\n",
    "print(len(y))"
   ]
  },
  {
   "cell_type": "code",
   "execution_count": null,
   "metadata": {},
   "outputs": [],
   "source": [
    "# split in train and test\n",
    "X_train, X_test, y_train, y_test = train_test_split(X, y, test_size=0.1, shuffle=False)"
   ]
  },
  {
   "cell_type": "markdown",
   "metadata": {},
   "source": [
    "## Define and Run Model"
   ]
  },
  {
   "cell_type": "code",
   "execution_count": null,
   "metadata": {
    "scrolled": true
   },
   "outputs": [],
   "source": [
    "# init model\n",
    "model = Sequential()\n",
    "# emmbed word vectors\n",
    "model.add(Embedding(len(global_word_tfidf.keys()) + 1 ,\n",
    "                    300,\n",
    "                    input_length  = X.shape[1],\n",
    "                    weights = [embedding_matrix],\n",
    "                    trainable=False))\n",
    "# learn the correlations\n",
    "model.add(LSTM(300,return_sequences=False))\n",
    "model.add(Dense(12,activation=\"softmax\")) \n",
    "# output model skeleton\n",
    "model.summary()\n",
    "model.compile(optimizer=\"nadam\",loss=\"categorical_crossentropy\",metrics=['acc'],learning_rate=0.005)"
   ]
  },
  {
   "cell_type": "code",
   "execution_count": null,
   "metadata": {},
   "outputs": [],
   "source": [
    "# ca. 15 min / epoch\n",
    "batch = 64\n",
    "epochs = 15\n",
    "model.fit(X_train,y_train,batch,epochs)"
   ]
  },
  {
   "cell_type": "code",
   "execution_count": null,
   "metadata": {},
   "outputs": [],
   "source": [
    "model.evaluate(X_test,y_test)"
   ]
  }
 ],
 "metadata": {
  "kernelspec": {
   "display_name": "Python Propulsion",
   "language": "python",
   "name": "propulsion"
  },
  "language_info": {
   "codemirror_mode": {
    "name": "ipython",
    "version": 3
   },
   "file_extension": ".py",
   "mimetype": "text/x-python",
   "name": "python",
   "nbconvert_exporter": "python",
   "pygments_lexer": "ipython3",
   "version": "3.7.1"
  }
 },
 "nbformat": 4,
 "nbformat_minor": 4
}

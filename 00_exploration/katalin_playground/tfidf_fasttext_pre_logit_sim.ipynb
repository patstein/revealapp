{
 "cells": [
  {
   "cell_type": "markdown",
   "metadata": {},
   "source": [
    "# FastText + NN"
   ]
  },
  {
   "cell_type": "markdown",
   "metadata": {},
   "source": [
    "### __Author__: Patrick Steiner\n",
    "\n",
    "__Created__: 31.03.2020\n",
    "\n",
    "__Version__: 3\n",
    "\n",
    "__Description__: Creates sentence embedding based on tf-idf and word-embedding and feeds this in a NN\n",
    "\n",
    "\n",
    "\n",
    "\n",
    "|Change ID | Date       |  Author             |Change Description                   |\n",
    "|----------|------------|---------------------|--------------------------------------|\n",
    "|#SK01     | 03.04.2020 | Severin Kappeler    |Re-define corpus with split by sentence rather than by document | \n",
    "|#SK02     | 03.04.2020 | Severin Kappeler    |Embedding matrix weighted by TF-IDF score for each word-embedding vector. Using here the \"global\" TF-IDF. For a given word the \"global\" TF-IDF score is the average of all the TF-IDF scores for that word over all documents.  | \n",
    "|#SK03     | 03.04.2020 | Severin Kappeler    |Apply tokenize.texts_to_sequence to sentence list rather than document list| \n",
    "|#SK04     | 03.04.2020 | Severin Kappeler    |Converting label (target) to be on sentence level rather than document level.      | \n",
    "|#SK05     | 03.04.2020 | Severin Kappeler    |Adding split to sentence part for features |\n",
    "|#SK06     | 03.07.2020 | Katalin Horvath     |Replace Word2vec with FastText, adapt TF-IDF vocabulary to FastText|\n",
    "|#SK07     | 03.07.2020 | Katalin Horvath     |Replace training data with similarity scores data|"
   ]
  },
  {
   "cell_type": "code",
   "execution_count": 2,
   "metadata": {},
   "outputs": [],
   "source": [
    "# see also 06-Natural-Language_processing notebooks. This one focuses only on doc2vec.\n",
    "import pandas as pd\n",
    "pd.options.mode.chained_assignment = None \n",
    "import numpy as np\n",
    "import re\n",
    "import nltk\n",
    "import os\n",
    "import smart_open\n",
    "import collections\n",
    "import scipy.stats as stats\n",
    "import tensorflow as tf\n",
    "import gensim\n",
    "import tqdm\n",
    "import warnings\n",
    "import io\n",
    "from pprint import pprint as print\n",
    "\n",
    "# !pip install fasttext\n",
    "import fasttext as FT\n",
    "\n",
    "from gensim.models.word2vec import Word2Vec\n",
    "from gensim.models.doc2vec import Doc2Vec, TaggedDocument\n",
    "from gensim.models.fasttext import FastText as FT_gensim\n",
    "#from gensim.models.wrappers import FastText\n",
    "from gensim.test.utils import datapath\n",
    "from gensim.test.utils import common_texts\n",
    "from gensim.test.utils import get_tmpfile\n",
    "\n",
    "from tensorflow import keras\n",
    "from tensorflow.keras import Sequential\n",
    "from tensorflow.keras.layers import Embedding, Dense, Flatten, LSTM\n",
    "from tensorflow.keras.preprocessing.text import Tokenizer\n",
    "from tensorflow.keras.preprocessing.sequence import pad_sequences\n",
    "\n",
    "from sklearn.manifold import TSNE\n",
    "import matplotlib.pyplot as plt\n",
    "%matplotlib inline\n",
    "\n",
    "from nltk import word_tokenize\n",
    "from nltk.stem import PorterStemmer\n",
    "\n",
    "from sklearn.model_selection import train_test_split\n",
    "from sklearn.pipeline import Pipeline\n",
    "from sklearn.metrics import classification_report, accuracy_score, confusion_matrix,roc_auc_score, roc_curve, mean_squared_error\n",
    "from sklearn.metrics.pairwise import cosine_similarity\n",
    "from sklearn.feature_extraction.text import TfidfVectorizer\n",
    "from sklearn.feature_extraction.text import CountVectorizer\n",
    "from sklearn.feature_extraction.text import TfidfTransformer\n",
    "from sklearn.linear_model import SGDClassifier, LinearRegression, LogisticRegression\n",
    "from sklearn.naive_bayes import MultinomialNB\n",
    "#from sklearn.model_selection import GridSearchCV, RandomSearch\n",
    "from sklearn.ensemble import RandomForestClassifier\n",
    "from sklearn import svm, tree\n",
    "import xgboost"
   ]
  },
  {
   "cell_type": "code",
   "execution_count": 3,
   "metadata": {},
   "outputs": [],
   "source": [
    "# this just for now, because Windows. A helper with somme missing methods from fasttext. Needed for loadin the .bin pretrained model.\n",
    "# Othervise, just use fasstext.util (imported as FT.util) (also not the gensim one)\n",
    "import FT_util"
   ]
  },
  {
   "cell_type": "markdown",
   "metadata": {},
   "source": [
    "# Preprocessing"
   ]
  },
  {
   "cell_type": "markdown",
   "metadata": {},
   "source": [
    "## Import"
   ]
  },
  {
   "cell_type": "code",
   "execution_count": 4,
   "metadata": {},
   "outputs": [],
   "source": [
    "#os.chdir('/Users/patrickrs/Documents/GitLab/patrick-steiner/Exercises')\n",
    "news1_raw = pd.read_csv('../data/raw/2012.SMTnews.test.csv', sep='\\t', header=None, names=['SimilarityScore', 'sentence1', 'sentence2'])\n",
    "news2_raw = pd.read_csv('../data/raw/2014.deft-news.test.csv', sep='\\t', header=None, names=['SimilarityScore', 'sentence1', 'sentence2'])\n",
    "\n",
    "news_raw = news1_raw.copy()\n",
    "news_raw = news_raw.append(news2_raw)\n",
    "news_raw.drop_duplicates(inplace=True)\n",
    "news_raw.reset_index(inplace=True, drop = True)"
   ]
  },
  {
   "cell_type": "code",
   "execution_count": 5,
   "metadata": {},
   "outputs": [],
   "source": [
    "# mark pairs rated under 2.0 SimilarityScore as unsimilar (0) and similar (1) above that:\n",
    "news_raw['binary'] = news_raw['SimilarityScore'].apply(lambda x: 0 if x<2 else 1)"
   ]
  },
  {
   "cell_type": "code",
   "execution_count": 6,
   "metadata": {},
   "outputs": [
    {
     "data": {
      "text/html": [
       "<div>\n",
       "<style scoped>\n",
       "    .dataframe tbody tr th:only-of-type {\n",
       "        vertical-align: middle;\n",
       "    }\n",
       "\n",
       "    .dataframe tbody tr th {\n",
       "        vertical-align: top;\n",
       "    }\n",
       "\n",
       "    .dataframe thead th {\n",
       "        text-align: right;\n",
       "    }\n",
       "</style>\n",
       "<table border=\"1\" class=\"dataframe\">\n",
       "  <thead>\n",
       "    <tr style=\"text-align: right;\">\n",
       "      <th></th>\n",
       "      <th>SimilarityScore</th>\n",
       "      <th>sentence1</th>\n",
       "      <th>sentence2</th>\n",
       "      <th>binary</th>\n",
       "    </tr>\n",
       "  </thead>\n",
       "  <tbody>\n",
       "    <tr>\n",
       "      <th>0</th>\n",
       "      <td>4.000</td>\n",
       "      <td>Last year he was wanted for murder.</td>\n",
       "      <td>Last year it was sought to murder.</td>\n",
       "      <td>1</td>\n",
       "    </tr>\n",
       "    <tr>\n",
       "      <th>1</th>\n",
       "      <td>5.000</td>\n",
       "      <td>Pro-market economists don't object to corporat...</td>\n",
       "      <td>Economists' not against the companies openly u...</td>\n",
       "      <td>1</td>\n",
       "    </tr>\n",
       "    <tr>\n",
       "      <th>2</th>\n",
       "      <td>5.000</td>\n",
       "      <td>And, perhaps most importantly, Ahmadinejad is ...</td>\n",
       "      <td>And, perhaps the most important, Ahmadinejad d...</td>\n",
       "      <td>1</td>\n",
       "    </tr>\n",
       "    <tr>\n",
       "      <th>3</th>\n",
       "      <td>4.667</td>\n",
       "      <td>A Europe for All</td>\n",
       "      <td>All Europe</td>\n",
       "      <td>1</td>\n",
       "    </tr>\n",
       "    <tr>\n",
       "      <th>4</th>\n",
       "      <td>4.500</td>\n",
       "      <td>Gays and other \"modern\" practices are rejected...</td>\n",
       "      <td>The gay and other practical \"Modern\" are rejec...</td>\n",
       "      <td>1</td>\n",
       "    </tr>\n",
       "    <tr>\n",
       "      <th>...</th>\n",
       "      <td>...</td>\n",
       "      <td>...</td>\n",
       "      <td>...</td>\n",
       "      <td>...</td>\n",
       "    </tr>\n",
       "    <tr>\n",
       "      <th>649</th>\n",
       "      <td>1.800</td>\n",
       "      <td>indian and pakistani governments nearly engage...</td>\n",
       "      <td>indian and pakistani governments each conducte...</td>\n",
       "      <td>0</td>\n",
       "    </tr>\n",
       "    <tr>\n",
       "      <th>650</th>\n",
       "      <td>3.800</td>\n",
       "      <td>iguaran stated that the detainees will be accu...</td>\n",
       "      <td>iguaran stated that the detainees were also in...</td>\n",
       "      <td>1</td>\n",
       "    </tr>\n",
       "    <tr>\n",
       "      <th>651</th>\n",
       "      <td>2.400</td>\n",
       "      <td>3 suspected extremists were released on bail.</td>\n",
       "      <td>1 suspected extremist was provisionally releas...</td>\n",
       "      <td>1</td>\n",
       "    </tr>\n",
       "    <tr>\n",
       "      <th>652</th>\n",
       "      <td>0.800</td>\n",
       "      <td>6 czech hospital employees are charged with hu...</td>\n",
       "      <td>the accused will be charged with international...</td>\n",
       "      <td>0</td>\n",
       "    </tr>\n",
       "    <tr>\n",
       "      <th>653</th>\n",
       "      <td>2.000</td>\n",
       "      <td>this further aggravated the situation.</td>\n",
       "      <td>north korea should not act further to aggravat...</td>\n",
       "      <td>1</td>\n",
       "    </tr>\n",
       "  </tbody>\n",
       "</table>\n",
       "<p>654 rows × 4 columns</p>\n",
       "</div>"
      ],
      "text/plain": [
       "     SimilarityScore                                          sentence1  \\\n",
       "0              4.000                Last year he was wanted for murder.   \n",
       "1              5.000  Pro-market economists don't object to corporat...   \n",
       "2              5.000  And, perhaps most importantly, Ahmadinejad is ...   \n",
       "3              4.667                                   A Europe for All   \n",
       "4              4.500  Gays and other \"modern\" practices are rejected...   \n",
       "..               ...                                                ...   \n",
       "649            1.800  indian and pakistani governments nearly engage...   \n",
       "650            3.800  iguaran stated that the detainees will be accu...   \n",
       "651            2.400     3 suspected extremists were released on bail.    \n",
       "652            0.800  6 czech hospital employees are charged with hu...   \n",
       "653            2.000            this further aggravated the situation.    \n",
       "\n",
       "                                             sentence2  binary  \n",
       "0                 Last year it was sought to murder.         1  \n",
       "1    Economists' not against the companies openly u...       1  \n",
       "2    And, perhaps the most important, Ahmadinejad d...       1  \n",
       "3                                           All Europe       1  \n",
       "4    The gay and other practical \"Modern\" are rejec...       1  \n",
       "..                                                 ...     ...  \n",
       "649  indian and pakistani governments each conducte...       0  \n",
       "650  iguaran stated that the detainees were also in...       1  \n",
       "651  1 suspected extremist was provisionally releas...       1  \n",
       "652  the accused will be charged with international...       0  \n",
       "653  north korea should not act further to aggravat...       1  \n",
       "\n",
       "[654 rows x 4 columns]"
      ]
     },
     "execution_count": 6,
     "metadata": {},
     "output_type": "execute_result"
    }
   ],
   "source": [
    "news_raw"
   ]
  },
  {
   "cell_type": "code",
   "execution_count": 35,
   "metadata": {},
   "outputs": [],
   "source": [
    "X_train_1, X_test_1, X_train_2, X_test_2 ,y_train_bin, y_test_bin, y_train_sim, y_test_sim = train_test_split(\n",
    "    news_raw['sentence1'], \n",
    "    news_raw['sentence2'],\n",
    "    news_raw['binary'],\n",
    "    news_raw['SimilarityScore'],\n",
    "    test_size=0.2, random_state=42)"
   ]
  },
  {
   "cell_type": "code",
   "execution_count": 36,
   "metadata": {},
   "outputs": [
    {
     "name": "stdout",
     "output_type": "stream",
     "text": [
      "523\n",
      "131\n",
      "523\n",
      "131\n",
      "523\n",
      "131\n",
      "523\n",
      "131\n"
     ]
    }
   ],
   "source": [
    "print(len(X_train_1))\n",
    "print(len(X_test_1))\n",
    "\n",
    "print(len(X_train_2))\n",
    "print(len(X_test_2))\n",
    "\n",
    "print(len(y_train_bin))\n",
    "print(len(y_test_bin))\n",
    "\n",
    "print(len(y_train_sim))\n",
    "print(len(y_test_sim))"
   ]
  },
  {
   "cell_type": "markdown",
   "metadata": {},
   "source": [
    "## Cleaning"
   ]
  },
  {
   "cell_type": "code",
   "execution_count": 37,
   "metadata": {},
   "outputs": [],
   "source": [
    "STOP_WORDS = nltk.corpus.stopwords.words('english')"
   ]
  },
  {
   "cell_type": "code",
   "execution_count": 38,
   "metadata": {},
   "outputs": [],
   "source": [
    "# tokenizer function\n",
    "def tokenize_text(text):\n",
    "    \n",
    "    text_tokenized = nltk.word_tokenize(text)\n",
    "    text_tokenized = [x.lower() for x in text_tokenized]\n",
    "    wordlist = []\n",
    "    for word in text_tokenized: \n",
    "        \n",
    "        if ((word not in STOP_WORDS) and (len(word)>2)):            \n",
    "            wordlist.append(word)\n",
    "        # if not (word.isalnum()):            \n",
    "        # text_tokenized.remove(word)\n",
    "            \n",
    "    return(wordlist)"
   ]
  },
  {
   "cell_type": "code",
   "execution_count": 39,
   "metadata": {},
   "outputs": [],
   "source": [
    "X_train_all = X_train_1.append(X_train_2)\n",
    "X_train_all.index = range(len(X_train_all))\n",
    "\n",
    "X_test_all = X_test_1.append(X_test_2)\n",
    "X_test_all.index = range(len(X_test_all))"
   ]
  },
  {
   "cell_type": "code",
   "execution_count": 40,
   "metadata": {},
   "outputs": [],
   "source": [
    "X_train_1_clean = [tokenize_text(sentence) for sentence in X_train_1]\n",
    "X_train_2_clean = [tokenize_text(sentence) for sentence in X_train_2]\n",
    "\n",
    "X_test_1_clean = [tokenize_text(sentence) for sentence in X_test_1]\n",
    "X_test_2_clean = [tokenize_text(sentence) for sentence in X_test_2]\n",
    "\n",
    "X_train_all_clean = X_train_1_clean + X_train_2_clean\n",
    "X_test_all_clean = X_test_1_clean + X_test_2_clean"
   ]
  },
  {
   "cell_type": "markdown",
   "metadata": {},
   "source": [
    "# Embedding"
   ]
  },
  {
   "cell_type": "markdown",
   "metadata": {},
   "source": [
    "## FastText (Pretrained on Wikipedia)"
   ]
  },
  {
   "cell_type": "markdown",
   "metadata": {},
   "source": [
    "https://radimrehurek.com/gensim/models/fasttext.html\n",
    "\n",
    "https://fasttext.cc/docs/en/crawl-vectors.html"
   ]
  },
  {
   "cell_type": "code",
   "execution_count": null,
   "metadata": {},
   "outputs": [],
   "source": [
    "# these would be the pretrained fasttext word embeddings, but no model, not trainable, no word segment embeddings:\n",
    "\n",
    "# model_pt = gensim.models.KeyedVectors.load_word2vec_format('../wiki-news-300d-1M.vec') "
   ]
  },
  {
   "cell_type": "code",
   "execution_count": 41,
   "metadata": {},
   "outputs": [
    {
     "name": "stderr",
     "output_type": "stream",
     "text": [
      "\n"
     ]
    }
   ],
   "source": [
    "# get the pretrained fasstext .bin model, only do this once, it is big\n",
    "FT_util.download_model('en', if_exists='ignore')\n",
    "\n",
    "\n",
    "# load the model\n",
    "model_4 = FT.load_model('cc.en.300.bin')\n",
    "#ft.save_model('cc.en.300.bin') # just in case"
   ]
  },
  {
   "cell_type": "markdown",
   "metadata": {},
   "source": [
    "## TF-IDF"
   ]
  },
  {
   "cell_type": "code",
   "execution_count": 42,
   "metadata": {},
   "outputs": [],
   "source": [
    "#SK02\n",
    "#this function creates the (for now only global) TF-IDF weights for each word.\n",
    "def calc_tf_idf(cleaned_doc_str = None, vocab = None):\n",
    "    #Calculate TF-IDF score for all words in the corpus\n",
    "    tfidf = TfidfVectorizer(\n",
    "          sublinear_tf=True\n",
    "        , min_df=1\n",
    "        , norm='l2'\n",
    "        , encoding='latin-1'\n",
    "        , ngram_range=(1,1)  #considering only 1-grams for now\n",
    "        , token_pattern= '(?u)\\\\b\\\\w+\\\\b' #changed from default in order to also include single letters in case they appear in the corpus.\n",
    "        , tokenizer=nltk.word_tokenize #we pass the corpus as words already.\n",
    "        , stop_words=None #we already removed stopwords\n",
    "        , vocabulary = vocab\n",
    "    ) \n",
    "    tfidf_matrix = tfidf.fit_transform(cleaned_doc_str).toarray()    \n",
    "    tfidf_matrix = pd.DataFrame(tfidf_matrix, columns = tfidf.get_feature_names())\n",
    "                                    \n",
    "    #if(not(len(tfidf.get_feature_names()) == len(model_3.wv.vocab.keys()))):\n",
    "    #   warnings.warn('The count of vocabulary from the word embedding does not coincide with the TF-IDF Vectorizer features.')\n",
    "    \n",
    "    return tfidf_matrix\n",
    "    #None\n",
    "    #tfidf_matrix contains TF-IDF scores for each document (in the rows) and word (in the columns)\n",
    "    #tfidf.get_feature_names() gives you the words in the order "
   ]
  },
  {
   "cell_type": "code",
   "execution_count": 43,
   "metadata": {},
   "outputs": [
    {
     "name": "stdout",
     "output_type": "stream",
     "text": [
      "(1046, 2202)\n",
      "(262, 1038)\n"
     ]
    }
   ],
   "source": [
    "X_train_all_tfidf = calc_tf_idf(X_train_all)\n",
    "X_test_all_tfidf = calc_tf_idf(X_test_all)\n",
    "\n",
    "print(X_train_all_tfidf.shape)\n",
    "print(X_test_all_tfidf.shape)"
   ]
  },
  {
   "cell_type": "markdown",
   "metadata": {},
   "source": [
    "# Similarity metrics"
   ]
  },
  {
   "cell_type": "markdown",
   "metadata": {},
   "source": [
    "## Combine FastText & TF-IDF"
   ]
  },
  {
   "cell_type": "markdown",
   "metadata": {},
   "source": [
    "Should there be a way to weight tfidf weights...?\n",
    "\n",
    "(means: possibility to play with how mucht influence it has on the resulting embeddings)"
   ]
  },
  {
   "cell_type": "code",
   "execution_count": 44,
   "metadata": {},
   "outputs": [],
   "source": [
    "#loop through tfidf feature_names (the model vocab can be much larger since pretrained. But we are only interested in our own words from the corpus.)\n",
    "def embedding_sentence(sentence, model, tfidf):\n",
    "    '''\n",
    "    This function is to average all words vectors in a given sentence, wegihting them by their tfidf-score.\n",
    "\n",
    "    Parameters\n",
    "    ----------\n",
    "    sentence : a list of token strings\n",
    "    \n",
    "    model : a word embedding model \n",
    "            which can give an embedding vector \n",
    "            for each token in sentence\n",
    "            \n",
    "    tfidf : the tfidf weights vector of sentence\n",
    "    '''\n",
    "    sentence_embedding = pd.DataFrame([model.get_word_vector(i)*tfidf[i] for i in sentence]).mean()\n",
    "    return(sentence_embedding)\n"
   ]
  },
  {
   "cell_type": "code",
   "execution_count": 45,
   "metadata": {
    "scrolled": true
   },
   "outputs": [],
   "source": [
    "X_train_all_embeddings = pd.DataFrame([embedding_sentence(X_train_all_clean[i], model_4, X_train_all_tfidf.iloc[i,:]) for i in range(len(X_train_all_clean))])\n",
    "X_test_all_embeddings = pd.DataFrame([embedding_sentence(X_test_all_clean[i], model_4, X_test_all_tfidf.iloc[i,:]) for i in range(len(X_test_all_clean))])"
   ]
  },
  {
   "cell_type": "code",
   "execution_count": 46,
   "metadata": {},
   "outputs": [],
   "source": [
    "X_train_1_embeddings = X_train_all_embeddings[:len(X_train_1)]\n",
    "X_train_2_embeddings = X_train_all_embeddings[len(X_train_1):]\n",
    "X_train_2_embeddings.index = X_train_1_embeddings.index\n",
    "\n",
    "X_test_1_embeddings = X_test_all_embeddings[:len(X_test_1)]\n",
    "X_test_2_embeddings = X_test_all_embeddings[len(X_test_1):]\n",
    "X_test_2_embeddings.index = X_test_1_embeddings.index"
   ]
  },
  {
   "cell_type": "markdown",
   "metadata": {},
   "source": [
    "## Cosine similarity"
   ]
  },
  {
   "cell_type": "code",
   "execution_count": 47,
   "metadata": {},
   "outputs": [],
   "source": [
    "X_train_sim = np.array([(\n",
    "    cosine_similarity(\n",
    "        np.array(X_train_1_embeddings.iloc[i,:]).reshape(1,-1),\n",
    "        np.array(X_train_2_embeddings.iloc[i,:]).reshape(1,-1)\n",
    "    ))[0,0] for i in range(len(X_train_1))])\n",
    "\n",
    "X_test_sim = np.array([(\n",
    "    cosine_similarity(\n",
    "        np.array(X_test_1_embeddings.iloc[i,:]).reshape(1,-1),\n",
    "        np.array(X_test_2_embeddings.iloc[i,:]).reshape(1,-1)\n",
    "    ))[0,0] for i in range(len(X_test_1))])"
   ]
  },
  {
   "cell_type": "markdown",
   "metadata": {},
   "source": [
    "# BINARY / LOGIT"
   ]
  },
  {
   "cell_type": "code",
   "execution_count": 53,
   "metadata": {},
   "outputs": [
    {
     "data": {
      "text/plain": [
       "0.16030534351145037"
      ]
     },
     "execution_count": 53,
     "metadata": {},
     "output_type": "execute_result"
    }
   ],
   "source": [
    "X_train = X_train_sim\n",
    "X_test = X_test_sim\n",
    "y_train = y_train_bin\n",
    "y_test = y_test_bin\n",
    "\n",
    "logit = LogisticRegression(class_weight = 'balanced')\n",
    "clf = logit.fit(X = X_train.reshape(-1, 1), y = y_train)\n",
    "y_pred = clf.predict(X_test.reshape(-1, 1))\n",
    "mse_baseline = mean_squared_error(y_true = y_test, y_pred = y_pred)\n",
    "mse_baseline"
   ]
  },
  {
   "cell_type": "code",
   "execution_count": 54,
   "metadata": {},
   "outputs": [],
   "source": [
    "# generate a no skill prediction (majority class)\n",
    "ns_probs = [1 for _ in range(len(y_test))]"
   ]
  },
  {
   "cell_type": "code",
   "execution_count": 55,
   "metadata": {},
   "outputs": [],
   "source": [
    "# predict probabilities\n",
    "lr_probs = logit.predict_proba(X_test.reshape(-1, 1))"
   ]
  },
  {
   "cell_type": "code",
   "execution_count": 56,
   "metadata": {},
   "outputs": [],
   "source": [
    " # keep probabilities for the positive outcome only\n",
    "lr_probs = lr_probs[:, 1]"
   ]
  },
  {
   "cell_type": "code",
   "execution_count": 57,
   "metadata": {},
   "outputs": [
    {
     "name": "stdout",
     "output_type": "stream",
     "text": [
      "'No Skill: ROC AUC=0.500'\n",
      "'Logistic: ROC AUC=0.934'\n"
     ]
    },
    {
     "data": {
      "image/png": "[encoded data removed]",
      "text/plain": [
       "<Figure size 432x288 with 1 Axes>"
      ]
     },
     "metadata": {
      "needs_background": "light"
     },
     "output_type": "display_data"
    }
   ],
   "source": [
    "# calculate scores\n",
    "ns_auc = roc_auc_score(y_test, ns_probs)\n",
    "lr_auc = roc_auc_score(y_test, lr_probs)\n",
    "# summarize scores\n",
    "print('No Skill: ROC AUC=%.3f' % (ns_auc))\n",
    "print('Logistic: ROC AUC=%.3f' % (lr_auc))\n",
    "# calculate roc curves\n",
    "ns_fpr, ns_tpr, _ = roc_curve(y_test, ns_probs)\n",
    "lr_fpr, lr_tpr, _ = roc_curve(y_test, lr_probs)\n",
    "\n",
    "# plot the roc curve for the model\n",
    "plt.plot(ns_fpr, ns_tpr, linestyle='--', label='No Skill')\n",
    "plt.plot(lr_fpr, lr_tpr, marker='.', label='Logistic')\n",
    "# axis labels\n",
    "plt.xlabel('False Positive Rate')\n",
    "plt.ylabel('True Positive Rate')\n",
    "# show the legend\n",
    "plt.legend()\n",
    "# show the plot\n",
    "plt.show()"
   ]
  },
  {
   "cell_type": "markdown",
   "metadata": {},
   "source": [
    "# Similarity plots"
   ]
  },
  {
   "cell_type": "code",
   "execution_count": 65,
   "metadata": {},
   "outputs": [
    {
     "ename": "AttributeError",
     "evalue": "'numpy.ndarray' object has no attribute 'append'",
     "output_type": "error",
     "traceback": [
      "\u001b[1;31m---------------------------------------------------------------------------\u001b[0m",
      "\u001b[1;31mAttributeError\u001b[0m                            Traceback (most recent call last)",
      "\u001b[1;32m<ipython-input-65-474a30193d13>\u001b[0m in \u001b[0;36m<module>\u001b[1;34m\u001b[0m\n\u001b[0;32m      1\u001b[0m \u001b[0msim_human\u001b[0m \u001b[1;33m=\u001b[0m \u001b[0my_train_sim\u001b[0m\u001b[1;33m.\u001b[0m\u001b[0mappend\u001b[0m\u001b[1;33m(\u001b[0m\u001b[0my_test_sim\u001b[0m\u001b[1;33m)\u001b[0m\u001b[1;33m\u001b[0m\u001b[1;33m\u001b[0m\u001b[0m\n\u001b[1;32m----> 2\u001b[1;33m \u001b[0msim_cosine\u001b[0m \u001b[1;33m=\u001b[0m \u001b[0mX_test_sim\u001b[0m\u001b[1;33m.\u001b[0m\u001b[0mappend\u001b[0m\u001b[1;33m(\u001b[0m\u001b[0mX_test_sim\u001b[0m\u001b[1;33m)\u001b[0m\u001b[1;33m\u001b[0m\u001b[1;33m\u001b[0m\u001b[0m\n\u001b[0m",
      "\u001b[1;31mAttributeError\u001b[0m: 'numpy.ndarray' object has no attribute 'append'"
     ]
    }
   ],
   "source": [
    "sim_human = y_train_sim.append(y_test_sim)\n",
    "sim_cosine = X_test_sim.append(X_test_sim)"
   ]
  },
  {
   "cell_type": "code",
   "execution_count": 64,
   "metadata": {},
   "outputs": [
    {
     "data": {
      "text/plain": [
       "<matplotlib.collections.PathCollection at 0x2785a286630>"
      ]
     },
     "execution_count": 64,
     "metadata": {},
     "output_type": "execute_result"
    },
    {
     "data": {
      "image/png": "[encoded data removed]",
      "text/plain": [
       "<Figure size 1080x720 with 1 Axes>"
      ]
     },
     "metadata": {
      "needs_background": "light"
     },
     "output_type": "display_data"
    }
   ],
   "source": [
    "# this plot shows the raw cosine similarity scores of sentence pairs\n",
    "# according to the human similarity scores\n",
    "# ideally, this should be a positive correlation\n",
    "\n",
    "fig = plt.figure(figsize=(15,10))\n",
    "#plt.xlim(0.99,1) \n",
    "plt.scatter(X_train_sim, y_train_sim, alpha = 0.2, s = 100, c = 'orange')\n",
    "plt.scatter(X_test_sim, y_test_sim, alpha = 0.2, s = 100, c = 'blue')"
   ]
  },
  {
   "cell_type": "code",
   "execution_count": null,
   "metadata": {},
   "outputs": [],
   "source": []
  }
 ],
 "metadata": {
  "kernelspec": {
   "display_name": "Python Propulsion",
   "language": "python",
   "name": "propulsion"
  },
  "language_info": {
   "codemirror_mode": {
    "name": "ipython",
    "version": 3
   },
   "file_extension": ".py",
   "mimetype": "text/x-python",
   "name": "python",
   "nbconvert_exporter": "python",
   "pygments_lexer": "ipython3",
   "version": "3.7.1"
  }
 },
 "nbformat": 4,
 "nbformat_minor": 4
}

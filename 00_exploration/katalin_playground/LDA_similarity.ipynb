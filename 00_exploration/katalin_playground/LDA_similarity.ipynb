{
 "cells": [
  {
   "cell_type": "markdown",
   "metadata": {},
   "source": [
    "# LDA similarity"
   ]
  },
  {
   "cell_type": "markdown",
   "metadata": {},
   "source": [
    "https://www.kaggle.com/ktattan/lda-and-document-similarity"
   ]
  },
  {
   "cell_type": "markdown",
   "metadata": {},
   "source": [
    "### imports"
   ]
  },
  {
   "cell_type": "code",
   "execution_count": 1,
   "metadata": {},
   "outputs": [],
   "source": [
    "import PyPDF2\n",
    "import textract\n",
    "import os\n",
    "\n",
    "import numpy as np\n",
    "import pandas as pd\n",
    "import seaborn as sns\n",
    "import re\n",
    "import time\n",
    "from scipy.stats import entropy\n",
    "import matplotlib.pyplot as plt\n",
    "\n",
    "from gensim.models import word2vec\n",
    "import gensim.downloader as api\n",
    "\n",
    "import gensim\n",
    "from gensim.models import LdaModel\n",
    "from gensim import models, corpora, similarities\n",
    "from sklearn.metrics.pairwise import cosine_similarity\n",
    "from sklearn import metrics, datasets, neighbors, decomposition\n",
    "\n",
    "import nltk\n",
    "from nltk.corpus import stopwords\n",
    "from nltk.stem.porter import PorterStemmer\n",
    "from nltk import FreqDist"
   ]
  },
  {
   "cell_type": "markdown",
   "metadata": {},
   "source": [
    "### load data"
   ]
  },
  {
   "cell_type": "code",
   "execution_count": 2,
   "metadata": {},
   "outputs": [],
   "source": [
    "df = pd.read_csv('../data/raw/supreme_court_opinions_2013_tokenized.csv', converters={\n",
    "    'nltk_tokenized': eval, \n",
    "    \"nltk_sentences\": eval,\n",
    "    'nltk_sentences_tok': eval\n",
    "    }).drop('Unnamed: 0', axis = 1)"
   ]
  },
  {
   "cell_type": "code",
   "execution_count": 3,
   "metadata": {},
   "outputs": [],
   "source": [
    "STOP_WORDS = nltk.corpus.stopwords.words('english')"
   ]
  },
  {
   "cell_type": "code",
   "execution_count": 4,
   "metadata": {},
   "outputs": [],
   "source": [
    "# tokenizer function same as in preprocess notebook\n",
    "def tokenize_text(text):\n",
    "    \n",
    "    text_tokenized = nltk.word_tokenize(text)\n",
    "    text_tokenized = [x.lower() for x in text_tokenized]\n",
    "    wordlist = []\n",
    "    for word in text_tokenized: \n",
    "        \n",
    "        if ((word not in STOP_WORDS) and (len(word)>2)):            \n",
    "            wordlist.append(word)\n",
    "        # if not (word.isalnum()):            \n",
    "        # text_tokenized.remove(word)\n",
    "            \n",
    "    return(wordlist)"
   ]
  },
  {
   "cell_type": "code",
   "execution_count": null,
   "metadata": {},
   "outputs": [],
   "source": [
    "df['nltk_tokenized'] = df['raw text'].apply(lambda x: tokenize_text(x))\n",
    "df['nltk_sentences'] = df['raw text'].apply(lambda x: nltk.sent_tokenize(x))\n",
    "df['nltk_sentences_tok'] = df['nltk_sentences'].apply(lambda x: [tokenize_text(i) for i in x])"
   ]
  },
  {
   "cell_type": "code",
   "execution_count": 6,
   "metadata": {},
   "outputs": [
    {
     "data": {
      "text/html": [
       "<div>\n",
       "<style scoped>\n",
       "    .dataframe tbody tr th:only-of-type {\n",
       "        vertical-align: middle;\n",
       "    }\n",
       "\n",
       "    .dataframe tbody tr th {\n",
       "        vertical-align: top;\n",
       "    }\n",
       "\n",
       "    .dataframe thead th {\n",
       "        text-align: right;\n",
       "    }\n",
       "</style>\n",
       "<table border=\"1\" class=\"dataframe\">\n",
       "  <thead>\n",
       "    <tr style=\"text-align: right;\">\n",
       "      <th></th>\n",
       "      <th>raw text</th>\n",
       "      <th>nltk_sentences</th>\n",
       "      <th>nltk_tokenized</th>\n",
       "      <th>nltk_sentences_tok</th>\n",
       "    </tr>\n",
       "  </thead>\n",
       "  <tbody>\n",
       "    <tr>\n",
       "      <th>0</th>\n",
       "      <td>\\n           \\n      \\n   \\n     \\n ...</td>\n",
       "      <td>[          \\n           \\n      \\n   \\n     \\n...</td>\n",
       "      <td>[slip, opinion, october, term, 2013, syllabus,...</td>\n",
       "      <td>[[slip, opinion, october, term, 2013, syllabus...</td>\n",
       "    </tr>\n",
       "    <tr>\n",
       "      <th>1</th>\n",
       "      <td>\\n            \\n          1 (Slip Op...</td>\n",
       "      <td>[          \\n            \\n          1 (Slip O...</td>\n",
       "      <td>[slip, opinion, october, term, 2013, syllabus,...</td>\n",
       "      <td>[[slip, opinion, october, term, 2013, syllabus...</td>\n",
       "    </tr>\n",
       "    <tr>\n",
       "      <th>2</th>\n",
       "      <td>\\n         \\n                       ...</td>\n",
       "      <td>[          \\n         \\n                      ...</td>\n",
       "      <td>[slip, opinion, october, term, 2013, syllabus,...</td>\n",
       "      <td>[[slip, opinion, october, term, 2013, syllabus...</td>\n",
       "    </tr>\n",
       "    <tr>\n",
       "      <th>3</th>\n",
       "      <td>\\n              \\n      \\n     1 (Sl...</td>\n",
       "      <td>[          \\n              \\n      \\n     1 (S...</td>\n",
       "      <td>[slip, opinion, october, term, 2013, syllabus,...</td>\n",
       "      <td>[[slip, opinion, october, term, 2013, syllabus...</td>\n",
       "    </tr>\n",
       "    <tr>\n",
       "      <th>4</th>\n",
       "      <td>\\n                             \\n  \\...</td>\n",
       "      <td>[          \\n                             \\n  ...</td>\n",
       "      <td>[slip, opinion, october, term, 2013, syllabus,...</td>\n",
       "      <td>[[slip, opinion, october, term, 2013, syllabus...</td>\n",
       "    </tr>\n",
       "    <tr>\n",
       "      <th>...</th>\n",
       "      <td>...</td>\n",
       "      <td>...</td>\n",
       "      <td>...</td>\n",
       "      <td>...</td>\n",
       "    </tr>\n",
       "    <tr>\n",
       "      <th>67</th>\n",
       "      <td>\\n              \\n  \\n         \\n  1...</td>\n",
       "      <td>[          \\n              \\n  \\n         \\n  ...</td>\n",
       "      <td>[slip, opinion, october, term, 2013, syllabus,...</td>\n",
       "      <td>[[slip, opinion, october, term, 2013, syllabus...</td>\n",
       "    </tr>\n",
       "    <tr>\n",
       "      <th>68</th>\n",
       "      <td>\\n        \\n           1 Cite as: 572 ...</td>\n",
       "      <td>[        \\n        \\n           1 Cite as: 572...</td>\n",
       "      <td>[cite, 572, ____, 2014, per, curiam, supreme, ...</td>\n",
       "      <td>[[cite, 572, ____, 2014, per, curiam, supreme,...</td>\n",
       "    </tr>\n",
       "    <tr>\n",
       "      <th>69</th>\n",
       "      <td>1 Cite as: 572 U. S. ____ (20...</td>\n",
       "      <td>[                 1 Cite as: 572 U. S. ____ (2...</td>\n",
       "      <td>[cite, 572, ____, 2014, per, curiam, supreme, ...</td>\n",
       "      <td>[[cite, 572, ____, 2014, per, curiam, supreme,...</td>\n",
       "    </tr>\n",
       "    <tr>\n",
       "      <th>70</th>\n",
       "      <td>\\n  1 Cite as: 571 U. S. ____ ...</td>\n",
       "      <td>[                \\n  1 Cite as: 571 U. S. ____...</td>\n",
       "      <td>[cite, 571, ____, 2014, per, curiam, supreme, ...</td>\n",
       "      <td>[[cite, 571, ____, 2014, per, curiam, supreme,...</td>\n",
       "    </tr>\n",
       "    <tr>\n",
       "      <th>71</th>\n",
       "      <td>1 Cite as: 573 U. S. ____ (2014) \\nP...</td>\n",
       "      <td>[          1 Cite as: 573 U. S. ____ (2014) \\n...</td>\n",
       "      <td>[cite, 573, ____, 2014, per, curiam, supreme, ...</td>\n",
       "      <td>[[cite, 573, ____, 2014, per, curiam, supreme,...</td>\n",
       "    </tr>\n",
       "  </tbody>\n",
       "</table>\n",
       "<p>72 rows × 4 columns</p>\n",
       "</div>"
      ],
      "text/plain": [
       "                                             raw text  \\\n",
       "0             \\n           \\n      \\n   \\n     \\n ...   \n",
       "1             \\n            \\n          1 (Slip Op...   \n",
       "2             \\n         \\n                       ...   \n",
       "3             \\n              \\n      \\n     1 (Sl...   \n",
       "4             \\n                             \\n  \\...   \n",
       "..                                                ...   \n",
       "67            \\n              \\n  \\n         \\n  1...   \n",
       "68          \\n        \\n           1 Cite as: 572 ...   \n",
       "69                   1 Cite as: 572 U. S. ____ (20...   \n",
       "70                  \\n  1 Cite as: 571 U. S. ____ ...   \n",
       "71            1 Cite as: 573 U. S. ____ (2014) \\nP...   \n",
       "\n",
       "                                       nltk_sentences  \\\n",
       "0   [          \\n           \\n      \\n   \\n     \\n...   \n",
       "1   [          \\n            \\n          1 (Slip O...   \n",
       "2   [          \\n         \\n                      ...   \n",
       "3   [          \\n              \\n      \\n     1 (S...   \n",
       "4   [          \\n                             \\n  ...   \n",
       "..                                                ...   \n",
       "67  [          \\n              \\n  \\n         \\n  ...   \n",
       "68  [        \\n        \\n           1 Cite as: 572...   \n",
       "69  [                 1 Cite as: 572 U. S. ____ (2...   \n",
       "70  [                \\n  1 Cite as: 571 U. S. ____...   \n",
       "71  [          1 Cite as: 573 U. S. ____ (2014) \\n...   \n",
       "\n",
       "                                       nltk_tokenized  \\\n",
       "0   [slip, opinion, october, term, 2013, syllabus,...   \n",
       "1   [slip, opinion, october, term, 2013, syllabus,...   \n",
       "2   [slip, opinion, october, term, 2013, syllabus,...   \n",
       "3   [slip, opinion, october, term, 2013, syllabus,...   \n",
       "4   [slip, opinion, october, term, 2013, syllabus,...   \n",
       "..                                                ...   \n",
       "67  [slip, opinion, october, term, 2013, syllabus,...   \n",
       "68  [cite, 572, ____, 2014, per, curiam, supreme, ...   \n",
       "69  [cite, 572, ____, 2014, per, curiam, supreme, ...   \n",
       "70  [cite, 571, ____, 2014, per, curiam, supreme, ...   \n",
       "71  [cite, 573, ____, 2014, per, curiam, supreme, ...   \n",
       "\n",
       "                                   nltk_sentences_tok  \n",
       "0   [[slip, opinion, october, term, 2013, syllabus...  \n",
       "1   [[slip, opinion, october, term, 2013, syllabus...  \n",
       "2   [[slip, opinion, october, term, 2013, syllabus...  \n",
       "3   [[slip, opinion, october, term, 2013, syllabus...  \n",
       "4   [[slip, opinion, october, term, 2013, syllabus...  \n",
       "..                                                ...  \n",
       "67  [[slip, opinion, october, term, 2013, syllabus...  \n",
       "68  [[cite, 572, ____, 2014, per, curiam, supreme,...  \n",
       "69  [[cite, 572, ____, 2014, per, curiam, supreme,...  \n",
       "70  [[cite, 571, ____, 2014, per, curiam, supreme,...  \n",
       "71  [[cite, 573, ____, 2014, per, curiam, supreme,...  \n",
       "\n",
       "[72 rows x 4 columns]"
      ]
     },
     "execution_count": 6,
     "metadata": {},
     "output_type": "execute_result"
    }
   ],
   "source": [
    "df"
   ]
  },
  {
   "cell_type": "code",
   "execution_count": 7,
   "metadata": {},
   "outputs": [],
   "source": [
    "sentences = df['nltk_sentences'].explode()\n",
    "sentences_tok = df['nltk_sentences_tok'].explode()\n",
    "id = range(len(sentences))\n",
    "sent = pd.DataFrame({'raw' : sentences, 'tokenized' : sentences_tok, 'id' : id}).set_index('id')"
   ]
  },
  {
   "cell_type": "code",
   "execution_count": 8,
   "metadata": {},
   "outputs": [
    {
     "data": {
      "text/html": [
       "<div>\n",
       "<style scoped>\n",
       "    .dataframe tbody tr th:only-of-type {\n",
       "        vertical-align: middle;\n",
       "    }\n",
       "\n",
       "    .dataframe tbody tr th {\n",
       "        vertical-align: top;\n",
       "    }\n",
       "\n",
       "    .dataframe thead th {\n",
       "        text-align: right;\n",
       "    }\n",
       "</style>\n",
       "<table border=\"1\" class=\"dataframe\">\n",
       "  <thead>\n",
       "    <tr style=\"text-align: right;\">\n",
       "      <th></th>\n",
       "      <th>raw</th>\n",
       "      <th>tokenized</th>\n",
       "    </tr>\n",
       "    <tr>\n",
       "      <th>id</th>\n",
       "      <th></th>\n",
       "      <th></th>\n",
       "    </tr>\n",
       "  </thead>\n",
       "  <tbody>\n",
       "    <tr>\n",
       "      <th>0</th>\n",
       "      <td>\\n           \\n      \\n   \\n     \\n ...</td>\n",
       "      <td>[slip, opinion, october, term, 2013, syllabus,...</td>\n",
       "    </tr>\n",
       "    <tr>\n",
       "      <th>1</th>\n",
       "      <td>The syllabus constitutes no part of the opinio...</td>\n",
       "      <td>[syllabus, constitutes, part, opinion, court, ...</td>\n",
       "    </tr>\n",
       "    <tr>\n",
       "      <th>2</th>\n",
       "      <td>See \\nUnited States\\n v. Detroit Timber &amp; Lumb...</td>\n",
       "      <td>[see, united, states, detroit, timber, lumber,...</td>\n",
       "    </tr>\n",
       "    <tr>\n",
       "      <th>3</th>\n",
       "      <td>SUPREME COURT OF THE UNITED STATES \\nSyllabus ...</td>\n",
       "      <td>[supreme, court, united, states, syllabus, har...</td>\n",
       "    </tr>\n",
       "    <tr>\n",
       "      <th>4</th>\n",
       "      <td>v. QUINN, GOVERNOR OF ILLINOIS, \\nET AL\\n.</td>\n",
       "      <td>[quinn, governor, illinois]</td>\n",
       "    </tr>\n",
       "    <tr>\n",
       "      <th>...</th>\n",
       "      <td>...</td>\n",
       "      <td>...</td>\n",
       "    </tr>\n",
       "    <tr>\n",
       "      <th>33736</th>\n",
       "      <td>13Œ9085.</td>\n",
       "      <td>[13œ9085]</td>\n",
       "    </tr>\n",
       "    <tr>\n",
       "      <th>33737</th>\n",
       "      <td>Decided July 1, 2014\\n PER CURIAM\\n.</td>\n",
       "      <td>[decided, july, 2014, per, curiam]</td>\n",
       "    </tr>\n",
       "    <tr>\n",
       "      <th>33738</th>\n",
       "      <td>The motion for leave to proceed \\nin forma pau...</td>\n",
       "      <td>[motion, leave, proceed, forma, pauperis, peti...</td>\n",
       "    </tr>\n",
       "    <tr>\n",
       "      <th>33739</th>\n",
       "      <td>The judg\\n-ment of the United States Court of ...</td>\n",
       "      <td>[judg, -ment, united, states, court, appeals, ...</td>\n",
       "    </tr>\n",
       "    <tr>\n",
       "      <th>33740</th>\n",
       "      <td>It is so ordered.</td>\n",
       "      <td>[ordered]</td>\n",
       "    </tr>\n",
       "  </tbody>\n",
       "</table>\n",
       "<p>33741 rows × 2 columns</p>\n",
       "</div>"
      ],
      "text/plain": [
       "                                                     raw  \\\n",
       "id                                                         \n",
       "0                \\n           \\n      \\n   \\n     \\n ...   \n",
       "1      The syllabus constitutes no part of the opinio...   \n",
       "2      See \\nUnited States\\n v. Detroit Timber & Lumb...   \n",
       "3      SUPREME COURT OF THE UNITED STATES \\nSyllabus ...   \n",
       "4             v. QUINN, GOVERNOR OF ILLINOIS, \\nET AL\\n.   \n",
       "...                                                  ...   \n",
       "33736                                           13Œ9085.   \n",
       "33737               Decided July 1, 2014\\n PER CURIAM\\n.   \n",
       "33738  The motion for leave to proceed \\nin forma pau...   \n",
       "33739  The judg\\n-ment of the United States Court of ...   \n",
       "33740                                  It is so ordered.   \n",
       "\n",
       "                                               tokenized  \n",
       "id                                                        \n",
       "0      [slip, opinion, october, term, 2013, syllabus,...  \n",
       "1      [syllabus, constitutes, part, opinion, court, ...  \n",
       "2      [see, united, states, detroit, timber, lumber,...  \n",
       "3      [supreme, court, united, states, syllabus, har...  \n",
       "4                            [quinn, governor, illinois]  \n",
       "...                                                  ...  \n",
       "33736                                          [13œ9085]  \n",
       "33737                 [decided, july, 2014, per, curiam]  \n",
       "33738  [motion, leave, proceed, forma, pauperis, peti...  \n",
       "33739  [judg, -ment, united, states, court, appeals, ...  \n",
       "33740                                          [ordered]  \n",
       "\n",
       "[33741 rows x 2 columns]"
      ]
     },
     "execution_count": 8,
     "metadata": {},
     "output_type": "execute_result"
    }
   ],
   "source": [
    "sent"
   ]
  },
  {
   "cell_type": "markdown",
   "metadata": {},
   "source": [
    "### word frequency"
   ]
  },
  {
   "cell_type": "code",
   "execution_count": 196,
   "metadata": {},
   "outputs": [
    {
     "data": {
      "text/plain": [
       "14463"
      ]
     },
     "execution_count": 196,
     "metadata": {},
     "output_type": "execute_result"
    }
   ],
   "source": [
    "# first get a list of all words\n",
    "all_words = [word for text in list(sent['tokenized']) for word in text]\n",
    "# use nltk fdist to get a frequency distribution of all words\n",
    "fdist = FreqDist(all_words)\n",
    "len(fdist) # number of unique words"
   ]
  },
  {
   "cell_type": "code",
   "execution_count": 199,
   "metadata": {},
   "outputs": [],
   "source": [
    "top_words = fdist.most_common(9000)\n",
    "#top_words[-20:]"
   ]
  },
  {
   "cell_type": "code",
   "execution_count": 200,
   "metadata": {},
   "outputs": [],
   "source": [
    "top_words,_ = zip(*fdist.most_common(9000))\n",
    "top_words = set(top_words)\n",
    "def keep_top_words(text):\n",
    "    return [word for word in text if word in top_words]\n",
    "sent['tokenized_k'] = sent['tokenized'].apply(keep_top_words)"
   ]
  },
  {
   "cell_type": "code",
   "execution_count": 201,
   "metadata": {},
   "outputs": [],
   "source": [
    "# document length\n",
    "\n",
    "sent['doc_len'] = sent['tokenized'].apply(lambda x: len(x))\n",
    "doc_lengths = list(sent['doc_len'])\n",
    "sent.drop(labels='doc_len', axis=1, inplace=True)"
   ]
  },
  {
   "cell_type": "code",
   "execution_count": 237,
   "metadata": {},
   "outputs": [
    {
     "name": "stdout",
     "output_type": "stream",
     "text": [
      "After cleaning and excluding short aticles, the dataframe now has: 1201 articles\n"
     ]
    }
   ],
   "source": [
    "# only keep articles with more than 35 tokens, otherwise too short\n",
    "sent = sent[sent['tokenized_k'].map(len) >= 30]\n",
    "# make sure all tokenized items are lists\n",
    "sent = sent[sent['tokenized_k'].map(type) == list]\n",
    "sent.reset_index(drop=True,inplace=True)\n",
    "print(\"After cleaning and excluding short aticles, the dataframe now has:\", len(sent), \"articles\")"
   ]
  },
  {
   "cell_type": "markdown",
   "metadata": {},
   "source": [
    "### Train lda"
   ]
  },
  {
   "cell_type": "code",
   "execution_count": 203,
   "metadata": {},
   "outputs": [],
   "source": [
    "def train_lda(data):\n",
    "    \"\"\"\n",
    "    This function trains the lda model\n",
    "    We setup parameters like number of topics, the chunksize to use in Hoffman method\n",
    "    We also do 2 passes of the data since this is a small dataset, so we want the distributions to stabilize\n",
    "    \"\"\"\n",
    "    num_topics = 100\n",
    "    chunksize = 300\n",
    "    dictionary = corpora.Dictionary(data['tokenized_k'])\n",
    "    corpus = [dictionary.doc2bow(doc) for doc in data['tokenized_k']]\n",
    "    t1 = time.time()\n",
    "    # low alpha means each document is only represented by a small number of topics, and vice versa\n",
    "    # low eta means each topic is only represented by a small number of words, and vice versa\n",
    "    lda = LdaModel(corpus=corpus, num_topics=num_topics, id2word=dictionary,\n",
    "                   alpha=1e-2, eta=0.5e-2, chunksize=chunksize, minimum_probability=0.0, passes=2)\n",
    "    t2 = time.time()\n",
    "    print(\"Time to train LDA model on \", len(sent), \"articles: \", (t2-t1)/60, \"min\")\n",
    "    return dictionary,corpus,lda"
   ]
  },
  {
   "cell_type": "code",
   "execution_count": 241,
   "metadata": {},
   "outputs": [
    {
     "name": "stdout",
     "output_type": "stream",
     "text": [
      "Time to train LDA model on  1201 articles:  0.06546427408854166 min\n"
     ]
    }
   ],
   "source": [
    "dictionary,corpus,lda = train_lda(sent)"
   ]
  },
  {
   "cell_type": "markdown",
   "metadata": {},
   "source": [
    "### See what's in the box (model)"
   ]
  },
  {
   "cell_type": "code",
   "execution_count": 242,
   "metadata": {
    "collapsed": true
   },
   "outputs": [
    {
     "name": "stdout",
     "output_type": "stream",
     "text": [
      "739\n",
      "[(36, 1), (54, 1), (71, 2), (363, 1), (383, 1), (552, 1), (1397, 2), (1426, 1), (1527, 1), (1585, 1), (1891, 1), (2471, 2), (2691, 1), (3160, 3), (3547, 1), (3759, 1), (3764, 1), (3767, 1), (3777, 1), (4748, 1), (5014, 1), (5165, 1), (7099, 1), (7298, 1), (7865, 1), (8019, 2), (8072, 2), (8073, 1), (8074, 2)]\n",
      "['šššššš', 'e.g.', 'prayer', 'practice', 'city', 'letter', 'freedom', 'religion', 'foundation', 'city', 'saginaw', 'city', 'council', 'jan.', '2014', 'online', 'http', 'saginaw', 'materials', 'visited', 'may', '2014', 'available', 'clerk', 'court™s', 'case', 'file', 'prayer', 'practice', 'cobb', 'county', 'georgia', 'described', 'cobb', 'county', '410', 'supp']\n"
     ]
    },
    {
     "data": {
      "image/png": "[encoded data removed]",
      "text/plain": [
       "<Figure size 864x432 with 1 Axes>"
      ]
     },
     "metadata": {
      "needs_background": "light"
     },
     "output_type": "display_data"
    }
   ],
   "source": [
    "# show_topics method shows the the top num_words contributing to num_topics number of random topics\n",
    "lda.show_topics(num_topics=10, num_words=4)\n",
    "\n",
    "# select and article at random from train_df\n",
    "random_article_index = np.random.randint(len(sent))\n",
    "bow = dictionary.doc2bow(sent.iloc[random_article_index,2])\n",
    "print(random_article_index)\n",
    "print(bow)\n",
    "\n",
    "print(sent.iloc[random_article_index,2])\n",
    "\n",
    "# get the topic contributions for the document chosen at random above\n",
    "doc_distribution = np.array([tup[1] for tup in lda.get_document_topics(bow=bow)])\n",
    "len(doc_distribution)\n",
    "\n",
    "# bar plot of topic distribution for this document\n",
    "fig, ax = plt.subplots(figsize=(12,6));\n",
    "# the histogram of the data\n",
    "patches = ax.bar(np.arange(len(doc_distribution)), doc_distribution)\n",
    "ax.set_xlabel('Topic ID', fontsize=15)\n",
    "ax.set_ylabel('Topic Contribution', fontsize=15)\n",
    "ax.set_title(\"Topic Distribution for Article \" + str(random_article_index), fontsize=20)\n",
    "ax.set_xticks(np.linspace(10,100,10))\n",
    "fig.tight_layout()\n",
    "plt.show()"
   ]
  },
  {
   "cell_type": "markdown",
   "metadata": {},
   "source": [
    "### and here it comes finally: similarity"
   ]
  },
  {
   "cell_type": "code",
   "execution_count": 264,
   "metadata": {},
   "outputs": [
    {
     "data": {
      "text/plain": [
       "(1201, 100)"
      ]
     },
     "execution_count": 264,
     "metadata": {},
     "output_type": "execute_result"
    }
   ],
   "source": [
    "# get all topic distributions into a matrix (one row is one sentence/text, one column is one topic)\n",
    "# we need to use nested list comprehension here\n",
    "# this may take 1-2 minutes...\n",
    "doc_topic_dist = np.array([[tup[1] for tup in lst] for lst in lda[corpus]])\n",
    "doc_topic_dist.shape"
   ]
  },
  {
   "cell_type": "code",
   "execution_count": 265,
   "metadata": {},
   "outputs": [],
   "source": [
    "def jensen_shannon(query, matrix):\n",
    "    \"\"\"\n",
    "    This function implements a Jensen-Shannon similarity\n",
    "    between the input query (an LDA topic distribution for a document)\n",
    "    and the entire corpus of topic distributions.\n",
    "    It returns an array of length M where M is the number of documents in the corpus\n",
    "    \"\"\"\n",
    "    # lets keep with the p,q notation above\n",
    "    #p = query[None,:].T # take transpose\n",
    "    p = (new_doc_distribution * np.ones((len(matrix),len(new_doc_distribution)))).T\n",
    "    q = matrix.T # transpose matrix\n",
    "    m = 0.5*(p + q)\n",
    "    ent1 = entropy(p,m)\n",
    "    ent2 = entropy(q,m)\n",
    "    return np.sqrt(0.5*( ent1 + ent2))"
   ]
  },
  {
   "cell_type": "code",
   "execution_count": 266,
   "metadata": {},
   "outputs": [],
   "source": [
    "def get_most_similar_documents(query,matrix,k=10):\n",
    "    \"\"\"\n",
    "    This function implements the Jensen-Shannon distance above\n",
    "    and retruns the top k indices of the smallest jensen shannon distances\n",
    "    \"\"\"\n",
    "    sims = jensen_shannon(query,matrix) # list of jensen shannon distances\n",
    "    return sims.argsort()[:k] # the top k positional index of the smallest Jensen Shannon distances"
   ]
  },
  {
   "cell_type": "code",
   "execution_count": 286,
   "metadata": {},
   "outputs": [
    {
     "name": "stdout",
     "output_type": "stream",
     "text": [
      "156\n",
      "['linguistic', 'matter', 'one', 'easily', 'read', 'implicit', 'exception', 'small-scale', 'green-house', 'gas', 'emissions', 'phrase', 'ﬁany', 'sourceﬂ', 'phrase', 'ﬁany', 'air', 'pollutant.ﬂ', 'given', 'purposes', 'psd', 'program', 'act', 'whole', 'well', 'specific', 'roles', 'different', 'parts', 'statutory', 'defini', 'tion', 'finding', 'flexibility', 'ﬁany', 'sourceﬂ', 'far', 'sensible', 'court™s', 'route', 'finding', 'ﬁany', 'air', 'pollutant.ﬂ', 'implicit', 'exception', 'propose', 'reads', 'almost', 'word', 'word', 'court™s', 'except', 'location', 'exception', 'shifted']\n"
     ]
    }
   ],
   "source": [
    "# select and article at random from test_df\n",
    "random_article_index = np.random.randint(len(sent))\n",
    "\n",
    "new_bow = dictionary.doc2bow(sent.iloc[random_article_index,2])\n",
    "new_doc_distribution = np.array([tup[1] for tup in lda.get_document_topics(bow=new_bow)])\n",
    "\n",
    "print(random_article_index)\n",
    "print(sent.iloc[random_article_index,2])"
   ]
  },
  {
   "cell_type": "code",
   "execution_count": 287,
   "metadata": {},
   "outputs": [],
   "source": [
    "# this is surprisingly fast\n",
    "most_sim_ids = get_most_similar_documents(new_doc_distribution,doc_topic_dist)"
   ]
  },
  {
   "cell_type": "code",
   "execution_count": 288,
   "metadata": {},
   "outputs": [
    {
     "name": "stdout",
     "output_type": "stream",
     "text": [
      "9 * * * \n",
      "To sum up: We hold that \n",
      "EPA exceeded its statutory \n",
      "authority when it interpreted \n",
      "the Clean Air Act to require\n",
      "PSD and Title V permitting for stationary sources based \n",
      "\n",
      "on their greenhouse-gas emission\n",
      "s.  Specifically, the Agency \n",
      "may not treat greenhouse gases as a pollutant for pur- \n",
      "\n",
      "poses of defining a ﬁmajor emitting facilityﬂ (or a ﬁmodifi\n",
      "-\n",
      "cationﬂ thereof) in the PSD cont\n",
      "ext or a ﬁmajor sourceﬂ in\n",
      "the Title V context.\n",
      "\n",
      "\n",
      "Court reads the statute as defining ﬁmajor emitting facilityﬂ \n",
      "to mean ﬁstationary sources that have the potential to \n",
      "emit two hundred fifty tons per year or more of any air \n",
      "\n",
      "pollutant except for those air pollutants, such as carbon \n",
      "dioxide, with respect to which regulation at that threshold \n",
      "\n",
      "would be impractical or absurd or would sweep in smaller \n",
      "\n",
      "sources that Congress did not mean to cover\n",
      ".ﬂ See \n",
      "ante, at 15Œ16 (ﬁ[T]here is no insuperable textual barrier to EPA™s\n",
      "\n",
      "interpreting ‚any air pollutant™ in the permitting triggers \n",
      "of PSD and Title V to encompass only pollutants emittedin quantities that enable them to be sensibly regulated at\n",
      "the statutory thresholds, and to exclude those atypicalpollutants that, like greenhouse gases, are emitted in such \n",
      "\n",
      "vast quantities that their inclusion would radically trans\n",
      "-form those programs and render them unworkable as \n",
      "\n",
      "writtenﬂ).I agree with the Court that the word ﬁany,ﬂ when used \n",
      "in a statute, does not normally mean ﬁany in the uni\n",
      "-\n",
      "verse.ﬂ Cf.\n",
      "\n",
      "\n",
      "As a linguistic matter, one can just as \n",
      "\n",
      "easily read an implicit exception for small-scale green-house gas emissions into the phrase ﬁany sourceﬂ as into\n",
      "\n",
      "the phrase ﬁany air pollutant.ﬂ And given the purposes of\n",
      "the PSD program and the Act as a whole, as well as the \n",
      "specific roles of the different parts of the statutory defini\n",
      "-\n",
      "tion, finding flexibility in ﬁany sourceﬂ is far more sensible \n",
      "than the Court™s route of finding it in ﬁany air pollutant.ﬂ \n",
      "The implicit exception I propose reads almost word for \n",
      "word the same as the Court™s, except that the location of \n",
      "the exception has shifted.\n",
      "\n",
      "\n",
      "Second, EPA™s focus on costs did not foreclose, as \n",
      "\n",
      "the D. C. Circuit accurately observed, the possibility that \n",
      "an upwind State would be required to reduce its emissions \n",
      "by so much that the State no\n",
      "ŠŠŠŠŠŠ 21The dissent, see post, at 12Œ13, relies heavily \n",
      "on our decision in Whitman v. American Trucking Assns., Inc.\n",
      ", 531 U. S. 457 (2001).\n",
      "\n",
      "\n",
      "are requisite to protect the public healthﬂ with \n",
      "ﬁan adequate margin of safety.ﬂ  One could hardly over- Cite as: 572 U. S. ____ (2014) \n",
      "13 \n",
      " SCALIA\n",
      ", J., dissenting \n",
      "state the capaciousness of the word ﬁadequate,ﬂ and the \n",
      "phrase ﬁpublic healthﬂ was at least equally susceptible \n",
      "(indeed, much more susceptible) of permitting cost-benefit \n",
      "\n",
      "analysis as the word ﬁsignificantlyﬂ is here.\n",
      "\n",
      "\n",
      "Something less than ‚bad faith,™ we believe, suffices to\n",
      "mark a case as ‚exceptional™\n",
      "ﬂ).ICON argues that the dual requirement of ﬁsubjective\n",
      "bad faithﬂ and ﬁobjective baselessnessﬂ follows from this\n",
      "\n",
      "Court™s decision in \n",
      "Professional Real Estate Investors, Inc. \n",
      "v. Columbia Pictures Industries, Inc., 508 U. S. 49 (1993) \n",
      "(PRE), which involved an exception to the Noerr-Pennington doctrine of antitrust law.\n",
      "\n",
      "\n",
      "First, whereas it was ﬁunlikelyﬂ that Congress meant to in\n",
      "-corporate in ACCA™s ﬁviolent felonyﬂ \n",
      "definition ﬁa phrase that the\n",
      "common law gave peculiar meaning only in its definition of a misde\n",
      "-\n",
      "meanor,ﬂ id., at 141, it is likely that Congress meant to incorporate \n",
      "the misdemeanor-specific meaning of ﬁforceﬂ in defining a ﬁmisde\n",
      "-meanor crime of domestic violence.ﬂ  Second, whereas the word ﬁvio\n",
      "-lentﬂ or ﬁviolenceﬂ standing alone ﬁconnotes a substantial degree of \n",
      "force,ﬂ id., at 140, that is not true of ﬁdomestic violence,ﬂ which is a \n",
      "term of art encompassing acts that one might not characterize as ﬁvi\n",
      "-\n",
      "olentﬂ in a nondomestic context.\n",
      "\n",
      "\n",
      "Whereas it was ﬁunlikelyﬂ\n",
      "that Congress meant to incorporate in the definition of a\n",
      "ﬁ‚violent felony™ a phrase that the common law gave pecu\n",
      "-liar meaning only in its definition of a misdemeanor,ﬂ \n",
      "Johnson, 559 U. S., at 141, it is likely that Congress\n",
      "meant to incorporate that misdemeanor-specific meaning\n",
      "\n",
      "of ﬁforceﬂ in defining a ﬁm\n",
      "isdemeanor crime of domestic \n",
      "violence.ﬂ Second, whereas the word ﬁviolentﬂ or ﬁviolenceﬂ stand\n",
      "-ing alone ﬁconnotes a substantial degree of force,ﬂ \n",
      "id., at 140,4 that is not true of ﬁdomestic violence.ﬂ ﬁDomestic \n",
      "ŠŠŠŠŠŠ 4This portion of Johnson\n",
      "™s analysis relied heavily on \n",
      "Leocal v. Ash\n",
      "-croft, 543 U. S. 1 (2004), in which we interpreted the meaning of a \n",
      "ﬁcrime of violenceﬂ under 18 U. S. C. §16.\n",
      "\n",
      "\n",
      "ﬁPhysical forceﬂ has a presumptive common-law meaning,\n",
      "\n",
      "and the question is simply whether that presumptivemeaning makes sense in defini\n",
      "ng a ﬁmisdemeanor crime of domestic violence.ﬂ6 A third reason for distinguishing \n",
      "Johnson\n",
      "™s definition of ﬁphysical forceﬂ is that unlike in \n",
      "JohnsonŠwhere a deter-mination that the defendant™s \n",
      "crime was a ﬁviolent felonyﬂ \n",
      "would have classified him as an ﬁarmed career criminalﬂŠ \n",
      "ŠŠŠŠŠŠ 6The concurrence™s reliance on defini\n",
      "tions of ﬁdomestic violenceﬂ in \n",
      "other statutory provisions, see \n",
      "post, at 8, and n. 7, is similarly unper\n",
      "-suasive.\n",
      "\n",
      "\n",
      "Indeed, we have minimized that reasoning when interpreting\n",
      "the Sherman Act precisely because ﬁthe Court has treated the Sherman \n",
      "Act as a \n",
      "common-law\n",
      " statute.ﬂ Leegin Creative Leather Products, Inc. \n",
      "v. PSKS, Inc., 551 U. S. 877, 899 (2007) (emphasis added); see also \n",
      "State Oil Co. v. Khan, 522 U. S. 3, 20Œ21 (1997) (ﬁ[T]he general pre\n",
      "-sumption that legislative changes should be left to Congress has less\n",
      "\n",
      "force with respect to the Sherman Act \n",
      "in light of the accepted view that Congress ‚expected the courts to give shape to the statute™s broad\n",
      "\n",
      "mandate by drawing on common-law tradition™ \n",
      "ﬂ).\n",
      "\n",
      "\n"
     ]
    }
   ],
   "source": [
    "most_similar_df = sent[sent.index.isin(most_sim_ids)]\n",
    "for i in most_similar_df['raw']:\n",
    "    print (i)\n",
    "    print()\n",
    "    print()"
   ]
  }
 ],
 "metadata": {
  "kernelspec": {
   "display_name": "Python Propulsion",
   "language": "python",
   "name": "propulsion"
  },
  "language_info": {
   "codemirror_mode": {
    "name": "ipython",
    "version": 3
   },
   "file_extension": ".py",
   "mimetype": "text/x-python",
   "name": "python",
   "nbconvert_exporter": "python",
   "pygments_lexer": "ipython3",
   "version": "3.7.1"
  }
 },
 "nbformat": 4,
 "nbformat_minor": 2
}

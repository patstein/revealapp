{
 "cells": [
  {
   "cell_type": "markdown",
   "metadata": {},
   "source": [
    "# Sentence similarities based on Word2vec embbeddings"
   ]
  },
  {
   "cell_type": "markdown",
   "metadata": {},
   "source": [
    "### imports"
   ]
  },
  {
   "cell_type": "code",
   "execution_count": 4,
   "metadata": {},
   "outputs": [],
   "source": [
    "#import PyPDF2\n",
    "#import textract\n",
    "import os\n",
    "\n",
    "import numpy as np\n",
    "import pandas as pd\n",
    "import seaborn as sns\n",
    "\n",
    "import nltk\n",
    "from gensim.models import word2vec\n",
    "import gensim.downloader as api\n",
    "from sklearn.metrics.pairwise import cosine_similarity\n",
    "from sklearn import metrics, datasets, neighbors, decomposition"
   ]
  },
  {
   "cell_type": "code",
   "execution_count": 5,
   "metadata": {},
   "outputs": [],
   "source": [
    "#gg_vectors = api.load(\"glove-wiki-gigaword-100\")"
   ]
  },
  {
   "cell_type": "markdown",
   "metadata": {},
   "source": [
    "### get data"
   ]
  },
  {
   "cell_type": "code",
   "execution_count": 11,
   "metadata": {},
   "outputs": [],
   "source": [
    "df = pd.read_csv('../data/processed/supreme_court_opinions_2013_tokenized.csv', converters={\n",
    "    'nltk_tokenized': eval, \n",
    "    \"nltk_sentences\": eval,\n",
    "    'nltk_sentences_tok': eval\n",
    "    }).drop('Unnamed: 0', axis = 1)\n",
    "#df['nltk_tokenized'] = pd.eval(df['nltk_tokenized'])\n",
    "#df['nltk_sentences'] = pd.eval(df['nltk_sentences'])"
   ]
  },
  {
   "cell_type": "code",
   "execution_count": 12,
   "metadata": {
    "scrolled": true
   },
   "outputs": [
    {
     "data": {
      "text/html": [
       "<div>\n",
       "<style scoped>\n",
       "    .dataframe tbody tr th:only-of-type {\n",
       "        vertical-align: middle;\n",
       "    }\n",
       "\n",
       "    .dataframe tbody tr th {\n",
       "        vertical-align: top;\n",
       "    }\n",
       "\n",
       "    .dataframe thead th {\n",
       "        text-align: right;\n",
       "    }\n",
       "</style>\n",
       "<table border=\"1\" class=\"dataframe\">\n",
       "  <thead>\n",
       "    <tr style=\"text-align: right;\">\n",
       "      <th></th>\n",
       "      <th>raw text</th>\n",
       "      <th>nltk_sentences</th>\n",
       "      <th>nltk_tokenized</th>\n",
       "      <th>nltk_sentences_tok</th>\n",
       "    </tr>\n",
       "  </thead>\n",
       "  <tbody>\n",
       "    <tr>\n",
       "      <th>0</th>\n",
       "      <td>1 (S...</td>\n",
       "      <td>[          \\n           \\n      \\n   \\n     \\n...</td>\n",
       "      <td>[1, (, slip, opinion, ), october, term, ,, 201...</td>\n",
       "      <td>[[1, (, slip, opinion, ), october, term, ,, 20...</td>\n",
       "    </tr>\n",
       "    <tr>\n",
       "      <th>1</th>\n",
       "      <td>1 (Slip Opinio...</td>\n",
       "      <td>[          \\n            \\n          1 (Slip O...</td>\n",
       "      <td>[1, (, slip, opinion, ), october, term, ,, 201...</td>\n",
       "      <td>[[1, (, slip, opinion, ), october, term, ,, 20...</td>\n",
       "    </tr>\n",
       "    <tr>\n",
       "      <th>2</th>\n",
       "      <td>1 (...</td>\n",
       "      <td>[          \\n         \\n                      ...</td>\n",
       "      <td>[1, (, slip, opinion, ), october, term, ,, 201...</td>\n",
       "      <td>[[1, (, slip, opinion, ), october, term, ,, 20...</td>\n",
       "    </tr>\n",
       "    <tr>\n",
       "      <th>3</th>\n",
       "      <td>1 (Slip Opi...</td>\n",
       "      <td>[          \\n              \\n      \\n     1 (S...</td>\n",
       "      <td>[1, (, slip, opinion, ), october, term, ,, 201...</td>\n",
       "      <td>[[1, (, slip, opinion, ), october, term, ,, 20...</td>\n",
       "    </tr>\n",
       "    <tr>\n",
       "      <th>4</th>\n",
       "      <td>1...</td>\n",
       "      <td>[          \\n                             \\n  ...</td>\n",
       "      <td>[1, (, slip, opinion, ), october, term, ,, 201...</td>\n",
       "      <td>[[1, (, slip, opinion, ), october, term, ,, 20...</td>\n",
       "    </tr>\n",
       "    <tr>\n",
       "      <th>...</th>\n",
       "      <td>...</td>\n",
       "      <td>...</td>\n",
       "      <td>...</td>\n",
       "      <td>...</td>\n",
       "    </tr>\n",
       "    <tr>\n",
       "      <th>67</th>\n",
       "      <td>1 (Slip O...</td>\n",
       "      <td>[          \\n              \\n  \\n         \\n  ...</td>\n",
       "      <td>[1, (, slip, opinion, ), october, term, ,, 201...</td>\n",
       "      <td>[[1, (, slip, opinion, ), october, term, ,, 20...</td>\n",
       "    </tr>\n",
       "    <tr>\n",
       "      <th>68</th>\n",
       "      <td>1 Cite as: 572 U. S...</td>\n",
       "      <td>[        \\n        \\n           1 Cite as: 572...</td>\n",
       "      <td>[1, cite, :, 572, u., s., ____, (, 2014, ), pe...</td>\n",
       "      <td>[[1, cite, :, 572, u., s., ____, (, 2014, ), p...</td>\n",
       "    </tr>\n",
       "    <tr>\n",
       "      <th>69</th>\n",
       "      <td>1 Cite as: 572 U. S. ____ (20...</td>\n",
       "      <td>[                 1 Cite as: 572 U. S. ____ (2...</td>\n",
       "      <td>[1, cite, :, 572, u., s., ____, (, 2014, ), pe...</td>\n",
       "      <td>[[1, cite, :, 572, u., s., ____, (, 2014, ), p...</td>\n",
       "    </tr>\n",
       "    <tr>\n",
       "      <th>70</th>\n",
       "      <td>1 Cite as: 571 U. S. ____ (2...</td>\n",
       "      <td>[                \\n  1 Cite as: 571 U. S. ____...</td>\n",
       "      <td>[1, cite, :, 571, u., s., ____, (, 2014, ), pe...</td>\n",
       "      <td>[[1, cite, :, 571, u., s., ____, (, 2014, ), p...</td>\n",
       "    </tr>\n",
       "    <tr>\n",
       "      <th>71</th>\n",
       "      <td>1 Cite as: 573 U. S. ____ (2014) Per...</td>\n",
       "      <td>[          1 Cite as: 573 U. S. ____ (2014) \\n...</td>\n",
       "      <td>[1, cite, :, 573, u., s., ____, (, 2014, ), pe...</td>\n",
       "      <td>[[1, cite, :, 573, u., s., ____, (, 2014, ), p...</td>\n",
       "    </tr>\n",
       "  </tbody>\n",
       "</table>\n",
       "<p>72 rows × 4 columns</p>\n",
       "</div>"
      ],
      "text/plain": [
       "                                             raw text  \\\n",
       "0                                             1 (S...   \n",
       "1                                   1 (Slip Opinio...   \n",
       "2                                              1 (...   \n",
       "3                                      1 (Slip Opi...   \n",
       "4                                                1...   \n",
       "..                                                ...   \n",
       "67                                       1 (Slip O...   \n",
       "68                             1 Cite as: 572 U. S...   \n",
       "69                   1 Cite as: 572 U. S. ____ (20...   \n",
       "70                    1 Cite as: 571 U. S. ____ (2...   \n",
       "71            1 Cite as: 573 U. S. ____ (2014) Per...   \n",
       "\n",
       "                                       nltk_sentences  \\\n",
       "0   [          \\n           \\n      \\n   \\n     \\n...   \n",
       "1   [          \\n            \\n          1 (Slip O...   \n",
       "2   [          \\n         \\n                      ...   \n",
       "3   [          \\n              \\n      \\n     1 (S...   \n",
       "4   [          \\n                             \\n  ...   \n",
       "..                                                ...   \n",
       "67  [          \\n              \\n  \\n         \\n  ...   \n",
       "68  [        \\n        \\n           1 Cite as: 572...   \n",
       "69  [                 1 Cite as: 572 U. S. ____ (2...   \n",
       "70  [                \\n  1 Cite as: 571 U. S. ____...   \n",
       "71  [          1 Cite as: 573 U. S. ____ (2014) \\n...   \n",
       "\n",
       "                                       nltk_tokenized  \\\n",
       "0   [1, (, slip, opinion, ), october, term, ,, 201...   \n",
       "1   [1, (, slip, opinion, ), october, term, ,, 201...   \n",
       "2   [1, (, slip, opinion, ), october, term, ,, 201...   \n",
       "3   [1, (, slip, opinion, ), october, term, ,, 201...   \n",
       "4   [1, (, slip, opinion, ), october, term, ,, 201...   \n",
       "..                                                ...   \n",
       "67  [1, (, slip, opinion, ), october, term, ,, 201...   \n",
       "68  [1, cite, :, 572, u., s., ____, (, 2014, ), pe...   \n",
       "69  [1, cite, :, 572, u., s., ____, (, 2014, ), pe...   \n",
       "70  [1, cite, :, 571, u., s., ____, (, 2014, ), pe...   \n",
       "71  [1, cite, :, 573, u., s., ____, (, 2014, ), pe...   \n",
       "\n",
       "                                   nltk_sentences_tok  \n",
       "0   [[1, (, slip, opinion, ), october, term, ,, 20...  \n",
       "1   [[1, (, slip, opinion, ), october, term, ,, 20...  \n",
       "2   [[1, (, slip, opinion, ), october, term, ,, 20...  \n",
       "3   [[1, (, slip, opinion, ), october, term, ,, 20...  \n",
       "4   [[1, (, slip, opinion, ), october, term, ,, 20...  \n",
       "..                                                ...  \n",
       "67  [[1, (, slip, opinion, ), october, term, ,, 20...  \n",
       "68  [[1, cite, :, 572, u., s., ____, (, 2014, ), p...  \n",
       "69  [[1, cite, :, 572, u., s., ____, (, 2014, ), p...  \n",
       "70  [[1, cite, :, 571, u., s., ____, (, 2014, ), p...  \n",
       "71  [[1, cite, :, 573, u., s., ____, (, 2014, ), p...  \n",
       "\n",
       "[72 rows x 4 columns]"
      ]
     },
     "execution_count": 12,
     "metadata": {},
     "output_type": "execute_result"
    }
   ],
   "source": [
    "df['raw text'] = df['raw text'].apply(lambda x: x.replace('\\n-',''))\n",
    "df['raw text'] = df['raw text'].apply(lambda x: x.replace('\\n',''))\n",
    "df"
   ]
  },
  {
   "cell_type": "markdown",
   "metadata": {},
   "source": [
    "### raw text readable (ish): "
   ]
  },
  {
   "cell_type": "code",
   "execution_count": 13,
   "metadata": {
    "jupyter": {
     "source_hidden": true
    }
   },
   "outputs": [],
   "source": [
    "all_sentences = []\n",
    "for text in df['nltk_sentences']:\n",
    "    for sentence in text:\n",
    "        sentence_p = sentence.replace('\\n-','')\n",
    "        sentence_p = sentence_p.replace('\\n','')\n",
    "        all_sentences.append(sentence_p)"
   ]
  },
  {
   "cell_type": "code",
   "execution_count": 230,
   "metadata": {},
   "outputs": [
    {
     "data": {
      "text/plain": [
       "33741"
      ]
     },
     "execution_count": 230,
     "metadata": {},
     "output_type": "execute_result"
    }
   ],
   "source": [
    "len(all_sentences)"
   ]
  },
  {
   "cell_type": "markdown",
   "metadata": {},
   "source": [
    "### build corpus to get word embeddings from: "
   ]
  },
  {
   "cell_type": "code",
   "execution_count": 200,
   "metadata": {},
   "outputs": [],
   "source": [
    "corpus = []\n",
    "for i in df['nltk_sentences_tok']:\n",
    "    for j in i:\n",
    "        corpus.append(j)"
   ]
  },
  {
   "cell_type": "markdown",
   "metadata": {},
   "source": [
    "### and get the word embeddings:"
   ]
  },
  {
   "cell_type": "code",
   "execution_count": 283,
   "metadata": {},
   "outputs": [],
   "source": [
    "model_w = word2vec.Word2Vec(corpus, size=100, window=100, min_count=5, workers=4)\n",
    "model_n = word2vec.Word2Vec(corpus, size=100, window=3, min_count=5, workers=4)\n",
    "# something to fill afterwards whith the mixed embeddings\n",
    "model_mix = word2vec.Word2Vec(corpus, size = 100, window = 1, min_count = 100, workers = 4) "
   ]
  },
  {
   "cell_type": "code",
   "execution_count": 392,
   "metadata": {
    "scrolled": true
   },
   "outputs": [
    {
     "name": "stdout",
     "output_type": "stream",
     "text": [
      "[('grand', 0.9626011252403259), ('entitled', 0.9462876319885254), ('discretion', 0.9453582763671875), ('judge', 0.9447222948074341), ('wisconsin™s', 0.9378288984298706)]\n",
      "[('grand', 0.9785374999046326), ('determine', 0.9782351851463318), ('hearing', 0.9733443856239319), ('determining', 0.9699631333351135), ('proper', 0.9686853885650635)]\n",
      "[('grand', 0.9380059242248535), ('proper', 0.9327932596206665), ('reach', 0.9322798252105713), ('never', 0.9317858219146729), ('taken', 0.915726900100708)]\n"
     ]
    }
   ],
   "source": [
    "print(model_w.wv.most_similar('jury', topn=5))\n",
    "print(model_n.wv.most_similar('jury', topn=5))\n",
    "print(model_nada.wv.most_similar('jury', topn=5))"
   ]
  },
  {
   "cell_type": "code",
   "execution_count": 390,
   "metadata": {},
   "outputs": [],
   "source": [
    "# this I didn't use for anything\n",
    "vectors_w = model_w.wv\n",
    "vectors_n = model_n.wv"
   ]
  },
  {
   "cell_type": "markdown",
   "metadata": {},
   "source": [
    "### create a \"mixture\" of two embeddings whit PCA:"
   ]
  },
  {
   "cell_type": "code",
   "execution_count": null,
   "metadata": {},
   "outputs": [],
   "source": [
    "keys = model_w.wv.vocab.keys()\n",
    "# model_w.wv.vocab['1']"
   ]
  },
  {
   "cell_type": "code",
   "execution_count": 393,
   "metadata": {
    "scrolled": true
   },
   "outputs": [],
   "source": [
    "embeddings_w = pd.DataFrame({key:model_w.wv[key] for key in keys})\n",
    "embeddings_n = pd.DataFrame({key:model_n.wv[key] for key in keys})\n",
    "embeddings_all = embeddings_w.append(embeddings_n).T"
   ]
  },
  {
   "cell_type": "code",
   "execution_count": 362,
   "metadata": {},
   "outputs": [],
   "source": [
    "pca = decomposition.PCA()\n",
    "pca.fit(embeddings_all)\n",
    "embeddings_PCA = pca.transform(embeddings_all).T"
   ]
  },
  {
   "cell_type": "code",
   "execution_count": 371,
   "metadata": {},
   "outputs": [
    {
     "data": {
      "text/plain": [
       "<matplotlib.axes._subplots.AxesSubplot at 0x1e311d15160>"
      ]
     },
     "execution_count": 371,
     "metadata": {},
     "output_type": "execute_result"
    },
    {
     "data": {
      "image/png": "[encoded data removed]",
      "text/plain": [
       "<Figure size 432x288 with 1 Axes>"
      ]
     },
     "metadata": {
      "needs_background": "light"
     },
     "output_type": "display_data"
    }
   ],
   "source": [
    "sns.lineplot(x = range(0,len(pca.components_)), y = pca.explained_variance_ratio_)"
   ]
  },
  {
   "cell_type": "code",
   "execution_count": 405,
   "metadata": {},
   "outputs": [],
   "source": [
    "total_explained =pd.Series(pca.explained_variance_ratio_).cumsum()"
   ]
  },
  {
   "cell_type": "code",
   "execution_count": 374,
   "metadata": {
    "scrolled": true
   },
   "outputs": [
    {
     "data": {
      "text/plain": [
       "<matplotlib.lines.Line2D at 0x1e30a0bd4a8>"
      ]
     },
     "execution_count": 374,
     "metadata": {},
     "output_type": "execute_result"
    },
    {
     "data": {
      "image/png": "[encoded data removed]",
      "text/plain": [
       "<Figure size 432x288 with 1 Axes>"
      ]
     },
     "metadata": {
      "needs_background": "light"
     },
     "output_type": "display_data"
    }
   ],
   "source": [
    "ax1 = sns.lineplot(x = range(0,len(pca.components_)), y = total_explained)\n",
    "ax1.axhline(y=0.8, color=\"red\", linestyle=\"--\")\n",
    "ax1.axhline(y=0.9, color=\"green\", linestyle=\"--\")"
   ]
  },
  {
   "cell_type": "code",
   "execution_count": 407,
   "metadata": {},
   "outputs": [],
   "source": [
    "embeddings_mix = pd.DataFrame(embeddings_PCA).iloc[:,0:100]\n",
    "embeddings_mix['word'] = embeddings_all.index.values\n",
    "embeddings_mix.set_index(['word'], inplace = True)\n",
    "#embeddings_mix'"
   ]
  },
  {
   "cell_type": "code",
   "execution_count": 420,
   "metadata": {},
   "outputs": [],
   "source": [
    "#model_mix = word2vec.Word2Vec(corpus, size = 100, window = 1, min_count = 100, workers = 4) \n",
    "for word in keys:\n",
    "    model_mix.wv[word] = np.array(embeddings_mix.loc[word])"
   ]
  },
  {
   "cell_type": "markdown",
   "metadata": {},
   "source": [
    "### create a function tha calculates embeddings for sentences :\n",
    "Embeddigns are based on averages of words"
   ]
  },
  {
   "cell_type": "code",
   "execution_count": 114,
   "metadata": {},
   "outputs": [],
   "source": [
    "def get_sentence_vector(sentence, model):\n",
    "    try:\n",
    "        vector = pd.DataFrame([model.wv[word] for word in sentence]).mean()\n",
    "    except:\n",
    "        vector = pd.DataFrame([list(range(100)) for i in [1,2]]).mean() \n",
    "    return vector"
   ]
  },
  {
   "cell_type": "code",
   "execution_count": 202,
   "metadata": {},
   "outputs": [],
   "source": [
    "###     T H I S   T A K E S    A    W H I L E  !!!\n",
    "\n",
    "sentence_vectors_w = pd.DataFrame([get_sentence_vector(sent,model_w) for sent in corpus])\n",
    "sentence_vectors_n = pd.DataFrame([get_sentence_vector(sent,model_n) for sent in corpus])\n",
    "sentence_vectors_mix = pd.DataFrame([get_sentence_vector(sent,model_mix) for sent in corpus])"
   ]
  },
  {
   "cell_type": "code",
   "execution_count": 421,
   "metadata": {},
   "outputs": [],
   "source": [
    "sentence_vectors_mix = pd.DataFrame([get_sentence_vector(sent,model_mix) for sent in corpus])"
   ]
  },
  {
   "cell_type": "markdown",
   "metadata": {},
   "source": [
    "#### (tokenizer)"
   ]
  },
  {
   "cell_type": "code",
   "execution_count": 242,
   "metadata": {},
   "outputs": [],
   "source": [
    "STOP_WORDS = nltk.corpus.stopwords.words('english')"
   ]
  },
  {
   "cell_type": "code",
   "execution_count": 385,
   "metadata": {},
   "outputs": [],
   "source": [
    "# tokenizer function same as in preprocess notebook\n",
    "def tokenize_text(text):    \n",
    "    text_tokenized = nltk.word_tokenize(text)\n",
    "    text_tokenized = list(map(lambda x: x.lower(),text_tokenized))\n",
    "    \n",
    "    for word in text_tokenized:        \n",
    "        if word in STOP_WORDS:\n",
    "            text_tokenized.remove(word)\n",
    "        #if not (word.isalnum()):            \n",
    "            #text_tokenized.remove(word)\n",
    "        \n",
    "    return(text_tokenized)"
   ]
  },
  {
   "cell_type": "markdown",
   "metadata": {},
   "source": [
    "### create a function that fetches the most similar sentences to an expression:\n",
    "Embeddigns are based on averages of words"
   ]
  },
  {
   "cell_type": "code",
   "execution_count": 386,
   "metadata": {},
   "outputs": [],
   "source": [
    "def get_most_similar (input, model, sentence_vectors, n):\n",
    "    input = tokenize_text(input)\n",
    "    input_vector = get_sentence_vector(input, model)\n",
    "    sim = cosine_similarity(sentence_vectors, np.array(input_vector).reshape(1, -1)).T[0]\n",
    "    toplist = pd.DataFrame({'sentences': all_sentences, 'similarity': sim}).sort_values(by = 'similarity', ascending = False)[0:n]\n",
    "    return(toplist)"
   ]
  },
  {
   "cell_type": "code",
   "execution_count": 429,
   "metadata": {},
   "outputs": [
    {
     "name": "stdout",
     "output_type": "stream",
     "text": [
      "WIDE: \n",
      "The judgment of the Court of Appeals is reversed.\n",
      "\n",
      "The judgment of the Court of Appeals is affirmed.\n",
      "\n",
      "We reverse the judgment of the Court of Appeals.\n",
      "\n",
      "We therefore reverse the judgment of the Court of Appeals.\n",
      "\n",
      "The Bankruptcy Court granted summary judgment in its favor.\n",
      "\n",
      "The Court granted certiorari.\n",
      "\n",
      "This Court granted certiorari.\n",
      "\n",
      "This Court granted certiorari.\n",
      "\n",
      "The judgment of the Court of Appeals for the Sixth Circuit is reversed.\n",
      "\n",
      "The District Court granted summary judgment to Octane.\n",
      "\n",
      "NARROW: \n",
      "The court refused, and the Kentucky Supreme Court agreed that no instruction was warranted.\n",
      "\n",
      "This Court granted certiorari.\n",
      "\n",
      "This Court granted certiorari.\n",
      "\n",
      "The Court granted certiorari.\n",
      "\n",
      "The Court has properlyreserved that issue for consideration on remand.\n",
      "\n",
      "The Bankruptcy Court granted summary judgment in its favor.\n",
      "\n",
      "The Court of Appeals once againaffirmed.\n",
      "\n",
      "The California Court of Appeal affirmed.\n",
      "\n",
      "The California Court of Appeal affirmed.\n",
      "\n",
      "The California Court of Appeal affirmed.\n",
      "\n",
      "MIX: \n",
      "The court refused, and the Kentucky Supreme Court agreed that no instruction was warranted.\n",
      "\n",
      "This Court granted certiorari.\n",
      "\n",
      "This Court granted certiorari.\n",
      "\n",
      "The Court granted certiorari.\n",
      "\n",
      "The Court has properlyreserved that issue for consideration on remand.\n",
      "\n",
      "The Bankruptcy Court granted summary judgment in its favor.\n",
      "\n",
      "The Court of Appeals once againaffirmed.\n",
      "\n",
      "The California Court of Appeal affirmed.\n",
      "\n",
      "The California Court of Appeal affirmed.\n",
      "\n",
      "The California Court of Appeal affirmed.\n",
      "\n"
     ]
    }
   ],
   "source": [
    "#search_term = 'deny'\n",
    "search_term = 'The Court objects'\n",
    "top10_wide = get_most_similar(search_term, model_w,sentence_vectors_w,10)\n",
    "top10_narrow = get_most_similar(search_term, model_n,sentence_vectors_n,10)\n",
    "top10_narrow = get_most_similar(search_term, model_mix,sentence_vectors_mix,10)\n",
    "\n",
    "print('WIDE: ')\n",
    "for i in top10_wide['sentences']:\n",
    "    print(i)\n",
    "    print()\n",
    "    \n",
    "print('NARROW: ')\n",
    "for i in top10_narrow['sentences']:\n",
    "    print(i)\n",
    "    print()\n",
    "    \n",
    "print('MIX: ')\n",
    "for i in top10_narrow['sentences']:\n",
    "    print(i)\n",
    "    print()"
   ]
  },
  {
   "cell_type": "code",
   "execution_count": 384,
   "metadata": {},
   "outputs": [],
   "source": [
    " #get_sentence_vector(tokenize_text('judgment of the California Court'), model_w).T"
   ]
  },
  {
   "cell_type": "code",
   "execution_count": null,
   "metadata": {},
   "outputs": [],
   "source": []
  }
 ],
 "metadata": {
  "kernelspec": {
   "display_name": "propulsion2020",
   "language": "python",
   "name": "propulsion2020"
  },
  "language_info": {
   "codemirror_mode": {
    "name": "ipython",
    "version": 3
   },
   "file_extension": ".py",
   "mimetype": "text/x-python",
   "name": "python",
   "nbconvert_exporter": "python",
   "pygments_lexer": "ipython3",
   "version": "3.7.7"
  }
 },
 "nbformat": 4,
 "nbformat_minor": 4
}

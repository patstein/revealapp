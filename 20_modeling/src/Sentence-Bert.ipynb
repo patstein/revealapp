{
 "cells": [
  {
   "cell_type": "markdown",
   "metadata": {},
   "source": [
    "Sentence-Bert: Sentence Embeddings using Siamese BERT-Networks.ipynb"
   ]
  },
  {
   "cell_type": "markdown",
   "metadata": {},
   "source": [
    "# BERT as Sentence Embedding"
   ]
  },
  {
   "cell_type": "code",
   "execution_count": 106,
   "metadata": {},
   "outputs": [],
   "source": [
    "from sentence_transformers import SentenceTransformer, LoggingHandler\n",
    "import numpy as np\n",
    "import logging\n",
    "import os\n",
    "\n",
    "from sklearn.metrics.pairwise import cosine_similarity\n",
    "from sklearn.model_selection import train_test_split\n",
    "\n",
    "#plotting\n",
    "import matplotlib.pyplot as plt\n",
    "from matplotlib.image import NonUniformImage\n",
    "from matplotlib import cm\n",
    "import matplotlib.colors as mcolors\n",
    "\n",
    "from sklearn.linear_model import SGDClassifier, LinearRegression, LogisticRegression\n",
    "from sklearn.metrics import classification_report, accuracy_score, confusion_matrix, roc_auc_score, roc_curve, mean_squared_error\n"
   ]
  },
  {
   "cell_type": "markdown",
   "metadata": {},
   "source": [
    "## Set-up and Load Model"
   ]
  },
  {
   "cell_type": "markdown",
   "metadata": {},
   "source": [
    "1. pip install -U sentence-transformers\n",
    "2. git clone https://github.com/UKPLab/sentence-transformers.git\n",
    "3. pip install -e ."
   ]
  },
  {
   "cell_type": "code",
   "execution_count": 2,
   "metadata": {},
   "outputs": [],
   "source": [
    "#### Just some code to print debug information to stdout\n",
    "np.set_printoptions(threshold=100)\n",
    "\n",
    "logging.basicConfig(format='%(asctime)s - %(message)s',\n",
    "                    datefmt='%Y-%m-%d %H:%M:%S',\n",
    "                    level=logging.INFO,\n",
    "                    handlers=[LoggingHandler()])\n",
    "#### /print debug information to stdout\n"
   ]
  },
  {
   "cell_type": "code",
   "execution_count": 3,
   "metadata": {
    "collapsed": true,
    "jupyter": {
     "outputs_hidden": true
    }
   },
   "outputs": [
    {
     "name": "stdout",
     "output_type": "stream",
     "text": [
      "2020-04-09 23:07:59 - Load pretrained SentenceTransformer: bert-base-nli-mean-tokens\n",
      "2020-04-09 23:07:59 - Did not find a '/' or '\\' in the name. Assume to download model from server.\n",
      "2020-04-09 23:07:59 - Downloading sentence transformer model from https://public.ukp.informatik.tu-darmstadt.de/reimers/sentence-transformers/v0.2/bert-base-nli-mean-tokens.zip and saving it at /home/sevi/.cache/torch/sentence_transformers/public.ukp.informatik.tu-darmstadt.de_reimers_sentence-transformers_v0.2_bert-base-nli-mean-tokens.zip\n"
     ]
    },
    {
     "name": "stderr",
     "output_type": "stream",
     "text": [
      "100%|██████████| 405M/405M [00:18<00:00, 21.5MB/s] \n"
     ]
    },
    {
     "name": "stdout",
     "output_type": "stream",
     "text": [
      "2020-04-09 23:08:22 - Load SentenceTransformer from folder: /home/sevi/.cache/torch/sentence_transformers/public.ukp.informatik.tu-darmstadt.de_reimers_sentence-transformers_v0.2_bert-base-nli-mean-tokens.zip\n",
      "2020-04-09 23:08:22 - loading configuration file /home/sevi/.cache/torch/sentence_transformers/public.ukp.informatik.tu-darmstadt.de_reimers_sentence-transformers_v0.2_bert-base-nli-mean-tokens.zip/0_BERT/config.json\n",
      "2020-04-09 23:08:22 - Model config {\n",
      "  \"attention_probs_dropout_prob\": 0.1,\n",
      "  \"finetuning_task\": null,\n",
      "  \"hidden_act\": \"gelu\",\n",
      "  \"hidden_dropout_prob\": 0.1,\n",
      "  \"hidden_size\": 768,\n",
      "  \"id2label\": {\n",
      "    \"0\": \"LABEL_0\",\n",
      "    \"1\": \"LABEL_1\"\n",
      "  },\n",
      "  \"initializer_range\": 0.02,\n",
      "  \"intermediate_size\": 3072,\n",
      "  \"is_decoder\": false,\n",
      "  \"label2id\": {\n",
      "    \"LABEL_0\": 0,\n",
      "    \"LABEL_1\": 1\n",
      "  },\n",
      "  \"layer_norm_eps\": 1e-12,\n",
      "  \"max_position_embeddings\": 512,\n",
      "  \"num_attention_heads\": 12,\n",
      "  \"num_hidden_layers\": 12,\n",
      "  \"num_labels\": 2,\n",
      "  \"output_attentions\": false,\n",
      "  \"output_hidden_states\": false,\n",
      "  \"output_past\": true,\n",
      "  \"pruned_heads\": {},\n",
      "  \"torchscript\": false,\n",
      "  \"type_vocab_size\": 2,\n",
      "  \"use_bfloat16\": false,\n",
      "  \"vocab_size\": 30522\n",
      "}\n",
      "\n",
      "2020-04-09 23:08:22 - loading weights file /home/sevi/.cache/torch/sentence_transformers/public.ukp.informatik.tu-darmstadt.de_reimers_sentence-transformers_v0.2_bert-base-nli-mean-tokens.zip/0_BERT/pytorch_model.bin\n"
     ]
    },
    {
     "name": "stderr",
     "output_type": "stream",
     "text": [
      "Batches:   0%|          | 0/1 [00:00<?, ?it/s]"
     ]
    },
    {
     "name": "stdout",
     "output_type": "stream",
     "text": [
      "2020-04-09 23:08:24 - Model name '/home/sevi/.cache/torch/sentence_transformers/public.ukp.informatik.tu-darmstadt.de_reimers_sentence-transformers_v0.2_bert-base-nli-mean-tokens.zip/0_BERT' not found in model shortcut name list (bert-base-uncased, bert-large-uncased, bert-base-cased, bert-large-cased, bert-base-multilingual-uncased, bert-base-multilingual-cased, bert-base-chinese, bert-base-german-cased, bert-large-uncased-whole-word-masking, bert-large-cased-whole-word-masking, bert-large-uncased-whole-word-masking-finetuned-squad, bert-large-cased-whole-word-masking-finetuned-squad, bert-base-cased-finetuned-mrpc, bert-base-german-dbmdz-cased, bert-base-german-dbmdz-uncased, bert-base-finnish-cased-v1, bert-base-finnish-uncased-v1). Assuming '/home/sevi/.cache/torch/sentence_transformers/public.ukp.informatik.tu-darmstadt.de_reimers_sentence-transformers_v0.2_bert-base-nli-mean-tokens.zip/0_BERT' is a path or url to a directory containing tokenizer files.\n",
      "2020-04-09 23:08:24 - Didn't find file /home/sevi/.cache/torch/sentence_transformers/public.ukp.informatik.tu-darmstadt.de_reimers_sentence-transformers_v0.2_bert-base-nli-mean-tokens.zip/0_BERT/tokenizer_config.json. We won't load it.\n",
      "2020-04-09 23:08:24 - loading file /home/sevi/.cache/torch/sentence_transformers/public.ukp.informatik.tu-darmstadt.de_reimers_sentence-transformers_v0.2_bert-base-nli-mean-tokens.zip/0_BERT/vocab.txt\n",
      "2020-04-09 23:08:24 - loading file /home/sevi/.cache/torch/sentence_transformers/public.ukp.informatik.tu-darmstadt.de_reimers_sentence-transformers_v0.2_bert-base-nli-mean-tokens.zip/0_BERT/added_tokens.json\n",
      "2020-04-09 23:08:24 - loading file /home/sevi/.cache/torch/sentence_transformers/public.ukp.informatik.tu-darmstadt.de_reimers_sentence-transformers_v0.2_bert-base-nli-mean-tokens.zip/0_BERT/special_tokens_map.json\n",
      "2020-04-09 23:08:24 - loading file None\n",
      "2020-04-09 23:08:24 - Use pytorch device: cpu\n"
     ]
    },
    {
     "name": "stderr",
     "output_type": "stream",
     "text": [
      "Batches: 100%|██████████| 1/1 [00:00<00:00,  2.15it/s]"
     ]
    },
    {
     "name": "stdout",
     "output_type": "stream",
     "text": [
      "Sentence: This framework generates embeddings for each input sentence\n",
      "Embedding: [-0.10409471  0.52747655  1.1797731  ... -0.43389118 -0.6945235\n",
      "  0.53869253]\n",
      "\n",
      "Sentence: Sentences are passed as a list of string.\n",
      "Embedding: [-0.13118424 -0.17390288  1.105219   ...  0.02624452 -0.00269884\n",
      "  0.91611046]\n",
      "\n",
      "Sentence: The quick brown fox jumps over the lazy dog.\n",
      "Embedding: [-0.74899274  0.7189173  -1.0394564  ...  0.15582675  1.0202512\n",
      "  0.09790435]\n",
      "\n"
     ]
    },
    {
     "name": "stderr",
     "output_type": "stream",
     "text": [
      "\n"
     ]
    }
   ],
   "source": [
    "# Load Sentence model (based on BERT) from URL\n",
    "model = SentenceTransformer('bert-base-nli-mean-tokens')"
   ]
  },
  {
   "cell_type": "markdown",
   "metadata": {},
   "source": [
    "## Loading and Cleaning Testdata"
   ]
  },
  {
   "cell_type": "code",
   "execution_count": 9,
   "metadata": {},
   "outputs": [
    {
     "name": "stderr",
     "output_type": "stream",
     "text": [
      "/home/sevi/anaconda3/envs/propulsion2020/lib/python3.7/importlib/_bootstrap.py:219: RuntimeWarning: numpy.ufunc size changed, may indicate binary incompatibility. Expected 192 from C header, got 216 from PyObject\n",
      "  return f(*args, **kwds)\n",
      "[nltk_data] Downloading package stopwords to /home/sevi/nltk_data...\n",
      "[nltk_data]   Package stopwords is already up-to-date!\n"
     ]
    }
   ],
   "source": [
    "path = '/home/sevi/Desktop/Work/PropulsionDS/GroupChallenges/RelevApp/10_cleaning/src'\n",
    "\n",
    "current_path = os.getcwd()\n",
    "os.chdir(path)\n",
    "%run ./Load+Clean_News.ipynb\n",
    "os.chdir(current_path)"
   ]
  },
  {
   "cell_type": "code",
   "execution_count": 10,
   "metadata": {},
   "outputs": [
    {
     "data": {
      "text/html": [
       "<div>\n",
       "<style scoped>\n",
       "    .dataframe tbody tr th:only-of-type {\n",
       "        vertical-align: middle;\n",
       "    }\n",
       "\n",
       "    .dataframe tbody tr th {\n",
       "        vertical-align: top;\n",
       "    }\n",
       "\n",
       "    .dataframe thead th {\n",
       "        text-align: right;\n",
       "    }\n",
       "</style>\n",
       "<table border=\"1\" class=\"dataframe\">\n",
       "  <thead>\n",
       "    <tr style=\"text-align: right;\">\n",
       "      <th></th>\n",
       "      <th>SimilarityScore</th>\n",
       "      <th>sentence1</th>\n",
       "      <th>sentence2</th>\n",
       "    </tr>\n",
       "  </thead>\n",
       "  <tbody>\n",
       "    <tr>\n",
       "      <th>0</th>\n",
       "      <td>4.000</td>\n",
       "      <td>last year wanted murder</td>\n",
       "      <td>last year sought murder</td>\n",
       "    </tr>\n",
       "    <tr>\n",
       "      <th>1</th>\n",
       "      <td>5.000</td>\n",
       "      <td>promarket economists dont object corporations blatantly use snob appeal promote products</td>\n",
       "      <td>economists companies openly using attractiveness luxury promote products</td>\n",
       "    </tr>\n",
       "    <tr>\n",
       "      <th>2</th>\n",
       "      <td>5.000</td>\n",
       "      <td>perhaps importantly ahmadinejad destabilizing influence bernanke</td>\n",
       "      <td>perhaps important ahmadinejad destabilising influence bernanke</td>\n",
       "    </tr>\n",
       "    <tr>\n",
       "      <th>3</th>\n",
       "      <td>4.667</td>\n",
       "      <td>europe</td>\n",
       "      <td>europe</td>\n",
       "    </tr>\n",
       "    <tr>\n",
       "      <th>4</th>\n",
       "      <td>4.500</td>\n",
       "      <td>gays modern practices rejected selfindulgent</td>\n",
       "      <td>gay practical modern rejected laws</td>\n",
       "    </tr>\n",
       "    <tr>\n",
       "      <th>...</th>\n",
       "      <td>...</td>\n",
       "      <td>...</td>\n",
       "      <td>...</td>\n",
       "    </tr>\n",
       "    <tr>\n",
       "      <th>649</th>\n",
       "      <td>1.800</td>\n",
       "      <td>indian pakistani governments nearly engaged fourth conflict 1999</td>\n",
       "      <td>indian pakistani governments conducted nuclear tests may 1998</td>\n",
       "    </tr>\n",
       "    <tr>\n",
       "      <th>650</th>\n",
       "      <td>3.800</td>\n",
       "      <td>iguaran stated detainees accused homicide criminal collaboration kidnappings funding terrorism</td>\n",
       "      <td>iguaran stated detainees also involved murders police members antikidnapping group</td>\n",
       "    </tr>\n",
       "    <tr>\n",
       "      <th>651</th>\n",
       "      <td>2.400</td>\n",
       "      <td>3 suspected extremists released bail</td>\n",
       "      <td>1 suspected extremist provisionally released without bail</td>\n",
       "    </tr>\n",
       "    <tr>\n",
       "      <th>652</th>\n",
       "      <td>0.800</td>\n",
       "      <td>6 czech hospital employees charged human organ trafficking</td>\n",
       "      <td>accused charged international drug trafficking</td>\n",
       "    </tr>\n",
       "    <tr>\n",
       "      <th>653</th>\n",
       "      <td>2.000</td>\n",
       "      <td>aggravated situation</td>\n",
       "      <td>north korea act aggravate situation</td>\n",
       "    </tr>\n",
       "  </tbody>\n",
       "</table>\n",
       "<p>654 rows × 3 columns</p>\n",
       "</div>"
      ],
      "text/plain": [
       "     SimilarityScore  ...                                                                           sentence2\n",
       "0              4.000  ...                                                            last year sought murder \n",
       "1              5.000  ...            economists companies openly using attractiveness luxury promote products\n",
       "2              5.000  ...                      perhaps important ahmadinejad destabilising influence bernanke\n",
       "3              4.667  ...                                                                              europe\n",
       "4              4.500  ...                                                  gay practical modern rejected laws\n",
       "..               ...  ...                                                                                 ...\n",
       "649            1.800  ...                       indian pakistani governments conducted nuclear tests may 1998\n",
       "650            3.800  ...  iguaran stated detainees also involved murders police members antikidnapping group\n",
       "651            2.400  ...                           1 suspected extremist provisionally released without bail\n",
       "652            0.800  ...                                      accused charged international drug trafficking\n",
       "653            2.000  ...                                                 north korea act aggravate situation\n",
       "\n",
       "[654 rows x 3 columns]"
      ]
     },
     "execution_count": 10,
     "metadata": {},
     "output_type": "execute_result"
    }
   ],
   "source": [
    "news"
   ]
  },
  {
   "cell_type": "code",
   "execution_count": 12,
   "metadata": {},
   "outputs": [],
   "source": [
    "sent_all = news['sentence1']\n",
    "sent_all = sent_all.append(news['sentence2'])\n",
    "#sent_all.drop_duplicates(inplace = True)\n",
    "sent_all = np.array(sent_all)"
   ]
  },
  {
   "cell_type": "markdown",
   "metadata": {},
   "source": [
    "## Calculate Embedding"
   ]
  },
  {
   "cell_type": "code",
   "execution_count": 13,
   "metadata": {},
   "outputs": [
    {
     "data": {
      "text/plain": [
       "array(['last year wanted murder',\n",
       "       'promarket economists dont object corporations blatantly use snob appeal promote products',\n",
       "       'perhaps importantly ahmadinejad destabilizing influence bernanke',\n",
       "       ..., '1 suspected extremist provisionally released without bail',\n",
       "       'accused charged international drug trafficking',\n",
       "       'north korea act aggravate situation'], dtype=object)"
      ]
     },
     "execution_count": 13,
     "metadata": {},
     "output_type": "execute_result"
    }
   ],
   "source": [
    "sent_all"
   ]
  },
  {
   "cell_type": "code",
   "execution_count": 15,
   "metadata": {},
   "outputs": [
    {
     "name": "stderr",
     "output_type": "stream",
     "text": [
      "Batches: 100%|██████████| 164/164 [00:35<00:00,  4.68it/s]\n"
     ]
    }
   ],
   "source": [
    "sentence_embeddings = model.encode(sent_all)"
   ]
  },
  {
   "cell_type": "code",
   "execution_count": 16,
   "metadata": {},
   "outputs": [
    {
     "name": "stdout",
     "output_type": "stream",
     "text": [
      "1308\n",
      "768\n"
     ]
    }
   ],
   "source": [
    "print(len(sentence_embeddings))\n",
    "print(len(sentence_embeddings[0]))"
   ]
  },
  {
   "cell_type": "markdown",
   "metadata": {},
   "source": [
    "## Evaluate Embedding Quality"
   ]
  },
  {
   "cell_type": "markdown",
   "metadata": {},
   "source": [
    "### Define functions"
   ]
  },
  {
   "cell_type": "code",
   "execution_count": 31,
   "metadata": {},
   "outputs": [],
   "source": [
    "def most_similar_sent(sent = '', n = 10, embedding_matrix = None, sent_all = None):\n",
    "    idxes = np.where(sent_all == sent)[0]\n",
    "    search_vector = embedding_matrix[idxes[0]]\n",
    "    #search_vector = model.encode(sent_all)[0] \n",
    "    \n",
    "    #calculate cosine similarity\n",
    "    cos_sim = cosine_similarity([search_vector], embedding_matrix)\n",
    "\n",
    "    most_similar_idxes = cos_sim[0].argsort()[::-1]\n",
    "    #exclude the sentence index where the sentence is identical to the input\n",
    "    most_similar_idxes = most_similar_idxes[~(np.isin(most_similar_idxes, idxes))]\n",
    "    \n",
    "    return sent_all[most_similar_idxes[0:n]]   "
   ]
  },
  {
   "cell_type": "code",
   "execution_count": 32,
   "metadata": {},
   "outputs": [],
   "source": [
    "def get_similarity_index(sent1 = '', sent2 = '', embedding_matrix = None, sent_all = None):\n",
    "    '''\n",
    "    This function returns the index n such that the n-th closest sentence to sentence sent1 is sentence sent2.\n",
    "    '''\n",
    "    #sent1\n",
    "    idxes1 = np.where(sent_all == sent1)[0]\n",
    "    sent1_vector = embedding_matrix[idxes1[0]]\n",
    "\n",
    "    #sent2\n",
    "    idxes2 = np.where(sent_all == sent2)[0]\n",
    "    sent2_vector = embedding_matrix[idxes2[0]]\n",
    "    \n",
    "    #calculate cosine similarity\n",
    "    cos_sim = cosine_similarity([sent1_vector], embedding_matrix)\n",
    "\n",
    "    most_similar_idxes = cos_sim[0].argsort()[::-1]\n",
    "    #exclude the sentence index where the sentence is identical to the input\n",
    "    most_similar_idxes = most_similar_idxes[~(np.isin(most_similar_idxes, idxes1))]\n",
    "    \n",
    "    for i in range(len(most_similar_idxes)):\n",
    "        i_th_sentence = sent_all[most_similar_idxes[i]]\n",
    "        if(i_th_sentence == sent2):\n",
    "            return i + 1\n",
    "\n",
    "    return np.inf\n"
   ]
  },
  {
   "cell_type": "code",
   "execution_count": 33,
   "metadata": {},
   "outputs": [
    {
     "data": {
      "text/plain": [
       "array(['last year sought murder ', 'last year sought murder',\n",
       "       'last year required murder',\n",
       "       'iguaran stated detainees also involved murders police members antikidnapping group',\n",
       "       'drug traffickers face death penalty tajik law ',\n",
       "       'capital offences iran include murder rape armed robbery serious drug trafficking adultery',\n",
       "       'capital offenses iran include murder rape armed robbery serious drug trafficking adultery',\n",
       "       'iguaran stated detainees accused homicide criminal collaboration kidnappings funding terrorism ',\n",
       "       'iguaran stated detainees accused homicide criminal collaboration kidnappings funding terrorism',\n",
       "       '13 kurds turkey arrested near paris suspicion moneylaundering kurdistan workers party pkk '],\n",
       "      dtype=object)"
      ]
     },
     "execution_count": 33,
     "metadata": {},
     "output_type": "execute_result"
    }
   ],
   "source": [
    "most_similar_sent(sent = 'last year wanted murder', n=10, embedding_matrix=sentence_embeddings, sent_all=sent_all)"
   ]
  },
  {
   "cell_type": "markdown",
   "metadata": {},
   "source": [
    "### Visualize"
   ]
  },
  {
   "cell_type": "code",
   "execution_count": 37,
   "metadata": {},
   "outputs": [],
   "source": [
    "#calculate for each sentence pair:\n",
    "news['closest_percentile'] = news.apply(lambda row: get_similarity_index(\n",
    "                                                                row['sentence1']\n",
    "                                                                , row['sentence2']\n",
    "                                                                , embedding_matrix=sentence_embeddings\n",
    "                                                                , sent_all = sent_all\n",
    "                                                            )\n",
    "                                                , axis = 1)"
   ]
  },
  {
   "cell_type": "code",
   "execution_count": 39,
   "metadata": {},
   "outputs": [
    {
     "data": {
      "text/html": [
       "<div>\n",
       "<style scoped>\n",
       "    .dataframe tbody tr th:only-of-type {\n",
       "        vertical-align: middle;\n",
       "    }\n",
       "\n",
       "    .dataframe tbody tr th {\n",
       "        vertical-align: top;\n",
       "    }\n",
       "\n",
       "    .dataframe thead th {\n",
       "        text-align: right;\n",
       "    }\n",
       "</style>\n",
       "<table border=\"1\" class=\"dataframe\">\n",
       "  <thead>\n",
       "    <tr style=\"text-align: right;\">\n",
       "      <th></th>\n",
       "      <th>SimilarityScore</th>\n",
       "      <th>sentence1</th>\n",
       "      <th>sentence2</th>\n",
       "      <th>closest_percentile</th>\n",
       "    </tr>\n",
       "  </thead>\n",
       "  <tbody>\n",
       "    <tr>\n",
       "      <th>0</th>\n",
       "      <td>4.000</td>\n",
       "      <td>last year wanted murder</td>\n",
       "      <td>last year sought murder</td>\n",
       "      <td>1.0</td>\n",
       "    </tr>\n",
       "    <tr>\n",
       "      <th>1</th>\n",
       "      <td>5.000</td>\n",
       "      <td>promarket economists dont object corporations blatantly use snob appeal promote products</td>\n",
       "      <td>economists companies openly using attractiveness luxury promote products</td>\n",
       "      <td>6.0</td>\n",
       "    </tr>\n",
       "    <tr>\n",
       "      <th>2</th>\n",
       "      <td>5.000</td>\n",
       "      <td>perhaps importantly ahmadinejad destabilizing influence bernanke</td>\n",
       "      <td>perhaps important ahmadinejad destabilising influence bernanke</td>\n",
       "      <td>5.0</td>\n",
       "    </tr>\n",
       "    <tr>\n",
       "      <th>3</th>\n",
       "      <td>4.667</td>\n",
       "      <td>europe</td>\n",
       "      <td>europe</td>\n",
       "      <td>inf</td>\n",
       "    </tr>\n",
       "    <tr>\n",
       "      <th>4</th>\n",
       "      <td>4.500</td>\n",
       "      <td>gays modern practices rejected selfindulgent</td>\n",
       "      <td>gay practical modern rejected laws</td>\n",
       "      <td>5.0</td>\n",
       "    </tr>\n",
       "    <tr>\n",
       "      <th>5</th>\n",
       "      <td>5.000</td>\n",
       "      <td>month ago mubarak dismissed demands constitutional reform futile</td>\n",
       "      <td>month muybarak refused demands constitutional reform taxing futile</td>\n",
       "      <td>4.0</td>\n",
       "    </tr>\n",
       "    <tr>\n",
       "      <th>6</th>\n",
       "      <td>4.500</td>\n",
       "      <td>month ago mubarak dismissed demands constitutional reform futile</td>\n",
       "      <td>one month muybarak disrupted demands constitutional reform taxing futile</td>\n",
       "      <td>6.0</td>\n",
       "    </tr>\n",
       "    <tr>\n",
       "      <th>7</th>\n",
       "      <td>5.000</td>\n",
       "      <td>iraqs future depends directly fate iraqi oil production</td>\n",
       "      <td>future iraq linked oil production country</td>\n",
       "      <td>3.0</td>\n",
       "    </tr>\n",
       "    <tr>\n",
       "      <th>8</th>\n",
       "      <td>4.000</td>\n",
       "      <td>todays great pax europa todays paneuropean prosperity depend</td>\n",
       "      <td>large pax europa today like current prosperity paneuropéenne depends</td>\n",
       "      <td>3.0</td>\n",
       "    </tr>\n",
       "    <tr>\n",
       "      <th>9</th>\n",
       "      <td>4.500</td>\n",
       "      <td>tendency extends deeper headscarves</td>\n",
       "      <td>trend goes well beyond simple headscarves</td>\n",
       "      <td>1.0</td>\n",
       "    </tr>\n",
       "  </tbody>\n",
       "</table>\n",
       "</div>"
      ],
      "text/plain": [
       "   SimilarityScore  ... closest_percentile\n",
       "0            4.000  ...                1.0\n",
       "1            5.000  ...                6.0\n",
       "2            5.000  ...                5.0\n",
       "3            4.667  ...                inf\n",
       "4            4.500  ...                5.0\n",
       "5            5.000  ...                4.0\n",
       "6            4.500  ...                6.0\n",
       "7            5.000  ...                3.0\n",
       "8            4.000  ...                3.0\n",
       "9            4.500  ...                1.0\n",
       "\n",
       "[10 rows x 4 columns]"
      ]
     },
     "execution_count": 39,
     "metadata": {},
     "output_type": "execute_result"
    }
   ],
   "source": [
    "news.head(10)"
   ]
  },
  {
   "cell_type": "code",
   "execution_count": 45,
   "metadata": {},
   "outputs": [
    {
     "data": {
      "text/plain": [
       "<matplotlib.collections.PathCollection at 0x7f533701f590>"
      ]
     },
     "execution_count": 45,
     "metadata": {},
     "output_type": "execute_result"
    },
    {
     "data": {
      "image/png": "[encoded data removed]",
      "text/plain": [
       "<Figure size 1080x720 with 1 Axes>"
      ]
     },
     "metadata": {
      "needs_background": "light"
     },
     "output_type": "display_data"
    }
   ],
   "source": [
    "fig = plt.figure(figsize=(15,10))\n",
    "plt.xlim(0,100)\n",
    "plt.scatter(news['closest_percentile'] ,news['SimilarityScore'], alpha = 0.4, s = 500)\n"
   ]
  },
  {
   "cell_type": "code",
   "execution_count": 51,
   "metadata": {},
   "outputs": [
    {
     "data": {
      "image/png": "[encoded data removed]",
      "text/plain": [
       "<Figure size 720x504 with 1 Axes>"
      ]
     },
     "metadata": {
      "needs_background": "light"
     },
     "output_type": "display_data"
    }
   ],
   "source": [
    "histo_data = news[news['closest_percentile'] >= 0.995]\n",
    "\n",
    "fig, ax = plt.subplots(nrows=1, ncols=1, figsize = (10,7))\n",
    "ax.set_title('Linear normalization')\n",
    "ax.hist2d(histo_data['closest_percentile'], histo_data['SimilarityScore'], bins=10, range=[[1,10],[0,5]])\n",
    "fig.tight_layout()\n",
    "plt.show()"
   ]
  },
  {
   "cell_type": "markdown",
   "metadata": {},
   "source": [
    "### Linear Regression"
   ]
  },
  {
   "cell_type": "code",
   "execution_count": 52,
   "metadata": {},
   "outputs": [],
   "source": [
    "path = '/home/sevi/Desktop/Work/PropulsionDS/GroupChallenges/RelevApp/10_cleaning/src'\n",
    "\n",
    "current_path = os.getcwd()\n",
    "os.chdir(path)\n",
    "%run ./cont_to_cat_News.ipynb\n",
    "os.chdir(current_path)"
   ]
  },
  {
   "cell_type": "code",
   "execution_count": 54,
   "metadata": {},
   "outputs": [
    {
     "data": {
      "text/html": [
       "<div>\n",
       "<style scoped>\n",
       "    .dataframe tbody tr th:only-of-type {\n",
       "        vertical-align: middle;\n",
       "    }\n",
       "\n",
       "    .dataframe tbody tr th {\n",
       "        vertical-align: top;\n",
       "    }\n",
       "\n",
       "    .dataframe thead th {\n",
       "        text-align: right;\n",
       "    }\n",
       "</style>\n",
       "<table border=\"1\" class=\"dataframe\">\n",
       "  <thead>\n",
       "    <tr style=\"text-align: right;\">\n",
       "      <th></th>\n",
       "      <th>sim</th>\n",
       "      <th>SimilarityScore</th>\n",
       "      <th>sentence1</th>\n",
       "      <th>sentence2</th>\n",
       "      <th>closest_percentile</th>\n",
       "    </tr>\n",
       "  </thead>\n",
       "  <tbody>\n",
       "    <tr>\n",
       "      <th>0</th>\n",
       "      <td>1</td>\n",
       "      <td>4.000</td>\n",
       "      <td>last year wanted murder</td>\n",
       "      <td>last year sought murder</td>\n",
       "      <td>1.0</td>\n",
       "    </tr>\n",
       "    <tr>\n",
       "      <th>1</th>\n",
       "      <td>1</td>\n",
       "      <td>5.000</td>\n",
       "      <td>promarket economists dont object corporations blatantly use snob appeal promote products</td>\n",
       "      <td>economists companies openly using attractiveness luxury promote products</td>\n",
       "      <td>6.0</td>\n",
       "    </tr>\n",
       "    <tr>\n",
       "      <th>2</th>\n",
       "      <td>1</td>\n",
       "      <td>5.000</td>\n",
       "      <td>perhaps importantly ahmadinejad destabilizing influence bernanke</td>\n",
       "      <td>perhaps important ahmadinejad destabilising influence bernanke</td>\n",
       "      <td>5.0</td>\n",
       "    </tr>\n",
       "    <tr>\n",
       "      <th>3</th>\n",
       "      <td>1</td>\n",
       "      <td>4.667</td>\n",
       "      <td>europe</td>\n",
       "      <td>europe</td>\n",
       "      <td>inf</td>\n",
       "    </tr>\n",
       "    <tr>\n",
       "      <th>4</th>\n",
       "      <td>1</td>\n",
       "      <td>4.500</td>\n",
       "      <td>gays modern practices rejected selfindulgent</td>\n",
       "      <td>gay practical modern rejected laws</td>\n",
       "      <td>5.0</td>\n",
       "    </tr>\n",
       "  </tbody>\n",
       "</table>\n",
       "</div>"
      ],
      "text/plain": [
       "  sim  ...  closest_percentile\n",
       "0   1  ...                 1.0\n",
       "1   1  ...                 6.0\n",
       "2   1  ...                 5.0\n",
       "3   1  ...                 inf\n",
       "4   1  ...                 5.0\n",
       "\n",
       "[5 rows x 5 columns]"
      ]
     },
     "execution_count": 54,
     "metadata": {},
     "output_type": "execute_result"
    }
   ],
   "source": [
    "news.head(5)"
   ]
  },
  {
   "cell_type": "code",
   "execution_count": 58,
   "metadata": {},
   "outputs": [],
   "source": [
    "data = news"
   ]
  },
  {
   "cell_type": "code",
   "execution_count": 65,
   "metadata": {},
   "outputs": [
    {
     "name": "stderr",
     "output_type": "stream",
     "text": [
      "\n",
      "\n",
      "Batches:   0%|          | 0/82 [00:00<?, ?it/s]\u001b[A\u001b[A\n",
      "\n",
      "Batches:   1%|          | 1/82 [00:00<00:13,  6.19it/s]\u001b[A\u001b[A\n",
      "\n",
      "Batches:   2%|▏         | 2/82 [00:00<00:12,  6.24it/s]\u001b[A\u001b[A\n",
      "\n",
      "Batches:   4%|▎         | 3/82 [00:00<00:11,  6.73it/s]\u001b[A\u001b[A\n",
      "\n",
      "Batches:   5%|▍         | 4/82 [00:00<00:10,  7.22it/s]\u001b[A\u001b[A\n",
      "\n",
      "Batches:   6%|▌         | 5/82 [00:00<00:10,  7.15it/s]\u001b[A\u001b[A\n",
      "\n",
      "Batches:   7%|▋         | 6/82 [00:00<00:10,  7.35it/s]\u001b[A\u001b[A\n",
      "\n",
      "Batches:   9%|▊         | 7/82 [00:00<00:10,  7.41it/s]\u001b[A\u001b[A\n",
      "\n",
      "Batches:  10%|▉         | 8/82 [00:01<00:09,  7.56it/s]\u001b[A\u001b[A\n",
      "\n",
      "Batches:  11%|█         | 9/82 [00:01<00:10,  7.29it/s]\u001b[A\u001b[A\n",
      "\n",
      "Batches:  12%|█▏        | 10/82 [00:01<00:10,  6.87it/s]\u001b[A\u001b[A\n",
      "\n",
      "Batches:  13%|█▎        | 11/82 [00:01<00:10,  6.86it/s]\u001b[A\u001b[A\n",
      "\n",
      "Batches:  15%|█▍        | 12/82 [00:01<00:10,  6.66it/s]\u001b[A\u001b[A\n",
      "\n",
      "Batches:  16%|█▌        | 13/82 [00:01<00:10,  6.55it/s]\u001b[A\u001b[A\n",
      "\n",
      "Batches:  17%|█▋        | 14/82 [00:02<00:10,  6.29it/s]\u001b[A\u001b[A\n",
      "\n",
      "Batches:  18%|█▊        | 15/82 [00:02<00:11,  5.59it/s]\u001b[A\u001b[A\n",
      "\n",
      "Batches:  20%|█▉        | 16/82 [00:02<00:12,  5.38it/s]\u001b[A\u001b[A\n",
      "\n",
      "Batches:  21%|██        | 17/82 [00:02<00:12,  5.13it/s]\u001b[A\u001b[A\n",
      "\n",
      "Batches:  22%|██▏       | 18/82 [00:02<00:12,  5.29it/s]\u001b[A\u001b[A\n",
      "\n",
      "Batches:  23%|██▎       | 19/82 [00:03<00:11,  5.56it/s]\u001b[A\u001b[A\n",
      "\n",
      "Batches:  24%|██▍       | 20/82 [00:03<00:10,  5.74it/s]\u001b[A\u001b[A\n",
      "\n",
      "Batches:  26%|██▌       | 21/82 [00:03<00:10,  5.82it/s]\u001b[A\u001b[A\n",
      "\n",
      "Batches:  27%|██▋       | 22/82 [00:03<00:10,  5.67it/s]\u001b[A\u001b[A\n",
      "\n",
      "Batches:  28%|██▊       | 23/82 [00:03<00:10,  5.58it/s]\u001b[A\u001b[A\n",
      "\n",
      "Batches:  29%|██▉       | 24/82 [00:03<00:10,  5.47it/s]\u001b[A\u001b[A\n",
      "\n",
      "Batches:  30%|███       | 25/82 [00:04<00:10,  5.22it/s]\u001b[A\u001b[A\n",
      "\n",
      "Batches:  32%|███▏      | 26/82 [00:04<00:10,  5.35it/s]\u001b[A\u001b[A\n",
      "\n",
      "Batches:  33%|███▎      | 27/82 [00:04<00:10,  5.40it/s]\u001b[A\u001b[A\n",
      "\n",
      "Batches:  34%|███▍      | 28/82 [00:04<00:09,  5.52it/s]\u001b[A\u001b[A\n",
      "\n",
      "Batches:  35%|███▌      | 29/82 [00:04<00:09,  5.54it/s]\u001b[A\u001b[A\n",
      "\n",
      "Batches:  37%|███▋      | 30/82 [00:05<00:09,  5.38it/s]\u001b[A\u001b[A\n",
      "\n",
      "Batches:  38%|███▊      | 31/82 [00:05<00:09,  5.30it/s]\u001b[A\u001b[A\n",
      "\n",
      "Batches:  39%|███▉      | 32/82 [00:05<00:09,  5.05it/s]\u001b[A\u001b[A\n",
      "\n",
      "Batches:  40%|████      | 33/82 [00:05<00:10,  4.48it/s]\u001b[A\u001b[A\n",
      "\n",
      "Batches:  41%|████▏     | 34/82 [00:05<00:10,  4.37it/s]\u001b[A\u001b[A\n",
      "\n",
      "Batches:  43%|████▎     | 35/82 [00:06<00:10,  4.40it/s]\u001b[A\u001b[A\n",
      "\n",
      "Batches:  44%|████▍     | 36/82 [00:06<00:10,  4.35it/s]\u001b[A\u001b[A\n",
      "\n",
      "Batches:  45%|████▌     | 37/82 [00:06<00:10,  4.39it/s]\u001b[A\u001b[A\n",
      "\n",
      "Batches:  46%|████▋     | 38/82 [00:06<00:09,  4.69it/s]\u001b[A\u001b[A\n",
      "\n",
      "Batches:  48%|████▊     | 39/82 [00:07<00:09,  4.75it/s]\u001b[A\u001b[A\n",
      "\n",
      "Batches:  49%|████▉     | 40/82 [00:07<00:09,  4.63it/s]\u001b[A\u001b[A\n",
      "\n",
      "Batches:  50%|█████     | 41/82 [00:07<00:09,  4.24it/s]\u001b[A\u001b[A\n",
      "\n",
      "Batches:  51%|█████     | 42/82 [00:07<00:09,  4.20it/s]\u001b[A\u001b[A\n",
      "\n",
      "Batches:  52%|█████▏    | 43/82 [00:08<00:09,  4.11it/s]\u001b[A\u001b[A\n",
      "\n",
      "Batches:  54%|█████▎    | 44/82 [00:08<00:09,  4.22it/s]\u001b[A\u001b[A\n",
      "\n",
      "Batches:  55%|█████▍    | 45/82 [00:08<00:08,  4.40it/s]\u001b[A\u001b[A\n",
      "\n",
      "Batches:  56%|█████▌    | 46/82 [00:08<00:07,  4.60it/s]\u001b[A\u001b[A\n",
      "\n",
      "Batches:  57%|█████▋    | 47/82 [00:08<00:07,  4.38it/s]\u001b[A\u001b[A\n",
      "\n",
      "Batches:  59%|█████▊    | 48/82 [00:09<00:07,  4.39it/s]\u001b[A\u001b[A\n",
      "\n",
      "Batches:  60%|█████▉    | 49/82 [00:09<00:07,  4.29it/s]\u001b[A\u001b[A\n",
      "\n",
      "Batches:  61%|██████    | 50/82 [00:09<00:07,  4.39it/s]\u001b[A\u001b[A\n",
      "\n",
      "Batches:  62%|██████▏   | 51/82 [00:09<00:07,  4.24it/s]\u001b[A\u001b[A\n",
      "\n",
      "Batches:  63%|██████▎   | 52/82 [00:10<00:06,  4.43it/s]\u001b[A\u001b[A\n",
      "\n",
      "Batches:  65%|██████▍   | 53/82 [00:10<00:06,  4.38it/s]\u001b[A\u001b[A\n",
      "\n",
      "Batches:  66%|██████▌   | 54/82 [00:10<00:06,  4.39it/s]\u001b[A\u001b[A\n",
      "\n",
      "Batches:  67%|██████▋   | 55/82 [00:10<00:06,  4.23it/s]\u001b[A\u001b[A\n",
      "\n",
      "Batches:  68%|██████▊   | 56/82 [00:10<00:05,  4.43it/s]\u001b[A\u001b[A\n",
      "\n",
      "Batches:  70%|██████▉   | 57/82 [00:11<00:05,  4.54it/s]\u001b[A\u001b[A\n",
      "\n",
      "Batches:  71%|███████   | 58/82 [00:11<00:05,  4.32it/s]\u001b[A\u001b[A\n",
      "\n",
      "Batches:  72%|███████▏  | 59/82 [00:11<00:05,  4.24it/s]\u001b[A\u001b[A\n",
      "\n",
      "Batches:  73%|███████▎  | 60/82 [00:11<00:05,  3.94it/s]\u001b[A\u001b[A\n",
      "\n",
      "Batches:  74%|███████▍  | 61/82 [00:12<00:05,  3.81it/s]\u001b[A\u001b[A\n",
      "\n",
      "Batches:  76%|███████▌  | 62/82 [00:12<00:05,  3.58it/s]\u001b[A\u001b[A\n",
      "\n",
      "Batches:  77%|███████▋  | 63/82 [00:12<00:05,  3.25it/s]\u001b[A\u001b[A\n",
      "\n",
      "Batches:  78%|███████▊  | 64/82 [00:13<00:05,  3.19it/s]\u001b[A\u001b[A\n",
      "\n",
      "Batches:  79%|███████▉  | 65/82 [00:13<00:05,  3.16it/s]\u001b[A\u001b[A\n",
      "\n",
      "Batches:  80%|████████  | 66/82 [00:13<00:05,  3.14it/s]\u001b[A\u001b[A\n",
      "\n",
      "Batches:  82%|████████▏ | 67/82 [00:14<00:04,  3.06it/s]\u001b[A\u001b[A\n",
      "\n",
      "Batches:  83%|████████▎ | 68/82 [00:14<00:04,  3.07it/s]\u001b[A\u001b[A\n",
      "\n",
      "Batches:  84%|████████▍ | 69/82 [00:15<00:04,  2.83it/s]\u001b[A\u001b[A\n",
      "\n",
      "Batches:  85%|████████▌ | 70/82 [00:15<00:04,  2.95it/s]\u001b[A\u001b[A\n",
      "\n",
      "Batches:  87%|████████▋ | 71/82 [00:15<00:04,  2.72it/s]\u001b[A\u001b[A\n",
      "\n",
      "Batches:  88%|████████▊ | 72/82 [00:16<00:03,  2.72it/s]\u001b[A\u001b[A\n",
      "\n",
      "Batches:  89%|████████▉ | 73/82 [00:16<00:03,  2.83it/s]\u001b[A\u001b[A\n",
      "\n",
      "Batches:  90%|█████████ | 74/82 [00:16<00:02,  2.69it/s]\u001b[A\u001b[A\n",
      "\n",
      "Batches:  91%|█████████▏| 75/82 [00:17<00:02,  2.58it/s]\u001b[A\u001b[A\n",
      "\n",
      "Batches:  93%|█████████▎| 76/82 [00:17<00:02,  2.44it/s]\u001b[A\u001b[A\n",
      "\n",
      "Batches:  94%|█████████▍| 77/82 [00:18<00:01,  2.55it/s]\u001b[A\u001b[A\n",
      "\n",
      "Batches:  95%|█████████▌| 78/82 [00:18<00:01,  2.50it/s]\u001b[A\u001b[A\n",
      "\n",
      "Batches:  96%|█████████▋| 79/82 [00:18<00:01,  2.38it/s]\u001b[A\u001b[A\n",
      "\n",
      "Batches:  98%|█████████▊| 80/82 [00:19<00:00,  2.20it/s]\u001b[A\u001b[A\n",
      "\n",
      "Batches:  99%|█████████▉| 81/82 [00:20<00:00,  2.12it/s]\u001b[A\u001b[A\n",
      "\n",
      "Batches: 100%|██████████| 82/82 [00:20<00:00,  3.99it/s]\u001b[A\u001b[A\n",
      "\n",
      "\n",
      "Batches:   0%|          | 0/82 [00:00<?, ?it/s]\u001b[A\u001b[A\n",
      "\n",
      "Batches:   1%|          | 1/82 [00:00<00:09,  8.82it/s]\u001b[A\u001b[A\n",
      "\n",
      "Batches:   2%|▏         | 2/82 [00:00<00:09,  8.60it/s]\u001b[A\u001b[A\n",
      "\n",
      "Batches:   4%|▎         | 3/82 [00:00<00:09,  8.02it/s]\u001b[A\u001b[A\n",
      "\n",
      "Batches:   5%|▍         | 4/82 [00:00<00:10,  7.52it/s]\u001b[A\u001b[A\n",
      "\n",
      "Batches:   6%|▌         | 5/82 [00:00<00:10,  7.01it/s]\u001b[A\u001b[A\n",
      "\n",
      "Batches:   7%|▋         | 6/82 [00:00<00:11,  6.38it/s]\u001b[A\u001b[A\n",
      "\n",
      "Batches:   9%|▊         | 7/82 [00:01<00:12,  6.03it/s]\u001b[A\u001b[A\n",
      "\n",
      "Batches:  10%|▉         | 8/82 [00:01<00:12,  5.94it/s]\u001b[A\u001b[A\n",
      "\n",
      "Batches:  11%|█         | 9/82 [00:01<00:13,  5.48it/s]\u001b[A\u001b[A\n",
      "\n",
      "Batches:  12%|█▏        | 10/82 [00:01<00:13,  5.42it/s]\u001b[A\u001b[A\n",
      "\n",
      "Batches:  13%|█▎        | 11/82 [00:01<00:13,  5.38it/s]\u001b[A\u001b[A\n",
      "\n",
      "Batches:  15%|█▍        | 12/82 [00:02<00:14,  4.99it/s]\u001b[A\u001b[A\n",
      "\n",
      "Batches:  16%|█▌        | 13/82 [00:02<00:13,  5.02it/s]\u001b[A\u001b[A\n",
      "\n",
      "Batches:  17%|█▋        | 14/82 [00:02<00:13,  5.23it/s]\u001b[A\u001b[A\n",
      "\n",
      "Batches:  18%|█▊        | 15/82 [00:02<00:12,  5.16it/s]\u001b[A\u001b[A\n",
      "\n",
      "Batches:  20%|█▉        | 16/82 [00:02<00:13,  4.75it/s]\u001b[A\u001b[A\n",
      "\n",
      "Batches:  21%|██        | 17/82 [00:03<00:13,  4.70it/s]\u001b[A\u001b[A\n",
      "\n",
      "Batches:  22%|██▏       | 18/82 [00:03<00:13,  4.78it/s]\u001b[A\u001b[A\n",
      "\n",
      "Batches:  23%|██▎       | 19/82 [00:03<00:14,  4.49it/s]\u001b[A\u001b[A\n",
      "\n",
      "Batches:  24%|██▍       | 20/82 [00:03<00:13,  4.45it/s]\u001b[A\u001b[A\n",
      "\n",
      "Batches:  26%|██▌       | 21/82 [00:04<00:13,  4.37it/s]\u001b[A\u001b[A\n",
      "\n",
      "Batches:  27%|██▋       | 22/82 [00:04<00:13,  4.40it/s]\u001b[A\u001b[A\n",
      "\n",
      "Batches:  28%|██▊       | 23/82 [00:04<00:13,  4.26it/s]\u001b[A\u001b[A\n",
      "\n",
      "Batches:  29%|██▉       | 24/82 [00:04<00:13,  4.40it/s]\u001b[A\u001b[A\n",
      "\n",
      "Batches:  30%|███       | 25/82 [00:05<00:14,  4.00it/s]\u001b[A\u001b[A\n",
      "\n",
      "Batches:  32%|███▏      | 26/82 [00:05<00:14,  3.95it/s]\u001b[A\u001b[A\n",
      "\n",
      "Batches:  33%|███▎      | 27/82 [00:05<00:13,  4.15it/s]\u001b[A\u001b[A\n",
      "\n",
      "Batches:  34%|███▍      | 28/82 [00:05<00:12,  4.34it/s]\u001b[A\u001b[A\n",
      "\n",
      "Batches:  35%|███▌      | 29/82 [00:05<00:12,  4.39it/s]\u001b[A\u001b[A\n",
      "\n",
      "Batches:  37%|███▋      | 30/82 [00:06<00:11,  4.55it/s]\u001b[A\u001b[A\n",
      "\n",
      "Batches:  38%|███▊      | 31/82 [00:06<00:11,  4.57it/s]\u001b[A\u001b[A\n",
      "\n",
      "Batches:  39%|███▉      | 32/82 [00:06<00:11,  4.32it/s]\u001b[A\u001b[A\n",
      "\n",
      "Batches:  40%|████      | 33/82 [00:06<00:11,  4.32it/s]\u001b[A\u001b[A\n",
      "\n",
      "Batches:  41%|████▏     | 34/82 [00:07<00:11,  4.29it/s]\u001b[A\u001b[A\n",
      "\n",
      "Batches:  43%|████▎     | 35/82 [00:07<00:10,  4.32it/s]\u001b[A\u001b[A\n",
      "\n",
      "Batches:  44%|████▍     | 36/82 [00:07<00:12,  3.80it/s]\u001b[A\u001b[A\n",
      "\n",
      "Batches:  45%|████▌     | 37/82 [00:07<00:12,  3.52it/s]\u001b[A\u001b[A\n",
      "\n",
      "Batches:  46%|████▋     | 38/82 [00:08<00:14,  3.06it/s]\u001b[A\u001b[A\n",
      "\n",
      "Batches:  48%|████▊     | 39/82 [00:08<00:13,  3.23it/s]\u001b[A\u001b[A\n",
      "\n",
      "Batches:  49%|████▉     | 40/82 [00:08<00:12,  3.45it/s]\u001b[A\u001b[A\n",
      "\n",
      "Batches:  50%|█████     | 41/82 [00:09<00:11,  3.50it/s]\u001b[A\u001b[A\n",
      "\n",
      "Batches:  51%|█████     | 42/82 [00:09<00:11,  3.54it/s]\u001b[A\u001b[A\n",
      "\n",
      "Batches:  52%|█████▏    | 43/82 [00:09<00:10,  3.57it/s]\u001b[A\u001b[A\n",
      "\n",
      "Batches:  54%|█████▎    | 44/82 [00:10<00:10,  3.48it/s]\u001b[A\u001b[A\n",
      "\n",
      "Batches:  55%|█████▍    | 45/82 [00:10<00:11,  3.36it/s]\u001b[A\u001b[A\n",
      "\n",
      "Batches:  56%|█████▌    | 46/82 [00:10<00:11,  3.16it/s]\u001b[A\u001b[A\n",
      "\n",
      "Batches:  57%|█████▋    | 47/82 [00:10<00:10,  3.35it/s]\u001b[A\u001b[A\n",
      "\n",
      "Batches:  59%|█████▊    | 48/82 [00:11<00:10,  3.36it/s]\u001b[A\u001b[A\n",
      "\n",
      "Batches:  60%|█████▉    | 49/82 [00:11<00:09,  3.46it/s]\u001b[A\u001b[A\n",
      "\n",
      "Batches:  61%|██████    | 50/82 [00:11<00:10,  3.19it/s]\u001b[A\u001b[A\n",
      "\n",
      "Batches:  62%|██████▏   | 51/82 [00:12<00:11,  2.73it/s]\u001b[A\u001b[A\n",
      "\n",
      "Batches:  63%|██████▎   | 52/82 [00:12<00:12,  2.35it/s]\u001b[A\u001b[A\n",
      "\n",
      "Batches:  65%|██████▍   | 53/82 [00:13<00:12,  2.28it/s]\u001b[A\u001b[A\n",
      "\n",
      "Batches:  66%|██████▌   | 54/82 [00:13<00:13,  2.14it/s]\u001b[A\u001b[A\n",
      "\n",
      "Batches:  67%|██████▋   | 55/82 [00:14<00:12,  2.16it/s]\u001b[A\u001b[A\n",
      "\n",
      "Batches:  68%|██████▊   | 56/82 [00:14<00:11,  2.20it/s]\u001b[A\u001b[A\n",
      "\n",
      "Batches:  70%|██████▉   | 57/82 [00:15<00:11,  2.25it/s]\u001b[A\u001b[A\n",
      "\n",
      "Batches:  71%|███████   | 58/82 [00:15<00:10,  2.31it/s]\u001b[A\u001b[A\n",
      "\n",
      "Batches:  72%|███████▏  | 59/82 [00:15<00:09,  2.55it/s]\u001b[A\u001b[A\n",
      "\n",
      "Batches:  73%|███████▎  | 60/82 [00:16<00:08,  2.69it/s]\u001b[A\u001b[A\n",
      "\n",
      "Batches:  74%|███████▍  | 61/82 [00:16<00:07,  2.88it/s]\u001b[A\u001b[A\n",
      "\n",
      "Batches:  76%|███████▌  | 62/82 [00:16<00:06,  3.00it/s]\u001b[A\u001b[A\n",
      "\n",
      "Batches:  77%|███████▋  | 63/82 [00:17<00:06,  2.90it/s]\u001b[A\u001b[A\n",
      "\n",
      "Batches:  78%|███████▊  | 64/82 [00:17<00:06,  2.85it/s]\u001b[A\u001b[A\n",
      "\n",
      "Batches:  79%|███████▉  | 65/82 [00:17<00:05,  2.94it/s]\u001b[A\u001b[A\n",
      "\n",
      "Batches:  80%|████████  | 66/82 [00:18<00:05,  2.97it/s]\u001b[A\u001b[A\n",
      "\n",
      "Batches:  82%|████████▏ | 67/82 [00:18<00:04,  3.01it/s]\u001b[A\u001b[A\n",
      "\n",
      "Batches:  83%|████████▎ | 68/82 [00:18<00:04,  3.03it/s]\u001b[A\u001b[A\n",
      "\n",
      "Batches:  84%|████████▍ | 69/82 [00:19<00:04,  3.14it/s]\u001b[A\u001b[A\n",
      "\n",
      "Batches:  85%|████████▌ | 70/82 [00:19<00:04,  2.83it/s]\u001b[A\u001b[A\n",
      "\n",
      "Batches:  87%|████████▋ | 71/82 [00:20<00:04,  2.69it/s]\u001b[A\u001b[A\n",
      "\n",
      "Batches:  88%|████████▊ | 72/82 [00:20<00:03,  2.51it/s]\u001b[A\u001b[A\n",
      "\n",
      "Batches:  89%|████████▉ | 73/82 [00:20<00:03,  2.48it/s]\u001b[A\u001b[A\n",
      "\n",
      "Batches:  90%|█████████ | 74/82 [00:21<00:03,  2.52it/s]\u001b[A\u001b[A\n",
      "\n",
      "Batches:  91%|█████████▏| 75/82 [00:21<00:02,  2.35it/s]\u001b[A\u001b[A\n",
      "\n",
      "Batches:  93%|█████████▎| 76/82 [00:22<00:02,  2.31it/s]\u001b[A\u001b[A\n",
      "\n",
      "Batches:  94%|█████████▍| 77/82 [00:22<00:02,  2.28it/s]\u001b[A\u001b[A\n",
      "\n",
      "Batches:  95%|█████████▌| 78/82 [00:23<00:01,  2.19it/s]\u001b[A\u001b[A\n",
      "\n",
      "Batches:  96%|█████████▋| 79/82 [00:23<00:01,  2.16it/s]\u001b[A\u001b[A\n",
      "\n",
      "Batches:  98%|█████████▊| 80/82 [00:24<00:00,  2.11it/s]\u001b[A\u001b[A\n",
      "\n",
      "Batches:  99%|█████████▉| 81/82 [00:24<00:00,  1.93it/s]\u001b[A\u001b[A\n",
      "\n",
      "Batches: 100%|██████████| 82/82 [00:25<00:00,  3.23it/s]\u001b[A\u001b[A\n"
     ]
    }
   ],
   "source": [
    "#Calculate embeddings for both rows\n",
    "data['sentence1_embedding'] = model.encode(data['sentence1'])\n",
    "data['sentence2_embedding'] = model.encode(data['sentence2'])"
   ]
  },
  {
   "cell_type": "code",
   "execution_count": 69,
   "metadata": {},
   "outputs": [
    {
     "data": {
      "text/html": [
       "<div>\n",
       "<style scoped>\n",
       "    .dataframe tbody tr th:only-of-type {\n",
       "        vertical-align: middle;\n",
       "    }\n",
       "\n",
       "    .dataframe tbody tr th {\n",
       "        vertical-align: top;\n",
       "    }\n",
       "\n",
       "    .dataframe thead th {\n",
       "        text-align: right;\n",
       "    }\n",
       "</style>\n",
       "<table border=\"1\" class=\"dataframe\">\n",
       "  <thead>\n",
       "    <tr style=\"text-align: right;\">\n",
       "      <th></th>\n",
       "      <th>sim</th>\n",
       "      <th>SimilarityScore</th>\n",
       "      <th>sentence1</th>\n",
       "      <th>sentence2</th>\n",
       "      <th>closest_percentile</th>\n",
       "      <th>sentence1_embedding</th>\n",
       "      <th>sentence2_embedding</th>\n",
       "    </tr>\n",
       "  </thead>\n",
       "  <tbody>\n",
       "    <tr>\n",
       "      <th>0</th>\n",
       "      <td>1</td>\n",
       "      <td>4.000</td>\n",
       "      <td>last year wanted murder</td>\n",
       "      <td>last year sought murder</td>\n",
       "      <td>1.0</td>\n",
       "      <td>[0.35028353, -0.45583418, 0.41386345, 0.38353798, -0.29094374, 0.81846786, 0.8184753, 0.6588773,...</td>\n",
       "      <td>[0.44579014, -0.4406712, 0.7449785, 0.4100432, -0.009865566, 0.9934781, 0.52583355, 0.50031143, ...</td>\n",
       "    </tr>\n",
       "    <tr>\n",
       "      <th>1</th>\n",
       "      <td>1</td>\n",
       "      <td>5.000</td>\n",
       "      <td>promarket economists dont object corporations blatantly use snob appeal promote products</td>\n",
       "      <td>economists companies openly using attractiveness luxury promote products</td>\n",
       "      <td>6.0</td>\n",
       "      <td>[0.5537095, 1.5962262, 0.39140522, -0.17889182, -0.29129115, 0.045326144, 0.52388245, 0.62112504...</td>\n",
       "      <td>[-0.48984706, 1.294888, 0.6780317, -0.13852943, 0.10312036, -1.2164831, -0.47130984, 0.35537165,...</td>\n",
       "    </tr>\n",
       "    <tr>\n",
       "      <th>2</th>\n",
       "      <td>1</td>\n",
       "      <td>5.000</td>\n",
       "      <td>perhaps importantly ahmadinejad destabilizing influence bernanke</td>\n",
       "      <td>perhaps important ahmadinejad destabilising influence bernanke</td>\n",
       "      <td>5.0</td>\n",
       "      <td>[-0.20272073, 0.49102542, 0.8998413, -0.015703937, -0.22206955, -0.2973318, 0.9234523, 0.0595569...</td>\n",
       "      <td>[-0.29308975, 0.48659527, 0.9548939, -0.046234395, -0.02499563, -0.3177867, 0.8580477, -0.172980...</td>\n",
       "    </tr>\n",
       "    <tr>\n",
       "      <th>3</th>\n",
       "      <td>1</td>\n",
       "      <td>4.667</td>\n",
       "      <td>europe</td>\n",
       "      <td>europe</td>\n",
       "      <td>inf</td>\n",
       "      <td>[-0.6727266, -1.0389138, 1.7565912, -0.12669116, 0.48817322, -0.5502783, -0.044808522, 0.7690312...</td>\n",
       "      <td>[-0.6727267, -1.0389142, 1.7565914, -0.12669103, 0.4881734, -0.55027807, -0.04480797, 0.7690311,...</td>\n",
       "    </tr>\n",
       "    <tr>\n",
       "      <th>4</th>\n",
       "      <td>1</td>\n",
       "      <td>4.500</td>\n",
       "      <td>gays modern practices rejected selfindulgent</td>\n",
       "      <td>gay practical modern rejected laws</td>\n",
       "      <td>5.0</td>\n",
       "      <td>[0.3600976, 1.0678558, 0.78159213, -0.0372181, -0.5929897, 0.11425247, 1.5916982, 0.29852155, 0....</td>\n",
       "      <td>[0.18000522, 1.0629598, 0.3812701, -0.2061219, -0.4864451, 0.036259603, 1.6423517, -0.08776021, ...</td>\n",
       "    </tr>\n",
       "  </tbody>\n",
       "</table>\n",
       "</div>"
      ],
      "text/plain": [
       "  sim  ...                                                                                  sentence2_embedding\n",
       "0   1  ...  [0.44579014, -0.4406712, 0.7449785, 0.4100432, -0.009865566, 0.9934781, 0.52583355, 0.50031143, ...\n",
       "1   1  ...  [-0.48984706, 1.294888, 0.6780317, -0.13852943, 0.10312036, -1.2164831, -0.47130984, 0.35537165,...\n",
       "2   1  ...  [-0.29308975, 0.48659527, 0.9548939, -0.046234395, -0.02499563, -0.3177867, 0.8580477, -0.172980...\n",
       "3   1  ...  [-0.6727267, -1.0389142, 1.7565914, -0.12669103, 0.4881734, -0.55027807, -0.04480797, 0.7690311,...\n",
       "4   1  ...  [0.18000522, 1.0629598, 0.3812701, -0.2061219, -0.4864451, 0.036259603, 1.6423517, -0.08776021, ...\n",
       "\n",
       "[5 rows x 7 columns]"
      ]
     },
     "execution_count": 69,
     "metadata": {},
     "output_type": "execute_result"
    }
   ],
   "source": [
    "pd.set_option('display.max_colwidth', 100)\n",
    "pd.set_option('display.max_rows', 100)\n",
    "data.head(5)"
   ]
  },
  {
   "cell_type": "code",
   "execution_count": 70,
   "metadata": {},
   "outputs": [],
   "source": [
    "X1_train, X1_test, X2_train, X2_test, y_train, y_test = \\\n",
    "train_test_split(data['sentence1_embedding'], data['sentence2_embedding'], data['sim'], \n",
    "                 test_size=0.2, random_state=42)"
   ]
  },
  {
   "cell_type": "code",
   "execution_count": 82,
   "metadata": {},
   "outputs": [
    {
     "data": {
      "text/plain": [
       "321    [-0.225697, -0.22455719, 1.1194131, 0.70905393, -0.44699, -0.40666398, 0.70988107, -0.070302784,...\n",
       "456    [0.5220049, 0.8299052, -0.82398635, -0.030491898, -0.19907148, -0.54987663, 0.35485312, -0.02343...\n",
       "340    [-0.3259938, -0.04406373, 0.20089331, -0.015503709, 0.38440305, -0.6152333, -0.15247332, -0.3258...\n",
       "29     [0.3773137, -0.17123966, 1.3142481, 0.34398505, 0.032038648, -0.48352706, 0.21912926, -0.4501452...\n",
       "570    [0.32701415, 1.0615628, -0.43739966, 0.109363414, 0.16562276, -0.78889734, -0.20996746, 0.814011...\n",
       "                                                      ...                                                 \n",
       "71     [-0.6727266, -1.0389138, 1.7565912, -0.12669116, 0.48817322, -0.5502783, -0.044808522, 0.7690312...\n",
       "106    [0.08575074, -0.0062824404, 0.8777986, -0.014819921, 0.6933354, -0.42501378, 0.39854217, 0.07903...\n",
       "270    [-0.11838893, -0.00943612, 1.0714682, 0.5048682, 0.6570056, 0.22654144, -0.4092637, -0.56642413,...\n",
       "435    [-1.1730747, -0.602303, 0.63005364, 0.39656305, 0.93298787, -0.46410114, -0.31391907, 0.67580473...\n",
       "102    [-0.20272073, 0.49102542, 0.8998413, -0.015703937, -0.22206955, -0.2973318, 0.9234523, 0.0595569...\n",
       "Name: sentence1_embedding, Length: 523, dtype: object"
      ]
     },
     "execution_count": 82,
     "metadata": {},
     "output_type": "execute_result"
    }
   ],
   "source": [
    "X1_train"
   ]
  },
  {
   "cell_type": "code",
   "execution_count": 87,
   "metadata": {},
   "outputs": [
    {
     "data": {
      "text/plain": [
       "321    [-0.42449388, 0.04378803, 1.2464, 0.78530043, -0.24210332, 0.024469849, 0.82400805, -0.3301594, ...\n",
       "456    [0.4922046, 1.171603, -0.21909174, 0.30079645, -0.25993678, -0.838494, 1.0661281, -0.0670507, 0....\n",
       "340    [-0.5767101, -0.16329221, 0.19986352, -0.12656099, 0.12196184, -0.44782865, -0.2759164, -0.45370...\n",
       "29     [0.1165613, -0.007925191, 1.0684216, 0.28256032, 0.20351876, -0.4832574, 0.37012225, -0.43814796...\n",
       "570    [0.3212316, 1.0312617, 0.013625888, 0.22731008, 0.4529888, -0.37720332, -1.0047604, -0.19957292,...\n",
       "                                                      ...                                                 \n",
       "71     [-0.6727267, -1.0389142, 1.7565914, -0.12669103, 0.4881734, -0.55027807, -0.04480797, 0.7690311,...\n",
       "106    [-0.17987855, -0.3727365, 1.2085819, -0.038498584, 0.87727654, -0.82084244, 0.62726396, -0.37392...\n",
       "270    [-0.41341752, -0.06256969, 0.9965982, 0.56327766, 0.31359148, 0.39578152, -0.2663297, -0.5411053...\n",
       "435    [-0.36548877, -1.0064481, 0.4014735, 0.15412365, 0.76408607, -0.9229581, -0.2023564, 0.46223408,...\n",
       "102    [-0.29677412, 0.46138033, 1.011021, -0.013076401, 0.023455758, -0.34022146, 0.7044718, -0.087920...\n",
       "Name: sentence2_embedding, Length: 523, dtype: object"
      ]
     },
     "execution_count": 87,
     "metadata": {},
     "output_type": "execute_result"
    }
   ],
   "source": [
    "X2_train"
   ]
  },
  {
   "cell_type": "code",
   "execution_count": 98,
   "metadata": {},
   "outputs": [],
   "source": [
    "cs_train = []\n",
    "for i in range(len(X1_train)):\n",
    "    cs_temp = cosine_similarity(np.array([X1_train.iloc[i]]), np.array([X2_train.iloc[i]]))\n",
    "    cs_temp = cs_temp[0][0]\n",
    "    cs_train.append(cs_temp)\n",
    "cs_train = np.array(cs_train)   "
   ]
  },
  {
   "cell_type": "code",
   "execution_count": 100,
   "metadata": {},
   "outputs": [],
   "source": [
    "cs_test = []\n",
    "for i in range(len(X1_test)):\n",
    "    cs_temp = cosine_similarity(np.array([X1_test.iloc[i]]), np.array([X2_test.iloc[i]]))\n",
    "    cs_temp = cs_temp[0][0]\n",
    "    cs_test.append(cs_temp)\n",
    "cs_test = np.array(cs_test)   "
   ]
  },
  {
   "cell_type": "code",
   "execution_count": 107,
   "metadata": {},
   "outputs": [
    {
     "data": {
      "text/plain": [
       "0.1984732824427481"
      ]
     },
     "execution_count": 107,
     "metadata": {},
     "output_type": "execute_result"
    }
   ],
   "source": [
    "logit = LogisticRegression(class_weight = 'balanced')\n",
    "clf = logit.fit(X = cs_train.reshape(-1, 1), y = y_train)\n",
    "y_pred = clf.predict(cs_test.reshape(-1, 1))\n",
    "mse_baseline = mean_squared_error(y_true = y_test, y_pred = y_pred)\n",
    "mse_baseline"
   ]
  },
  {
   "cell_type": "code",
   "execution_count": 108,
   "metadata": {},
   "outputs": [],
   "source": [
    "# generate a no skill prediction (majority class)\n",
    "ns_probs = [1 for _ in range(len(y_test))]"
   ]
  },
  {
   "cell_type": "code",
   "execution_count": 109,
   "metadata": {},
   "outputs": [],
   "source": [
    "# predict probabilities\n",
    "lr_probs = logit.predict_proba(cs_test.reshape(-1, 1))"
   ]
  },
  {
   "cell_type": "code",
   "execution_count": 110,
   "metadata": {},
   "outputs": [],
   "source": [
    "# keep probabilities for the positive outcome only\n",
    "lr_probs = lr_probs[:, 1]"
   ]
  },
  {
   "cell_type": "code",
   "execution_count": 111,
   "metadata": {},
   "outputs": [
    {
     "name": "stdout",
     "output_type": "stream",
     "text": [
      "No Skill: ROC AUC=0.500\n",
      "Logistic: ROC AUC=0.917\n"
     ]
    },
    {
     "data": {
      "image/png": "[encoded data removed]",
      "text/plain": [
       "<Figure size 432x288 with 1 Axes>"
      ]
     },
     "metadata": {
      "needs_background": "light"
     },
     "output_type": "display_data"
    }
   ],
   "source": [
    "# calculate scores\n",
    "ns_auc = roc_auc_score(y_test, ns_probs)\n",
    "lr_auc = roc_auc_score(y_test, lr_probs)\n",
    "# summarize scores\n",
    "print('No Skill: ROC AUC=%.3f' % (ns_auc))\n",
    "print('Logistic: ROC AUC=%.3f' % (lr_auc))\n",
    "# calculate roc curves\n",
    "ns_fpr, ns_tpr, _ = roc_curve(y_test, ns_probs)\n",
    "lr_fpr, lr_tpr, _ = roc_curve(y_test, lr_probs)\n",
    "\n",
    "# plot the roc curve for the model\n",
    "plt.plot(ns_fpr, ns_tpr, linestyle='--', label='No Skill')\n",
    "plt.plot(lr_fpr, lr_tpr, marker='.', label='Logistic')\n",
    "# axis labels\n",
    "plt.xlabel('False Positive Rate')\n",
    "plt.ylabel('True Positive Rate')\n",
    "# show the legend\n",
    "plt.legend()\n",
    "# show the plot\n",
    "plt.show()"
   ]
  },
  {
   "cell_type": "code",
   "execution_count": null,
   "metadata": {},
   "outputs": [],
   "source": []
  }
 ],
 "metadata": {
  "kernelspec": {
   "display_name": "Python 3",
   "language": "python",
   "name": "python3"
  },
  "language_info": {
   "codemirror_mode": {
    "name": "ipython",
    "version": 3
   },
   "file_extension": ".py",
   "mimetype": "text/x-python",
   "name": "python",
   "nbconvert_exporter": "python",
   "pygments_lexer": "ipython3",
   "version": "3.7.4"
  }
 },
 "nbformat": 4,
 "nbformat_minor": 4
}
